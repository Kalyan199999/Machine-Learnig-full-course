{
 "cells": [
  {
   "cell_type": "code",
   "execution_count": 1,
   "id": "0d29db30-3926-4f0a-af5b-b7f3a91875d9",
   "metadata": {},
   "outputs": [],
   "source": [
    "import cv2\n",
    "import numpy as np\n",
    "import matplotlib.pyplot as plt\n",
    "import os"
   ]
  },
  {
   "cell_type": "code",
   "execution_count": null,
   "id": "cd535f8d-2ce8-4b4d-b8ec-ce7a1bf15954",
   "metadata": {},
   "outputs": [],
   "source": []
  },
  {
   "cell_type": "code",
   "execution_count": 2,
   "id": "75741870-97f2-4f14-9bab-26719f679685",
   "metadata": {},
   "outputs": [],
   "source": [
    "path = \"../All_data_sets/dataset\""
   ]
  },
  {
   "cell_type": "code",
   "execution_count": 6,
   "id": "49660f9e-5b4b-4a4d-bff7-6a9a032e3c8b",
   "metadata": {},
   "outputs": [
    {
     "data": {
      "text/plain": [
       "['.ipynb_checkpoints',\n",
       " 'dog_1.jpeg',\n",
       " 'dog_2.jpeg',\n",
       " 'dog_3.jpg',\n",
       " 'dog_4.jpg',\n",
       " 'mb_1.jpeg',\n",
       " 'mb_2.jpeg',\n",
       " 'pichuka_1.jpeg',\n",
       " 'pichuka_2.jpeg',\n",
       " 'pichuka_3.jpeg',\n",
       " 'sample_video.mp4']"
      ]
     },
     "execution_count": 6,
     "metadata": {},
     "output_type": "execute_result"
    }
   ],
   "source": [
    "os.listdir(path)"
   ]
  },
  {
   "cell_type": "code",
   "execution_count": 4,
   "id": "440f893f-3afb-48c2-8a1b-70f51fd1481d",
   "metadata": {},
   "outputs": [],
   "source": [
    "image = cv2.imread( path+'/mb_2.jpeg' )"
   ]
  },
  {
   "cell_type": "code",
   "execution_count": 7,
   "id": "50f9e323-7e19-450f-a386-4a1ba17134b8",
   "metadata": {},
   "outputs": [],
   "source": [
    "video = cv2.imread( path+'/sample_video.mp4' ) "
   ]
  },
  {
   "cell_type": "code",
   "execution_count": null,
   "id": "011c3441-38b9-4bec-8640-fb78ad0a9166",
   "metadata": {},
   "outputs": [],
   "source": []
  },
  {
   "cell_type": "code",
   "execution_count": 11,
   "id": "b3364342-74a2-48ab-9992-ec48696c0712",
   "metadata": {},
   "outputs": [],
   "source": [
    "cap = cv2.VideoCapture(0)   # 0 = default camera\n",
    "\n",
    "while True:\n",
    "    ret, frame = cap.read()\n",
    "    if not ret:\n",
    "        break\n",
    "    \n",
    "    cv2.imshow(\"Webcam\", frame)\n",
    "    \n",
    "    # press 'q' to quit\n",
    "    if cv2.waitKey(1) & 0xFF == ord('q'):\n",
    "        break\n",
    "\n",
    "cap.release()\n",
    "cv2.destroyAllWindows()\n"
   ]
  },
  {
   "cell_type": "code",
   "execution_count": 10,
   "id": "f328d240-fb5f-4698-8527-25bb44836f17",
   "metadata": {},
   "outputs": [],
   "source": [
    "cap = cv2.VideoCapture(  path+'/sample_video.mp4' )\n",
    "\n",
    "while cap.isOpened():\n",
    "    ret, frame = cap.read()\n",
    "    if not ret:\n",
    "        break\n",
    "    \n",
    "    cv2.imshow(\"Video File\", frame)\n",
    "    \n",
    "    if cv2.waitKey(25) & 0xFF == ord('q'):\n",
    "        break\n",
    "\n",
    "cap.release()\n",
    "cv2.destroyAllWindows()\n"
   ]
  },
  {
   "cell_type": "code",
   "execution_count": null,
   "id": "bd356115-f0d1-40fb-b37e-4bd72be7fd9c",
   "metadata": {},
   "outputs": [],
   "source": []
  }
 ],
 "metadata": {
  "kernelspec": {
   "display_name": "Python 3 (ipykernel)",
   "language": "python",
   "name": "python3"
  },
  "language_info": {
   "codemirror_mode": {
    "name": "ipython",
    "version": 3
   },
   "file_extension": ".py",
   "mimetype": "text/x-python",
   "name": "python",
   "nbconvert_exporter": "python",
   "pygments_lexer": "ipython3",
   "version": "3.12.4"
  }
 },
 "nbformat": 4,
 "nbformat_minor": 5
}
