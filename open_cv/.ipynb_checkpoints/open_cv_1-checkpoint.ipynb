{
 "cells": [
  {
   "cell_type": "code",
   "execution_count": 1,
   "id": "1458aa40-7faa-4578-a3ca-a150cd943e67",
   "metadata": {},
   "outputs": [],
   "source": [
    "import cv2\n",
    "import numpy as np"
   ]
  },
  {
   "cell_type": "code",
   "execution_count": 2,
   "id": "0533001a-34c5-4778-ab67-d854e91c9749",
   "metadata": {},
   "outputs": [],
   "source": [
    "import os"
   ]
  },
  {
   "cell_type": "code",
   "execution_count": 3,
   "id": "5ce975c2-54ca-4990-bded-5f2fd535276d",
   "metadata": {},
   "outputs": [],
   "source": [
    "path = \"../All_data_sets/dataset\""
   ]
  },
  {
   "cell_type": "markdown",
   "id": "e83b1845-fbdc-4dd9-9041-68bdf013215a",
   "metadata": {},
   "source": [
    "### ALL THE FILES IN THE PATH"
   ]
  },
  {
   "cell_type": "code",
   "execution_count": 4,
   "id": "4f47c627-5343-4957-8472-86aa6af5f46c",
   "metadata": {},
   "outputs": [
    {
     "data": {
      "text/plain": [
       "['.ipynb_checkpoints',\n",
       " 'dog_1.jpeg',\n",
       " 'dog_2.jpeg',\n",
       " 'dog_3.jpg',\n",
       " 'dog_4.jpg',\n",
       " 'mb_1.jpeg',\n",
       " 'mb_2.jpeg',\n",
       " 'pichuka_1.jpeg',\n",
       " 'pichuka_2.jpeg',\n",
       " 'pichuka_3.jpeg']"
      ]
     },
     "execution_count": 4,
     "metadata": {},
     "output_type": "execute_result"
    }
   ],
   "source": [
    "os.listdir(path)"
   ]
  },
  {
   "cell_type": "code",
   "execution_count": null,
   "id": "073ba3bc-2bde-43b7-b581-aa011b49322d",
   "metadata": {},
   "outputs": [],
   "source": []
  },
  {
   "cell_type": "markdown",
   "id": "e60d02f1-d8bc-4260-85de-58d22e8a2ae0",
   "metadata": {},
   "source": [
    "### Read the image"
   ]
  },
  {
   "cell_type": "code",
   "execution_count": 5,
   "id": "dbcca036-7ba3-48d1-8b71-3f1162a8cb8d",
   "metadata": {},
   "outputs": [],
   "source": [
    "image = cv2.imread( path+\"/mb_1.jpeg\" )"
   ]
  },
  {
   "cell_type": "code",
   "execution_count": 6,
   "id": "d73177f7-492f-48c5-91ac-27a44d61b936",
   "metadata": {},
   "outputs": [
    {
     "data": {
      "text/plain": [
       "numpy.ndarray"
      ]
     },
     "execution_count": 6,
     "metadata": {},
     "output_type": "execute_result"
    }
   ],
   "source": [
    "type(image)"
   ]
  },
  {
   "cell_type": "code",
   "execution_count": 7,
   "id": "0110d24f-9cc8-4101-8b90-b17a11f59995",
   "metadata": {},
   "outputs": [
    {
     "data": {
      "text/plain": [
       "(225, 225, 3)"
      ]
     },
     "execution_count": 7,
     "metadata": {},
     "output_type": "execute_result"
    }
   ],
   "source": [
    "image.shape"
   ]
  },
  {
   "cell_type": "markdown",
   "id": "722c2daa-a485-4830-b109-46a4bad206a7",
   "metadata": {},
   "source": [
    "### Display the image"
   ]
  },
  {
   "cell_type": "code",
   "execution_count": 8,
   "id": "f487fa90-5523-4848-aaf1-fa7042ca5666",
   "metadata": {},
   "outputs": [],
   "source": [
    "def display(img):\n",
    "    cv2.imshow(\"Image\", img)             \n",
    "    cv2.waitKey(0)                        \n",
    "    cv2.destroyAllWindows()  "
   ]
  },
  {
   "cell_type": "code",
   "execution_count": 9,
   "id": "d6ae0de4-457e-4cba-ba25-9ee49a1a84c5",
   "metadata": {},
   "outputs": [],
   "source": [
    "display(image)"
   ]
  },
  {
   "cell_type": "code",
   "execution_count": null,
   "id": "4830f62a-ab21-461f-a1ce-4f1a3a6446a4",
   "metadata": {},
   "outputs": [],
   "source": []
  },
  {
   "cell_type": "markdown",
   "id": "b76bc163-a02d-4812-a437-209d6fcdaa87",
   "metadata": {},
   "source": [
    "# Image Processing"
   ]
  },
  {
   "cell_type": "code",
   "execution_count": null,
   "id": "8abfea62-7337-4483-87fc-599f96b0d0d0",
   "metadata": {},
   "outputs": [],
   "source": []
  },
  {
   "cell_type": "markdown",
   "id": "35397e5f-d50c-45dc-bc79-932c743fa0be",
   "metadata": {},
   "source": [
    "### Converting to grayscale"
   ]
  },
  {
   "cell_type": "code",
   "execution_count": 10,
   "id": "30f21401-f21e-4ef0-8e5c-12b1123b97cb",
   "metadata": {},
   "outputs": [],
   "source": [
    "gray = cv2.cvtColor(image, cv2.COLOR_BGR2GRAY)"
   ]
  },
  {
   "cell_type": "code",
   "execution_count": 11,
   "id": "ec805bc1-d40b-4dfd-9ec1-9b868a8bd8de",
   "metadata": {},
   "outputs": [
    {
     "data": {
      "text/plain": [
       "(225, 225)"
      ]
     },
     "execution_count": 11,
     "metadata": {},
     "output_type": "execute_result"
    }
   ],
   "source": [
    "gray.shape"
   ]
  },
  {
   "cell_type": "code",
   "execution_count": 12,
   "id": "ac05459e-4b54-4c80-8100-3bac8820ebe7",
   "metadata": {},
   "outputs": [],
   "source": [
    "display(gray)"
   ]
  },
  {
   "cell_type": "code",
   "execution_count": null,
   "id": "80e05005-dafe-422d-803f-fdcc6091eddd",
   "metadata": {},
   "outputs": [],
   "source": []
  },
  {
   "cell_type": "markdown",
   "id": "c4dd5ef8-28ae-495c-b3e8-2bb5b1776d92",
   "metadata": {},
   "source": [
    "### Blurring (Gaussian, Median)"
   ]
  },
  {
   "cell_type": "code",
   "execution_count": 13,
   "id": "e3741be0-1cbb-4863-8c4d-1c72d1b7939e",
   "metadata": {},
   "outputs": [],
   "source": [
    "blur = cv2.GaussianBlur(image, (7,7), 0)"
   ]
  },
  {
   "cell_type": "code",
   "execution_count": 14,
   "id": "eced810a-bb24-4e68-a780-50674066d24c",
   "metadata": {},
   "outputs": [
    {
     "data": {
      "text/plain": [
       "(225, 225, 3)"
      ]
     },
     "execution_count": 14,
     "metadata": {},
     "output_type": "execute_result"
    }
   ],
   "source": [
    "blur.shape"
   ]
  },
  {
   "cell_type": "code",
   "execution_count": 15,
   "id": "8d5f410c-294b-44e6-84d9-a8945178286f",
   "metadata": {},
   "outputs": [],
   "source": [
    "display(blur)"
   ]
  },
  {
   "cell_type": "code",
   "execution_count": null,
   "id": "bab6c925-dcad-4d13-8d1f-097e6031ac7e",
   "metadata": {},
   "outputs": [],
   "source": []
  },
  {
   "cell_type": "markdown",
   "id": "ff92bb59-2b2d-4b03-bd92-ae79bce213d4",
   "metadata": {},
   "source": [
    "### Edge detection (Canny)"
   ]
  },
  {
   "cell_type": "code",
   "execution_count": 16,
   "id": "2cc45d71-4d74-4a3b-aeb8-284f27d275c0",
   "metadata": {},
   "outputs": [],
   "source": [
    "edges = cv2.Canny(image, 100, 200)"
   ]
  },
  {
   "cell_type": "code",
   "execution_count": 17,
   "id": "09c418ec-509d-4694-9322-283de59b05b4",
   "metadata": {},
   "outputs": [
    {
     "data": {
      "text/plain": [
       "(225, 225)"
      ]
     },
     "execution_count": 17,
     "metadata": {},
     "output_type": "execute_result"
    }
   ],
   "source": [
    "edges.shape"
   ]
  },
  {
   "cell_type": "code",
   "execution_count": 18,
   "id": "b1b2ea75-da55-4673-beda-b824a1def981",
   "metadata": {},
   "outputs": [],
   "source": [
    "display(edges)"
   ]
  },
  {
   "cell_type": "code",
   "execution_count": null,
   "id": "426893da-caa6-47ad-9c91-c2a7ad67dad6",
   "metadata": {},
   "outputs": [],
   "source": []
  },
  {
   "cell_type": "code",
   "execution_count": null,
   "id": "4dd3b5e9-c4ee-4695-adc2-a263e1b829e1",
   "metadata": {},
   "outputs": [],
   "source": []
  },
  {
   "cell_type": "markdown",
   "id": "c5cca63d-3e95-464c-8321-2eb9961a1a34",
   "metadata": {},
   "source": [
    "# Drawing and Shapes"
   ]
  },
  {
   "cell_type": "code",
   "execution_count": 19,
   "id": "e07a1a11-d2ec-4a7f-a555-25489b0389b6",
   "metadata": {},
   "outputs": [],
   "source": [
    "canvas = np.zeros((500,500,3), dtype=\"uint8\")"
   ]
  },
  {
   "cell_type": "code",
   "execution_count": 20,
   "id": "2a5c65ae-4e8f-4337-adbc-99a27bbbf872",
   "metadata": {},
   "outputs": [
    {
     "data": {
      "text/plain": [
       "(500, 500, 3)"
      ]
     },
     "execution_count": 20,
     "metadata": {},
     "output_type": "execute_result"
    }
   ],
   "source": [
    "canvas.shape"
   ]
  },
  {
   "cell_type": "code",
   "execution_count": 21,
   "id": "126979ce-be3f-4e9d-9541-b5ff4d14ac9c",
   "metadata": {},
   "outputs": [],
   "source": [
    "display(canvas)"
   ]
  },
  {
   "cell_type": "code",
   "execution_count": 22,
   "id": "bdcbe735-ff82-431c-8735-028897c71028",
   "metadata": {},
   "outputs": [],
   "source": [
    "line = cv2.line(canvas, (0,0), (500,500), (255,0,0), 3)"
   ]
  },
  {
   "cell_type": "code",
   "execution_count": 23,
   "id": "ce9ad5d8-1932-4e87-b711-7b102293971f",
   "metadata": {},
   "outputs": [
    {
     "data": {
      "text/plain": [
       "(500, 500, 3)"
      ]
     },
     "execution_count": 23,
     "metadata": {},
     "output_type": "execute_result"
    }
   ],
   "source": [
    "line.shape"
   ]
  },
  {
   "cell_type": "code",
   "execution_count": 24,
   "id": "470ccf50-48d6-4bdd-883b-fe301c6b2722",
   "metadata": {},
   "outputs": [],
   "source": [
    "display(line)"
   ]
  },
  {
   "cell_type": "code",
   "execution_count": null,
   "id": "b1ed7c00-725f-490f-8153-35bd74c98701",
   "metadata": {},
   "outputs": [],
   "source": []
  },
  {
   "cell_type": "code",
   "execution_count": 25,
   "id": "908c0e90-435b-47f6-9237-f56a7b5ea258",
   "metadata": {},
   "outputs": [
    {
     "data": {
      "text/plain": [
       "(500, 500, 3)"
      ]
     },
     "execution_count": 25,
     "metadata": {},
     "output_type": "execute_result"
    }
   ],
   "source": [
    "rect = cv2.rectangle(canvas, (50,50), (200,200), (0,255,0), 2)\n",
    "\n",
    "rect.shape"
   ]
  },
  {
   "cell_type": "code",
   "execution_count": 26,
   "id": "85496c3b-fc62-4dcd-9de5-827a3a61797e",
   "metadata": {},
   "outputs": [],
   "source": [
    "display(rect)"
   ]
  },
  {
   "cell_type": "code",
   "execution_count": null,
   "id": "fecfbe3b-e035-42ef-a9e8-a8d345a2ba4f",
   "metadata": {},
   "outputs": [],
   "source": []
  },
  {
   "cell_type": "code",
   "execution_count": 27,
   "id": "81752f8b-5b23-4e82-b788-3302462b333e",
   "metadata": {},
   "outputs": [
    {
     "data": {
      "text/plain": [
       "(500, 500, 3)"
      ]
     },
     "execution_count": 27,
     "metadata": {},
     "output_type": "execute_result"
    }
   ],
   "source": [
    "circle = cv2.circle(canvas, (250,250), 100, (0,0,255), -1)\n",
    "circle.shape"
   ]
  },
  {
   "cell_type": "code",
   "execution_count": 28,
   "id": "6dc0db72-bf44-4519-95e5-0a431f7aad7b",
   "metadata": {},
   "outputs": [],
   "source": [
    "display(circle)"
   ]
  },
  {
   "cell_type": "code",
   "execution_count": null,
   "id": "beb12a14-c5db-4a0d-9e46-08648d337269",
   "metadata": {},
   "outputs": [],
   "source": []
  },
  {
   "cell_type": "code",
   "execution_count": 29,
   "id": "ccd13b78-184d-4965-8e64-90989c71e8c8",
   "metadata": {},
   "outputs": [
    {
     "data": {
      "text/plain": [
       "(500, 500, 3)"
      ]
     },
     "execution_count": 29,
     "metadata": {},
     "output_type": "execute_result"
    }
   ],
   "source": [
    "text = cv2.putText(canvas, \"OpenCV\", (50,400), cv2.FONT_HERSHEY_SIMPLEX, 2, (255,255,255), 3)\n",
    "text.shape"
   ]
  },
  {
   "cell_type": "code",
   "execution_count": 30,
   "id": "b91f02df-59b2-4f7d-9fda-3c013791541f",
   "metadata": {},
   "outputs": [],
   "source": [
    "display(text)"
   ]
  },
  {
   "cell_type": "code",
   "execution_count": null,
   "id": "67e6624d-c8f7-4998-8a5a-31a1f0b2f463",
   "metadata": {},
   "outputs": [],
   "source": []
  }
 ],
 "metadata": {
  "kernelspec": {
   "display_name": "Python 3 (ipykernel)",
   "language": "python",
   "name": "python3"
  },
  "language_info": {
   "codemirror_mode": {
    "name": "ipython",
    "version": 3
   },
   "file_extension": ".py",
   "mimetype": "text/x-python",
   "name": "python",
   "nbconvert_exporter": "python",
   "pygments_lexer": "ipython3",
   "version": "3.12.4"
  }
 },
 "nbformat": 4,
 "nbformat_minor": 5
}
