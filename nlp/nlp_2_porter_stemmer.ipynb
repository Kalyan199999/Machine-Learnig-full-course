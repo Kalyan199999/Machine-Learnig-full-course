{
 "cells": [
  {
   "cell_type": "markdown",
   "id": "c03d02a7-b188-42c0-bf14-ca309e9446c1",
   "metadata": {},
   "source": [
    "# Stemming "
   ]
  },
  {
   "cell_type": "code",
   "execution_count": 1,
   "id": "cd2dd41d-c32b-4cf3-92bd-3c5fbcf59a6b",
   "metadata": {},
   "outputs": [],
   "source": [
    "from nltk.stem import PorterStemmer"
   ]
  },
  {
   "cell_type": "code",
   "execution_count": 2,
   "id": "fc8bb656-8a30-4862-9f3d-528175c2e5f3",
   "metadata": {},
   "outputs": [],
   "source": [
    "words = [\"eating\", \"eats\" , \"eaten\" , \"writing\",\"writes\",\"programming\",\"PROGRAMS\" ,\"HISTORY\",'FINALLY','FINALIZED' ]"
   ]
  },
  {
   "cell_type": "markdown",
   "id": "1e1c2792-7cf4-4f45-b008-4efc1781ab0c",
   "metadata": {},
   "source": [
    "### Porter Stemmer"
   ]
  },
  {
   "cell_type": "code",
   "execution_count": 3,
   "id": "c0c263b4-26a3-4c01-88af-6a5621ae8d61",
   "metadata": {},
   "outputs": [],
   "source": [
    "port_stem = PorterStemmer()"
   ]
  },
  {
   "cell_type": "code",
   "execution_count": 4,
   "id": "921e3bc3-cea4-46eb-bdab-a4a41348cc63",
   "metadata": {},
   "outputs": [
    {
     "name": "stdout",
     "output_type": "stream",
     "text": [
      "eating -> eat\n",
      "eats -> eat\n",
      "eaten -> eaten\n",
      "writing -> write\n",
      "writes -> write\n",
      "programming -> program\n",
      "PROGRAMS -> program\n",
      "HISTORY -> histori\n",
      "FINALLY -> final\n",
      "FINALIZED -> final\n"
     ]
    }
   ],
   "source": [
    "for word in words:\n",
    "    print( word , '->' , port_stem.stem( word  ) )"
   ]
  },
  {
   "cell_type": "markdown",
   "id": "d02e3bd7-8d2b-4f12-acb5-5e6e36bf98a5",
   "metadata": {},
   "source": [
    "### PorterStemmer does not give the exact meaning"
   ]
  },
  {
   "cell_type": "code",
   "execution_count": null,
   "id": "a9483d64-ea2e-4d5a-a5b5-7ae52289cab1",
   "metadata": {},
   "outputs": [],
   "source": []
  },
  {
   "cell_type": "markdown",
   "id": "892ec1c3-58ed-488b-b16a-45b13a8075e8",
   "metadata": {},
   "source": [
    "### Regexp Stemmer"
   ]
  },
  {
   "cell_type": "code",
   "execution_count": null,
   "id": "69915f8e-9dcc-4fd2-8bcb-24dd217a12f5",
   "metadata": {},
   "outputs": [],
   "source": []
  },
  {
   "cell_type": "code",
   "execution_count": 5,
   "id": "7d6c61fe-d08f-433d-9099-b61d16354f36",
   "metadata": {},
   "outputs": [],
   "source": [
    "from nltk.stem import RegexpStemmer"
   ]
  },
  {
   "cell_type": "code",
   "execution_count": 6,
   "id": "a59293ab-f19a-4522-b194-ff7665d1ce46",
   "metadata": {},
   "outputs": [],
   "source": [
    "# Custom rule: remove 'ing', 's', 'e', 'able', or 'un'\n",
    "regexp = r'ing$|s$|e$|able$|^un'\n",
    "\n",
    "reg_stem = RegexpStemmer( regexp=regexp  , min=4)"
   ]
  },
  {
   "cell_type": "markdown",
   "id": "a590f7b7-ec7c-4524-8bc1-1229510f7054",
   "metadata": {},
   "source": [
    "### ing$ → removes \"ing\" at the end of a word\n",
    "\n",
    "### s$ → removes \"s\" at the end\n",
    "\n",
    "### e$ → removes \"e\" at the end\n",
    "\n",
    "## able$ → removes \"able\" at the end\n",
    "\n",
    "## ^un → removes \"un\" at the beginning\n",
    "\n",
    "## min=3 → ensures the stemmed word has at least 3 characters left (avoids over-shortening)."
   ]
  },
  {
   "cell_type": "code",
   "execution_count": 7,
   "id": "ddcda0c7-8242-454d-b91c-90a5b9ed4f10",
   "metadata": {},
   "outputs": [],
   "source": [
    "words = [ \"cars\" , \"mass\" , \"was\" , \"bee\" , \"compute\" , \"advisable\" , \"unhappy\",\"under\"]"
   ]
  },
  {
   "cell_type": "code",
   "execution_count": 8,
   "id": "7bb6d95d-cf6a-439e-b3d7-82a85098eac6",
   "metadata": {},
   "outputs": [
    {
     "name": "stdout",
     "output_type": "stream",
     "text": [
      "cars -> car\n",
      "mass -> mas\n",
      "was -> was\n",
      "bee -> bee\n",
      "compute -> comput\n",
      "advisable -> advis\n",
      "unhappy -> happy\n",
      "under -> der\n"
     ]
    }
   ],
   "source": [
    "for word in words:\n",
    "    print( word , '->' , reg_stem.stem( word  ) )"
   ]
  },
  {
   "cell_type": "code",
   "execution_count": null,
   "id": "8f159da4-0579-400d-9ae8-46a1e83480a2",
   "metadata": {},
   "outputs": [],
   "source": []
  },
  {
   "cell_type": "markdown",
   "id": "735f1efe-7ae9-49fa-9c87-d39c2e87932d",
   "metadata": {},
   "source": [
    "# Snowball Stemmer"
   ]
  },
  {
   "cell_type": "code",
   "execution_count": 9,
   "id": "282053db-b58b-45d2-a34b-14d08044ac65",
   "metadata": {},
   "outputs": [],
   "source": [
    "from nltk.stem import SnowballStemmer"
   ]
  },
  {
   "cell_type": "code",
   "execution_count": 10,
   "id": "ed27fd9b-f514-44e2-867d-22de3167da60",
   "metadata": {},
   "outputs": [],
   "source": [
    "ss = SnowballStemmer( language=\"english\" )"
   ]
  },
  {
   "cell_type": "code",
   "execution_count": 11,
   "id": "0690e417-5d3a-436d-8421-989925c4ee5a",
   "metadata": {},
   "outputs": [
    {
     "name": "stdout",
     "output_type": "stream",
     "text": [
      "cars -> car\n",
      "mass -> mass\n",
      "was -> was\n",
      "bee -> bee\n",
      "compute -> comput\n",
      "advisable -> advis\n",
      "unhappy -> unhappi\n",
      "under -> under\n"
     ]
    }
   ],
   "source": [
    "for word in words:\n",
    "    print( word , '->' , ss.stem( word  ) )"
   ]
  },
  {
   "cell_type": "code",
   "execution_count": 12,
   "id": "452852e3-e05d-4e4d-8ccb-deed7feb74cc",
   "metadata": {},
   "outputs": [
    {
     "data": {
      "text/plain": [
       "('fair', 'sport', 'sponten')"
      ]
     },
     "execution_count": 12,
     "metadata": {},
     "output_type": "execute_result"
    }
   ],
   "source": [
    "ss.stem(\"fairly\") , ss.stem(\"sportingly\") , ss.stem(\"sponteneous\")"
   ]
  },
  {
   "cell_type": "code",
   "execution_count": null,
   "id": "65d446e4-874c-4125-9078-90a9166494ae",
   "metadata": {},
   "outputs": [],
   "source": []
  },
  {
   "cell_type": "code",
   "execution_count": null,
   "id": "ca520359-dba4-46b6-ae78-b14d69b26e46",
   "metadata": {},
   "outputs": [],
   "source": []
  }
 ],
 "metadata": {
  "kernelspec": {
   "display_name": "Python 3 (ipykernel)",
   "language": "python",
   "name": "python3"
  },
  "language_info": {
   "codemirror_mode": {
    "name": "ipython",
    "version": 3
   },
   "file_extension": ".py",
   "mimetype": "text/x-python",
   "name": "python",
   "nbconvert_exporter": "python",
   "pygments_lexer": "ipython3",
   "version": "3.12.4"
  }
 },
 "nbformat": 4,
 "nbformat_minor": 5
}
