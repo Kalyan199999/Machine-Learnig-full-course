{
 "cells": [
  {
   "cell_type": "markdown",
   "id": "74059e7d-1c62-443b-94a4-1be46f216aa2",
   "metadata": {},
   "source": [
    "# Parts of speech"
   ]
  },
  {
   "cell_type": "markdown",
   "id": "6444019b-70fb-4827-8f72-aaee1d767bb3",
   "metadata": {},
   "source": [
    "## | Tag       | Meaning                                 | Example                  |\n",
    "## | --------- | --------------------------------------- | ------------------------ |\n",
    "## | **CC**    | Coordinating conjunction                | and, but, or             |\n",
    "## | **CD**    | Cardinal number                         | one, two, 3              |\n",
    "## | **DT**    | Determiner                              | the, a, an               |\n",
    "## | **EX**    | Existential there                       | there is                 |\n",
    "## | **FW**    | Foreign word                            | d’accord, gesundheit     |\n",
    "## | **IN**    | Preposition / subordinating conjunction | in, of, like, although   |\n",
    "## | **JJ**    | Adjective                               | big, nice                |\n",
    "## | **JJR**   | Adjective, comparative                  | bigger, nicer            |\n",
    "## | **JJS**   | Adjective, superlative                  | biggest, nicest          |\n",
    "## | **LS**    | List item marker                        | 1), A.                   |\n",
    "## | **MD**    | Modal                                   | can, will, should        |\n",
    "## | **NN**    | Noun, singular or mass                  | dog, car                 |\n",
    "## | **NNS**   | Noun, plural                            | dogs, cars               |\n",
    "## | **NNP**   | Proper noun, singular                   | John, London             |\n",
    "## | **NNPS**  | Proper noun, plural                     | Indians, Americans       |\n",
    "## | **PDT**   | Predeterminer                           | all, both                |\n",
    "## | **POS**   | Possessive ending                       | ’s                       |\n",
    "## | **PRP**   | Personal pronoun                        | I, he, she, it, they     |\n",
    "## | **PRP\\$** | Possessive pronoun                      | my, his, her, their      |\n",
    "## | **RB**    | Adverb                                  | quickly, softly          |\n",
    "## | **RBR**   | Adverb, comparative                     | faster                   |\n",
    "## | **RBS**   | Adverb, superlative                     | fastest                  |\n",
    "## | **RP**    | Particle                                | up, off                  |\n",
    "## | **SYM**   | Symbol                                  | +, %, &                  |\n",
    "## | **TO**    | \"to\"                                    | to go                    |\n",
    "## | **UH**    | Interjection                            | oh, wow                  |\n",
    "## | **VB**    | Verb, base form                         | run, eat                 |\n",
    "## | **VBD**   | Verb, past tense                        | ran, ate                 |\n",
    "## | **VBG**   | Verb, gerund/present participle         | running, eating          |\n",
    "## | **VBN**   | Verb, past participle                   | eaten, gone              |\n",
    "## | **VBP**   | Verb, non-3rd person singular present   | run, eat (I run, we eat) |\n",
    "## | **VBZ**   | Verb, 3rd person singular present       | runs, eats (he runs)     |\n",
    "## | **WDT**   | Wh-determiner                           | which, that              |\n",
    "## | **WP**    | Wh-pronoun                              | who, what                |\n",
    "## | **WP\\$**  | Possessive wh-pronoun                   | whose                    |\n",
    "## | **WRB**   | Wh-adverb                               | where, when              |\n"
   ]
  },
  {
   "cell_type": "code",
   "execution_count": null,
   "id": "318b70ab-e508-4275-9c68-35304c8cdd71",
   "metadata": {},
   "outputs": [],
   "source": []
  },
  {
   "cell_type": "code",
   "execution_count": 1,
   "id": "4d7f8610-e02c-4758-9872-bc555af4d4da",
   "metadata": {},
   "outputs": [],
   "source": [
    "import nltk"
   ]
  },
  {
   "cell_type": "code",
   "execution_count": null,
   "id": "78d9b3fc-934a-41a8-8b63-d42400257937",
   "metadata": {},
   "outputs": [],
   "source": []
  },
  {
   "cell_type": "code",
   "execution_count": 2,
   "id": "bd7fbee3-856a-4839-9360-2e9a098f6930",
   "metadata": {},
   "outputs": [],
   "source": [
    "speech = \"\"\"Today, I am here to deliver a speech on Dr APJ Abdul Kalam. APJ Abdul Kalam was born to Jainulabdeen and Ashiamma on October 15, 1931. His father was a boat owner and his mother was a homemaker. His family's economic situation was not strong, so at an early age, he began helping his family financially.\n",
    "He graduated in 1955 from the Madras Institute of Technology and graduated from St. Joseph's College, Tiruchirappalli, in Aerospace Engineering. He joined the Defense Research and Development Organization's (DRDO) Aeronautical Development Base as a Chief Scientist after his graduation. He won credit as Project Director-General for making India's first indigenous satellite (SLV III) rocket. It was his ultimate support that brought nuclear power to India. \n",
    "In July 1992, he was appointed Scientific Advisor to the Indian Ministry of Defence. As a national counsellor, he played a significant role in the world-famous nuclear tests at Pokhran II. In 1981, he was awarded the Padma Bhushan Award, in 1909 the Padma Vibhushan, and in 1997 the highest civilian award of India' Bharat Ratna 'for modernizing the defence technology of India and his outstanding contribution.\n",
    "From July 25, 2002 - July 25, 2007, he served as President of India, becoming famous among Indians and receiving a lot of attention from Indian youth. He became popular as the People's President. Kalam worked as a professor, chancellor, and assistant at many institutions after leaving office. He experienced serious cardiac arrest on the evening of July 27, 2015, and fell unconscious and died 2 hours later.\n",
    "In 1999, Kalam published his autobiography and a book called The Wings of Fire. He has written many other books that are useful to the people of every generation.\n",
    "\"\"\""
   ]
  },
  {
   "cell_type": "code",
   "execution_count": 3,
   "id": "ae9b52ba-d8a0-40eb-938c-c82ff08a7b16",
   "metadata": {},
   "outputs": [],
   "source": [
    "sentences = nltk.sent_tokenize(speech)"
   ]
  },
  {
   "cell_type": "code",
   "execution_count": 4,
   "id": "3650516c-bd5c-4541-ace3-da2cadee0ca6",
   "metadata": {},
   "outputs": [
    {
     "data": {
      "text/plain": [
       "['Today, I am here to deliver a speech on Dr APJ Abdul Kalam.',\n",
       " 'APJ Abdul Kalam was born to Jainulabdeen and Ashiamma on October 15, 1931.',\n",
       " 'His father was a boat owner and his mother was a homemaker.',\n",
       " \"His family's economic situation was not strong, so at an early age, he began helping his family financially.\",\n",
       " \"He graduated in 1955 from the Madras Institute of Technology and graduated from St. Joseph's College, Tiruchirappalli, in Aerospace Engineering.\",\n",
       " \"He joined the Defense Research and Development Organization's (DRDO) Aeronautical Development Base as a Chief Scientist after his graduation.\",\n",
       " \"He won credit as Project Director-General for making India's first indigenous satellite (SLV III) rocket.\",\n",
       " 'It was his ultimate support that brought nuclear power to India.',\n",
       " 'In July 1992, he was appointed Scientific Advisor to the Indian Ministry of Defence.',\n",
       " 'As a national counsellor, he played a significant role in the world-famous nuclear tests at Pokhran II.',\n",
       " \"In 1981, he was awarded the Padma Bhushan Award, in 1909 the Padma Vibhushan, and in 1997 the highest civilian award of India' Bharat Ratna 'for modernizing the defence technology of India and his outstanding contribution.\",\n",
       " 'From July 25, 2002 - July 25, 2007, he served as President of India, becoming famous among Indians and receiving a lot of attention from Indian youth.',\n",
       " \"He became popular as the People's President.\",\n",
       " 'Kalam worked as a professor, chancellor, and assistant at many institutions after leaving office.',\n",
       " 'He experienced serious cardiac arrest on the evening of July 27, 2015, and fell unconscious and died 2 hours later.',\n",
       " 'In 1999, Kalam published his autobiography and a book called The Wings of Fire.',\n",
       " 'He has written many other books that are useful to the people of every generation.']"
      ]
     },
     "execution_count": 4,
     "metadata": {},
     "output_type": "execute_result"
    }
   ],
   "source": [
    "sentences"
   ]
  },
  {
   "cell_type": "code",
   "execution_count": 5,
   "id": "ad076d92-3a39-4803-af42-f12541633836",
   "metadata": {},
   "outputs": [],
   "source": [
    "from nltk.corpus import stopwords"
   ]
  },
  {
   "cell_type": "code",
   "execution_count": 6,
   "id": "c05180d8-dcc9-4279-8b5a-75eda579901d",
   "metadata": {},
   "outputs": [],
   "source": [
    "# nltk.download('averaged_perceptron_tagger')"
   ]
  },
  {
   "cell_type": "code",
   "execution_count": null,
   "id": "a1fceac7-eb01-4f76-bc91-22cd07ce00fe",
   "metadata": {},
   "outputs": [],
   "source": []
  },
  {
   "cell_type": "code",
   "execution_count": 7,
   "id": "6483c567-54b6-4a14-a7ad-9a3de2e47659",
   "metadata": {},
   "outputs": [],
   "source": [
    "stop_words = stopwords.words('english')"
   ]
  },
  {
   "cell_type": "code",
   "execution_count": 8,
   "id": "248bdd88-209d-4c25-a500-ef68d42c7a73",
   "metadata": {
    "scrolled": true
   },
   "outputs": [
    {
     "name": "stdout",
     "output_type": "stream",
     "text": [
      "[('today', 'NN'), (',', ','), ('i', 'VB'), ('deliver', 'RB'), ('speech', 'JJ'), ('dr', 'NN'), ('apj', 'NN'), ('abdul', 'NN'), ('kalam', 'NN'), ('.', '.')]\n",
      "[('apj', 'NN'), ('abdul', 'NN'), ('kalam', 'NN'), ('born', 'VBN'), ('jainulabdeen', 'JJ'), ('ashiamma', 'JJ'), ('october', 'NN'), ('15', 'CD'), (',', ','), ('1931', 'CD'), ('.', '.')]\n",
      "[('his', 'PRP$'), ('father', 'NN'), ('boat', 'NN'), ('owner', 'NN'), ('mother', 'NN'), ('homemaker', 'NN'), ('.', '.')]\n",
      "[('his', 'PRP$'), ('family', 'NN'), (\"'s\", 'POS'), ('economic', 'JJ'), ('situation', 'NN'), ('strong', 'JJ'), (',', ','), ('early', 'JJ'), ('age', 'NN'), (',', ','), ('began', 'VBD'), ('helping', 'VBG'), ('family', 'NN'), ('financially', 'RB'), ('.', '.')]\n",
      "[('he', 'PRP'), ('graduated', 'VBD'), ('1955', 'CD'), ('madras', 'NNS'), ('institute', 'JJ'), ('technology', 'NN'), ('graduated', 'VBD'), ('st.', 'JJ'), ('joseph', 'NN'), (\"'s\", 'POS'), ('college', 'NN'), (',', ','), ('tiruchirappalli', 'NN'), (',', ','), ('aerospace', 'NN'), ('engineering', 'NN'), ('.', '.')]\n",
      "[('he', 'PRP'), ('joined', 'VBD'), ('defense', 'NN'), ('research', 'NN'), ('development', 'NN'), ('organization', 'NN'), (\"'s\", 'POS'), ('(', '('), ('drdo', 'NN'), (')', ')'), ('aeronautical', 'JJ'), ('development', 'NN'), ('base', 'NN'), ('chief', 'JJ'), ('scientist', 'NN'), ('graduation', 'NN'), ('.', '.')]\n",
      "[('he', 'PRP'), ('credit', 'NN'), ('project', 'NN'), ('director-general', 'JJ'), ('making', 'VBG'), ('india', 'NN'), (\"'s\", 'POS'), ('first', 'JJ'), ('indigenous', 'JJ'), ('satellite', 'NN'), ('(', '('), ('slv', 'JJ'), ('iii', 'NN'), (')', ')'), ('rocket', 'NN'), ('.', '.')]\n",
      "[('it', 'PRP'), ('ultimate', 'JJ'), ('support', 'NN'), ('brought', 'VBD'), ('nuclear', 'JJ'), ('power', 'NN'), ('india', 'NN'), ('.', '.')]\n",
      "[('in', 'IN'), ('july', 'NN'), ('1992', 'CD'), (',', ','), ('appointed', 'VBN'), ('scientific', 'JJ'), ('advisor', 'NN'), ('indian', 'JJ'), ('ministry', 'NN'), ('defence', 'NN'), ('.', '.')]\n",
      "[('as', 'IN'), ('national', 'JJ'), ('counsellor', 'NN'), (',', ','), ('played', 'VBD'), ('significant', 'JJ'), ('role', 'NN'), ('world-famous', 'JJ'), ('nuclear', 'JJ'), ('tests', 'NNS'), ('pokhran', 'VBD'), ('ii', 'NN'), ('.', '.')]\n",
      "[('in', 'IN'), ('1981', 'CD'), (',', ','), ('awarded', 'VBD'), ('padma', 'NN'), ('bhushan', 'NN'), ('award', 'NN'), (',', ','), ('1909', 'CD'), ('padma', 'NN'), ('vibhushan', 'NN'), (',', ','), ('1997', 'CD'), ('highest', 'JJS'), ('civilian', 'JJ'), ('award', 'NN'), ('india', 'NN'), (\"'\", \"''\"), ('bharat', 'NN'), ('ratna', 'NN'), (\"'for\", 'CD'), ('modernizing', 'VBG'), ('defence', 'NN'), ('technology', 'NN'), ('india', 'NN'), ('outstanding', 'JJ'), ('contribution', 'NN'), ('.', '.')]\n",
      "[('from', 'IN'), ('july', 'RB'), ('25', 'CD'), (',', ','), ('2002', 'CD'), ('-', ':'), ('july', 'NN'), ('25', 'CD'), (',', ','), ('2007', 'CD'), (',', ','), ('served', 'VBD'), ('president', 'NN'), ('india', 'NN'), (',', ','), ('becoming', 'VBG'), ('famous', 'JJ'), ('among', 'IN'), ('indians', 'NNS'), ('receiving', 'VBG'), ('lot', 'NN'), ('attention', 'NN'), ('indian', 'JJ'), ('youth', 'NN'), ('.', '.')]\n",
      "[('he', 'PRP'), ('became', 'VBD'), ('popular', 'JJ'), ('people', 'NNS'), (\"'s\", 'POS'), ('president', 'NN'), ('.', '.')]\n",
      "[('kalam', 'NN'), ('worked', 'VBD'), ('professor', 'NN'), (',', ','), ('chancellor', 'NN'), (',', ','), ('assistant', 'JJ'), ('many', 'JJ'), ('institutions', 'NNS'), ('leaving', 'VBG'), ('office', 'NN'), ('.', '.')]\n",
      "[('he', 'PRP'), ('experienced', 'VBD'), ('serious', 'JJ'), ('cardiac', 'JJ'), ('arrest', 'NN'), ('evening', 'VBG'), ('july', 'NN'), ('27', 'CD'), (',', ','), ('2015', 'CD'), (',', ','), ('fell', 'VBD'), ('unconscious', 'JJ'), ('died', 'VBD'), ('2', 'CD'), ('hours', 'NNS'), ('later', 'RB'), ('.', '.')]\n",
      "[('in', 'IN'), ('1999', 'CD'), (',', ','), ('kalam', 'FW'), ('published', 'VBN'), ('autobiography', 'NN'), ('book', 'NN'), ('called', 'VBD'), ('the', 'DT'), ('wings', 'NNS'), ('fire', 'NN'), ('.', '.')]\n",
      "[('he', 'PRP'), ('written', 'VBN'), ('many', 'JJ'), ('books', 'NNS'), ('useful', 'JJ'), ('people', 'NNS'), ('every', 'DT'), ('generation', 'NN'), ('.', '.')]\n"
     ]
    }
   ],
   "source": [
    "for i in range(len(sentences)):\n",
    "    words = nltk.word_tokenize( sentences[i] )\n",
    "    words = [word.lower() for word in words if word not in set(stop_words) ] \n",
    "    pos_tage = nltk.pos_tag(words)\n",
    "    print( pos_tage  )"
   ]
  },
  {
   "cell_type": "code",
   "execution_count": null,
   "id": "cef866d2-9b4f-4ec8-934d-b3f976e4f1ad",
   "metadata": {},
   "outputs": [],
   "source": []
  },
  {
   "cell_type": "code",
   "execution_count": 9,
   "id": "19e2ce7d-1eed-4544-b6ba-5e5c34d05d87",
   "metadata": {},
   "outputs": [
    {
     "data": {
      "text/plain": [
       "[('Taj', 'NNP'),\n",
       " ('Mahal', 'NNP'),\n",
       " ('is', 'VBZ'),\n",
       " ('a', 'DT'),\n",
       " ('beautiful', 'JJ'),\n",
       " ('place', 'NN'),\n",
       " ('to', 'TO'),\n",
       " ('visit', 'VB'),\n",
       " ('!', '.')]"
      ]
     },
     "execution_count": 9,
     "metadata": {},
     "output_type": "execute_result"
    }
   ],
   "source": [
    "nltk.pos_tag( nltk.word_tokenize( \"Taj Mahal is a beautiful place to visit!\" ) )"
   ]
  },
  {
   "cell_type": "code",
   "execution_count": null,
   "id": "fbedf93f-3c69-4e80-bcc1-5b58f2a675f4",
   "metadata": {},
   "outputs": [],
   "source": []
  }
 ],
 "metadata": {
  "kernelspec": {
   "display_name": "Python 3 (ipykernel)",
   "language": "python",
   "name": "python3"
  },
  "language_info": {
   "codemirror_mode": {
    "name": "ipython",
    "version": 3
   },
   "file_extension": ".py",
   "mimetype": "text/x-python",
   "name": "python",
   "nbconvert_exporter": "python",
   "pygments_lexer": "ipython3",
   "version": "3.12.4"
  }
 },
 "nbformat": 4,
 "nbformat_minor": 5
}
