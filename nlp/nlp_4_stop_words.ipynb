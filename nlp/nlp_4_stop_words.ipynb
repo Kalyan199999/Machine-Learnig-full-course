{
 "cells": [
  {
   "cell_type": "markdown",
   "id": "895410f0-072f-41b2-b0d4-9bd07f90b9f3",
   "metadata": {},
   "source": [
    "# Stop Words"
   ]
  },
  {
   "cell_type": "code",
   "execution_count": null,
   "id": "99546344-8d08-4580-99e2-4e6bbbc3b053",
   "metadata": {},
   "outputs": [],
   "source": []
  },
  {
   "cell_type": "code",
   "execution_count": 1,
   "id": "7a78fca0-4866-4072-a8bc-5650779eeb3f",
   "metadata": {},
   "outputs": [],
   "source": [
    "from nltk.corpus import stopwords"
   ]
  },
  {
   "cell_type": "code",
   "execution_count": 2,
   "id": "12964204-df05-4461-bdcc-b14824516800",
   "metadata": {},
   "outputs": [],
   "source": [
    "from nltk.stem import PorterStemmer"
   ]
  },
  {
   "cell_type": "code",
   "execution_count": null,
   "id": "9dc82585-bffc-45f8-bf09-01e6d5b5bd28",
   "metadata": {},
   "outputs": [],
   "source": []
  },
  {
   "cell_type": "code",
   "execution_count": 3,
   "id": "edba70fb-1c52-4ba1-b34c-727b00ce40b9",
   "metadata": {},
   "outputs": [],
   "source": [
    "speech = \"\"\"Today, I am here to deliver a speech on Dr APJ Abdul Kalam. APJ Abdul Kalam was born to Jainulabdeen and Ashiamma on October 15, 1931. His father was a boat owner and his mother was a homemaker. His family's economic situation was not strong, so at an early age, he began helping his family financially.\n",
    "He graduated in 1955 from the Madras Institute of Technology and graduated from St. Joseph's College, Tiruchirappalli, in Aerospace Engineering. He joined the Defense Research and Development Organization's (DRDO) Aeronautical Development Base as a Chief Scientist after his graduation. He won credit as Project Director-General for making India's first indigenous satellite (SLV III) rocket. It was his ultimate support that brought nuclear power to India. \n",
    "In July 1992, he was appointed Scientific Advisor to the Indian Ministry of Defence. As a national counsellor, he played a significant role in the world-famous nuclear tests at Pokhran II. In 1981, he was awarded the Padma Bhushan Award, in 1909 the Padma Vibhushan, and in 1997 the highest civilian award of India' Bharat Ratna 'for modernizing the defence technology of India and his outstanding contribution.\n",
    "From July 25, 2002 - July 25, 2007, he served as President of India, becoming famous among Indians and receiving a lot of attention from Indian youth. He became popular as the People's President. Kalam worked as a professor, chancellor, and assistant at many institutions after leaving office. He experienced serious cardiac arrest on the evening of July 27, 2015, and fell unconscious and died 2 hours later.\n",
    "In 1999, Kalam published his autobiography and a book called The Wings of Fire. He has written many other books that are useful to the people of every generation.\n",
    "\"\"\""
   ]
  },
  {
   "cell_type": "code",
   "execution_count": null,
   "id": "a2e5c4db-2ac3-4d08-a2fc-ebcea4431c39",
   "metadata": {},
   "outputs": [],
   "source": []
  },
  {
   "cell_type": "code",
   "execution_count": 4,
   "id": "53a07aed-7880-4257-a82e-e7630eca62aa",
   "metadata": {},
   "outputs": [],
   "source": [
    "stop_words = stopwords.words( \"english\" )"
   ]
  },
  {
   "cell_type": "code",
   "execution_count": 5,
   "id": "8daee353-e7a6-47cd-a243-1b38c4ab15df",
   "metadata": {},
   "outputs": [
    {
     "data": {
      "text/plain": [
       "['a',\n",
       " 'about',\n",
       " 'above',\n",
       " 'after',\n",
       " 'again',\n",
       " 'against',\n",
       " 'ain',\n",
       " 'all',\n",
       " 'am',\n",
       " 'an',\n",
       " 'and',\n",
       " 'any',\n",
       " 'are',\n",
       " 'aren',\n",
       " \"aren't\",\n",
       " 'as',\n",
       " 'at',\n",
       " 'be',\n",
       " 'because',\n",
       " 'been',\n",
       " 'before',\n",
       " 'being',\n",
       " 'below',\n",
       " 'between',\n",
       " 'both',\n",
       " 'but',\n",
       " 'by',\n",
       " 'can',\n",
       " 'couldn',\n",
       " \"couldn't\",\n",
       " 'd',\n",
       " 'did',\n",
       " 'didn',\n",
       " \"didn't\",\n",
       " 'do',\n",
       " 'does',\n",
       " 'doesn',\n",
       " \"doesn't\",\n",
       " 'doing',\n",
       " 'don',\n",
       " \"don't\",\n",
       " 'down',\n",
       " 'during',\n",
       " 'each',\n",
       " 'few',\n",
       " 'for',\n",
       " 'from',\n",
       " 'further',\n",
       " 'had',\n",
       " 'hadn',\n",
       " \"hadn't\",\n",
       " 'has',\n",
       " 'hasn',\n",
       " \"hasn't\",\n",
       " 'have',\n",
       " 'haven',\n",
       " \"haven't\",\n",
       " 'having',\n",
       " 'he',\n",
       " \"he'd\",\n",
       " \"he'll\",\n",
       " 'her',\n",
       " 'here',\n",
       " 'hers',\n",
       " 'herself',\n",
       " \"he's\",\n",
       " 'him',\n",
       " 'himself',\n",
       " 'his',\n",
       " 'how',\n",
       " 'i',\n",
       " \"i'd\",\n",
       " 'if',\n",
       " \"i'll\",\n",
       " \"i'm\",\n",
       " 'in',\n",
       " 'into',\n",
       " 'is',\n",
       " 'isn',\n",
       " \"isn't\",\n",
       " 'it',\n",
       " \"it'd\",\n",
       " \"it'll\",\n",
       " \"it's\",\n",
       " 'its',\n",
       " 'itself',\n",
       " \"i've\",\n",
       " 'just',\n",
       " 'll',\n",
       " 'm',\n",
       " 'ma',\n",
       " 'me',\n",
       " 'mightn',\n",
       " \"mightn't\",\n",
       " 'more',\n",
       " 'most',\n",
       " 'mustn',\n",
       " \"mustn't\",\n",
       " 'my',\n",
       " 'myself',\n",
       " 'needn',\n",
       " \"needn't\",\n",
       " 'no',\n",
       " 'nor',\n",
       " 'not',\n",
       " 'now',\n",
       " 'o',\n",
       " 'of',\n",
       " 'off',\n",
       " 'on',\n",
       " 'once',\n",
       " 'only',\n",
       " 'or',\n",
       " 'other',\n",
       " 'our',\n",
       " 'ours',\n",
       " 'ourselves',\n",
       " 'out',\n",
       " 'over',\n",
       " 'own',\n",
       " 're',\n",
       " 's',\n",
       " 'same',\n",
       " 'shan',\n",
       " \"shan't\",\n",
       " 'she',\n",
       " \"she'd\",\n",
       " \"she'll\",\n",
       " \"she's\",\n",
       " 'should',\n",
       " 'shouldn',\n",
       " \"shouldn't\",\n",
       " \"should've\",\n",
       " 'so',\n",
       " 'some',\n",
       " 'such',\n",
       " 't',\n",
       " 'than',\n",
       " 'that',\n",
       " \"that'll\",\n",
       " 'the',\n",
       " 'their',\n",
       " 'theirs',\n",
       " 'them',\n",
       " 'themselves',\n",
       " 'then',\n",
       " 'there',\n",
       " 'these',\n",
       " 'they',\n",
       " \"they'd\",\n",
       " \"they'll\",\n",
       " \"they're\",\n",
       " \"they've\",\n",
       " 'this',\n",
       " 'those',\n",
       " 'through',\n",
       " 'to',\n",
       " 'too',\n",
       " 'under',\n",
       " 'until',\n",
       " 'up',\n",
       " 've',\n",
       " 'very',\n",
       " 'was',\n",
       " 'wasn',\n",
       " \"wasn't\",\n",
       " 'we',\n",
       " \"we'd\",\n",
       " \"we'll\",\n",
       " \"we're\",\n",
       " 'were',\n",
       " 'weren',\n",
       " \"weren't\",\n",
       " \"we've\",\n",
       " 'what',\n",
       " 'when',\n",
       " 'where',\n",
       " 'which',\n",
       " 'while',\n",
       " 'who',\n",
       " 'whom',\n",
       " 'why',\n",
       " 'will',\n",
       " 'with',\n",
       " 'won',\n",
       " \"won't\",\n",
       " 'wouldn',\n",
       " \"wouldn't\",\n",
       " 'y',\n",
       " 'you',\n",
       " \"you'd\",\n",
       " \"you'll\",\n",
       " 'your',\n",
       " \"you're\",\n",
       " 'yours',\n",
       " 'yourself',\n",
       " 'yourselves',\n",
       " \"you've\"]"
      ]
     },
     "execution_count": 5,
     "metadata": {},
     "output_type": "execute_result"
    }
   ],
   "source": [
    "# List of stop words in english\n",
    "stop_words"
   ]
  },
  {
   "cell_type": "code",
   "execution_count": null,
   "id": "aca43c64-eb44-47fb-9cbc-b5cc67d0e1dd",
   "metadata": {},
   "outputs": [],
   "source": []
  },
  {
   "cell_type": "markdown",
   "id": "39bdfc3c-7599-42d7-af5b-6b86950b6211",
   "metadata": {},
   "source": [
    "## apply stop words in paragraph"
   ]
  },
  {
   "cell_type": "code",
   "execution_count": 6,
   "id": "ad1fc8c4-4e2b-4792-8cd8-83d485e2c389",
   "metadata": {},
   "outputs": [],
   "source": [
    "stem = PorterStemmer()"
   ]
  },
  {
   "cell_type": "code",
   "execution_count": 7,
   "id": "5a0f946b-8a29-4860-af8c-abd0045763d1",
   "metadata": {},
   "outputs": [],
   "source": [
    "import nltk"
   ]
  },
  {
   "cell_type": "code",
   "execution_count": 8,
   "id": "1bbd978f-a7b3-401e-8a76-9c7177f5d33e",
   "metadata": {},
   "outputs": [],
   "source": [
    "sentences = nltk.sent_tokenize( speech )"
   ]
  },
  {
   "cell_type": "code",
   "execution_count": 9,
   "id": "5a818080-b2b7-4959-b2db-1d85e284491c",
   "metadata": {},
   "outputs": [],
   "source": [
    "sentences_copy = sentences.copy()"
   ]
  },
  {
   "cell_type": "code",
   "execution_count": 10,
   "id": "6553fd62-d067-43af-bf12-e5e2bc2cc658",
   "metadata": {},
   "outputs": [
    {
     "data": {
      "text/plain": [
       "['Today, I am here to deliver a speech on Dr APJ Abdul Kalam.',\n",
       " 'APJ Abdul Kalam was born to Jainulabdeen and Ashiamma on October 15, 1931.',\n",
       " 'His father was a boat owner and his mother was a homemaker.',\n",
       " \"His family's economic situation was not strong, so at an early age, he began helping his family financially.\",\n",
       " \"He graduated in 1955 from the Madras Institute of Technology and graduated from St. Joseph's College, Tiruchirappalli, in Aerospace Engineering.\",\n",
       " \"He joined the Defense Research and Development Organization's (DRDO) Aeronautical Development Base as a Chief Scientist after his graduation.\",\n",
       " \"He won credit as Project Director-General for making India's first indigenous satellite (SLV III) rocket.\",\n",
       " 'It was his ultimate support that brought nuclear power to India.',\n",
       " 'In July 1992, he was appointed Scientific Advisor to the Indian Ministry of Defence.',\n",
       " 'As a national counsellor, he played a significant role in the world-famous nuclear tests at Pokhran II.',\n",
       " \"In 1981, he was awarded the Padma Bhushan Award, in 1909 the Padma Vibhushan, and in 1997 the highest civilian award of India' Bharat Ratna 'for modernizing the defence technology of India and his outstanding contribution.\",\n",
       " 'From July 25, 2002 - July 25, 2007, he served as President of India, becoming famous among Indians and receiving a lot of attention from Indian youth.',\n",
       " \"He became popular as the People's President.\",\n",
       " 'Kalam worked as a professor, chancellor, and assistant at many institutions after leaving office.',\n",
       " 'He experienced serious cardiac arrest on the evening of July 27, 2015, and fell unconscious and died 2 hours later.',\n",
       " 'In 1999, Kalam published his autobiography and a book called The Wings of Fire.',\n",
       " 'He has written many other books that are useful to the people of every generation.']"
      ]
     },
     "execution_count": 10,
     "metadata": {},
     "output_type": "execute_result"
    }
   ],
   "source": [
    "sentences"
   ]
  },
  {
   "cell_type": "code",
   "execution_count": null,
   "id": "7b6e128a-0b2b-42a2-8147-119cdc05c697",
   "metadata": {},
   "outputs": [],
   "source": []
  },
  {
   "cell_type": "code",
   "execution_count": 11,
   "id": "1482f84a-3e1d-43d2-be9b-26fd9cd4aa3a",
   "metadata": {},
   "outputs": [
    {
     "name": "stdout",
     "output_type": "stream",
     "text": [
      "['today', ',', 'i', 'deliv', 'speech', 'dr', 'apj', 'abdul', 'kalam', '.']\n",
      "['apj', 'abdul', 'kalam', 'born', 'jainulabdeen', 'ashiamma', 'octob', '15', ',', '1931', '.']\n",
      "['hi', 'father', 'boat', 'owner', 'mother', 'homemak', '.']\n",
      "['hi', 'famili', \"'s\", 'econom', 'situat', 'strong', ',', 'earli', 'age', ',', 'began', 'help', 'famili', 'financi', '.']\n",
      "['he', 'graduat', '1955', 'madra', 'institut', 'technolog', 'graduat', 'st.', 'joseph', \"'s\", 'colleg', ',', 'tiruchirapp', ',', 'aerospac', 'engin', '.']\n",
      "['he', 'join', 'defens', 'research', 'develop', 'organ', \"'s\", '(', 'drdo', ')', 'aeronaut', 'develop', 'base', 'chief', 'scientist', 'graduat', '.']\n",
      "['he', 'credit', 'project', 'director-gener', 'make', 'india', \"'s\", 'first', 'indigen', 'satellit', '(', 'slv', 'iii', ')', 'rocket', '.']\n",
      "['it', 'ultim', 'support', 'brought', 'nuclear', 'power', 'india', '.']\n",
      "['in', 'juli', '1992', ',', 'appoint', 'scientif', 'advisor', 'indian', 'ministri', 'defenc', '.']\n",
      "['as', 'nation', 'counsellor', ',', 'play', 'signific', 'role', 'world-fam', 'nuclear', 'test', 'pokhran', 'ii', '.']\n",
      "['in', '1981', ',', 'award', 'padma', 'bhushan', 'award', ',', '1909', 'padma', 'vibhushan', ',', '1997', 'highest', 'civilian', 'award', 'india', \"'\", 'bharat', 'ratna', \"'for\", 'modern', 'defenc', 'technolog', 'india', 'outstand', 'contribut', '.']\n",
      "['from', 'juli', '25', ',', '2002', '-', 'juli', '25', ',', '2007', ',', 'serv', 'presid', 'india', ',', 'becom', 'famou', 'among', 'indian', 'receiv', 'lot', 'attent', 'indian', 'youth', '.']\n",
      "['he', 'becam', 'popular', 'peopl', \"'s\", 'presid', '.']\n",
      "['kalam', 'work', 'professor', ',', 'chancellor', ',', 'assist', 'mani', 'institut', 'leav', 'offic', '.']\n",
      "['he', 'experienc', 'seriou', 'cardiac', 'arrest', 'even', 'juli', '27', ',', '2015', ',', 'fell', 'unconsci', 'die', '2', 'hour', 'later', '.']\n",
      "['in', '1999', ',', 'kalam', 'publish', 'autobiographi', 'book', 'call', 'the', 'wing', 'fire', '.']\n",
      "['he', 'written', 'mani', 'book', 'use', 'peopl', 'everi', 'gener', '.']\n"
     ]
    }
   ],
   "source": [
    "for i in range( len(sentences) ):\n",
    "    \n",
    "    # list of words in the sentence\n",
    "    words = nltk.word_tokenize( sentences[i] )\n",
    "    \n",
    "    # apply stemming and stop words\n",
    "    stemed_words = [ stem.stem(word) for word in words if word not in set( stop_words )]\n",
    "    \n",
    "    print(stemed_words)\n",
    "    \n",
    "    sentences[i] = ' '.join(stemed_words) # join ll the words into sentences\n",
    "    \n",
    "    "
   ]
  },
  {
   "cell_type": "code",
   "execution_count": 12,
   "id": "00ee02ed-1624-45b9-85cc-b5d8b2494791",
   "metadata": {},
   "outputs": [
    {
     "data": {
      "text/plain": [
       "['today , i deliv speech dr apj abdul kalam .',\n",
       " 'apj abdul kalam born jainulabdeen ashiamma octob 15 , 1931 .',\n",
       " 'hi father boat owner mother homemak .',\n",
       " \"hi famili 's econom situat strong , earli age , began help famili financi .\",\n",
       " \"he graduat 1955 madra institut technolog graduat st. joseph 's colleg , tiruchirapp , aerospac engin .\",\n",
       " \"he join defens research develop organ 's ( drdo ) aeronaut develop base chief scientist graduat .\",\n",
       " \"he credit project director-gener make india 's first indigen satellit ( slv iii ) rocket .\",\n",
       " 'it ultim support brought nuclear power india .',\n",
       " 'in juli 1992 , appoint scientif advisor indian ministri defenc .',\n",
       " 'as nation counsellor , play signific role world-fam nuclear test pokhran ii .',\n",
       " \"in 1981 , award padma bhushan award , 1909 padma vibhushan , 1997 highest civilian award india ' bharat ratna 'for modern defenc technolog india outstand contribut .\",\n",
       " 'from juli 25 , 2002 - juli 25 , 2007 , serv presid india , becom famou among indian receiv lot attent indian youth .',\n",
       " \"he becam popular peopl 's presid .\",\n",
       " 'kalam work professor , chancellor , assist mani institut leav offic .',\n",
       " 'he experienc seriou cardiac arrest even juli 27 , 2015 , fell unconsci die 2 hour later .',\n",
       " 'in 1999 , kalam publish autobiographi book call the wing fire .',\n",
       " 'he written mani book use peopl everi gener .']"
      ]
     },
     "execution_count": 12,
     "metadata": {},
     "output_type": "execute_result"
    }
   ],
   "source": [
    "sentences"
   ]
  },
  {
   "cell_type": "code",
   "execution_count": null,
   "id": "ab0318cf-5690-4c45-b816-6ec0f152d797",
   "metadata": {},
   "outputs": [],
   "source": []
  },
  {
   "cell_type": "code",
   "execution_count": 13,
   "id": "53d7ef23-7dc5-47ef-9d3f-4ff4601ea845",
   "metadata": {},
   "outputs": [],
   "source": [
    "from nltk.stem import WordNetLemmatizer"
   ]
  },
  {
   "cell_type": "code",
   "execution_count": 14,
   "id": "72d03ea5-9726-46e2-b4ef-cae4ed913877",
   "metadata": {},
   "outputs": [],
   "source": [
    "lemma = WordNetLemmatizer()"
   ]
  },
  {
   "cell_type": "code",
   "execution_count": 15,
   "id": "9280b3a3-1d9e-4203-8278-fc54d9fb1513",
   "metadata": {},
   "outputs": [
    {
     "name": "stdout",
     "output_type": "stream",
     "text": [
      "['Today', ',', 'I', 'deliver', 'speech', 'Dr', 'APJ', 'Abdul', 'Kalam', '.']\n",
      "['APJ', 'Abdul', 'Kalam', 'born', 'Jainulabdeen', 'Ashiamma', 'October', '15', ',', '1931', '.']\n",
      "['His', 'father', 'boat', 'owner', 'mother', 'homemaker', '.']\n",
      "['His', 'family', \"'s\", 'economic', 'situation', 'strong', ',', 'early', 'age', ',', 'began', 'helping', 'family', 'financially', '.']\n",
      "['He', 'graduated', '1955', 'Madras', 'Institute', 'Technology', 'graduated', 'St.', 'Joseph', \"'s\", 'College', ',', 'Tiruchirappalli', ',', 'Aerospace', 'Engineering', '.']\n",
      "['He', 'joined', 'Defense', 'Research', 'Development', 'Organization', \"'s\", '(', 'DRDO', ')', 'Aeronautical', 'Development', 'Base', 'Chief', 'Scientist', 'graduation', '.']\n",
      "['He', 'credit', 'Project', 'Director-General', 'making', 'India', \"'s\", 'first', 'indigenous', 'satellite', '(', 'SLV', 'III', ')', 'rocket', '.']\n",
      "['It', 'ultimate', 'support', 'brought', 'nuclear', 'power', 'India', '.']\n",
      "['In', 'July', '1992', ',', 'appointed', 'Scientific', 'Advisor', 'Indian', 'Ministry', 'Defence', '.']\n",
      "['As', 'national', 'counsellor', ',', 'played', 'significant', 'role', 'world-famous', 'nuclear', 'test', 'Pokhran', 'II', '.']\n",
      "['In', '1981', ',', 'awarded', 'Padma', 'Bhushan', 'Award', ',', '1909', 'Padma', 'Vibhushan', ',', '1997', 'highest', 'civilian', 'award', 'India', \"'\", 'Bharat', 'Ratna', \"'for\", 'modernizing', 'defence', 'technology', 'India', 'outstanding', 'contribution', '.']\n",
      "['From', 'July', '25', ',', '2002', '-', 'July', '25', ',', '2007', ',', 'served', 'President', 'India', ',', 'becoming', 'famous', 'among', 'Indians', 'receiving', 'lot', 'attention', 'Indian', 'youth', '.']\n",
      "['He', 'became', 'popular', 'People', \"'s\", 'President', '.']\n",
      "['Kalam', 'worked', 'professor', ',', 'chancellor', ',', 'assistant', 'many', 'institution', 'leaving', 'office', '.']\n",
      "['He', 'experienced', 'serious', 'cardiac', 'arrest', 'evening', 'July', '27', ',', '2015', ',', 'fell', 'unconscious', 'died', '2', 'hour', 'later', '.']\n",
      "['In', '1999', ',', 'Kalam', 'published', 'autobiography', 'book', 'called', 'The', 'Wings', 'Fire', '.']\n",
      "['He', 'written', 'many', 'book', 'useful', 'people', 'every', 'generation', '.']\n"
     ]
    }
   ],
   "source": [
    "for i in range( len(sentences_copy) ):\n",
    "    \n",
    "    # list of words in the sentence\n",
    "    words = nltk.word_tokenize( sentences_copy[i] )\n",
    "    \n",
    "    # apply stemming and stop words\n",
    "    stemed_words = [ lemma.lemmatize(word) for word in words if word not in set( stop_words )]\n",
    "    \n",
    "    print(stemed_words)\n",
    "    \n",
    "    sentences_copy[i] = ' '.join(stemed_words) # join ll the words into sentences\n",
    "    "
   ]
  },
  {
   "cell_type": "code",
   "execution_count": 17,
   "id": "f61764c1-80ab-4cf8-880e-4ecff153f5e6",
   "metadata": {},
   "outputs": [
    {
     "data": {
      "text/plain": [
       "['Today , I deliver speech Dr APJ Abdul Kalam .',\n",
       " 'APJ Abdul Kalam born Jainulabdeen Ashiamma October 15 , 1931 .',\n",
       " 'His father boat owner mother homemaker .',\n",
       " \"His family 's economic situation strong , early age , began helping family financially .\",\n",
       " \"He graduated 1955 Madras Institute Technology graduated St. Joseph 's College , Tiruchirappalli , Aerospace Engineering .\",\n",
       " \"He joined Defense Research Development Organization 's ( DRDO ) Aeronautical Development Base Chief Scientist graduation .\",\n",
       " \"He credit Project Director-General making India 's first indigenous satellite ( SLV III ) rocket .\",\n",
       " 'It ultimate support brought nuclear power India .',\n",
       " 'In July 1992 , appointed Scientific Advisor Indian Ministry Defence .',\n",
       " 'As national counsellor , played significant role world-famous nuclear test Pokhran II .',\n",
       " \"In 1981 , awarded Padma Bhushan Award , 1909 Padma Vibhushan , 1997 highest civilian award India ' Bharat Ratna 'for modernizing defence technology India outstanding contribution .\",\n",
       " 'From July 25 , 2002 - July 25 , 2007 , served President India , becoming famous among Indians receiving lot attention Indian youth .',\n",
       " \"He became popular People 's President .\",\n",
       " 'Kalam worked professor , chancellor , assistant many institution leaving office .',\n",
       " 'He experienced serious cardiac arrest evening July 27 , 2015 , fell unconscious died 2 hour later .',\n",
       " 'In 1999 , Kalam published autobiography book called The Wings Fire .',\n",
       " 'He written many book useful people every generation .']"
      ]
     },
     "execution_count": 17,
     "metadata": {},
     "output_type": "execute_result"
    }
   ],
   "source": [
    "sentences_copy"
   ]
  },
  {
   "cell_type": "code",
   "execution_count": null,
   "id": "693b485e-621a-4a53-8a28-0f3b954e5684",
   "metadata": {},
   "outputs": [],
   "source": []
  }
 ],
 "metadata": {
  "kernelspec": {
   "display_name": "Python 3 (ipykernel)",
   "language": "python",
   "name": "python3"
  },
  "language_info": {
   "codemirror_mode": {
    "name": "ipython",
    "version": 3
   },
   "file_extension": ".py",
   "mimetype": "text/x-python",
   "name": "python",
   "nbconvert_exporter": "python",
   "pygments_lexer": "ipython3",
   "version": "3.12.4"
  }
 },
 "nbformat": 4,
 "nbformat_minor": 5
}
