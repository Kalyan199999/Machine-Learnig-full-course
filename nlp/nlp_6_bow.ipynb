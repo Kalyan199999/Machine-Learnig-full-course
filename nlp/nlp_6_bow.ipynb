{
 "cells": [
  {
   "cell_type": "markdown",
   "id": "9a9e25db-0eb2-497b-81a9-294220137f43",
   "metadata": {},
   "source": [
    "# Bag Of Words"
   ]
  },
  {
   "cell_type": "code",
   "execution_count": 1,
   "id": "b3328439-3f0c-42b0-a1a4-59d5144e309a",
   "metadata": {},
   "outputs": [],
   "source": [
    "import os"
   ]
  },
  {
   "cell_type": "code",
   "execution_count": 2,
   "id": "5358afce-062b-48cb-9e7d-014a9ab3eb0f",
   "metadata": {},
   "outputs": [],
   "source": [
    "import numpy as np\n",
    "import pandas as pd\n",
    "\n",
    "import warnings\n",
    "warnings.filterwarnings('ignore')"
   ]
  },
  {
   "cell_type": "code",
   "execution_count": null,
   "id": "7ae6f2aa-bc25-4546-ba96-a6ce6e9aafc0",
   "metadata": {},
   "outputs": [],
   "source": []
  },
  {
   "cell_type": "code",
   "execution_count": null,
   "id": "1b465de5-90b3-4a57-b1da-d9ba7e29d6bd",
   "metadata": {},
   "outputs": [],
   "source": []
  },
  {
   "cell_type": "code",
   "execution_count": 3,
   "id": "2c039760-9194-4a86-87b6-e2742ac7f26e",
   "metadata": {},
   "outputs": [],
   "source": [
    "path = '../All_data_sets/nlp/spam.csv'"
   ]
  },
  {
   "cell_type": "code",
   "execution_count": 4,
   "id": "6594af37-03ab-49d8-84b9-40f587f8e1c4",
   "metadata": {},
   "outputs": [
    {
     "data": {
      "text/html": [
       "<div>\n",
       "<style scoped>\n",
       "    .dataframe tbody tr th:only-of-type {\n",
       "        vertical-align: middle;\n",
       "    }\n",
       "\n",
       "    .dataframe tbody tr th {\n",
       "        vertical-align: top;\n",
       "    }\n",
       "\n",
       "    .dataframe thead th {\n",
       "        text-align: right;\n",
       "    }\n",
       "</style>\n",
       "<table border=\"1\" class=\"dataframe\">\n",
       "  <thead>\n",
       "    <tr style=\"text-align: right;\">\n",
       "      <th></th>\n",
       "      <th>target</th>\n",
       "      <th>text</th>\n",
       "      <th>0</th>\n",
       "      <th>1</th>\n",
       "      <th>2</th>\n",
       "    </tr>\n",
       "  </thead>\n",
       "  <tbody>\n",
       "    <tr>\n",
       "      <th>0</th>\n",
       "      <td>v1</td>\n",
       "      <td>v2</td>\n",
       "      <td>NaN</td>\n",
       "      <td>NaN</td>\n",
       "      <td>NaN</td>\n",
       "    </tr>\n",
       "    <tr>\n",
       "      <th>1</th>\n",
       "      <td>ham</td>\n",
       "      <td>Go until jurong point, crazy.. Available only ...</td>\n",
       "      <td>NaN</td>\n",
       "      <td>NaN</td>\n",
       "      <td>NaN</td>\n",
       "    </tr>\n",
       "    <tr>\n",
       "      <th>2</th>\n",
       "      <td>ham</td>\n",
       "      <td>Ok lar... Joking wif u oni...</td>\n",
       "      <td>NaN</td>\n",
       "      <td>NaN</td>\n",
       "      <td>NaN</td>\n",
       "    </tr>\n",
       "    <tr>\n",
       "      <th>3</th>\n",
       "      <td>spam</td>\n",
       "      <td>Free entry in 2 a wkly comp to win FA Cup fina...</td>\n",
       "      <td>NaN</td>\n",
       "      <td>NaN</td>\n",
       "      <td>NaN</td>\n",
       "    </tr>\n",
       "    <tr>\n",
       "      <th>4</th>\n",
       "      <td>ham</td>\n",
       "      <td>U dun say so early hor... U c already then say...</td>\n",
       "      <td>NaN</td>\n",
       "      <td>NaN</td>\n",
       "      <td>NaN</td>\n",
       "    </tr>\n",
       "  </tbody>\n",
       "</table>\n",
       "</div>"
      ],
      "text/plain": [
       "  target                                               text    0    1    2\n",
       "0     v1                                                 v2  NaN  NaN  NaN\n",
       "1    ham  Go until jurong point, crazy.. Available only ...  NaN  NaN  NaN\n",
       "2    ham                      Ok lar... Joking wif u oni...  NaN  NaN  NaN\n",
       "3   spam  Free entry in 2 a wkly comp to win FA Cup fina...  NaN  NaN  NaN\n",
       "4    ham  U dun say so early hor... U c already then say...  NaN  NaN  NaN"
      ]
     },
     "execution_count": 4,
     "metadata": {},
     "output_type": "execute_result"
    }
   ],
   "source": [
    "df = pd.read_csv( path , encoding='iso-8859-1' , names=['target' , 'text','0','1','2'] )\n",
    "df.head()"
   ]
  },
  {
   "cell_type": "code",
   "execution_count": 5,
   "id": "487b413e-cc60-4aa0-99e1-53e83e9a7392",
   "metadata": {},
   "outputs": [
    {
     "data": {
      "text/plain": [
       "(5573, 5)"
      ]
     },
     "execution_count": 5,
     "metadata": {},
     "output_type": "execute_result"
    }
   ],
   "source": [
    "df.shape"
   ]
  },
  {
   "cell_type": "code",
   "execution_count": 6,
   "id": "59df5d94-6f1d-4353-9b63-0940bc7e30d8",
   "metadata": {},
   "outputs": [
    {
     "data": {
      "text/plain": [
       "Index(['target', 'text', '0', '1', '2'], dtype='object')"
      ]
     },
     "execution_count": 6,
     "metadata": {},
     "output_type": "execute_result"
    }
   ],
   "source": [
    "df.columns"
   ]
  },
  {
   "cell_type": "code",
   "execution_count": null,
   "id": "ec183fbd-e986-45ac-83f3-94cd4b88352e",
   "metadata": {},
   "outputs": [],
   "source": []
  },
  {
   "cell_type": "code",
   "execution_count": 7,
   "id": "2ea17c0c-3422-4024-aad7-af078a122637",
   "metadata": {},
   "outputs": [],
   "source": [
    "drop_columns = ['0', '1', '2']"
   ]
  },
  {
   "cell_type": "code",
   "execution_count": 8,
   "id": "f77fa582-9897-4c8a-b394-4f792cc2a579",
   "metadata": {},
   "outputs": [],
   "source": [
    "df.drop(columns=drop_columns,inplace=True)"
   ]
  },
  {
   "cell_type": "code",
   "execution_count": 9,
   "id": "ca1f8fc0-a57b-44cb-a92f-47e709b2bb87",
   "metadata": {},
   "outputs": [
    {
     "data": {
      "text/html": [
       "<div>\n",
       "<style scoped>\n",
       "    .dataframe tbody tr th:only-of-type {\n",
       "        vertical-align: middle;\n",
       "    }\n",
       "\n",
       "    .dataframe tbody tr th {\n",
       "        vertical-align: top;\n",
       "    }\n",
       "\n",
       "    .dataframe thead th {\n",
       "        text-align: right;\n",
       "    }\n",
       "</style>\n",
       "<table border=\"1\" class=\"dataframe\">\n",
       "  <thead>\n",
       "    <tr style=\"text-align: right;\">\n",
       "      <th></th>\n",
       "      <th>target</th>\n",
       "      <th>text</th>\n",
       "    </tr>\n",
       "  </thead>\n",
       "  <tbody>\n",
       "    <tr>\n",
       "      <th>0</th>\n",
       "      <td>v1</td>\n",
       "      <td>v2</td>\n",
       "    </tr>\n",
       "    <tr>\n",
       "      <th>1</th>\n",
       "      <td>ham</td>\n",
       "      <td>Go until jurong point, crazy.. Available only ...</td>\n",
       "    </tr>\n",
       "    <tr>\n",
       "      <th>2</th>\n",
       "      <td>ham</td>\n",
       "      <td>Ok lar... Joking wif u oni...</td>\n",
       "    </tr>\n",
       "    <tr>\n",
       "      <th>3</th>\n",
       "      <td>spam</td>\n",
       "      <td>Free entry in 2 a wkly comp to win FA Cup fina...</td>\n",
       "    </tr>\n",
       "    <tr>\n",
       "      <th>4</th>\n",
       "      <td>ham</td>\n",
       "      <td>U dun say so early hor... U c already then say...</td>\n",
       "    </tr>\n",
       "    <tr>\n",
       "      <th>...</th>\n",
       "      <td>...</td>\n",
       "      <td>...</td>\n",
       "    </tr>\n",
       "    <tr>\n",
       "      <th>5568</th>\n",
       "      <td>spam</td>\n",
       "      <td>This is the 2nd time we have tried 2 contact u...</td>\n",
       "    </tr>\n",
       "    <tr>\n",
       "      <th>5569</th>\n",
       "      <td>ham</td>\n",
       "      <td>Will Ì_ b going to esplanade fr home?</td>\n",
       "    </tr>\n",
       "    <tr>\n",
       "      <th>5570</th>\n",
       "      <td>ham</td>\n",
       "      <td>Pity, * was in mood for that. So...any other s...</td>\n",
       "    </tr>\n",
       "    <tr>\n",
       "      <th>5571</th>\n",
       "      <td>ham</td>\n",
       "      <td>The guy did some bitching but I acted like i'd...</td>\n",
       "    </tr>\n",
       "    <tr>\n",
       "      <th>5572</th>\n",
       "      <td>ham</td>\n",
       "      <td>Rofl. Its true to its name</td>\n",
       "    </tr>\n",
       "  </tbody>\n",
       "</table>\n",
       "<p>5573 rows × 2 columns</p>\n",
       "</div>"
      ],
      "text/plain": [
       "     target                                               text\n",
       "0        v1                                                 v2\n",
       "1       ham  Go until jurong point, crazy.. Available only ...\n",
       "2       ham                      Ok lar... Joking wif u oni...\n",
       "3      spam  Free entry in 2 a wkly comp to win FA Cup fina...\n",
       "4       ham  U dun say so early hor... U c already then say...\n",
       "...     ...                                                ...\n",
       "5568   spam  This is the 2nd time we have tried 2 contact u...\n",
       "5569    ham              Will Ì_ b going to esplanade fr home?\n",
       "5570    ham  Pity, * was in mood for that. So...any other s...\n",
       "5571    ham  The guy did some bitching but I acted like i'd...\n",
       "5572    ham                         Rofl. Its true to its name\n",
       "\n",
       "[5573 rows x 2 columns]"
      ]
     },
     "execution_count": 9,
     "metadata": {},
     "output_type": "execute_result"
    }
   ],
   "source": [
    "df"
   ]
  },
  {
   "cell_type": "code",
   "execution_count": 10,
   "id": "d47fb6e2-5761-44af-a063-7b5fa91e9aa5",
   "metadata": {},
   "outputs": [
    {
     "data": {
      "text/html": [
       "<div>\n",
       "<style scoped>\n",
       "    .dataframe tbody tr th:only-of-type {\n",
       "        vertical-align: middle;\n",
       "    }\n",
       "\n",
       "    .dataframe tbody tr th {\n",
       "        vertical-align: top;\n",
       "    }\n",
       "\n",
       "    .dataframe thead th {\n",
       "        text-align: right;\n",
       "    }\n",
       "</style>\n",
       "<table border=\"1\" class=\"dataframe\">\n",
       "  <thead>\n",
       "    <tr style=\"text-align: right;\">\n",
       "      <th></th>\n",
       "      <th>target</th>\n",
       "      <th>text</th>\n",
       "    </tr>\n",
       "  </thead>\n",
       "  <tbody>\n",
       "    <tr>\n",
       "      <th>1</th>\n",
       "      <td>ham</td>\n",
       "      <td>Go until jurong point, crazy.. Available only ...</td>\n",
       "    </tr>\n",
       "    <tr>\n",
       "      <th>2</th>\n",
       "      <td>ham</td>\n",
       "      <td>Ok lar... Joking wif u oni...</td>\n",
       "    </tr>\n",
       "    <tr>\n",
       "      <th>3</th>\n",
       "      <td>spam</td>\n",
       "      <td>Free entry in 2 a wkly comp to win FA Cup fina...</td>\n",
       "    </tr>\n",
       "    <tr>\n",
       "      <th>4</th>\n",
       "      <td>ham</td>\n",
       "      <td>U dun say so early hor... U c already then say...</td>\n",
       "    </tr>\n",
       "    <tr>\n",
       "      <th>5</th>\n",
       "      <td>ham</td>\n",
       "      <td>Nah I don't think he goes to usf, he lives aro...</td>\n",
       "    </tr>\n",
       "    <tr>\n",
       "      <th>...</th>\n",
       "      <td>...</td>\n",
       "      <td>...</td>\n",
       "    </tr>\n",
       "    <tr>\n",
       "      <th>5568</th>\n",
       "      <td>spam</td>\n",
       "      <td>This is the 2nd time we have tried 2 contact u...</td>\n",
       "    </tr>\n",
       "    <tr>\n",
       "      <th>5569</th>\n",
       "      <td>ham</td>\n",
       "      <td>Will Ì_ b going to esplanade fr home?</td>\n",
       "    </tr>\n",
       "    <tr>\n",
       "      <th>5570</th>\n",
       "      <td>ham</td>\n",
       "      <td>Pity, * was in mood for that. So...any other s...</td>\n",
       "    </tr>\n",
       "    <tr>\n",
       "      <th>5571</th>\n",
       "      <td>ham</td>\n",
       "      <td>The guy did some bitching but I acted like i'd...</td>\n",
       "    </tr>\n",
       "    <tr>\n",
       "      <th>5572</th>\n",
       "      <td>ham</td>\n",
       "      <td>Rofl. Its true to its name</td>\n",
       "    </tr>\n",
       "  </tbody>\n",
       "</table>\n",
       "<p>5572 rows × 2 columns</p>\n",
       "</div>"
      ],
      "text/plain": [
       "     target                                               text\n",
       "1       ham  Go until jurong point, crazy.. Available only ...\n",
       "2       ham                      Ok lar... Joking wif u oni...\n",
       "3      spam  Free entry in 2 a wkly comp to win FA Cup fina...\n",
       "4       ham  U dun say so early hor... U c already then say...\n",
       "5       ham  Nah I don't think he goes to usf, he lives aro...\n",
       "...     ...                                                ...\n",
       "5568   spam  This is the 2nd time we have tried 2 contact u...\n",
       "5569    ham              Will Ì_ b going to esplanade fr home?\n",
       "5570    ham  Pity, * was in mood for that. So...any other s...\n",
       "5571    ham  The guy did some bitching but I acted like i'd...\n",
       "5572    ham                         Rofl. Its true to its name\n",
       "\n",
       "[5572 rows x 2 columns]"
      ]
     },
     "execution_count": 10,
     "metadata": {},
     "output_type": "execute_result"
    }
   ],
   "source": [
    "df = df.iloc[ 1: , 0: ]\n",
    "\n",
    "df"
   ]
  },
  {
   "cell_type": "code",
   "execution_count": null,
   "id": "68f4023c-161e-4146-8013-eea1920650a1",
   "metadata": {},
   "outputs": [],
   "source": []
  },
  {
   "cell_type": "markdown",
   "id": "5b590f3d-46ad-4fb9-bf46-407569d6d72d",
   "metadata": {},
   "source": [
    "### Data cleaning and preprocessing"
   ]
  },
  {
   "cell_type": "code",
   "execution_count": 11,
   "id": "4be99df4-7ccf-45ed-b11b-9887d6da1f42",
   "metadata": {},
   "outputs": [],
   "source": [
    "import nltk\n",
    "import re\n",
    "\n",
    "# remove the stop words\n",
    "from nltk.corpus import stopwords\n",
    "\n",
    "# reduce the words to its root word\n",
    "from nltk.stem.porter import PorterStemmer"
   ]
  },
  {
   "cell_type": "code",
   "execution_count": 12,
   "id": "17b66ad7-21ea-42a4-b4c2-9100861491f1",
   "metadata": {},
   "outputs": [],
   "source": [
    "ps = PorterStemmer()"
   ]
  },
  {
   "cell_type": "code",
   "execution_count": 13,
   "id": "2ce0008a-2d1d-4ffd-a8bc-6e4e24304cc0",
   "metadata": {},
   "outputs": [],
   "source": [
    "stop_words = stopwords.words('english')"
   ]
  },
  {
   "cell_type": "code",
   "execution_count": 14,
   "id": "28fa94e6-2250-412c-aca3-9f1fc9c84659",
   "metadata": {},
   "outputs": [],
   "source": [
    "def preprocessing( message ):\n",
    "\n",
    "    # take only the words\n",
    "    review = re.sub( '[^a-zA-Z]' , ' ' , message )\n",
    "\n",
    "    # lower case the words\n",
    "    review = review.lower()\n",
    "\n",
    "    # split the words into list\n",
    "    review = review.split()\n",
    "\n",
    "    # apply stop words and stemming\n",
    "    review = [ps.stem(word) for word in review if not word in set(stop_words)]\n",
    "\n",
    "    # join the words to form the sentence\n",
    "    review = ' '.join(review)\n",
    "    \n",
    "    # print(review)\n",
    "    \n",
    "    return review"
   ]
  },
  {
   "cell_type": "code",
   "execution_count": 15,
   "id": "4ad04732-85a6-439f-9ac7-411d20030050",
   "metadata": {},
   "outputs": [],
   "source": [
    "df['cleaned_text'] = df['text'].apply( lambda x:preprocessing(x) )"
   ]
  },
  {
   "cell_type": "code",
   "execution_count": 16,
   "id": "ad76c88d-546b-4f70-8361-feda7bbbc114",
   "metadata": {},
   "outputs": [
    {
     "data": {
      "text/html": [
       "<div>\n",
       "<style scoped>\n",
       "    .dataframe tbody tr th:only-of-type {\n",
       "        vertical-align: middle;\n",
       "    }\n",
       "\n",
       "    .dataframe tbody tr th {\n",
       "        vertical-align: top;\n",
       "    }\n",
       "\n",
       "    .dataframe thead th {\n",
       "        text-align: right;\n",
       "    }\n",
       "</style>\n",
       "<table border=\"1\" class=\"dataframe\">\n",
       "  <thead>\n",
       "    <tr style=\"text-align: right;\">\n",
       "      <th></th>\n",
       "      <th>target</th>\n",
       "      <th>text</th>\n",
       "      <th>cleaned_text</th>\n",
       "    </tr>\n",
       "  </thead>\n",
       "  <tbody>\n",
       "    <tr>\n",
       "      <th>1</th>\n",
       "      <td>ham</td>\n",
       "      <td>Go until jurong point, crazy.. Available only ...</td>\n",
       "      <td>go jurong point crazi avail bugi n great world...</td>\n",
       "    </tr>\n",
       "    <tr>\n",
       "      <th>2</th>\n",
       "      <td>ham</td>\n",
       "      <td>Ok lar... Joking wif u oni...</td>\n",
       "      <td>ok lar joke wif u oni</td>\n",
       "    </tr>\n",
       "    <tr>\n",
       "      <th>3</th>\n",
       "      <td>spam</td>\n",
       "      <td>Free entry in 2 a wkly comp to win FA Cup fina...</td>\n",
       "      <td>free entri wkli comp win fa cup final tkt st m...</td>\n",
       "    </tr>\n",
       "    <tr>\n",
       "      <th>4</th>\n",
       "      <td>ham</td>\n",
       "      <td>U dun say so early hor... U c already then say...</td>\n",
       "      <td>u dun say earli hor u c alreadi say</td>\n",
       "    </tr>\n",
       "    <tr>\n",
       "      <th>5</th>\n",
       "      <td>ham</td>\n",
       "      <td>Nah I don't think he goes to usf, he lives aro...</td>\n",
       "      <td>nah think goe usf live around though</td>\n",
       "    </tr>\n",
       "    <tr>\n",
       "      <th>...</th>\n",
       "      <td>...</td>\n",
       "      <td>...</td>\n",
       "      <td>...</td>\n",
       "    </tr>\n",
       "    <tr>\n",
       "      <th>5568</th>\n",
       "      <td>spam</td>\n",
       "      <td>This is the 2nd time we have tried 2 contact u...</td>\n",
       "      <td>nd time tri contact u u pound prize claim easi...</td>\n",
       "    </tr>\n",
       "    <tr>\n",
       "      <th>5569</th>\n",
       "      <td>ham</td>\n",
       "      <td>Will Ì_ b going to esplanade fr home?</td>\n",
       "      <td>b go esplanad fr home</td>\n",
       "    </tr>\n",
       "    <tr>\n",
       "      <th>5570</th>\n",
       "      <td>ham</td>\n",
       "      <td>Pity, * was in mood for that. So...any other s...</td>\n",
       "      <td>piti mood suggest</td>\n",
       "    </tr>\n",
       "    <tr>\n",
       "      <th>5571</th>\n",
       "      <td>ham</td>\n",
       "      <td>The guy did some bitching but I acted like i'd...</td>\n",
       "      <td>guy bitch act like interest buy someth els nex...</td>\n",
       "    </tr>\n",
       "    <tr>\n",
       "      <th>5572</th>\n",
       "      <td>ham</td>\n",
       "      <td>Rofl. Its true to its name</td>\n",
       "      <td>rofl true name</td>\n",
       "    </tr>\n",
       "  </tbody>\n",
       "</table>\n",
       "<p>5572 rows × 3 columns</p>\n",
       "</div>"
      ],
      "text/plain": [
       "     target                                               text  \\\n",
       "1       ham  Go until jurong point, crazy.. Available only ...   \n",
       "2       ham                      Ok lar... Joking wif u oni...   \n",
       "3      spam  Free entry in 2 a wkly comp to win FA Cup fina...   \n",
       "4       ham  U dun say so early hor... U c already then say...   \n",
       "5       ham  Nah I don't think he goes to usf, he lives aro...   \n",
       "...     ...                                                ...   \n",
       "5568   spam  This is the 2nd time we have tried 2 contact u...   \n",
       "5569    ham              Will Ì_ b going to esplanade fr home?   \n",
       "5570    ham  Pity, * was in mood for that. So...any other s...   \n",
       "5571    ham  The guy did some bitching but I acted like i'd...   \n",
       "5572    ham                         Rofl. Its true to its name   \n",
       "\n",
       "                                           cleaned_text  \n",
       "1     go jurong point crazi avail bugi n great world...  \n",
       "2                                 ok lar joke wif u oni  \n",
       "3     free entri wkli comp win fa cup final tkt st m...  \n",
       "4                   u dun say earli hor u c alreadi say  \n",
       "5                  nah think goe usf live around though  \n",
       "...                                                 ...  \n",
       "5568  nd time tri contact u u pound prize claim easi...  \n",
       "5569                              b go esplanad fr home  \n",
       "5570                                  piti mood suggest  \n",
       "5571  guy bitch act like interest buy someth els nex...  \n",
       "5572                                     rofl true name  \n",
       "\n",
       "[5572 rows x 3 columns]"
      ]
     },
     "execution_count": 16,
     "metadata": {},
     "output_type": "execute_result"
    }
   ],
   "source": [
    "df"
   ]
  },
  {
   "cell_type": "code",
   "execution_count": null,
   "id": "0c216081-4388-407d-aae5-ffe7f21172a2",
   "metadata": {},
   "outputs": [],
   "source": []
  },
  {
   "cell_type": "markdown",
   "id": "fc269579-0f0e-40b4-aab4-cc573c573479",
   "metadata": {},
   "source": [
    "# bag of Words "
   ]
  },
  {
   "cell_type": "code",
   "execution_count": 17,
   "id": "f37a688a-f692-43e7-850c-1ee94efa55d1",
   "metadata": {},
   "outputs": [],
   "source": [
    "from sklearn.feature_extraction.text import CountVectorizer\n",
    "\n",
    "cv = CountVectorizer( max_features=3000 )"
   ]
  },
  {
   "cell_type": "code",
   "execution_count": 18,
   "id": "c4a7df93-acd7-43bc-b5e8-30440e9ade49",
   "metadata": {},
   "outputs": [
    {
     "data": {
      "text/plain": [
       "(5572, 3000)"
      ]
     },
     "execution_count": 18,
     "metadata": {},
     "output_type": "execute_result"
    }
   ],
   "source": [
    "X = cv.fit_transform( df['cleaned_text'] ).toarray()\n",
    "\n",
    "X.shape"
   ]
  },
  {
   "cell_type": "code",
   "execution_count": null,
   "id": "660c8cbf-fe64-4c50-a429-8c1cae4c7748",
   "metadata": {},
   "outputs": [],
   "source": []
  },
  {
   "cell_type": "code",
   "execution_count": null,
   "id": "a10d3e0a-3347-425d-a853-8a0db1f00bcc",
   "metadata": {},
   "outputs": [],
   "source": []
  },
  {
   "cell_type": "code",
   "execution_count": 19,
   "id": "166660de-db19-4e5d-ae6e-c64915456650",
   "metadata": {},
   "outputs": [],
   "source": [
    "sentences = [\n",
    "    'Marry likes to watch movies',\n",
    "    'John likes movies too and john also likes to watch cricket',\n",
    "    'Marry likes to watch football',\n",
    "    'John like pizza',\n",
    "    'John also like biryani',\n",
    "    'But marry like only burgar',\n",
    "    'John do not like burgar',\n",
    "    \"I love this movie\",       \n",
    "    \"I hate this movie\",       \n",
    "    \"This movie is fantastic\"  \n",
    "]"
   ]
  },
  {
   "cell_type": "code",
   "execution_count": 20,
   "id": "ccefaaab-eabe-4735-b8ea-722247a01472",
   "metadata": {},
   "outputs": [],
   "source": [
    "cleaned_sentences = []\n",
    "\n",
    "for sent in sentences:\n",
    "    review = preprocessing( sent )\n",
    "    cleaned_sentences.append(review)"
   ]
  },
  {
   "cell_type": "code",
   "execution_count": 21,
   "id": "85db6264-f9a4-4938-ac8d-6e2f6bb025de",
   "metadata": {},
   "outputs": [
    {
     "data": {
      "text/plain": [
       "['marri like watch movi',\n",
       " 'john like movi john also like watch cricket',\n",
       " 'marri like watch footbal',\n",
       " 'john like pizza',\n",
       " 'john also like biryani',\n",
       " 'marri like burgar',\n",
       " 'john like burgar',\n",
       " 'love movi',\n",
       " 'hate movi',\n",
       " 'movi fantast']"
      ]
     },
     "execution_count": 21,
     "metadata": {},
     "output_type": "execute_result"
    }
   ],
   "source": [
    "cleaned_sentences"
   ]
  },
  {
   "cell_type": "code",
   "execution_count": 22,
   "id": "65aab3f3-041b-44fc-ba6c-51ac099a5593",
   "metadata": {},
   "outputs": [],
   "source": [
    "cv = CountVectorizer(max_features=100)"
   ]
  },
  {
   "cell_type": "code",
   "execution_count": 23,
   "id": "f6d86e93-e8af-427c-ad01-2a24c32a99c4",
   "metadata": {},
   "outputs": [
    {
     "data": {
      "text/plain": [
       "(10, 14)"
      ]
     },
     "execution_count": 23,
     "metadata": {},
     "output_type": "execute_result"
    }
   ],
   "source": [
    "X_vector = cv.fit_transform(cleaned_sentences).toarray()\n",
    "\n",
    "X_vector.shape"
   ]
  },
  {
   "cell_type": "code",
   "execution_count": 24,
   "id": "d570eacf-01ea-413e-be43-6169559d9cc9",
   "metadata": {},
   "outputs": [
    {
     "data": {
      "text/plain": [
       "array([[0, 0, 0, 0, 0, 0, 0, 0, 1, 0, 1, 1, 0, 1],\n",
       "       [1, 0, 0, 1, 0, 0, 0, 2, 2, 0, 0, 1, 0, 1],\n",
       "       [0, 0, 0, 0, 0, 1, 0, 0, 1, 0, 1, 0, 0, 1],\n",
       "       [0, 0, 0, 0, 0, 0, 0, 1, 1, 0, 0, 0, 1, 0],\n",
       "       [1, 1, 0, 0, 0, 0, 0, 1, 1, 0, 0, 0, 0, 0],\n",
       "       [0, 0, 1, 0, 0, 0, 0, 0, 1, 0, 1, 0, 0, 0],\n",
       "       [0, 0, 1, 0, 0, 0, 0, 1, 1, 0, 0, 0, 0, 0],\n",
       "       [0, 0, 0, 0, 0, 0, 0, 0, 0, 1, 0, 1, 0, 0],\n",
       "       [0, 0, 0, 0, 0, 0, 1, 0, 0, 0, 0, 1, 0, 0],\n",
       "       [0, 0, 0, 0, 1, 0, 0, 0, 0, 0, 0, 1, 0, 0]], dtype=int64)"
      ]
     },
     "execution_count": 24,
     "metadata": {},
     "output_type": "execute_result"
    }
   ],
   "source": [
    "X_vector"
   ]
  },
  {
   "cell_type": "code",
   "execution_count": 25,
   "id": "aee3daed-6aee-47c9-8bb3-ffafb27b3f36",
   "metadata": {},
   "outputs": [
    {
     "data": {
      "text/plain": [
       "{'marri': 10,\n",
       " 'like': 8,\n",
       " 'watch': 13,\n",
       " 'movi': 11,\n",
       " 'john': 7,\n",
       " 'also': 0,\n",
       " 'cricket': 3,\n",
       " 'footbal': 5,\n",
       " 'pizza': 12,\n",
       " 'biryani': 1,\n",
       " 'burgar': 2,\n",
       " 'love': 9,\n",
       " 'hate': 6,\n",
       " 'fantast': 4}"
      ]
     },
     "execution_count": 25,
     "metadata": {},
     "output_type": "execute_result"
    }
   ],
   "source": [
    "cv.vocabulary_"
   ]
  },
  {
   "cell_type": "code",
   "execution_count": 26,
   "id": "e4c7b708-fca4-4433-a2d4-91e18b29985d",
   "metadata": {},
   "outputs": [
    {
     "data": {
      "text/plain": [
       "array(['also', 'biryani', 'burgar', 'cricket', 'fantast', 'footbal',\n",
       "       'hate', 'john', 'like', 'love', 'marri', 'movi', 'pizza', 'watch'],\n",
       "      dtype=object)"
      ]
     },
     "execution_count": 26,
     "metadata": {},
     "output_type": "execute_result"
    }
   ],
   "source": [
    "cv.get_feature_names_out()"
   ]
  },
  {
   "cell_type": "code",
   "execution_count": null,
   "id": "24441bd0-81b5-4346-a0dc-3b4b2a67c820",
   "metadata": {},
   "outputs": [],
   "source": []
  },
  {
   "cell_type": "markdown",
   "id": "cc99698e-b237-44c1-bc32-b638accbaa69",
   "metadata": {},
   "source": [
    "# using n-grams"
   ]
  },
  {
   "cell_type": "code",
   "execution_count": 27,
   "id": "7fb15633-e868-43e5-bd87-6a9e2fb68641",
   "metadata": {},
   "outputs": [],
   "source": [
    "# ngram_range takes the combination m and n\n",
    "cv = CountVectorizer( max_features=100 , ngram_range=(2,3) )"
   ]
  },
  {
   "cell_type": "code",
   "execution_count": 28,
   "id": "8f936c6f-e3d6-4b3e-a04f-4fb0cf86356e",
   "metadata": {},
   "outputs": [
    {
     "data": {
      "text/plain": [
       "(10, 29)"
      ]
     },
     "execution_count": 28,
     "metadata": {},
     "output_type": "execute_result"
    }
   ],
   "source": [
    "X_vector = cv.fit_transform(cleaned_sentences).toarray()\n",
    "\n",
    "X_vector.shape"
   ]
  },
  {
   "cell_type": "code",
   "execution_count": 29,
   "id": "e08f08a8-d34b-4521-8732-3645c650dded",
   "metadata": {},
   "outputs": [
    {
     "data": {
      "text/plain": [
       "array(['also like', 'also like biryani', 'also like watch', 'hate movi',\n",
       "       'john also', 'john also like', 'john like', 'john like burgar',\n",
       "       'john like movi', 'john like pizza', 'like biryani', 'like burgar',\n",
       "       'like movi', 'like movi john', 'like pizza', 'like watch',\n",
       "       'like watch cricket', 'like watch footbal', 'like watch movi',\n",
       "       'love movi', 'marri like', 'marri like burgar', 'marri like watch',\n",
       "       'movi fantast', 'movi john', 'movi john also', 'watch cricket',\n",
       "       'watch footbal', 'watch movi'], dtype=object)"
      ]
     },
     "execution_count": 29,
     "metadata": {},
     "output_type": "execute_result"
    }
   ],
   "source": [
    "cv.get_feature_names_out()"
   ]
  },
  {
   "cell_type": "code",
   "execution_count": 30,
   "id": "06864d24-0386-43ff-8a25-907323d1c3c5",
   "metadata": {},
   "outputs": [
    {
     "data": {
      "text/plain": [
       "{'marri like': 20,\n",
       " 'like watch': 15,\n",
       " 'watch movi': 28,\n",
       " 'marri like watch': 22,\n",
       " 'like watch movi': 18,\n",
       " 'john like': 6,\n",
       " 'like movi': 12,\n",
       " 'movi john': 24,\n",
       " 'john also': 4,\n",
       " 'also like': 0,\n",
       " 'watch cricket': 26,\n",
       " 'john like movi': 8,\n",
       " 'like movi john': 13,\n",
       " 'movi john also': 25,\n",
       " 'john also like': 5,\n",
       " 'also like watch': 2,\n",
       " 'like watch cricket': 16,\n",
       " 'watch footbal': 27,\n",
       " 'like watch footbal': 17,\n",
       " 'like pizza': 14,\n",
       " 'john like pizza': 9,\n",
       " 'like biryani': 10,\n",
       " 'also like biryani': 1,\n",
       " 'like burgar': 11,\n",
       " 'marri like burgar': 21,\n",
       " 'john like burgar': 7,\n",
       " 'love movi': 19,\n",
       " 'hate movi': 3,\n",
       " 'movi fantast': 23}"
      ]
     },
     "execution_count": 30,
     "metadata": {},
     "output_type": "execute_result"
    }
   ],
   "source": [
    "cv.vocabulary_"
   ]
  },
  {
   "cell_type": "code",
   "execution_count": null,
   "id": "8b0b7f8e-4d7e-4ef4-bf2c-bb8253a8dc0d",
   "metadata": {},
   "outputs": [],
   "source": []
  },
  {
   "cell_type": "code",
   "execution_count": null,
   "id": "55a0d232-eb38-44b8-ab7c-9136b7c5014c",
   "metadata": {},
   "outputs": [],
   "source": []
  }
 ],
 "metadata": {
  "kernelspec": {
   "display_name": "Python 3 (ipykernel)",
   "language": "python",
   "name": "python3"
  },
  "language_info": {
   "codemirror_mode": {
    "name": "ipython",
    "version": 3
   },
   "file_extension": ".py",
   "mimetype": "text/x-python",
   "name": "python",
   "nbconvert_exporter": "python",
   "pygments_lexer": "ipython3",
   "version": "3.12.4"
  }
 },
 "nbformat": 4,
 "nbformat_minor": 5
}
