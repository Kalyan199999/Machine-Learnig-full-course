{
 "cells": [
  {
   "cell_type": "markdown",
   "id": "92c7ca49-845b-4b42-ac47-a9b5b9babe1c",
   "metadata": {},
   "source": [
    "# Tokenization"
   ]
  },
  {
   "cell_type": "code",
   "execution_count": null,
   "id": "64075835-8302-44c1-8ea2-cd2691402643",
   "metadata": {},
   "outputs": [],
   "source": []
  },
  {
   "cell_type": "code",
   "execution_count": 1,
   "id": "bd49ede2-5988-40b3-8dba-88300feab372",
   "metadata": {},
   "outputs": [],
   "source": [
    "import nltk"
   ]
  },
  {
   "cell_type": "code",
   "execution_count": 2,
   "id": "6a5ff77c-3974-4f49-a180-aead8808a3cc",
   "metadata": {},
   "outputs": [],
   "source": [
    "mycorpus = '''Hey hi I'M Kalyan! and I am an M.Tech graduate! I'M looking for a job in IT field.\n",
    "If you know any please refer.\n",
    "'''"
   ]
  },
  {
   "cell_type": "code",
   "execution_count": 3,
   "id": "71bdd82d-42f3-4e25-bfa3-3ed9aa15c736",
   "metadata": {},
   "outputs": [
    {
     "name": "stdout",
     "output_type": "stream",
     "text": [
      "Hey hi I'M Kalyan! and I am an M.Tech graduate! I'M looking for a job in IT field.\n",
      "If you know any please refer.\n",
      "\n"
     ]
    }
   ],
   "source": [
    "print(mycorpus)"
   ]
  },
  {
   "cell_type": "code",
   "execution_count": null,
   "id": "d4b692f5-fbeb-4464-82f8-adb9dd0e1e6f",
   "metadata": {},
   "outputs": [],
   "source": []
  },
  {
   "cell_type": "markdown",
   "id": "6d872fd3-f123-4d1e-8390-d9c4982342a6",
   "metadata": {},
   "source": [
    "### Paragraph into sentences"
   ]
  },
  {
   "cell_type": "code",
   "execution_count": 4,
   "id": "14049c31-f87f-494c-9ad8-f9e147fd044f",
   "metadata": {},
   "outputs": [],
   "source": [
    "from nltk.tokenize import sent_tokenize"
   ]
  },
  {
   "cell_type": "code",
   "execution_count": 5,
   "id": "7afe3e2c-f941-4cfd-91a1-262d0c473dda",
   "metadata": {},
   "outputs": [
    {
     "data": {
      "text/plain": [
       "[\"Hey hi I'M Kalyan!\",\n",
       " 'and I am an M.Tech graduate!',\n",
       " \"I'M looking for a job in IT field.\",\n",
       " 'If you know any please refer.']"
      ]
     },
     "execution_count": 5,
     "metadata": {},
     "output_type": "execute_result"
    }
   ],
   "source": [
    "sentences = sent_tokenize( mycorpus )\n",
    "\n",
    "sentences"
   ]
  },
  {
   "cell_type": "code",
   "execution_count": 6,
   "id": "d8077d80-6778-484e-956e-9094cdc21444",
   "metadata": {},
   "outputs": [
    {
     "data": {
      "text/plain": [
       "list"
      ]
     },
     "execution_count": 6,
     "metadata": {},
     "output_type": "execute_result"
    }
   ],
   "source": [
    "type(sentences)"
   ]
  },
  {
   "cell_type": "code",
   "execution_count": null,
   "id": "abd73a56-84cf-4bb2-be1e-0f51aefcf3c1",
   "metadata": {},
   "outputs": [],
   "source": []
  },
  {
   "cell_type": "markdown",
   "id": "a41117f3-993d-4653-a04a-300ac771adbe",
   "metadata": {},
   "source": [
    "### paragraph into words"
   ]
  },
  {
   "cell_type": "code",
   "execution_count": 7,
   "id": "819ab703-b912-4fa2-8764-e49c69df8e3c",
   "metadata": {},
   "outputs": [],
   "source": [
    "from nltk.tokenize import word_tokenize"
   ]
  },
  {
   "cell_type": "markdown",
   "id": "d3448d3d-267d-48fa-8036-dd786c3dee12",
   "metadata": {},
   "source": [
    "### puncutations are considered as a single word"
   ]
  },
  {
   "cell_type": "code",
   "execution_count": 8,
   "id": "b1bb7f18-3ce1-490e-9a31-2650c4b68675",
   "metadata": {
    "scrolled": true
   },
   "outputs": [
    {
     "data": {
      "text/plain": [
       "['Hey',\n",
       " 'hi',\n",
       " 'I',\n",
       " \"'M\",\n",
       " 'Kalyan',\n",
       " '!',\n",
       " 'and',\n",
       " 'I',\n",
       " 'am',\n",
       " 'an',\n",
       " 'M.Tech',\n",
       " 'graduate',\n",
       " '!',\n",
       " 'I',\n",
       " \"'M\",\n",
       " 'looking',\n",
       " 'for',\n",
       " 'a',\n",
       " 'job',\n",
       " 'in',\n",
       " 'IT',\n",
       " 'field',\n",
       " '.',\n",
       " 'If',\n",
       " 'you',\n",
       " 'know',\n",
       " 'any',\n",
       " 'please',\n",
       " 'refer',\n",
       " '.']"
      ]
     },
     "execution_count": 8,
     "metadata": {},
     "output_type": "execute_result"
    }
   ],
   "source": [
    "words = word_tokenize( mycorpus )\n",
    "\n",
    "words"
   ]
  },
  {
   "cell_type": "code",
   "execution_count": 9,
   "id": "81912e7c-e6db-49e0-8ba3-7dcc45c378db",
   "metadata": {},
   "outputs": [
    {
     "name": "stdout",
     "output_type": "stream",
     "text": [
      "['Hey', 'hi', 'I', \"'M\", 'Kalyan', '!']\n",
      "['and', 'I', 'am', 'an', 'M.Tech', 'graduate', '!']\n",
      "['I', \"'M\", 'looking', 'for', 'a', 'job', 'in', 'IT', 'field', '.']\n",
      "['If', 'you', 'know', 'any', 'please', 'refer', '.']\n"
     ]
    }
   ],
   "source": [
    "for sent in sentences:\n",
    "    sent_words = word_tokenize( sent )\n",
    "    print(sent_words)"
   ]
  },
  {
   "cell_type": "code",
   "execution_count": null,
   "id": "c62f9e0c-6666-40eb-87f8-daec1b7775f1",
   "metadata": {},
   "outputs": [],
   "source": []
  },
  {
   "cell_type": "code",
   "execution_count": 10,
   "id": "3836b27e-75d8-4f11-ab57-f199b3e45bd1",
   "metadata": {},
   "outputs": [],
   "source": [
    "from nltk.tokenize import wordpunct_tokenize"
   ]
  },
  {
   "cell_type": "markdown",
   "id": "7d723760-d089-42a7-9bda-72a182494d4c",
   "metadata": {},
   "source": [
    "### puncutations are considered as a different word"
   ]
  },
  {
   "cell_type": "code",
   "execution_count": 11,
   "id": "8e105b39-fad3-4aac-8a6e-e0105773147a",
   "metadata": {},
   "outputs": [
    {
     "data": {
      "text/plain": [
       "['Hey', 'hi', 'I', \"'M\", 'Kalyan', '!']"
      ]
     },
     "execution_count": 11,
     "metadata": {},
     "output_type": "execute_result"
    }
   ],
   "source": [
    "word_tokenize( sentences[0] )"
   ]
  },
  {
   "cell_type": "code",
   "execution_count": 12,
   "id": "b9dde070-fe6a-4346-a060-21452beada6f",
   "metadata": {},
   "outputs": [
    {
     "data": {
      "text/plain": [
       "['Hey', 'hi', 'I', \"'\", 'M', 'Kalyan', '!']"
      ]
     },
     "execution_count": 12,
     "metadata": {},
     "output_type": "execute_result"
    }
   ],
   "source": [
    "wordpunct_tokenize( sentences[0] )"
   ]
  },
  {
   "cell_type": "code",
   "execution_count": null,
   "id": "a5a8cbac-f971-4d41-bb41-81ba3e2c99e9",
   "metadata": {},
   "outputs": [],
   "source": []
  },
  {
   "cell_type": "code",
   "execution_count": 13,
   "id": "d359c6d2-55e9-4f15-ab23-f6fcc0d1c2fc",
   "metadata": {},
   "outputs": [],
   "source": [
    "from nltk.tokenize import TreebankWordTokenizer"
   ]
  },
  {
   "cell_type": "code",
   "execution_count": 14,
   "id": "f3b21e5c-032f-425d-a616-eab7f8af909a",
   "metadata": {},
   "outputs": [],
   "source": [
    "tokenizer = TreebankWordTokenizer(  )"
   ]
  },
  {
   "cell_type": "code",
   "execution_count": 15,
   "id": "3444d777-39a3-4303-a3e8-b555f37e0c97",
   "metadata": {},
   "outputs": [
    {
     "data": {
      "text/plain": [
       "['I', \"'M\", 'looking', 'for', 'a', 'job', 'in', 'IT', 'field', '.']"
      ]
     },
     "execution_count": 15,
     "metadata": {},
     "output_type": "execute_result"
    }
   ],
   "source": [
    "tokenizer.tokenize( sentences[2] )"
   ]
  },
  {
   "cell_type": "code",
   "execution_count": 16,
   "id": "07ca27b1-754f-43be-971f-7b793caafe53",
   "metadata": {
    "scrolled": true
   },
   "outputs": [
    {
     "data": {
      "text/plain": [
       "['Hey',\n",
       " 'hi',\n",
       " 'I',\n",
       " \"'M\",\n",
       " 'Kalyan',\n",
       " '!',\n",
       " 'and',\n",
       " 'I',\n",
       " 'am',\n",
       " 'an',\n",
       " 'M.Tech',\n",
       " 'graduate',\n",
       " '!',\n",
       " 'I',\n",
       " \"'M\",\n",
       " 'looking',\n",
       " 'for',\n",
       " 'a',\n",
       " 'job',\n",
       " 'in',\n",
       " 'IT',\n",
       " 'field.',\n",
       " 'If',\n",
       " 'you',\n",
       " 'know',\n",
       " 'any',\n",
       " 'please',\n",
       " 'refer',\n",
       " '.']"
      ]
     },
     "execution_count": 16,
     "metadata": {},
     "output_type": "execute_result"
    }
   ],
   "source": [
    "tokenizer.tokenize( mycorpus )"
   ]
  },
  {
   "cell_type": "code",
   "execution_count": null,
   "id": "db1cbc21-8852-40b0-bfb3-61350305a850",
   "metadata": {},
   "outputs": [],
   "source": []
  },
  {
   "cell_type": "code",
   "execution_count": null,
   "id": "5c3fff37-3881-4a3e-885b-5383bf0d35a6",
   "metadata": {},
   "outputs": [],
   "source": []
  }
 ],
 "metadata": {
  "kernelspec": {
   "display_name": "Python 3 (ipykernel)",
   "language": "python",
   "name": "python3"
  },
  "language_info": {
   "codemirror_mode": {
    "name": "ipython",
    "version": 3
   },
   "file_extension": ".py",
   "mimetype": "text/x-python",
   "name": "python",
   "nbconvert_exporter": "python",
   "pygments_lexer": "ipython3",
   "version": "3.12.4"
  }
 },
 "nbformat": 4,
 "nbformat_minor": 5
}
