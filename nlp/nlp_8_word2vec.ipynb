{
 "cells": [
  {
   "cell_type": "code",
   "execution_count": 1,
   "id": "f5acda4c-2742-486f-8fad-5eb73a416266",
   "metadata": {},
   "outputs": [],
   "source": [
    "# !pip install gensim"
   ]
  },
  {
   "cell_type": "code",
   "execution_count": 2,
   "id": "fc95e957-9fb0-45a0-bafb-89d861d89bb4",
   "metadata": {
    "scrolled": true
   },
   "outputs": [],
   "source": [
    "# !pip install --upgrade scipy gensim"
   ]
  },
  {
   "cell_type": "code",
   "execution_count": 3,
   "id": "8a7b262b-86b2-4f6a-8691-3e36cabf973f",
   "metadata": {},
   "outputs": [],
   "source": [
    "import gensim"
   ]
  },
  {
   "cell_type": "code",
   "execution_count": 4,
   "id": "8fb1a63e-64a1-4bdd-b21d-0bbb9dc58ac6",
   "metadata": {},
   "outputs": [],
   "source": [
    "from gensim.models import word2vec , keyedvectors , Word2Vec"
   ]
  },
  {
   "cell_type": "code",
   "execution_count": 5,
   "id": "f556b7da-4678-4d5a-8023-b52bfa0387a4",
   "metadata": {},
   "outputs": [],
   "source": [
    "import gensim.downloader as api"
   ]
  },
  {
   "cell_type": "code",
   "execution_count": 7,
   "id": "868974c3-7a81-4792-a93d-16403c4921b7",
   "metadata": {},
   "outputs": [],
   "source": [
    "# model = api.load('word2vec-google-news-300')"
   ]
  },
  {
   "cell_type": "code",
   "execution_count": null,
   "id": "db7e13e4-d565-4a4b-a89d-1fd3a5a66c46",
   "metadata": {},
   "outputs": [],
   "source": []
  },
  {
   "cell_type": "code",
   "execution_count": null,
   "id": "ee23d7b3-d23a-455b-bd86-7efc1c48142a",
   "metadata": {},
   "outputs": [],
   "source": []
  },
  {
   "cell_type": "code",
   "execution_count": null,
   "id": "2696653d-1ebc-4168-8f3b-ca8c2305ae60",
   "metadata": {},
   "outputs": [],
   "source": []
  },
  {
   "cell_type": "code",
   "execution_count": null,
   "id": "ccad15a5-4fc0-4051-b4bf-64356c3b8262",
   "metadata": {},
   "outputs": [],
   "source": []
  }
 ],
 "metadata": {
  "kernelspec": {
   "display_name": "Python 3 (ipykernel)",
   "language": "python",
   "name": "python3"
  },
  "language_info": {
   "codemirror_mode": {
    "name": "ipython",
    "version": 3
   },
   "file_extension": ".py",
   "mimetype": "text/x-python",
   "name": "python",
   "nbconvert_exporter": "python",
   "pygments_lexer": "ipython3",
   "version": "3.12.4"
  }
 },
 "nbformat": 4,
 "nbformat_minor": 5
}
