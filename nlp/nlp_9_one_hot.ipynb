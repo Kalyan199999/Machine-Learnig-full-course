{
 "cells": [
  {
   "cell_type": "code",
   "execution_count": 1,
   "id": "c8589f18-5a7a-41c8-9854-43507aee826d",
   "metadata": {},
   "outputs": [],
   "source": [
    "import numpy as np\n",
    "import pandas as pd\n",
    "\n",
    "import warnings\n",
    "warnings.filterwarnings('ignore')"
   ]
  },
  {
   "cell_type": "code",
   "execution_count": 2,
   "id": "92882cf3-fa48-45cc-86a1-20dcc8b0c29a",
   "metadata": {},
   "outputs": [],
   "source": [
    "sentences = [\n",
    "    \"The glass of juice\",\n",
    "    \"The glass of milk\",\n",
    "    \"I like to play cricket\",\n",
    "    \"Do you have pen\",\n",
    "    \"you are so funny man!\",\n",
    "    \"ilove you\",\n",
    "    \"The baby was fresh like a daisy\",\n",
    "    \"Her smile was like sunshine on a rainy day\",\n",
    "    'When we say something is as dark as coal we are using the known darkness of coal to emphasize how dark the night is'\n",
    "]"
   ]
  },
  {
   "cell_type": "code",
   "execution_count": 3,
   "id": "388439bf-7d7e-4bd7-9e9f-9f69fa5ceca6",
   "metadata": {},
   "outputs": [
    {
     "data": {
      "text/plain": [
       "['The glass of juice',\n",
       " 'The glass of milk',\n",
       " 'I like to play cricket',\n",
       " 'Do you have pen',\n",
       " 'you are so funny man!',\n",
       " 'ilove you',\n",
       " 'The baby was fresh like a daisy',\n",
       " 'Her smile was like sunshine on a rainy day',\n",
       " 'When we say something is as dark as coal we are using the known darkness of coal to emphasize how dark the night is']"
      ]
     },
     "execution_count": 3,
     "metadata": {},
     "output_type": "execute_result"
    }
   ],
   "source": [
    "sentences"
   ]
  },
  {
   "cell_type": "code",
   "execution_count": 4,
   "id": "de5ba13f-d372-488d-8de6-b652017ab060",
   "metadata": {},
   "outputs": [],
   "source": [
    "import nltk\n",
    "import re\n",
    "\n",
    "# remove the stop words\n",
    "from nltk.corpus import stopwords\n",
    "\n",
    "# reduce the words to its root word\n",
    "from nltk.stem.porter import PorterStemmer"
   ]
  },
  {
   "cell_type": "code",
   "execution_count": 5,
   "id": "1f9c911a-f0bb-408a-a6c8-7a52251542b1",
   "metadata": {},
   "outputs": [],
   "source": [
    "ps = PorterStemmer()"
   ]
  },
  {
   "cell_type": "code",
   "execution_count": 6,
   "id": "0cbc2a05-4ced-473b-aaaa-41bc81ac19e2",
   "metadata": {},
   "outputs": [
    {
     "data": {
      "text/plain": [
       "'the glass of juic'"
      ]
     },
     "execution_count": 6,
     "metadata": {},
     "output_type": "execute_result"
    }
   ],
   "source": [
    "ps.stem(sentences[0])"
   ]
  },
  {
   "cell_type": "code",
   "execution_count": null,
   "id": "7f5c0b15-d1eb-4d68-8453-8b8e1b6377e6",
   "metadata": {},
   "outputs": [],
   "source": []
  },
  {
   "cell_type": "code",
   "execution_count": 7,
   "id": "61aea68f-513a-46a6-ad31-b1f0050ff27b",
   "metadata": {},
   "outputs": [],
   "source": [
    " stop_words =  set( stopwords.words('english') )"
   ]
  },
  {
   "cell_type": "code",
   "execution_count": null,
   "id": "4000100a-c656-460b-8650-dfd70554bf92",
   "metadata": {},
   "outputs": [],
   "source": []
  },
  {
   "cell_type": "code",
   "execution_count": 8,
   "id": "87adde8c-98fb-4b8a-8506-66e9025ec59c",
   "metadata": {},
   "outputs": [],
   "source": [
    "def prprocessing( sent ) :\n",
    "    \n",
    "     # take only the words\n",
    "    sent = re.sub( '[^a-zA-Z]' , ' ' , sent )\n",
    "    \n",
    "    sent = sent.lower()\n",
    "\n",
    "    sent = sent.split()\n",
    "\n",
    "    sent = [ ps.stem(word) for word in sent if word not in stop_words ]\n",
    "\n",
    "     # join the words to form the sentence\n",
    "    sent = ' '.join(sent)\n",
    "    \n",
    "    return sent"
   ]
  },
  {
   "cell_type": "code",
   "execution_count": null,
   "id": "260adc18-1a05-45ad-98c2-237b317d7d2f",
   "metadata": {},
   "outputs": [],
   "source": []
  },
  {
   "cell_type": "code",
   "execution_count": 9,
   "id": "223c2fc2-03f1-4f97-890d-a8694acbce04",
   "metadata": {},
   "outputs": [],
   "source": [
    "stemed_sentences= [ prprocessing(sentences[i]) for i in range( 0 , len(sentences) ) ]"
   ]
  },
  {
   "cell_type": "code",
   "execution_count": 10,
   "id": "971172d7-a1d2-43dd-b5dc-b7c07fb141f0",
   "metadata": {},
   "outputs": [
    {
     "data": {
      "text/plain": [
       "['glass juic',\n",
       " 'glass milk',\n",
       " 'like play cricket',\n",
       " 'pen',\n",
       " 'funni man',\n",
       " 'ilov',\n",
       " 'babi fresh like daisi',\n",
       " 'smile like sunshin raini day',\n",
       " 'say someth dark coal use known dark coal emphas dark night']"
      ]
     },
     "execution_count": 10,
     "metadata": {},
     "output_type": "execute_result"
    }
   ],
   "source": [
    "stemed_sentences"
   ]
  },
  {
   "cell_type": "code",
   "execution_count": 11,
   "id": "0dff87b6-abba-403d-8cb3-333ee6b2cab0",
   "metadata": {},
   "outputs": [],
   "source": [
    "from sklearn.preprocessing import OneHotEncoder"
   ]
  },
  {
   "cell_type": "code",
   "execution_count": 12,
   "id": "dab0e416-cbbb-479e-bf01-6bc874bafa8a",
   "metadata": {},
   "outputs": [],
   "source": [
    "encoder = OneHotEncoder(sparse_output=False , dtype=np.int32)"
   ]
  },
  {
   "cell_type": "code",
   "execution_count": null,
   "id": "3fc417e6-c5e6-4252-8ba1-3fb4c5617598",
   "metadata": {},
   "outputs": [],
   "source": []
  },
  {
   "cell_type": "code",
   "execution_count": 13,
   "id": "bb34d51c-a114-4729-a229-5303aed841ab",
   "metadata": {},
   "outputs": [],
   "source": [
    "def transform(sent):\n",
    "    sent = sent.split()\n",
    "\n",
    "    sent = np.array( sent ).reshape(-1,1)\n",
    "\n",
    "    one_hot_data = encoder.fit_transform(sent)\n",
    "    \n",
    "    return one_hot_data"
   ]
  },
  {
   "cell_type": "code",
   "execution_count": null,
   "id": "9e961dc1-25c3-445b-8df3-f05a5d79f785",
   "metadata": {},
   "outputs": [],
   "source": []
  },
  {
   "cell_type": "code",
   "execution_count": 14,
   "id": "28e506ad-2e0e-4fe1-8d19-5fc8b2364e5e",
   "metadata": {},
   "outputs": [],
   "source": [
    "transformed_data = [ transform(sent) for sent in stemed_sentences ]"
   ]
  },
  {
   "cell_type": "code",
   "execution_count": 15,
   "id": "fa2ce521-8528-490a-bd14-d2b88a763d3f",
   "metadata": {},
   "outputs": [
    {
     "name": "stdout",
     "output_type": "stream",
     "text": [
      "[[1 0]\n",
      " [0 1]]\n",
      "\n",
      "[[1 0]\n",
      " [0 1]]\n",
      "\n",
      "[[0 1 0]\n",
      " [0 0 1]\n",
      " [1 0 0]]\n",
      "\n",
      "[[1]]\n",
      "\n",
      "[[1 0]\n",
      " [0 1]]\n",
      "\n",
      "[[1]]\n",
      "\n",
      "[[1 0 0 0]\n",
      " [0 0 1 0]\n",
      " [0 0 0 1]\n",
      " [0 1 0 0]]\n",
      "\n",
      "[[0 0 0 1 0]\n",
      " [0 1 0 0 0]\n",
      " [0 0 0 0 1]\n",
      " [0 0 1 0 0]\n",
      " [1 0 0 0 0]]\n",
      "\n",
      "[[0 0 0 0 0 1 0 0]\n",
      " [0 0 0 0 0 0 1 0]\n",
      " [0 1 0 0 0 0 0 0]\n",
      " [1 0 0 0 0 0 0 0]\n",
      " [0 0 0 0 0 0 0 1]\n",
      " [0 0 0 1 0 0 0 0]\n",
      " [0 1 0 0 0 0 0 0]\n",
      " [1 0 0 0 0 0 0 0]\n",
      " [0 0 1 0 0 0 0 0]\n",
      " [0 1 0 0 0 0 0 0]\n",
      " [0 0 0 0 1 0 0 0]]\n",
      "\n"
     ]
    }
   ],
   "source": [
    "for i in range(len(transformed_data)):\n",
    "    print(transformed_data[i])\n",
    "    print()"
   ]
  },
  {
   "cell_type": "code",
   "execution_count": 16,
   "id": "4da6ecda-7dd3-4451-aede-8af5553b0080",
   "metadata": {},
   "outputs": [
    {
     "data": {
      "text/plain": [
       "['say someth dark coal use known dark coal emphas dark night']"
      ]
     },
     "execution_count": 16,
     "metadata": {},
     "output_type": "execute_result"
    }
   ],
   "source": [
    "stemed_sentences[-1:]"
   ]
  },
  {
   "cell_type": "code",
   "execution_count": null,
   "id": "a2644b76-9471-4df4-9aed-5939b3bc492a",
   "metadata": {},
   "outputs": [],
   "source": []
  },
  {
   "cell_type": "markdown",
   "id": "d8bd4879-8878-4488-9eee-38a71ee655aa",
   "metadata": {},
   "source": [
    "## using the tensorflow"
   ]
  },
  {
   "cell_type": "code",
   "execution_count": 17,
   "id": "3abe453d-4dbf-4dae-b87d-53b291c69c11",
   "metadata": {},
   "outputs": [],
   "source": [
    "from tensorflow.keras.preprocessing.text import one_hot"
   ]
  },
  {
   "cell_type": "code",
   "execution_count": 18,
   "id": "0f158e4e-c097-48bc-a5df-0be2d3c22216",
   "metadata": {},
   "outputs": [],
   "source": [
    "vocab_size = 100"
   ]
  },
  {
   "cell_type": "code",
   "execution_count": 19,
   "id": "b5cfccd6-1ffb-4220-9ffa-fdde6bae4199",
   "metadata": {},
   "outputs": [
    {
     "data": {
      "text/plain": [
       "[[90, 58],\n",
       " [90, 46],\n",
       " [21, 13, 70],\n",
       " [73],\n",
       " [14, 20],\n",
       " [15],\n",
       " [14, 78, 21, 61],\n",
       " [93, 21, 12, 58, 5],\n",
       " [3, 17, 38, 58, 56, 57, 38, 58, 38, 38, 72]]"
      ]
     },
     "execution_count": 19,
     "metadata": {},
     "output_type": "execute_result"
    }
   ],
   "source": [
    "\n",
    "[ one_hot(sent , vocab_size) for sent in stemed_sentences ]"
   ]
  },
  {
   "cell_type": "code",
   "execution_count": null,
   "id": "2575d6ea-c2c4-466b-8d5f-e096f91ce80d",
   "metadata": {},
   "outputs": [],
   "source": []
  }
 ],
 "metadata": {
  "kernelspec": {
   "display_name": "Python 3 (ipykernel)",
   "language": "python",
   "name": "python3"
  },
  "language_info": {
   "codemirror_mode": {
    "name": "ipython",
    "version": 3
   },
   "file_extension": ".py",
   "mimetype": "text/x-python",
   "name": "python",
   "nbconvert_exporter": "python",
   "pygments_lexer": "ipython3",
   "version": "3.12.4"
  }
 },
 "nbformat": 4,
 "nbformat_minor": 5
}
