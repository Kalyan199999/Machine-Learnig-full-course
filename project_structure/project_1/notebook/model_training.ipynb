{
 "cells": [
  {
   "cell_type": "markdown",
   "id": "90ef4496-663f-4360-9e19-4a9359b497eb",
   "metadata": {},
   "source": [
    "### import all the necessary libraries"
   ]
  },
  {
   "cell_type": "code",
   "execution_count": 1,
   "id": "f201a833-daea-4858-ab1d-a5be414fb213",
   "metadata": {},
   "outputs": [],
   "source": [
    "import pandas as pd\n",
    "import numpy as np\n",
    "import matplotlib.pyplot as plt\n",
    "import seaborn as sns\n",
    "\n",
    "import warnings\n",
    "warnings.filterwarnings('ignore')\n",
    "\n",
    "%matplotlib inline"
   ]
  },
  {
   "cell_type": "code",
   "execution_count": 2,
   "id": "eca3b0ef-f05b-44e5-9a80-f3c603ea0444",
   "metadata": {},
   "outputs": [],
   "source": [
    "# !pip install catboost --default-timeout=1000"
   ]
  },
  {
   "cell_type": "code",
   "execution_count": null,
   "id": "5b87a921-f54c-4017-8ab9-902f9efdada3",
   "metadata": {},
   "outputs": [],
   "source": []
  },
  {
   "cell_type": "code",
   "execution_count": 3,
   "id": "3b967aad-6e37-4d27-8b05-8bd4b79e0e95",
   "metadata": {},
   "outputs": [],
   "source": [
    "from sklearn.metrics import mean_squared_error , r2_score,mean_absolute_error\n",
    "from sklearn.neighbors import KNeighborsRegressor\n",
    "from sklearn.tree import DecisionTreeRegressor\n",
    "from sklearn.ensemble import RandomForestRegressor , AdaBoostRegressor\n",
    "from sklearn.svm import SVR\n",
    "from sklearn.linear_model import LinearRegression , Lasso , Ridge\n",
    "from sklearn.model_selection import RandomizedSearchCV\n",
    "from xgboost import XGBRegressor\n",
    "from catboost import CatBoostRegressor"
   ]
  },
  {
   "cell_type": "code",
   "execution_count": 4,
   "id": "43ac2268-490f-45e3-810e-64e3c74cbc39",
   "metadata": {},
   "outputs": [],
   "source": [
    "from sklearn.preprocessing  import OneHotEncoder ,StandardScaler\n",
    "from sklearn.compose import ColumnTransformer"
   ]
  },
  {
   "cell_type": "code",
   "execution_count": null,
   "id": "6be36e02-255d-4255-b69b-557b8cb0336d",
   "metadata": {},
   "outputs": [],
   "source": []
  },
  {
   "cell_type": "code",
   "execution_count": null,
   "id": "28e5b55f-aef2-477e-9f15-86e063604eee",
   "metadata": {},
   "outputs": [],
   "source": []
  },
  {
   "cell_type": "code",
   "execution_count": 5,
   "id": "ac027a46-05cd-4ddf-9ba1-25aa644248b2",
   "metadata": {},
   "outputs": [
    {
     "data": {
      "text/html": [
       "<div>\n",
       "<style scoped>\n",
       "    .dataframe tbody tr th:only-of-type {\n",
       "        vertical-align: middle;\n",
       "    }\n",
       "\n",
       "    .dataframe tbody tr th {\n",
       "        vertical-align: top;\n",
       "    }\n",
       "\n",
       "    .dataframe thead th {\n",
       "        text-align: right;\n",
       "    }\n",
       "</style>\n",
       "<table border=\"1\" class=\"dataframe\">\n",
       "  <thead>\n",
       "    <tr style=\"text-align: right;\">\n",
       "      <th></th>\n",
       "      <th>gender</th>\n",
       "      <th>race/ethnicity</th>\n",
       "      <th>parental level of education</th>\n",
       "      <th>lunch</th>\n",
       "      <th>test preparation course</th>\n",
       "      <th>math score</th>\n",
       "      <th>reading score</th>\n",
       "      <th>writing score</th>\n",
       "    </tr>\n",
       "  </thead>\n",
       "  <tbody>\n",
       "    <tr>\n",
       "      <th>0</th>\n",
       "      <td>female</td>\n",
       "      <td>group B</td>\n",
       "      <td>bachelor's degree</td>\n",
       "      <td>standard</td>\n",
       "      <td>none</td>\n",
       "      <td>72</td>\n",
       "      <td>72</td>\n",
       "      <td>74</td>\n",
       "    </tr>\n",
       "    <tr>\n",
       "      <th>1</th>\n",
       "      <td>female</td>\n",
       "      <td>group C</td>\n",
       "      <td>some college</td>\n",
       "      <td>standard</td>\n",
       "      <td>completed</td>\n",
       "      <td>69</td>\n",
       "      <td>90</td>\n",
       "      <td>88</td>\n",
       "    </tr>\n",
       "    <tr>\n",
       "      <th>2</th>\n",
       "      <td>female</td>\n",
       "      <td>group B</td>\n",
       "      <td>master's degree</td>\n",
       "      <td>standard</td>\n",
       "      <td>none</td>\n",
       "      <td>90</td>\n",
       "      <td>95</td>\n",
       "      <td>93</td>\n",
       "    </tr>\n",
       "    <tr>\n",
       "      <th>3</th>\n",
       "      <td>male</td>\n",
       "      <td>group A</td>\n",
       "      <td>associate's degree</td>\n",
       "      <td>free/reduced</td>\n",
       "      <td>none</td>\n",
       "      <td>47</td>\n",
       "      <td>57</td>\n",
       "      <td>44</td>\n",
       "    </tr>\n",
       "    <tr>\n",
       "      <th>4</th>\n",
       "      <td>male</td>\n",
       "      <td>group C</td>\n",
       "      <td>some college</td>\n",
       "      <td>standard</td>\n",
       "      <td>none</td>\n",
       "      <td>76</td>\n",
       "      <td>78</td>\n",
       "      <td>75</td>\n",
       "    </tr>\n",
       "  </tbody>\n",
       "</table>\n",
       "</div>"
      ],
      "text/plain": [
       "   gender race/ethnicity parental level of education         lunch  \\\n",
       "0  female        group B           bachelor's degree      standard   \n",
       "1  female        group C                some college      standard   \n",
       "2  female        group B             master's degree      standard   \n",
       "3    male        group A          associate's degree  free/reduced   \n",
       "4    male        group C                some college      standard   \n",
       "\n",
       "  test preparation course  math score  reading score  writing score  \n",
       "0                    none          72             72             74  \n",
       "1               completed          69             90             88  \n",
       "2                    none          90             95             93  \n",
       "3                    none          47             57             44  \n",
       "4                    none          76             78             75  "
      ]
     },
     "execution_count": 5,
     "metadata": {},
     "output_type": "execute_result"
    }
   ],
   "source": [
    "path = '../../../All_data_sets/eda_dataset/StudentsPerformance.csv'\n",
    "\n",
    "df =pd.read_csv(path)\n",
    "\n",
    "df.head()"
   ]
  },
  {
   "cell_type": "code",
   "execution_count": null,
   "id": "3fd90ed2-3d67-4181-bc2a-46fa136ed9b3",
   "metadata": {},
   "outputs": [],
   "source": []
  },
  {
   "cell_type": "markdown",
   "id": "3bb09414-1393-4378-b1e6-4534365be48b",
   "metadata": {},
   "source": [
    "### seperate the dependent and independent columns"
   ]
  },
  {
   "cell_type": "code",
   "execution_count": 6,
   "id": "bd7e65a7-7bba-4727-bdcb-41b81f1f8823",
   "metadata": {},
   "outputs": [],
   "source": [
    "X = df.drop( columns='math score' )\n",
    "\n",
    "y = df['math score']"
   ]
  },
  {
   "cell_type": "code",
   "execution_count": 7,
   "id": "06f713de-49e2-471e-b8bb-4db5a476829e",
   "metadata": {},
   "outputs": [
    {
     "name": "stdout",
     "output_type": "stream",
     "text": [
      "<class 'pandas.core.frame.DataFrame'>\n",
      "RangeIndex: 1000 entries, 0 to 999\n",
      "Data columns (total 8 columns):\n",
      " #   Column                       Non-Null Count  Dtype \n",
      "---  ------                       --------------  ----- \n",
      " 0   gender                       1000 non-null   object\n",
      " 1   race/ethnicity               1000 non-null   object\n",
      " 2   parental level of education  1000 non-null   object\n",
      " 3   lunch                        1000 non-null   object\n",
      " 4   test preparation course      1000 non-null   object\n",
      " 5   math score                   1000 non-null   int64 \n",
      " 6   reading score                1000 non-null   int64 \n",
      " 7   writing score                1000 non-null   int64 \n",
      "dtypes: int64(3), object(5)\n",
      "memory usage: 62.6+ KB\n"
     ]
    }
   ],
   "source": [
    "df.info()"
   ]
  },
  {
   "cell_type": "code",
   "execution_count": null,
   "id": "f5a3b409-fbfb-4030-9219-a0ab176cbed4",
   "metadata": {},
   "outputs": [],
   "source": []
  },
  {
   "cell_type": "code",
   "execution_count": 8,
   "id": "be510909-0ff2-466e-b784-f6f0fc5edb01",
   "metadata": {},
   "outputs": [],
   "source": [
    "cat_cols = X.select_dtypes(include='object').columns\n",
    "num_cols = X.select_dtypes(exclude='object').columns"
   ]
  },
  {
   "cell_type": "code",
   "execution_count": 9,
   "id": "3b018361-8351-43e1-8480-f470997c4961",
   "metadata": {},
   "outputs": [],
   "source": [
    "scaler = StandardScaler()\n",
    "encoder = OneHotEncoder()"
   ]
  },
  {
   "cell_type": "code",
   "execution_count": 10,
   "id": "3e4ede60-5a25-493a-82da-27455d2d7bc4",
   "metadata": {},
   "outputs": [],
   "source": [
    "preprocessor = ColumnTransformer(\n",
    "    transformers=[\n",
    "        ('StandardScaler',scaler,num_cols),\n",
    "        ('OneHotEncoder',encoder,cat_cols),\n",
    "    ]\n",
    ")"
   ]
  },
  {
   "cell_type": "code",
   "execution_count": 11,
   "id": "0b087c3f-dc9f-4c9b-b817-5346b2d0a068",
   "metadata": {},
   "outputs": [],
   "source": [
    "X_transformed = preprocessor.fit_transform(X)"
   ]
  },
  {
   "cell_type": "code",
   "execution_count": 12,
   "id": "6abb06f3-54d9-4734-9c93-e6064b4c0ffc",
   "metadata": {},
   "outputs": [
    {
     "data": {
      "text/plain": [
       "(1000, 7)"
      ]
     },
     "execution_count": 12,
     "metadata": {},
     "output_type": "execute_result"
    }
   ],
   "source": [
    "X.shape"
   ]
  },
  {
   "cell_type": "code",
   "execution_count": 13,
   "id": "20620932-ec36-4462-bcb6-d84c7d8c3493",
   "metadata": {},
   "outputs": [
    {
     "data": {
      "text/plain": [
       "(1000, 19)"
      ]
     },
     "execution_count": 13,
     "metadata": {},
     "output_type": "execute_result"
    }
   ],
   "source": [
    "X_transformed.shape"
   ]
  },
  {
   "cell_type": "code",
   "execution_count": null,
   "id": "1cfe8b80-aa4c-45ad-9e94-3706970e19be",
   "metadata": {},
   "outputs": [],
   "source": []
  },
  {
   "cell_type": "markdown",
   "id": "40559502-278f-4ad5-aa5a-d33607576798",
   "metadata": {},
   "source": [
    "### train test split"
   ]
  },
  {
   "cell_type": "code",
   "execution_count": 14,
   "id": "ffbc6752-45ba-4947-9839-f1f194a4cd45",
   "metadata": {},
   "outputs": [],
   "source": [
    "from sklearn.model_selection import train_test_split"
   ]
  },
  {
   "cell_type": "code",
   "execution_count": 15,
   "id": "adb578a8-d2f8-463c-a53c-aecd15f33c65",
   "metadata": {},
   "outputs": [],
   "source": [
    "X_train, X_test, y_train, y_test = train_test_split( X_transformed, y, test_size=0.25, random_state=42 )"
   ]
  },
  {
   "cell_type": "code",
   "execution_count": null,
   "id": "94bb693f-1235-4a71-9058-ccc3a8c16936",
   "metadata": {},
   "outputs": [],
   "source": []
  },
  {
   "cell_type": "code",
   "execution_count": 16,
   "id": "c8647a15-621a-4214-a98e-aaa313cba759",
   "metadata": {},
   "outputs": [],
   "source": [
    "def evaluate(y_true , y_pred):\n",
    "    mae = mean_absolute_error(y_true,y_pred)\n",
    "    mse = mean_squared_error(y_true,y_pred)\n",
    "    r2 = r2_score(y_true,y_pred)\n",
    "    return mae,mse,r2"
   ]
  },
  {
   "cell_type": "code",
   "execution_count": null,
   "id": "5970f8b0-9340-4568-9c1f-3947b13acf80",
   "metadata": {},
   "outputs": [],
   "source": []
  },
  {
   "cell_type": "code",
   "execution_count": 17,
   "id": "c0a4cfaa-351d-4442-9b4a-063626f46a58",
   "metadata": {},
   "outputs": [],
   "source": [
    "models = {\n",
    "    \"LinearRegression\":LinearRegression(),\n",
    "    \"Lasso\": Lasso(),\n",
    "    \"Ridge\":Ridge(),\n",
    "    \"SVR\":SVR(),\n",
    "    # \"KNeighborsRegressor\":KNeighborsRegressor(),\n",
    "    \"DecisionTreeRegressor\":DecisionTreeRegressor(),\n",
    "    \"RandomForestRegressor\":RandomForestRegressor(),\n",
    "    \"AdaBoostRegressor\":AdaBoostRegressor(),\n",
    "    \"CatBoostRegressor\" : CatBoostRegressor(verbose=False)\n",
    "}"
   ]
  },
  {
   "cell_type": "code",
   "execution_count": 18,
   "id": "39e6fefd-3202-4c15-9547-985a0c80d734",
   "metadata": {},
   "outputs": [],
   "source": [
    "r2_score_list = []\n",
    "model_list = []"
   ]
  },
  {
   "cell_type": "code",
   "execution_count": 19,
   "id": "cfdc3570-7618-4057-baee-4d5288d3c3aa",
   "metadata": {},
   "outputs": [],
   "source": [
    "# !pip install --upgrade --force-reinstall numpy scikit-learn mkl"
   ]
  },
  {
   "cell_type": "code",
   "execution_count": 20,
   "id": "e36bbf80-3262-4be5-bc3a-01079eccc2f5",
   "metadata": {
    "scrolled": true
   },
   "outputs": [
    {
     "name": "stdout",
     "output_type": "stream",
     "text": [
      "Training LinearRegression...\n",
      "Training Results:\n",
      "Mean_absolue_erro:4.238267465725305  Mean_squred_error:28.06080423568467  R_2_score:0.8742732380399838\n",
      "--------------------------------------------------------------------------------------------\n",
      "Testing Results:\n",
      "Mean_absolue_erro:4.337930600167401  Mean_squred_error:30.05811462672032  R_2_score:0.8778243107659015\n",
      "--------------------------------------------------------------------------------------------\n",
      "=============================================================================================\n",
      "Training Lasso...\n",
      "Training Results:\n",
      "Mean_absolue_erro:5.183725467135435  Mean_squred_error:42.92215298860819  R_2_score:0.8076867909314052\n",
      "--------------------------------------------------------------------------------------------\n",
      "Testing Results:\n",
      "Mean_absolue_erro:5.2217044431408555  Mean_squred_error:44.27742512370272  R_2_score:0.8200278028352899\n",
      "--------------------------------------------------------------------------------------------\n",
      "=============================================================================================\n",
      "Training Ridge...\n",
      "Training Results:\n",
      "Mean_absolue_erro:4.236822709293621  Mean_squred_error:28.06418045343843  R_2_score:0.8742581108568038\n",
      "--------------------------------------------------------------------------------------------\n",
      "Testing Results:\n",
      "Mean_absolue_erro:4.335372419388228  Mean_squred_error:30.017315591232325  R_2_score:0.8779901445296866\n",
      "--------------------------------------------------------------------------------------------\n",
      "=============================================================================================\n",
      "Training SVR...\n",
      "Training Results:\n",
      "Mean_absolue_erro:4.912706240471043  Mean_squred_error:44.4268269716138  R_2_score:0.8009450815313517\n",
      "--------------------------------------------------------------------------------------------\n",
      "Testing Results:\n",
      "Mean_absolue_erro:5.6024205463774885  Mean_squred_error:67.966075594469  R_2_score:0.723741750491916\n",
      "--------------------------------------------------------------------------------------------\n",
      "=============================================================================================\n",
      "Training DecisionTreeRegressor...\n",
      "Training Results:\n",
      "Mean_absolue_erro:0.02  Mean_squred_error:0.08333333333333333  R_2_score:0.9996266240241963\n",
      "--------------------------------------------------------------------------------------------\n",
      "Testing Results:\n",
      "Mean_absolue_erro:6.0  Mean_squred_error:58.672  R_2_score:0.7615189066991336\n",
      "--------------------------------------------------------------------------------------------\n",
      "=============================================================================================\n",
      "Training RandomForestRegressor...\n",
      "Training Results:\n",
      "Mean_absolue_erro:1.80292  Mean_squred_error:5.214021629629629  R_2_score:0.9766385150341068\n",
      "--------------------------------------------------------------------------------------------\n",
      "Testing Results:\n",
      "Mean_absolue_erro:4.71879  Mean_squred_error:36.88890473611111  R_2_score:0.8500595457434673\n",
      "--------------------------------------------------------------------------------------------\n",
      "=============================================================================================\n",
      "Training AdaBoostRegressor...\n",
      "Training Results:\n",
      "Mean_absolue_erro:4.683573908402047  Mean_squred_error:33.17587143768875  R_2_score:0.851355119545788\n",
      "--------------------------------------------------------------------------------------------\n",
      "Testing Results:\n",
      "Mean_absolue_erro:4.836792489388424  Mean_squred_error:38.42790335158993  R_2_score:0.8438040563719117\n",
      "--------------------------------------------------------------------------------------------\n",
      "=============================================================================================\n",
      "Training CatBoostRegressor...\n",
      "Training Results:\n",
      "Mean_absolue_erro:2.322147793524523  Mean_squred_error:8.669745414090325  R_2_score:0.961155104152535\n",
      "--------------------------------------------------------------------------------------------\n",
      "Testing Results:\n",
      "Mean_absolue_erro:4.650802242582823  Mean_squred_error:35.71537891206022  R_2_score:0.8548295164541377\n",
      "--------------------------------------------------------------------------------------------\n",
      "=============================================================================================\n"
     ]
    }
   ],
   "source": [
    "for name, model in models.items():\n",
    "    \n",
    "    print(f\"Training {name}...\")\n",
    "    \n",
    "    model.fit(X_train, y_train)\n",
    "\n",
    "    # Predictions\n",
    "    y_train_pred = model.predict(X_train)\n",
    "    \n",
    "    y_test_pred = model.predict(X_test)\n",
    "\n",
    "    # Evaluate train\n",
    "    train_mae, train_mse, train_r2 = evaluate(y_train, y_train_pred)\n",
    "    \n",
    "    # Evaluate test\n",
    "    test_mae, test_mse, test_r2 = evaluate(y_test, y_test_pred)\n",
    "    \n",
    "    print(f'Training Results:')\n",
    "    print(f'Mean_absolue_erro:{train_mae}  Mean_squred_error:{train_mse}  R_2_score:{train_r2}')\n",
    "    print('--------------------------------------------------------------------------------------------')\n",
    "    \n",
    "    print(f'Testing Results:')\n",
    "    print(f'Mean_absolue_erro:{test_mae}  Mean_squred_error:{test_mse}  R_2_score:{test_r2}')\n",
    "    print('--------------------------------------------------------------------------------------------')\n",
    "\n",
    "    print(\"=============================================================================================\")\n",
    "    r2_score_list.append(test_r2)"
   ]
  },
  {
   "cell_type": "code",
   "execution_count": null,
   "id": "0a01ba24-c1f2-408f-9415-8ac8c7903618",
   "metadata": {},
   "outputs": [],
   "source": []
  },
  {
   "cell_type": "code",
   "execution_count": 21,
   "id": "6f07ede6-8b61-45b6-ae95-e35dd765e89d",
   "metadata": {},
   "outputs": [
    {
     "data": {
      "text/html": [
       "<div>\n",
       "<style scoped>\n",
       "    .dataframe tbody tr th:only-of-type {\n",
       "        vertical-align: middle;\n",
       "    }\n",
       "\n",
       "    .dataframe tbody tr th {\n",
       "        vertical-align: top;\n",
       "    }\n",
       "\n",
       "    .dataframe thead th {\n",
       "        text-align: right;\n",
       "    }\n",
       "</style>\n",
       "<table border=\"1\" class=\"dataframe\">\n",
       "  <thead>\n",
       "    <tr style=\"text-align: right;\">\n",
       "      <th></th>\n",
       "      <th>model</th>\n",
       "      <th>r2_score</th>\n",
       "    </tr>\n",
       "  </thead>\n",
       "  <tbody>\n",
       "    <tr>\n",
       "      <th>2</th>\n",
       "      <td>Ridge</td>\n",
       "      <td>0.877990</td>\n",
       "    </tr>\n",
       "    <tr>\n",
       "      <th>0</th>\n",
       "      <td>LinearRegression</td>\n",
       "      <td>0.877824</td>\n",
       "    </tr>\n",
       "    <tr>\n",
       "      <th>7</th>\n",
       "      <td>CatBoostRegressor</td>\n",
       "      <td>0.854830</td>\n",
       "    </tr>\n",
       "    <tr>\n",
       "      <th>5</th>\n",
       "      <td>RandomForestRegressor</td>\n",
       "      <td>0.850060</td>\n",
       "    </tr>\n",
       "    <tr>\n",
       "      <th>6</th>\n",
       "      <td>AdaBoostRegressor</td>\n",
       "      <td>0.843804</td>\n",
       "    </tr>\n",
       "    <tr>\n",
       "      <th>1</th>\n",
       "      <td>Lasso</td>\n",
       "      <td>0.820028</td>\n",
       "    </tr>\n",
       "    <tr>\n",
       "      <th>4</th>\n",
       "      <td>DecisionTreeRegressor</td>\n",
       "      <td>0.761519</td>\n",
       "    </tr>\n",
       "    <tr>\n",
       "      <th>3</th>\n",
       "      <td>SVR</td>\n",
       "      <td>0.723742</td>\n",
       "    </tr>\n",
       "  </tbody>\n",
       "</table>\n",
       "</div>"
      ],
      "text/plain": [
       "                   model  r2_score\n",
       "2                  Ridge  0.877990\n",
       "0       LinearRegression  0.877824\n",
       "7      CatBoostRegressor  0.854830\n",
       "5  RandomForestRegressor  0.850060\n",
       "6      AdaBoostRegressor  0.843804\n",
       "1                  Lasso  0.820028\n",
       "4  DecisionTreeRegressor  0.761519\n",
       "3                    SVR  0.723742"
      ]
     },
     "execution_count": 21,
     "metadata": {},
     "output_type": "execute_result"
    }
   ],
   "source": [
    "results = pd.DataFrame(\n",
    "    data = {\n",
    "        'model':models.keys(),\n",
    "        'r2_score':r2_score_list\n",
    "    }\n",
    ").sort_values(by='r2_score' , ascending=False)\n",
    "\n",
    "results"
   ]
  },
  {
   "cell_type": "code",
   "execution_count": 22,
   "id": "eabdf2fd-ca64-4427-b91c-27e69a497b84",
   "metadata": {},
   "outputs": [
    {
     "data": {
      "image/png": "[encoded data removed]",
      "text/plain": [
       "<Figure size 1500x500 with 1 Axes>"
      ]
     },
     "metadata": {},
     "output_type": "display_data"
    }
   ],
   "source": [
    "plt.figure(figsize=(15,5))\n",
    "plt.bar(results['model'], results['r2_score'])\n",
    "plt.xlabel('Model')\n",
    "plt.ylabel('R² Score')\n",
    "plt.xticks(rotation=45)   # rotate labels 45 degrees for readability\n",
    "plt.title(\"Model Comparison by R² Score\")\n",
    "plt.show()\n"
   ]
  },
  {
   "cell_type": "code",
   "execution_count": null,
   "id": "62eb6c10-3c69-4f3d-81b1-026d9fcba981",
   "metadata": {},
   "outputs": [],
   "source": []
  },
  {
   "cell_type": "code",
   "execution_count": null,
   "id": "e795fdf1-1895-4f3b-a32d-b5eb32bac3fa",
   "metadata": {},
   "outputs": [],
   "source": []
  }
 ],
 "metadata": {
  "kernelspec": {
   "display_name": ".venv (3.12.4)",
   "language": "python",
   "name": "python3"
  },
  "language_info": {
   "codemirror_mode": {
    "name": "ipython",
    "version": 3
   },
   "file_extension": ".py",
   "mimetype": "text/x-python",
   "name": "python",
   "nbconvert_exporter": "python",
   "pygments_lexer": "ipython3",
   "version": "3.12.4"
  }
 },
 "nbformat": 4,
 "nbformat_minor": 5
}
