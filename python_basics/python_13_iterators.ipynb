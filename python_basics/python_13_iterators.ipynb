{
 "cells": [
  {
   "cell_type": "code",
   "execution_count": null,
   "id": "2e951095-491e-4f47-8ac1-beeeed991dd5",
   "metadata": {},
   "outputs": [],
   "source": []
  },
  {
   "cell_type": "code",
   "execution_count": 1,
   "id": "df7577fc-9aef-4910-bcfd-6f688cc265cf",
   "metadata": {},
   "outputs": [],
   "source": [
    "my_list = [1,2,3,4,5,6,7]"
   ]
  },
  {
   "cell_type": "code",
   "execution_count": 2,
   "id": "f51395f7-1914-4901-bdc4-d6fc9979e0c4",
   "metadata": {},
   "outputs": [
    {
     "name": "stdout",
     "output_type": "stream",
     "text": [
      "[1, 2, 3, 4, 5, 6, 7]\n"
     ]
    }
   ],
   "source": [
    "print(my_list)"
   ]
  },
  {
   "cell_type": "code",
   "execution_count": null,
   "id": "30869abc-f171-442f-91ac-dc2bd754722a",
   "metadata": {},
   "outputs": [],
   "source": []
  },
  {
   "cell_type": "code",
   "execution_count": 3,
   "id": "9ec91452-66e4-47e5-a5fb-382a3c8cb862",
   "metadata": {},
   "outputs": [],
   "source": [
    "my_list_iterator = iter(my_list)"
   ]
  },
  {
   "cell_type": "code",
   "execution_count": 4,
   "id": "461c37c7-ad6c-4c35-89c7-87361dcf0ecd",
   "metadata": {},
   "outputs": [
    {
     "name": "stdout",
     "output_type": "stream",
     "text": [
      "<list_iterator object at 0x0000020D7B9F0490>\n"
     ]
    }
   ],
   "source": [
    "print(my_list_iterator)"
   ]
  },
  {
   "cell_type": "code",
   "execution_count": 5,
   "id": "6037d405-3d58-480c-9091-21ba5ec92824",
   "metadata": {},
   "outputs": [
    {
     "name": "stdout",
     "output_type": "stream",
     "text": [
      "<class 'list_iterator'>\n"
     ]
    }
   ],
   "source": [
    "print(type(my_list_iterator))"
   ]
  },
  {
   "cell_type": "code",
   "execution_count": null,
   "id": "fcf81e30-093b-4eec-8c6f-af192df72cac",
   "metadata": {},
   "outputs": [],
   "source": []
  },
  {
   "cell_type": "code",
   "execution_count": 8,
   "id": "13e13ba7-6910-4925-b16d-8654b5006784",
   "metadata": {},
   "outputs": [
    {
     "data": {
      "text/plain": [
       "2"
      ]
     },
     "execution_count": 8,
     "metadata": {},
     "output_type": "execute_result"
    }
   ],
   "source": [
    "next(my_list_iterator)"
   ]
  },
  {
   "cell_type": "code",
   "execution_count": 20,
   "id": "049bf130-b0a0-4ce3-9b4f-bb331c34c3ac",
   "metadata": {},
   "outputs": [
    {
     "name": "stdout",
     "output_type": "stream",
     "text": [
      "Stop executing the Iterator is out of bound!\n"
     ]
    }
   ],
   "source": [
    "# execute the cell multiple times\n",
    "\n",
    "try:\n",
    "    print(next(my_list_iterator))\n",
    "except StopIteration:\n",
    "    print('Stop executing the Iterator is out of bound!')"
   ]
  },
  {
   "cell_type": "code",
   "execution_count": null,
   "id": "dc85ec3e-e830-4b80-903b-ec809b0f2ca0",
   "metadata": {},
   "outputs": [],
   "source": []
  },
  {
   "cell_type": "code",
   "execution_count": null,
   "id": "3cedc4cf-e6c1-4ed4-a670-9b6d46a265cc",
   "metadata": {},
   "outputs": [],
   "source": []
  },
  {
   "cell_type": "code",
   "execution_count": null,
   "id": "02d1d42f-eec9-48e0-8cdc-97d67c5dce23",
   "metadata": {},
   "outputs": [],
   "source": []
  }
 ],
 "metadata": {
  "kernelspec": {
   "display_name": "Python 3 (ipykernel)",
   "language": "python",
   "name": "python3"
  },
  "language_info": {
   "codemirror_mode": {
    "name": "ipython",
    "version": 3
   },
   "file_extension": ".py",
   "mimetype": "text/x-python",
   "name": "python",
   "nbconvert_exporter": "python",
   "pygments_lexer": "ipython3",
   "version": "3.12.4"
  }
 },
 "nbformat": 4,
 "nbformat_minor": 5
}
