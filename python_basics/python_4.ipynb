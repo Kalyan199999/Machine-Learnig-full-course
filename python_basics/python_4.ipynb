{
 "cells": [
  {
   "cell_type": "markdown",
   "id": "e55d68f7-a625-47f5-9f60-6b508a63ee95",
   "metadata": {},
   "source": [
    "# Conditional Statements"
   ]
  },
  {
   "cell_type": "code",
   "execution_count": null,
   "id": "2e24dda1-ca91-43ae-aa1e-b0489f4116cc",
   "metadata": {},
   "outputs": [],
   "source": []
  },
  {
   "cell_type": "markdown",
   "id": "1c68952e-9a6a-4521-b330-b06094baba0e",
   "metadata": {},
   "source": [
    "# Simple if"
   ]
  },
  {
   "cell_type": "code",
   "execution_count": 1,
   "id": "3ff45334-14ac-4d4e-9a51-b1c415315f6b",
   "metadata": {},
   "outputs": [],
   "source": [
    "age = 18"
   ]
  },
  {
   "cell_type": "code",
   "execution_count": 3,
   "id": "96caab49-4a71-4e50-9053-954a81a77a26",
   "metadata": {},
   "outputs": [
    {
     "name": "stdout",
     "output_type": "stream",
     "text": [
      "Your are eligible to drive\n"
     ]
    }
   ],
   "source": [
    "if age >= 18:\n",
    "    print(\"Your are eligible to drive\")"
   ]
  },
  {
   "cell_type": "code",
   "execution_count": 4,
   "id": "59b548ca-91a8-42f4-9bb4-1343542072a4",
   "metadata": {},
   "outputs": [
    {
     "name": "stdout",
     "output_type": "stream",
     "text": [
      "Your are not eligible to drive\n"
     ]
    }
   ],
   "source": [
    "age = 15\n",
    "\n",
    "if age >= 18:\n",
    "    print(\"Your are eligible to drive\")\n",
    "else:\n",
    "    print(\"Your are not eligible to drive\")"
   ]
  },
  {
   "cell_type": "code",
   "execution_count": 7,
   "id": "e2f53757-706b-4968-8de3-f24dfbd43b3a",
   "metadata": {},
   "outputs": [
    {
     "name": "stdout",
     "output_type": "stream",
     "text": [
      "Your are MIDDLE age guy\n"
     ]
    }
   ],
   "source": [
    "age = 32\n",
    "\n",
    "if(age<=12):\n",
    "    print(\"Your are KID\")\n",
    "elif(age<=19):\n",
    "    print(\"Your are TEENAGER\")\n",
    "elif(age>19 and age < 45):\n",
    "    print(\"Your are MIDDLE age guy\")\n",
    "else:\n",
    "    print(\"Your are OLD\" )"
   ]
  },
  {
   "cell_type": "code",
   "execution_count": null,
   "id": "521be9ba-05eb-463d-908f-5cd119aa9aeb",
   "metadata": {},
   "outputs": [],
   "source": []
  },
  {
   "cell_type": "code",
   "execution_count": null,
   "id": "b2d30b1f-bbdd-4381-8e56-8e37bdf67b92",
   "metadata": {},
   "outputs": [],
   "source": []
  }
 ],
 "metadata": {
  "kernelspec": {
   "display_name": "Python 3 (ipykernel)",
   "language": "python",
   "name": "python3"
  },
  "language_info": {
   "codemirror_mode": {
    "name": "ipython",
    "version": 3
   },
   "file_extension": ".py",
   "mimetype": "text/x-python",
   "name": "python",
   "nbconvert_exporter": "python",
   "pygments_lexer": "ipython3",
   "version": "3.12.4"
  }
 },
 "nbformat": 4,
 "nbformat_minor": 5
}
