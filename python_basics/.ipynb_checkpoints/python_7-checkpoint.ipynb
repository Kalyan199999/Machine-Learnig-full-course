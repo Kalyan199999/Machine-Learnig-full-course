{
 "cells": [
  {
   "cell_type": "markdown",
   "id": "cd055ef5-3094-48ee-b828-ebf0630c7204",
   "metadata": {},
   "source": [
    "# Tuple"
   ]
  },
  {
   "cell_type": "code",
   "execution_count": null,
   "id": "5a0d746c-3c7c-4430-9bd1-22b6478ce867",
   "metadata": {},
   "outputs": [],
   "source": []
  },
  {
   "cell_type": "markdown",
   "id": "018a289a-6c5f-4a64-ad52-0fdeca54febe",
   "metadata": {},
   "source": [
    "### Def: Tuples are ordered collection items and it is immutable"
   ]
  },
  {
   "cell_type": "code",
   "execution_count": null,
   "id": "372224e4-33a9-4a40-b4d0-0f9a41d93bd3",
   "metadata": {},
   "outputs": [],
   "source": []
  },
  {
   "cell_type": "markdown",
   "id": "2120e1ce-f851-4cd7-ba68-1c05f386f55b",
   "metadata": {},
   "source": [
    "### creating the tuples"
   ]
  },
  {
   "cell_type": "code",
   "execution_count": 1,
   "id": "ab842265-bb6a-4706-b396-8fbabce9b4f6",
   "metadata": {},
   "outputs": [
    {
     "name": "stdout",
     "output_type": "stream",
     "text": [
      "()\n",
      "<class 'tuple'>\n"
     ]
    }
   ],
   "source": [
    "t1 = ()\n",
    "\n",
    "print(t1)\n",
    "print(type(t1))"
   ]
  },
  {
   "cell_type": "code",
   "execution_count": 2,
   "id": "ef66d700-a42c-4241-8318-3f9e8c56f900",
   "metadata": {},
   "outputs": [
    {
     "name": "stdout",
     "output_type": "stream",
     "text": [
      "()\n"
     ]
    }
   ],
   "source": [
    "t2 = tuple()\n",
    "\n",
    "print(t2)"
   ]
  },
  {
   "cell_type": "code",
   "execution_count": null,
   "id": "340c039f-5678-40ab-be41-622506c6904a",
   "metadata": {},
   "outputs": [],
   "source": []
  },
  {
   "cell_type": "code",
   "execution_count": 3,
   "id": "bda4f705-f187-45e1-bb50-f0d1fdd73ba4",
   "metadata": {},
   "outputs": [
    {
     "name": "stdout",
     "output_type": "stream",
     "text": [
      "(1, 2, 3, 4, 5, 6, 7, 8, 9, 10)\n",
      "<class 'tuple'>\n"
     ]
    }
   ],
   "source": [
    "numbers = tuple([1,2,3,4,5,6,7,8,9,10])\n",
    "print(numbers)\n",
    "print(type(numbers))"
   ]
  },
  {
   "cell_type": "code",
   "execution_count": null,
   "id": "8b9c962d-87e7-4747-a3a2-5b0fcf4d581b",
   "metadata": {},
   "outputs": [],
   "source": []
  },
  {
   "cell_type": "code",
   "execution_count": 4,
   "id": "7d6fa67d-e5c8-4a19-982d-4f1977f68e62",
   "metadata": {},
   "outputs": [
    {
     "name": "stdout",
     "output_type": "stream",
     "text": [
      "(19, 'Klayan', 'P', 72.97, True)\n",
      "<class 'tuple'>\n"
     ]
    }
   ],
   "source": [
    "mixed_tuple = (19,\"Klayan\",'P',72.97,True)\n",
    "\n",
    "print(mixed_tuple)\n",
    "print(type(mixed_tuple))"
   ]
  },
  {
   "cell_type": "code",
   "execution_count": null,
   "id": "89297aec-49ec-4bd2-a1cd-384c0dbd6d4e",
   "metadata": {},
   "outputs": [],
   "source": []
  },
  {
   "cell_type": "markdown",
   "id": "0ed81ee4-8063-4f8f-83e7-2e8902bd2037",
   "metadata": {},
   "source": [
    "### Accesing the tuple elements"
   ]
  },
  {
   "cell_type": "code",
   "execution_count": 5,
   "id": "c9fc190f-d310-4efd-91a0-c4e93f348069",
   "metadata": {},
   "outputs": [
    {
     "name": "stdout",
     "output_type": "stream",
     "text": [
      "1\n",
      "10\n"
     ]
    }
   ],
   "source": [
    "print(numbers[0])\n",
    "print(numbers[-1])"
   ]
  },
  {
   "cell_type": "code",
   "execution_count": 6,
   "id": "b32e9023-4273-459e-abdc-579228e3422a",
   "metadata": {},
   "outputs": [
    {
     "name": "stdout",
     "output_type": "stream",
     "text": [
      "(3, 4, 5)\n"
     ]
    }
   ],
   "source": [
    "print(numbers[2:5])"
   ]
  },
  {
   "cell_type": "code",
   "execution_count": null,
   "id": "4e22b7ae-eb1b-4bb3-949b-698c49320660",
   "metadata": {},
   "outputs": [],
   "source": []
  },
  {
   "cell_type": "markdown",
   "id": "63c4b05d-8bd0-44c5-ada6-37960e91649c",
   "metadata": {},
   "source": [
    "### Tuple Operations"
   ]
  },
  {
   "cell_type": "code",
   "execution_count": 7,
   "id": "56a69cf1-6ce6-47b4-854d-c38e54d448ca",
   "metadata": {},
   "outputs": [
    {
     "name": "stdout",
     "output_type": "stream",
     "text": [
      "(1, 2, 3, 4, 5, 6, 7, 8, 9, 10, 19, 'Klayan', 'P', 72.97, True)\n"
     ]
    }
   ],
   "source": [
    "concat = numbers + mixed_tuple\n",
    "print(concat)"
   ]
  },
  {
   "cell_type": "code",
   "execution_count": 8,
   "id": "8ef3230a-266c-4aee-9185-b21216a6fc64",
   "metadata": {},
   "outputs": [
    {
     "data": {
      "text/plain": [
       "(19, 'Klayan', 'P', 72.97, True)"
      ]
     },
     "execution_count": 8,
     "metadata": {},
     "output_type": "execute_result"
    }
   ],
   "source": [
    "mixed_tuple"
   ]
  },
  {
   "cell_type": "code",
   "execution_count": 9,
   "id": "8d8bff43-68ea-4ecf-a6f3-aa21b2185273",
   "metadata": {},
   "outputs": [
    {
     "name": "stdout",
     "output_type": "stream",
     "text": [
      "(19, 'Klayan', 'P', 72.97, True, 19, 'Klayan', 'P', 72.97, True, 19, 'Klayan', 'P', 72.97, True)\n"
     ]
    }
   ],
   "source": [
    "print(\n",
    "    mixed_tuple*3\n",
    ")"
   ]
  },
  {
   "cell_type": "code",
   "execution_count": null,
   "id": "6a8b8d27-8fdd-4d25-a75d-d344db09c84f",
   "metadata": {},
   "outputs": [],
   "source": []
  },
  {
   "cell_type": "markdown",
   "id": "eaf86880-10a5-4bff-8abc-95950096b218",
   "metadata": {},
   "source": [
    "### Tuples are immutable"
   ]
  },
  {
   "cell_type": "code",
   "execution_count": 10,
   "id": "a3b39d17-3519-409a-9243-4db630d1f9c4",
   "metadata": {},
   "outputs": [],
   "source": [
    "# numbers[2] = 100\n",
    "# print(numbers)"
   ]
  },
  {
   "cell_type": "code",
   "execution_count": null,
   "id": "1cf4581f-98f5-4418-aa47-f0f39a04e5ab",
   "metadata": {},
   "outputs": [],
   "source": []
  },
  {
   "cell_type": "code",
   "execution_count": 11,
   "id": "c79eae15-f2f0-452b-b97f-d1d72c432773",
   "metadata": {},
   "outputs": [],
   "source": [
    "import random"
   ]
  },
  {
   "cell_type": "code",
   "execution_count": 12,
   "id": "fa6cf773-774a-4821-8280-2b1f2a1a43e5",
   "metadata": {},
   "outputs": [
    {
     "data": {
      "text/plain": [
       "(14, 18, 9, 6, 6, 11, 11, 8, 20, 16, 8, 14, 17, 15, 11, 3, 10, 9, 12, 1, 7)"
      ]
     },
     "execution_count": 12,
     "metadata": {},
     "output_type": "execute_result"
    }
   ],
   "source": [
    "x = [ random.randint(1,20) for _ in range(0,21) ]\n",
    "\n",
    "numbers = tuple(x)\n",
    "\n",
    "numbers"
   ]
  },
  {
   "cell_type": "markdown",
   "id": "666fd46d-bc96-4317-9f90-0a1b425f9940",
   "metadata": {},
   "source": [
    "### tuples methods"
   ]
  },
  {
   "cell_type": "code",
   "execution_count": 13,
   "id": "c0eddfe8-38e3-492a-a66f-0d4fe2741d23",
   "metadata": {},
   "outputs": [
    {
     "name": "stdout",
     "output_type": "stream",
     "text": [
      "Count of a number: 0\n"
     ]
    }
   ],
   "source": [
    "print( \"Count of a number:\", numbers.count(5) )"
   ]
  },
  {
   "cell_type": "code",
   "execution_count": 14,
   "id": "d1a8440e-48e3-4699-857d-d71f4b93d6fe",
   "metadata": {},
   "outputs": [
    {
     "name": "stdout",
     "output_type": "stream",
     "text": [
      "Indecx of a element: 19\n"
     ]
    }
   ],
   "source": [
    "print( 'Indecx of a element:',numbers.index(1) )"
   ]
  },
  {
   "cell_type": "code",
   "execution_count": null,
   "id": "c2db21f1-1b9e-4e76-bc42-29b3bca0bac4",
   "metadata": {},
   "outputs": [],
   "source": []
  },
  {
   "cell_type": "markdown",
   "id": "e2b11d7e-eca3-4b21-8a26-dff9e749b1fc",
   "metadata": {},
   "source": [
    "### Packing and unpacking"
   ]
  },
  {
   "cell_type": "code",
   "execution_count": 15,
   "id": "e21e8aaf-5aef-45c3-91d6-723d2b443e90",
   "metadata": {},
   "outputs": [
    {
     "name": "stdout",
     "output_type": "stream",
     "text": [
      "(10, 20, 30, 'Pavan', True)\n"
     ]
    }
   ],
   "source": [
    "# Packing\n",
    "\n",
    "packed_elements = 10,20,30,\"Pavan\",True\n",
    "\n",
    "print(packed_elements)"
   ]
  },
  {
   "cell_type": "code",
   "execution_count": null,
   "id": "93cd3980-ba53-4f24-bab0-752c0967a4b2",
   "metadata": {},
   "outputs": [],
   "source": []
  },
  {
   "cell_type": "code",
   "execution_count": 16,
   "id": "3cdc0771-7d0e-42d0-8afc-7544e83088ef",
   "metadata": {},
   "outputs": [
    {
     "name": "stdout",
     "output_type": "stream",
     "text": [
      "10 20 30 40\n"
     ]
    }
   ],
   "source": [
    "# Un-packing\n",
    "\n",
    "a,b,c,d = 10,20,30,40\n",
    "\n",
    "print(a,b,c,d)"
   ]
  },
  {
   "cell_type": "code",
   "execution_count": null,
   "id": "4751bd65-a165-4b73-a82a-6f999948241c",
   "metadata": {},
   "outputs": [],
   "source": []
  },
  {
   "cell_type": "code",
   "execution_count": 17,
   "id": "9dcbfcc3-fdc1-476f-a491-362742d686a2",
   "metadata": {},
   "outputs": [
    {
     "name": "stdout",
     "output_type": "stream",
     "text": [
      "1\n",
      "[2, 3, 4, 5, 6, 7, 8, 9]\n",
      "10\n"
     ]
    }
   ],
   "source": [
    "numbers = (1,2,3,4,5,6,7,8,9,10)\n",
    "\n",
    "first , *middle , last = numbers\n",
    "\n",
    "print(first)\n",
    "print(middle)\n",
    "print(last)"
   ]
  },
  {
   "cell_type": "code",
   "execution_count": null,
   "id": "57415a94-1788-4058-9dc5-601ecd37ff94",
   "metadata": {},
   "outputs": [],
   "source": []
  },
  {
   "cell_type": "code",
   "execution_count": 18,
   "id": "4a2a12cc-29fa-40ec-9948-ba2ed1e1a25b",
   "metadata": {},
   "outputs": [
    {
     "name": "stdout",
     "output_type": "stream",
     "text": [
      "1\n",
      "2\n",
      "3\n",
      "4\n",
      "5\n",
      "6\n",
      "7\n",
      "8\n",
      "9\n",
      "10\n"
     ]
    }
   ],
   "source": [
    "for ele in numbers:\n",
    "    print(ele)"
   ]
  },
  {
   "cell_type": "markdown",
   "id": "3c43d565-0a4b-48e8-b121-58585d695fea",
   "metadata": {},
   "source": [
    "### nested tuples"
   ]
  },
  {
   "cell_type": "code",
   "execution_count": 19,
   "id": "bbdab666-5552-465d-bfb4-aa695c3f8c58",
   "metadata": {},
   "outputs": [
    {
     "data": {
      "text/plain": [
       "((1, 2, 3), (4, 5, 6), (7, 8, 9))"
      ]
     },
     "execution_count": 19,
     "metadata": {},
     "output_type": "execute_result"
    }
   ],
   "source": [
    "nested_tuples = (\n",
    "    (1,2,3),\n",
    "    (4,5,6),\n",
    "    (7,8,9)\n",
    ")\n",
    "\n",
    "nested_tuples"
   ]
  },
  {
   "cell_type": "code",
   "execution_count": 20,
   "id": "550ab762-347d-41ef-a077-5a471487797d",
   "metadata": {},
   "outputs": [
    {
     "data": {
      "text/plain": [
       "(4, 5)"
      ]
     },
     "execution_count": 20,
     "metadata": {},
     "output_type": "execute_result"
    }
   ],
   "source": [
    "nested_tuples[1][0:2]"
   ]
  },
  {
   "cell_type": "code",
   "execution_count": 21,
   "id": "6babf809-6852-4b9e-a008-39d444d29cba",
   "metadata": {},
   "outputs": [
    {
     "name": "stdout",
     "output_type": "stream",
     "text": [
      "1\n",
      "2\n",
      "3\n",
      "4\n",
      "5\n",
      "6\n",
      "7\n",
      "8\n",
      "9\n"
     ]
    }
   ],
   "source": [
    "for tup in nested_tuples:\n",
    "    for ele in tup:\n",
    "        print(ele)"
   ]
  },
  {
   "cell_type": "code",
   "execution_count": null,
   "id": "953faba9-41a0-4a2b-bceb-0975bd45fc15",
   "metadata": {},
   "outputs": [],
   "source": []
  }
 ],
 "metadata": {
  "kernelspec": {
   "display_name": "Python 3 (ipykernel)",
   "language": "python",
   "name": "python3"
  },
  "language_info": {
   "codemirror_mode": {
    "name": "ipython",
    "version": 3
   },
   "file_extension": ".py",
   "mimetype": "text/x-python",
   "name": "python",
   "nbconvert_exporter": "python",
   "pygments_lexer": "ipython3",
   "version": "3.12.4"
  }
 },
 "nbformat": 4,
 "nbformat_minor": 5
}
