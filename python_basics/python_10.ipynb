{
 "cells": [
  {
   "cell_type": "markdown",
   "id": "e30dff57-9b47-4ae7-9af3-63cb2d072117",
   "metadata": {},
   "source": [
    "# Function"
   ]
  },
  {
   "cell_type": "markdown",
   "id": "8ad56c4b-9365-4a1a-82cb-4e2096e06807",
   "metadata": {},
   "source": [
    "### It is a block to perform the particular task"
   ]
  },
  {
   "cell_type": "code",
   "execution_count": null,
   "id": "de231942-b4a5-4475-a5bb-2373866b70b1",
   "metadata": {},
   "outputs": [],
   "source": []
  },
  {
   "cell_type": "code",
   "execution_count": null,
   "id": "570393cd-059c-4e52-bd3b-1d92e2fc2399",
   "metadata": {},
   "outputs": [],
   "source": []
  },
  {
   "cell_type": "code",
   "execution_count": null,
   "id": "99682e20-9c3b-4610-92df-000c3a79ab7b",
   "metadata": {},
   "outputs": [],
   "source": []
  },
  {
   "cell_type": "code",
   "execution_count": null,
   "id": "484590ca-f5cf-43e2-bd16-96a0f2a3ec74",
   "metadata": {},
   "outputs": [],
   "source": []
  }
 ],
 "metadata": {
  "kernelspec": {
   "display_name": "Python 3 (ipykernel)",
   "language": "python",
   "name": "python3"
  },
  "language_info": {
   "codemirror_mode": {
    "name": "ipython",
    "version": 3
   },
   "file_extension": ".py",
   "mimetype": "text/x-python",
   "name": "python",
   "nbconvert_exporter": "python",
   "pygments_lexer": "ipython3",
   "version": "3.12.4"
  }
 },
 "nbformat": 4,
 "nbformat_minor": 5
}
