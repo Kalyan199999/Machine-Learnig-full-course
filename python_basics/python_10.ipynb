{
 "cells": [
  {
   "cell_type": "markdown",
   "id": "e30dff57-9b47-4ae7-9af3-63cb2d072117",
   "metadata": {},
   "source": [
    "# Function"
   ]
  },
  {
   "cell_type": "markdown",
   "id": "8ad56c4b-9365-4a1a-82cb-4e2096e06807",
   "metadata": {},
   "source": [
    "### It is a block to perform the particular task"
   ]
  },
  {
   "cell_type": "code",
   "execution_count": 1,
   "id": "de231942-b4a5-4475-a5bb-2373866b70b1",
   "metadata": {},
   "outputs": [],
   "source": [
    "def checkEven(number):\n",
    "    if( (number & 1) ==0 ):\n",
    "        print(f\"{number} is a Even\")\n",
    "    else:\n",
    "        print(f\"{number} is a Odd\")"
   ]
  },
  {
   "cell_type": "code",
   "execution_count": 2,
   "id": "682a0a4b-5bd6-4196-a810-8a43032d6d91",
   "metadata": {},
   "outputs": [
    {
     "name": "stdout",
     "output_type": "stream",
     "text": [
      "10 is a Even\n",
      "5 is a Odd\n"
     ]
    }
   ],
   "source": [
    "checkEven(10)\n",
    "checkEven(5)"
   ]
  },
  {
   "cell_type": "code",
   "execution_count": null,
   "id": "8332afcd-e069-4e1e-8eae-8320032a0a63",
   "metadata": {},
   "outputs": [],
   "source": []
  },
  {
   "cell_type": "code",
   "execution_count": 3,
   "id": "b6bb0749-306f-4a06-9760-803dca21e901",
   "metadata": {},
   "outputs": [],
   "source": [
    "def addition(a,b):\n",
    "    return a+b"
   ]
  },
  {
   "cell_type": "code",
   "execution_count": 4,
   "id": "ed759c10-a72d-4497-841c-bf27acdf792b",
   "metadata": {},
   "outputs": [
    {
     "name": "stdout",
     "output_type": "stream",
     "text": [
      "30\n"
     ]
    }
   ],
   "source": [
    " print( addition(10,20) ) "
   ]
  },
  {
   "cell_type": "code",
   "execution_count": null,
   "id": "b91108ea-9ece-44f9-9d29-79076e130c4c",
   "metadata": {},
   "outputs": [],
   "source": []
  },
  {
   "cell_type": "markdown",
   "id": "dc55d3a8-afa6-4bd2-adf2-4fdb7c7fdd4a",
   "metadata": {},
   "source": [
    "### Default Params"
   ]
  },
  {
   "cell_type": "code",
   "execution_count": 5,
   "id": "9781bee6-f3c1-4575-a3c3-574ac89e9092",
   "metadata": {},
   "outputs": [],
   "source": [
    "def greet(name='Guest'):\n",
    "    print(f'Hello {name},how are you!')"
   ]
  },
  {
   "cell_type": "code",
   "execution_count": 6,
   "id": "689f731f-360a-49f3-9705-43f0f686d617",
   "metadata": {},
   "outputs": [
    {
     "name": "stdout",
     "output_type": "stream",
     "text": [
      "Hello Kalyan,how are you!\n",
      "Hello Guest,how are you!\n"
     ]
    }
   ],
   "source": [
    "greet('Kalyan')\n",
    "greet()"
   ]
  },
  {
   "cell_type": "code",
   "execution_count": null,
   "id": "215b1980-863b-401f-8576-2203ad61cdcb",
   "metadata": {},
   "outputs": [],
   "source": []
  },
  {
   "cell_type": "markdown",
   "id": "1709b4b1-795c-4ee5-a035-b89b1b854407",
   "metadata": {},
   "source": [
    "### Variable length arguments\n",
    "### Positional and keywords arguments"
   ]
  },
  {
   "cell_type": "code",
   "execution_count": 7,
   "id": "365524bd-7dac-49e0-a7e1-abfc87c665e3",
   "metadata": {},
   "outputs": [],
   "source": [
    "def print_numbers(*args):\n",
    "    for num in args:\n",
    "        print(num)"
   ]
  },
  {
   "cell_type": "code",
   "execution_count": 8,
   "id": "505a03ee-3110-444a-b56b-db323e8afc22",
   "metadata": {},
   "outputs": [
    {
     "name": "stdout",
     "output_type": "stream",
     "text": [
      "1\n",
      "2\n",
      "3\n",
      "4\n",
      "5\n",
      "6\n",
      "7\n",
      "8\n",
      "9\n"
     ]
    }
   ],
   "source": [
    "print_numbers(1,2,3,4,5,6,7,8,9)"
   ]
  },
  {
   "cell_type": "code",
   "execution_count": 9,
   "id": "25bbe79f-96fc-4a03-a721-17e8b72fb8fe",
   "metadata": {},
   "outputs": [
    {
     "name": "stdout",
     "output_type": "stream",
     "text": [
      "1\n",
      "2\n",
      "3\n",
      "Pavan\n",
      "p\n"
     ]
    }
   ],
   "source": [
    "print_numbers(1,2,3,\"Pavan\",'p')"
   ]
  },
  {
   "cell_type": "code",
   "execution_count": null,
   "id": "ce8ec868-9553-4b4b-b5d6-9ac85d0227b6",
   "metadata": {},
   "outputs": [],
   "source": []
  },
  {
   "cell_type": "markdown",
   "id": "71fa0623-bd19-4688-85ca-e7b679b9e962",
   "metadata": {},
   "source": [
    "### Keyword arguments"
   ]
  },
  {
   "cell_type": "code",
   "execution_count": 10,
   "id": "8e784816-3b7a-46bd-a2c5-689f9e9c4246",
   "metadata": {},
   "outputs": [],
   "source": [
    "def print_details(**kwargs):\n",
    "    for key,value in kwargs.items():\n",
    "        print(f'{key }:{value}')"
   ]
  },
  {
   "cell_type": "code",
   "execution_count": 11,
   "id": "85a0ea44-12f3-4fb5-83f1-d42d2248be23",
   "metadata": {},
   "outputs": [
    {
     "name": "stdout",
     "output_type": "stream",
     "text": [
      "name:Pavan\n",
      "age:20\n",
      "dept:cse\n"
     ]
    }
   ],
   "source": [
    "print_details( name='Pavan' , age='20' , dept='cse' )"
   ]
  },
  {
   "cell_type": "code",
   "execution_count": null,
   "id": "31f9bc1c-bd21-4963-87a6-a513041769cf",
   "metadata": {},
   "outputs": [],
   "source": []
  },
  {
   "cell_type": "code",
   "execution_count": 12,
   "id": "cb413f1f-67ce-46d4-a33a-7d2b5e273682",
   "metadata": {},
   "outputs": [],
   "source": [
    "def print_args_kwargs(*args , **kwargs):\n",
    "\n",
    "    for num in args:\n",
    "        print(num)\n",
    "        \n",
    "    print()\n",
    "    \n",
    "    for key,value in kwargs.items():\n",
    "        print(f'{key }:{value}')"
   ]
  },
  {
   "cell_type": "code",
   "execution_count": 13,
   "id": "7598872a-63f3-4572-91bb-a5bde7f45785",
   "metadata": {},
   "outputs": [
    {
     "name": "stdout",
     "output_type": "stream",
     "text": [
      "1\n",
      "2\n",
      "3\n",
      "Pavan\n",
      "p\n",
      "\n",
      "name:Pavan\n",
      "age:20\n",
      "dept:cse\n"
     ]
    }
   ],
   "source": [
    "# Pass the info positional args first then followed by keyword args\n",
    "\n",
    "print_args_kwargs(1,2,3,\"Pavan\",'p' , name='Pavan' , age='20' , dept='cse')"
   ]
  },
  {
   "cell_type": "code",
   "execution_count": null,
   "id": "1d4d7247-185c-451d-8450-7778c4cf7293",
   "metadata": {},
   "outputs": [],
   "source": []
  },
  {
   "cell_type": "markdown",
   "id": "44b9501d-07c2-4124-9b91-018ad028f7a3",
   "metadata": {},
   "source": [
    "### Lambda function"
   ]
  },
  {
   "cell_type": "code",
   "execution_count": 14,
   "id": "521114a6-aed0-4cdf-b62a-5f39f6ef152a",
   "metadata": {},
   "outputs": [],
   "source": [
    "add = lambda a,b,c=10 : a+b+c"
   ]
  },
  {
   "cell_type": "code",
   "execution_count": 15,
   "id": "1bc03100-9bae-47f1-8732-c374e19d86ce",
   "metadata": {},
   "outputs": [
    {
     "name": "stdout",
     "output_type": "stream",
     "text": [
      "<class 'function'>\n"
     ]
    }
   ],
   "source": [
    "print( type(add) )"
   ]
  },
  {
   "cell_type": "code",
   "execution_count": 16,
   "id": "0a0534c4-c3be-40f1-8dee-beb2c84e0a44",
   "metadata": {},
   "outputs": [
    {
     "name": "stdout",
     "output_type": "stream",
     "text": [
      "25\n"
     ]
    }
   ],
   "source": [
    "print(add(5,10))"
   ]
  },
  {
   "cell_type": "code",
   "execution_count": 17,
   "id": "e9c86789-c1db-469d-be5e-43265f86ce0f",
   "metadata": {},
   "outputs": [
    {
     "name": "stdout",
     "output_type": "stream",
     "text": [
      "True\n"
     ]
    }
   ],
   "source": [
    "check_even = lambda number : number%2 ==0\n",
    "\n",
    "print(check_even(10))"
   ]
  },
  {
   "cell_type": "code",
   "execution_count": null,
   "id": "39b0bd8e-d2b1-4bfa-88b4-6bb48385bd55",
   "metadata": {},
   "outputs": [],
   "source": []
  },
  {
   "cell_type": "markdown",
   "id": "0b3c1262-7ecd-413b-a7da-c5ea11ad0241",
   "metadata": {},
   "source": [
    "### Map Function"
   ]
  },
  {
   "cell_type": "markdown",
   "id": "14fcd601-7ef9-4dbd-8921-88bd62901685",
   "metadata": {},
   "source": [
    "### It applies the given function to all items in an input list and returns an map object"
   ]
  },
  {
   "cell_type": "code",
   "execution_count": 18,
   "id": "54281e03-20c7-4b9b-828c-2361a5f8f594",
   "metadata": {},
   "outputs": [],
   "source": [
    "def squares(x):\n",
    "    return x**2"
   ]
  },
  {
   "cell_type": "code",
   "execution_count": 19,
   "id": "f6902546-356e-4aea-908b-deee6d8b26ff",
   "metadata": {},
   "outputs": [
    {
     "name": "stdout",
     "output_type": "stream",
     "text": [
      "25\n"
     ]
    }
   ],
   "source": [
    "print(squares(5))"
   ]
  },
  {
   "cell_type": "code",
   "execution_count": 20,
   "id": "26a3d4d6-6302-4f66-a4c8-6c2fcbbf85e8",
   "metadata": {},
   "outputs": [
    {
     "name": "stdout",
     "output_type": "stream",
     "text": [
      "[1, 4, 9, 16, 25, 36, 49, 64]\n"
     ]
    }
   ],
   "source": [
    "numbers = [1,2,3,4,5,6,7,8]\n",
    "\n",
    "all_squares = list( map(squares , numbers) )\n",
    "\n",
    "print(all_squares)"
   ]
  },
  {
   "cell_type": "code",
   "execution_count": 21,
   "id": "215e9749-1dd0-4163-bbc0-f124f70e8aa0",
   "metadata": {},
   "outputs": [
    {
     "name": "stdout",
     "output_type": "stream",
     "text": [
      "[7, 9, 11, 13, 15]\n"
     ]
    }
   ],
   "source": [
    "numbers_1 = [1,2,3,4,5]\n",
    "numbers_2 = [6,7,8,9,10]\n",
    "\n",
    "addition = list( map( lambda x,y:x+y , numbers_1,numbers_2 ) )\n",
    "\n",
    "print(addition)"
   ]
  },
  {
   "cell_type": "code",
   "execution_count": null,
   "id": "0bcf0d6a-0b7b-4cb5-a151-f95b4332f27c",
   "metadata": {},
   "outputs": [],
   "source": []
  },
  {
   "cell_type": "code",
   "execution_count": 22,
   "id": "48d6a9af-da27-41ca-bfb8-d33080f7eedc",
   "metadata": {},
   "outputs": [
    {
     "name": "stdout",
     "output_type": "stream",
     "text": [
      "['PAVAN', 'KALYAN', 'UMA', 'PRASAD']\n"
     ]
    }
   ],
   "source": [
    "names = ['pavan','kalyan','uma','prasad']\n",
    "\n",
    "uppercase_names = list( map( str.upper , names  ) )\n",
    "\n",
    "print(uppercase_names)"
   ]
  },
  {
   "cell_type": "code",
   "execution_count": null,
   "id": "35d1ca0a-4557-41c5-8038-6180590bb12b",
   "metadata": {},
   "outputs": [],
   "source": []
  },
  {
   "cell_type": "markdown",
   "id": "d697c41d-d88e-4cfd-bbaa-4071a367407b",
   "metadata": {},
   "source": [
    "### Filter functions"
   ]
  },
  {
   "cell_type": "code",
   "execution_count": 23,
   "id": "4bf1db3b-c535-4655-9899-70bee960b555",
   "metadata": {},
   "outputs": [],
   "source": [
    "def check_even(x):\n",
    "    return x%2 == 0"
   ]
  },
  {
   "cell_type": "code",
   "execution_count": null,
   "id": "613e55cc-1e06-442c-9b79-9c3dcf06e428",
   "metadata": {},
   "outputs": [],
   "source": []
  },
  {
   "cell_type": "code",
   "execution_count": 24,
   "id": "d6982104-823d-4376-a991-908adcc750bf",
   "metadata": {},
   "outputs": [
    {
     "name": "stdout",
     "output_type": "stream",
     "text": [
      "[2, 4, 6, 8, 10]\n"
     ]
    }
   ],
   "source": [
    "numbers = [1,2,3,4,5,6,7,8,9,10]\n",
    "\n",
    "\n",
    "even = list( filter(check_even,numbers) )\n",
    "print(even)"
   ]
  },
  {
   "cell_type": "code",
   "execution_count": null,
   "id": "d61689ac-adba-4451-86fd-f04e98acfe73",
   "metadata": {},
   "outputs": [],
   "source": []
  }
 ],
 "metadata": {
  "kernelspec": {
   "display_name": "Python 3 (ipykernel)",
   "language": "python",
   "name": "python3"
  },
  "language_info": {
   "codemirror_mode": {
    "name": "ipython",
    "version": 3
   },
   "file_extension": ".py",
   "mimetype": "text/x-python",
   "name": "python",
   "nbconvert_exporter": "python",
   "pygments_lexer": "ipython3",
   "version": "3.12.4"
  }
 },
 "nbformat": 4,
 "nbformat_minor": 5
}
