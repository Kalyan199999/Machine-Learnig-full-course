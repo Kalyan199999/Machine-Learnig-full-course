{
 "cells": [
  {
   "cell_type": "markdown",
   "id": "fa45788a-41f1-43e4-8a86-526940092d13",
   "metadata": {},
   "source": [
    "# Dictionary"
   ]
  },
  {
   "cell_type": "code",
   "execution_count": null,
   "id": "752e4ddb-01be-4c11-a432-dfadff96c04f",
   "metadata": {},
   "outputs": [],
   "source": []
  },
  {
   "cell_type": "markdown",
   "id": "4759ea3e-9617-45eb-a971-768854493123",
   "metadata": {},
   "source": [
    "### They are unordered collections of items and stored in key-value pairs.Keys are unique and immutable"
   ]
  },
  {
   "cell_type": "code",
   "execution_count": 1,
   "id": "3b3a986e-eae8-41db-9275-a4c4c4e2a09c",
   "metadata": {},
   "outputs": [
    {
     "name": "stdout",
     "output_type": "stream",
     "text": [
      "<class 'dict'>\n",
      "<class 'dict'>\n"
     ]
    }
   ],
   "source": [
    "d1 = {}\n",
    "\n",
    "d2 = dict()\n",
    "\n",
    "print(type(d1))\n",
    "\n",
    "print(type(d2))"
   ]
  },
  {
   "cell_type": "code",
   "execution_count": 2,
   "id": "2e84fcd9-badb-4a86-b828-bbfb78455115",
   "metadata": {},
   "outputs": [
    {
     "name": "stdout",
     "output_type": "stream",
     "text": [
      "{'name': 'kalyan', 'age': 25, 'dept': 'cse'}\n"
     ]
    }
   ],
   "source": [
    "student = {\n",
    "    'name':\"Pavan\",\n",
    "    'age' : 25,\n",
    "    'dept' : 'cse'\n",
    "}\n",
    "\n",
    "student['name'] = 'kalyan'\n",
    "\n",
    "print(student)"
   ]
  },
  {
   "cell_type": "code",
   "execution_count": 3,
   "id": "43052223-c344-447c-b138-af162795aeea",
   "metadata": {},
   "outputs": [
    {
     "name": "stdout",
     "output_type": "stream",
     "text": [
      "dict_keys(['name', 'age', 'dept'])\n",
      "dict_values(['kalyan', 25, 'cse'])\n",
      "dict_items([('name', 'kalyan'), ('age', 25), ('dept', 'cse')])\n"
     ]
    }
   ],
   "source": [
    "print(student.keys())\n",
    "print(student.values())\n",
    "print(student.items())"
   ]
  },
  {
   "cell_type": "code",
   "execution_count": 4,
   "id": "ba12ce0f-245d-4f84-8d3c-809349c9d288",
   "metadata": {},
   "outputs": [
    {
     "data": {
      "text/plain": [
       "'kalyan'"
      ]
     },
     "execution_count": 4,
     "metadata": {},
     "output_type": "execute_result"
    }
   ],
   "source": [
    "student['name']"
   ]
  },
  {
   "cell_type": "code",
   "execution_count": 5,
   "id": "65142b86-14df-4c27-8dfe-1555cdc23bd2",
   "metadata": {},
   "outputs": [
    {
     "name": "stdout",
     "output_type": "stream",
     "text": [
      "name kalyan\n",
      "age 25\n",
      "dept cse\n"
     ]
    }
   ],
   "source": [
    "# Accesing key and values\n",
    "for key in student.keys():\n",
    "    print(key , student.get(key))"
   ]
  },
  {
   "cell_type": "code",
   "execution_count": null,
   "id": "42d06d53-9dbf-4f7d-b3fe-7ea34d82b3ea",
   "metadata": {},
   "outputs": [],
   "source": []
  },
  {
   "cell_type": "code",
   "execution_count": 6,
   "id": "aa7303c8-8207-4109-bac1-3f167d7fd8ac",
   "metadata": {},
   "outputs": [
    {
     "name": "stdout",
     "output_type": "stream",
     "text": [
      "{1: 3, 2: 2, 3: 3, 5: 2, 7: 1}\n"
     ]
    }
   ],
   "source": [
    "l = [1,2,3,2,1,5,7,3,5,1,3]\n",
    "\n",
    "count = dict()\n",
    "\n",
    "for ele in l:\n",
    "    count[ele] = count.get(ele , 0)+1\n",
    "\n",
    "print(count)"
   ]
  },
  {
   "cell_type": "code",
   "execution_count": null,
   "id": "2d2a0ff2-b7b9-41b1-9a17-2167b0e474e3",
   "metadata": {},
   "outputs": [],
   "source": []
  },
  {
   "cell_type": "code",
   "execution_count": 7,
   "id": "24beab08-a878-4481-9b0a-3198a0e8436b",
   "metadata": {},
   "outputs": [
    {
     "name": "stdout",
     "output_type": "stream",
     "text": [
      "{'name': 'kalyan', 'age': 25, 'dept': 'cse'}\n",
      "{'name': 'kalyan', 'dept': 'cse'}\n"
     ]
    }
   ],
   "source": [
    "# Delete the item\n",
    "\n",
    "print(student)\n",
    "\n",
    "del student['age']\n",
    "\n",
    "print(student)"
   ]
  },
  {
   "cell_type": "code",
   "execution_count": null,
   "id": "ae8a48ab-59ff-48bc-8d8f-7255f621e407",
   "metadata": {},
   "outputs": [],
   "source": []
  },
  {
   "cell_type": "markdown",
   "id": "bf598eb0-5fe0-4d8c-8a20-d24f8d2e0d3a",
   "metadata": {},
   "source": [
    "### Nested Students"
   ]
  },
  {
   "cell_type": "code",
   "execution_count": 8,
   "id": "0156e5e5-3200-4d1e-9f45-cafc25f8450a",
   "metadata": {},
   "outputs": [
    {
     "name": "stdout",
     "output_type": "stream",
     "text": [
      "{'student_1': {'name': 'pavan', 'age': 25, 'dept': 'cse'}, 'student_2': {'name': 'kalyan', 'age': 26, 'dept': 'mech'}}\n"
     ]
    }
   ],
   "source": [
    "students = {\n",
    "    'student_1':{\n",
    "        'name':'pavan',\n",
    "        'age':25,\n",
    "        'dept':'cse'\n",
    "    },\n",
    "    'student_2':{\n",
    "        'name':'kalyan',\n",
    "        'age':26,\n",
    "        'dept':'mech'\n",
    "    }\n",
    "}\n",
    "\n",
    "print(students)"
   ]
  },
  {
   "cell_type": "code",
   "execution_count": 11,
   "id": "043f9497-3eee-49b4-b43d-93dc9947baa0",
   "metadata": {},
   "outputs": [
    {
     "name": "stdout",
     "output_type": "stream",
     "text": [
      "dict_keys(['student_1', 'student_2'])\n",
      "dict_values([{'name': 'pavan', 'age': 25, 'dept': 'cse'}, {'name': 'kalyan', 'age': 26, 'dept': 'mech'}])\n"
     ]
    }
   ],
   "source": [
    "print(students.keys())\n",
    "print(students.values())"
   ]
  },
  {
   "cell_type": "code",
   "execution_count": null,
   "id": "3481c004-0178-4041-b70a-81d28f768b7b",
   "metadata": {},
   "outputs": [],
   "source": []
  },
  {
   "cell_type": "markdown",
   "id": "3bd5619f-e5a4-47a7-8611-cf8310779e2d",
   "metadata": {},
   "source": [
    "### Accessing nested dict"
   ]
  },
  {
   "cell_type": "code",
   "execution_count": 14,
   "id": "d3e6981d-79be-426d-a749-622f3b9c5e11",
   "metadata": {},
   "outputs": [
    {
     "name": "stdout",
     "output_type": "stream",
     "text": [
      "pavan 25\n"
     ]
    }
   ],
   "source": [
    "print(\n",
    "    students['student_1']['name'],\n",
    "    students['student_1']['age']\n",
    ")"
   ]
  },
  {
   "cell_type": "code",
   "execution_count": 22,
   "id": "5cce76ef-e638-4ea7-9329-53d5b2f71338",
   "metadata": {},
   "outputs": [
    {
     "name": "stdout",
     "output_type": "stream",
     "text": [
      "name pavan\n",
      "age 25\n",
      "dept cse\n",
      "\n",
      "name kalyan\n",
      "age 26\n",
      "dept mech\n",
      "\n"
     ]
    }
   ],
   "source": [
    "for keys in students.keys():\n",
    "    \n",
    "    for key in students[keys]:\n",
    "        \n",
    "        print(key , students[keys][key])\n",
    "        \n",
    "    print()"
   ]
  },
  {
   "cell_type": "code",
   "execution_count": 25,
   "id": "4293f370-4c06-4d92-b614-7b628ba22a2d",
   "metadata": {},
   "outputs": [
    {
     "name": "stdout",
     "output_type": "stream",
     "text": [
      "student_1\n",
      "name pavan\n",
      "age 25\n",
      "dept cse\n",
      "\n",
      "student_2\n",
      "name kalyan\n",
      "age 26\n",
      "dept mech\n",
      "\n"
     ]
    }
   ],
   "source": [
    "for keys,values in students.items():\n",
    "    print(keys)\n",
    "    \n",
    "    for key,value in values.items():\n",
    "        print(key , value)\n",
    "        \n",
    "    print()"
   ]
  },
  {
   "cell_type": "code",
   "execution_count": null,
   "id": "1c847c3c-d4ae-48da-86ac-5da070863b82",
   "metadata": {},
   "outputs": [],
   "source": []
  },
  {
   "cell_type": "markdown",
   "id": "95ac8483-62c0-4360-99a2-d79e9c2a6961",
   "metadata": {},
   "source": [
    "### Dictionary comphresion"
   ]
  },
  {
   "cell_type": "code",
   "execution_count": 26,
   "id": "31bdb711-3789-4c55-bc56-870f18af1a97",
   "metadata": {},
   "outputs": [
    {
     "name": "stdout",
     "output_type": "stream",
     "text": [
      "{0: 0, 1: 1, 2: 4, 3: 9, 4: 16, 5: 25}\n"
     ]
    }
   ],
   "source": [
    "squares = { x:x**2 for x in range(0,6) }\n",
    "\n",
    "print(squares)"
   ]
  },
  {
   "cell_type": "code",
   "execution_count": 28,
   "id": "ad0ffcaa-81f9-4d53-b3d1-822dc8209d48",
   "metadata": {},
   "outputs": [
    {
     "name": "stdout",
     "output_type": "stream",
     "text": [
      "{0: 0, 2: 4, 4: 16, 6: 36, 8: 64, 10: 100}\n"
     ]
    }
   ],
   "source": [
    "squares = { x:x**2 for x in range(0,11) if( x%2 ) == 0 }\n",
    "\n",
    "print(squares)"
   ]
  },
  {
   "cell_type": "code",
   "execution_count": null,
   "id": "80f8a2e6-9eea-4c53-b764-b6c0b427269a",
   "metadata": {},
   "outputs": [],
   "source": []
  }
 ],
 "metadata": {
  "kernelspec": {
   "display_name": "Python 3 (ipykernel)",
   "language": "python",
   "name": "python3"
  },
  "language_info": {
   "codemirror_mode": {
    "name": "ipython",
    "version": 3
   },
   "file_extension": ".py",
   "mimetype": "text/x-python",
   "name": "python",
   "nbconvert_exporter": "python",
   "pygments_lexer": "ipython3",
   "version": "3.12.4"
  }
 },
 "nbformat": 4,
 "nbformat_minor": 5
}
