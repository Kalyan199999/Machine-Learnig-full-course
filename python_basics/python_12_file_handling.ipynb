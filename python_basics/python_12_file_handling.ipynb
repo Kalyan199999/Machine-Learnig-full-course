{
 "cells": [
  {
   "cell_type": "markdown",
   "id": "b3b032f6-22ae-4cbf-aeb5-5d4069c0bdd0",
   "metadata": {},
   "source": [
    "# File Handling"
   ]
  },
  {
   "cell_type": "code",
   "execution_count": null,
   "id": "37f6343e-1fae-459e-b7a5-aa6c6191faa4",
   "metadata": {},
   "outputs": [],
   "source": []
  },
  {
   "cell_type": "code",
   "execution_count": 3,
   "id": "45bf742f-3d9f-43da-b7ac-7df2e4f4b3ec",
   "metadata": {},
   "outputs": [
    {
     "name": "stdout",
     "output_type": "stream",
     "text": [
      "Who are you?\n",
      "Where are yo from?\n",
      "How are you?\n",
      "What is your name?\n",
      "How is your health?\n"
     ]
    }
   ],
   "source": [
    "with open('./packages/example.txt',mode='r') as file:\n",
    "\n",
    "    content = file.read()\n",
    "    \n",
    "    print( content )"
   ]
  },
  {
   "cell_type": "code",
   "execution_count": null,
   "id": "8ec51a38-5d23-4b90-99ac-cc02e452c256",
   "metadata": {},
   "outputs": [],
   "source": []
  },
  {
   "cell_type": "markdown",
   "id": "5d036a0d-0886-4630-98ec-fb7fe7c83f7f",
   "metadata": {},
   "source": [
    "### Read a file line by line"
   ]
  },
  {
   "cell_type": "code",
   "execution_count": 5,
   "id": "17066e18-85f9-49cf-a53e-db523e5ca177",
   "metadata": {},
   "outputs": [
    {
     "name": "stdout",
     "output_type": "stream",
     "text": [
      "Who are you?\n",
      "Where are yo from?\n",
      "How are you?\n",
      "What is your name?\n",
      "How is your health?\n"
     ]
    }
   ],
   "source": [
    "with open('./packages/example.txt',mode='r') as file:\n",
    "\n",
    "    for line in file:\n",
    "        print(line.strip())\n",
    "        # strip --> remove new line space "
   ]
  },
  {
   "cell_type": "code",
   "execution_count": null,
   "id": "9d739b42-6262-4bb4-b0e7-7bc85ce7574b",
   "metadata": {},
   "outputs": [],
   "source": []
  },
  {
   "cell_type": "markdown",
   "id": "4e49c7a2-3caa-4bc0-9683-c98ef9d6f011",
   "metadata": {},
   "source": [
    "### overwrite the file"
   ]
  },
  {
   "cell_type": "code",
   "execution_count": 7,
   "id": "dfeef8f1-9bd8-4019-8bff-488bb836b83c",
   "metadata": {},
   "outputs": [],
   "source": [
    "with open('./packages/example.txt',mode='w') as file:\n",
    "\n",
    "   file.write(\"Hello!I'M Kalyan\\n\")\n",
    "   file.write('This is a new line!')"
   ]
  },
  {
   "cell_type": "code",
   "execution_count": null,
   "id": "f58aa839-2140-4fd5-959d-92a60b8fe5ae",
   "metadata": {},
   "outputs": [],
   "source": []
  },
  {
   "cell_type": "code",
   "execution_count": null,
   "id": "36ab7d7b-a5fd-4548-b480-81252161528b",
   "metadata": {},
   "outputs": [],
   "source": []
  },
  {
   "cell_type": "markdown",
   "id": "07060b2d-0189-4989-a2a4-6613dcc2018e",
   "metadata": {},
   "source": [
    "### write the file without overwriting"
   ]
  },
  {
   "cell_type": "code",
   "execution_count": 9,
   "id": "b6ed2c89-cf1f-4e03-949b-20dd74a73e07",
   "metadata": {},
   "outputs": [],
   "source": [
    "with open('./packages/example.txt',mode='a') as file:\n",
    "\n",
    "   file.write(\"\\nThis is new appended line!\")"
   ]
  },
  {
   "cell_type": "code",
   "execution_count": null,
   "id": "c3cf6ed3-268b-4b86-9cec-f968934d187c",
   "metadata": {},
   "outputs": [],
   "source": []
  },
  {
   "cell_type": "markdown",
   "id": "02aaf47b-90bf-44b1-81df-6e135861b779",
   "metadata": {},
   "source": [
    "### writing multiple lines"
   ]
  },
  {
   "cell_type": "code",
   "execution_count": 12,
   "id": "835d81df-f6bc-4de9-b523-7ee993a2d600",
   "metadata": {},
   "outputs": [],
   "source": [
    "lines = ['\\nFirst line' , '\\nSecond line','\\nThird line']"
   ]
  },
  {
   "cell_type": "code",
   "execution_count": 13,
   "id": "25ed1ec4-1ea9-45c1-aee4-a1e2cf6b0502",
   "metadata": {},
   "outputs": [],
   "source": [
    "with open('./packages/example.txt',mode='a') as file:\n",
    "\n",
    "   file.writelines(lines)"
   ]
  },
  {
   "cell_type": "code",
   "execution_count": null,
   "id": "078ba05b-cebe-4968-9b9b-b874b205d56e",
   "metadata": {},
   "outputs": [],
   "source": []
  },
  {
   "cell_type": "markdown",
   "id": "a219d426-93ae-4b86-beb7-5ac6f0a32659",
   "metadata": {},
   "source": [
    "### read from source file and write it in the destination file"
   ]
  },
  {
   "cell_type": "code",
   "execution_count": 15,
   "id": "4f658dee-6b6b-4ca4-9bc3-a663b878e318",
   "metadata": {},
   "outputs": [],
   "source": [
    "with open('./packages/example.txt',mode='r') as source_file:\n",
    "\n",
    "   content = source_file.read()\n",
    "\n",
    "with open('./packages/destination.txt',mode='w') as dest_file:\n",
    "    dest_file.write(content)\n"
   ]
  },
  {
   "cell_type": "code",
   "execution_count": null,
   "id": "9c968880-b936-489c-bdf5-8f3d499b9dc0",
   "metadata": {},
   "outputs": [],
   "source": []
  },
  {
   "cell_type": "code",
   "execution_count": null,
   "id": "9d048dae-a95a-4236-9668-39d4f23d9f58",
   "metadata": {},
   "outputs": [],
   "source": []
  },
  {
   "cell_type": "code",
   "execution_count": null,
   "id": "3a64cf59-04af-46a5-82a7-6771771ef55e",
   "metadata": {},
   "outputs": [],
   "source": []
  },
  {
   "cell_type": "code",
   "execution_count": null,
   "id": "f17ce371-43d2-4283-bf62-7414d1054012",
   "metadata": {},
   "outputs": [],
   "source": []
  },
  {
   "cell_type": "code",
   "execution_count": null,
   "id": "df8d44eb-3602-49da-8fcc-fc201d6ce487",
   "metadata": {},
   "outputs": [],
   "source": []
  }
 ],
 "metadata": {
  "kernelspec": {
   "display_name": "Python 3 (ipykernel)",
   "language": "python",
   "name": "python3"
  },
  "language_info": {
   "codemirror_mode": {
    "name": "ipython",
    "version": 3
   },
   "file_extension": ".py",
   "mimetype": "text/x-python",
   "name": "python",
   "nbconvert_exporter": "python",
   "pygments_lexer": "ipython3",
   "version": "3.12.4"
  }
 },
 "nbformat": 4,
 "nbformat_minor": 5
}
