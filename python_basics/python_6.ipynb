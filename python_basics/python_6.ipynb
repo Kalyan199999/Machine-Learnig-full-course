{
 "cells": [
  {
   "cell_type": "markdown",
   "id": "b9b09423-9ba9-460b-a227-c2a57fc68872",
   "metadata": {},
   "source": [
    "# List"
   ]
  },
  {
   "cell_type": "markdown",
   "id": "0721a696-3797-4cb5-b940-838cc7a53ccf",
   "metadata": {},
   "source": [
    "# what is list?\n",
    "# Lists  are ordered and mutable collections of items\n",
    "# They can store the items of different DT"
   ]
  },
  {
   "cell_type": "code",
   "execution_count": null,
   "id": "30be1362-0faa-48a4-8624-03c3bc0f4516",
   "metadata": {},
   "outputs": [],
   "source": []
  },
  {
   "cell_type": "markdown",
   "id": "e51a70c7-3c8e-4f25-963f-f61e503e7f31",
   "metadata": {},
   "source": [
    "# Create the list"
   ]
  },
  {
   "cell_type": "code",
   "execution_count": 15,
   "id": "162828db-887e-4b10-8c3c-bfc857ffce2e",
   "metadata": {},
   "outputs": [
    {
     "name": "stdout",
     "output_type": "stream",
     "text": [
      "<class 'list'>\n",
      "<class 'list'>\n"
     ]
    }
   ],
   "source": [
    "l1 = []\n",
    "l2 = list()\n",
    "\n",
    "print(type(l1))\n",
    "print(type(l2))"
   ]
  },
  {
   "cell_type": "code",
   "execution_count": null,
   "id": "6ce38631-aebe-433a-8dcf-f033ec7f95b7",
   "metadata": {},
   "outputs": [],
   "source": []
  },
  {
   "cell_type": "markdown",
   "id": "3d01f391-3ad4-44f8-8105-43a09accee3f",
   "metadata": {},
   "source": [
    "# Add the elements into list"
   ]
  },
  {
   "cell_type": "code",
   "execution_count": 16,
   "id": "eb2ae83e-e9a0-4c7e-bb01-1507c8f54944",
   "metadata": {},
   "outputs": [
    {
     "name": "stdout",
     "output_type": "stream",
     "text": [
      "[2, 4, 6, 8, 10, 12, 14, 16, 18, 20]\n"
     ]
    }
   ],
   "source": [
    "for i in range(1,20+1):\n",
    "    if (i&1)==0:\n",
    "        l2.append(i)\n",
    "\n",
    "print(l2)"
   ]
  },
  {
   "cell_type": "code",
   "execution_count": null,
   "id": "96bad206-c92d-4a19-b195-b817ff04c73d",
   "metadata": {},
   "outputs": [],
   "source": []
  },
  {
   "cell_type": "code",
   "execution_count": 17,
   "id": "67c464d3-96a6-4b1d-b739-6561371842b7",
   "metadata": {},
   "outputs": [
    {
     "name": "stdout",
     "output_type": "stream",
     "text": [
      "['kalyan', 1, 6.89, 10, 6, True, 'c']\n"
     ]
    }
   ],
   "source": [
    "mixed_type = ['kalyan',1,6.89,10,6,True,'c']\n",
    "print(mixed_type)"
   ]
  },
  {
   "cell_type": "code",
   "execution_count": null,
   "id": "785ca42e-e978-420a-8b1f-5709c7487741",
   "metadata": {},
   "outputs": [],
   "source": []
  },
  {
   "cell_type": "markdown",
   "id": "903e76b3-7bda-43ed-8769-d9fe1a0101af",
   "metadata": {},
   "source": [
    "# Accessing the list"
   ]
  },
  {
   "cell_type": "code",
   "execution_count": 18,
   "id": "b57fbea5-b766-4aa7-96d6-4a6f715a750c",
   "metadata": {},
   "outputs": [
    {
     "name": "stdout",
     "output_type": "stream",
     "text": [
      "2\n",
      "4\n",
      "6\n",
      "8\n",
      "10\n",
      "12\n",
      "14\n",
      "16\n",
      "18\n",
      "20\n"
     ]
    }
   ],
   "source": [
    "for ele in l2:\n",
    "    print(ele)"
   ]
  },
  {
   "cell_type": "code",
   "execution_count": 19,
   "id": "fbfe3ac4-02bc-448c-a98a-efc3199e66ac",
   "metadata": {},
   "outputs": [
    {
     "name": "stdout",
     "output_type": "stream",
     "text": [
      "2\n",
      "4\n",
      "6\n",
      "8\n",
      "10\n",
      "12\n",
      "14\n",
      "16\n",
      "18\n",
      "20\n"
     ]
    }
   ],
   "source": [
    "for i in range(0 , len(l2)):\n",
    "    print(l2[i])"
   ]
  },
  {
   "cell_type": "code",
   "execution_count": null,
   "id": "d102304e-8f65-4d09-abdb-5522d7f2f17f",
   "metadata": {},
   "outputs": [],
   "source": []
  },
  {
   "cell_type": "markdown",
   "id": "96f5b986-23db-4838-8cb3-e949ea7d3cfd",
   "metadata": {},
   "source": [
    "# Slicing"
   ]
  },
  {
   "cell_type": "code",
   "execution_count": 20,
   "id": "337581c8-7af3-4ab4-80d6-7896a3caa3c0",
   "metadata": {},
   "outputs": [
    {
     "data": {
      "text/plain": [
       "[8, 10, 12, 14, 16, 18, 20]"
      ]
     },
     "execution_count": 20,
     "metadata": {},
     "output_type": "execute_result"
    }
   ],
   "source": [
    "l2[3:]"
   ]
  },
  {
   "cell_type": "code",
   "execution_count": 21,
   "id": "61fbca8f-8691-4b1c-a3ab-9fa9e597c150",
   "metadata": {},
   "outputs": [
    {
     "data": {
      "text/plain": [
       "[2, 4, 6, 8, 10]"
      ]
     },
     "execution_count": 21,
     "metadata": {},
     "output_type": "execute_result"
    }
   ],
   "source": [
    "l2[:5]"
   ]
  },
  {
   "cell_type": "code",
   "execution_count": 22,
   "id": "4dd379e6-01d3-4475-a014-04d6c7afe6db",
   "metadata": {},
   "outputs": [
    {
     "data": {
      "text/plain": [
       "[8, 10, 12, 14]"
      ]
     },
     "execution_count": 22,
     "metadata": {},
     "output_type": "execute_result"
    }
   ],
   "source": [
    "l2[3:7]"
   ]
  },
  {
   "cell_type": "code",
   "execution_count": 23,
   "id": "e3c63e11-e138-457e-b7f3-f130277fbeea",
   "metadata": {},
   "outputs": [
    {
     "data": {
      "text/plain": [
       "[2, 4, 6, 8, 10, 12, 14, 16]"
      ]
     },
     "execution_count": 23,
     "metadata": {},
     "output_type": "execute_result"
    }
   ],
   "source": [
    "l2[ : -2]"
   ]
  },
  {
   "cell_type": "code",
   "execution_count": 24,
   "id": "9b5f6fee-2457-48aa-a748-72fefa6c993d",
   "metadata": {},
   "outputs": [
    {
     "data": {
      "text/plain": [
       "[20]"
      ]
     },
     "execution_count": 24,
     "metadata": {},
     "output_type": "execute_result"
    }
   ],
   "source": [
    "l2[-1:]"
   ]
  },
  {
   "cell_type": "code",
   "execution_count": null,
   "id": "a9037a40-4a0e-42f3-9389-fb8ff3132b63",
   "metadata": {},
   "outputs": [],
   "source": []
  },
  {
   "cell_type": "code",
   "execution_count": 40,
   "id": "d7c4dea2-5a6c-4de5-8d0f-dea9efe33d44",
   "metadata": {},
   "outputs": [
    {
     "data": {
      "text/plain": [
       "[20, 18, 16, 14, 12, 10, 8, 6, 4, 2]"
      ]
     },
     "execution_count": 40,
     "metadata": {},
     "output_type": "execute_result"
    }
   ],
   "source": [
    "l2[::-1]"
   ]
  },
  {
   "cell_type": "code",
   "execution_count": 42,
   "id": "5562c274-6a5a-48e1-ba24-e77328d98aa7",
   "metadata": {},
   "outputs": [
    {
     "data": {
      "text/plain": [
       "[2, 8, 14, 20]"
      ]
     },
     "execution_count": 42,
     "metadata": {},
     "output_type": "execute_result"
    }
   ],
   "source": [
    "# step size of 2\n",
    "\n",
    "l2[::2]"
   ]
  },
  {
   "cell_type": "code",
   "execution_count": null,
   "id": "d852b62d-c817-4275-8e27-7610602a7cdb",
   "metadata": {},
   "outputs": [],
   "source": []
  },
  {
   "cell_type": "code",
   "execution_count": 25,
   "id": "ef7be867-60b9-414a-81c4-9fc9b1c9d4b2",
   "metadata": {},
   "outputs": [
    {
     "data": {
      "text/plain": [
       "[2, 4, 6, 8, 10, 12, 14, 16, 18, 20]"
      ]
     },
     "execution_count": 25,
     "metadata": {},
     "output_type": "execute_result"
    }
   ],
   "source": [
    "l1 = l2.copy()\n",
    "l1"
   ]
  },
  {
   "cell_type": "code",
   "execution_count": 26,
   "id": "c283f0b8-bfde-4490-9466-0fad13ca8af6",
   "metadata": {},
   "outputs": [
    {
     "data": {
      "text/plain": [
       "[1, 4, 6, 8, 10, 12, 14, 16, 18, 20]"
      ]
     },
     "execution_count": 26,
     "metadata": {},
     "output_type": "execute_result"
    }
   ],
   "source": [
    "l1[0] = 1\n",
    "l1"
   ]
  },
  {
   "cell_type": "markdown",
   "id": "ee99abd1-bb12-4092-802a-6c9e327a2ea3",
   "metadata": {},
   "source": []
  },
  {
   "cell_type": "markdown",
   "id": "2b4eded2-05c3-4ae4-b94e-857e1a30451e",
   "metadata": {},
   "source": [
    "# List Methods"
   ]
  },
  {
   "cell_type": "code",
   "execution_count": 27,
   "id": "3ec01043-2823-4b80-8167-ab67078da09a",
   "metadata": {},
   "outputs": [
    {
     "data": {
      "text/plain": [
       "[1, 100, 4, 6, 8, 10, 12, 14, 16, 18, 20]"
      ]
     },
     "execution_count": 27,
     "metadata": {},
     "output_type": "execute_result"
    }
   ],
   "source": [
    "l1.insert(1,100)\n",
    "l1"
   ]
  },
  {
   "cell_type": "code",
   "execution_count": null,
   "id": "722697f7-b457-401a-bb3d-23ab647640ab",
   "metadata": {},
   "outputs": [],
   "source": []
  },
  {
   "cell_type": "code",
   "execution_count": 28,
   "id": "103427db-7231-4eee-bed1-e26f2e59115c",
   "metadata": {},
   "outputs": [
    {
     "data": {
      "text/plain": [
       "[100, 4, 6, 8, 10, 12, 14, 16, 18, 20]"
      ]
     },
     "execution_count": 28,
     "metadata": {},
     "output_type": "execute_result"
    }
   ],
   "source": [
    "l1.remove(1)\n",
    "l1"
   ]
  },
  {
   "cell_type": "code",
   "execution_count": null,
   "id": "83b70acf-2d65-4361-9730-9095cf0e1c9a",
   "metadata": {},
   "outputs": [],
   "source": []
  },
  {
   "cell_type": "markdown",
   "id": "8c2713a5-e67c-4a1e-975c-65a73ea0d3da",
   "metadata": {},
   "source": [
    "# remove the last element"
   ]
  },
  {
   "cell_type": "code",
   "execution_count": 29,
   "id": "2aa72739-1daa-4e25-bb02-4fd342a06c54",
   "metadata": {},
   "outputs": [
    {
     "name": "stdout",
     "output_type": "stream",
     "text": [
      "20\n"
     ]
    }
   ],
   "source": [
    "print(l1.pop())"
   ]
  },
  {
   "cell_type": "code",
   "execution_count": null,
   "id": "ca328440-f4a0-4ea3-9c88-95511a1c71d5",
   "metadata": {},
   "outputs": [],
   "source": []
  },
  {
   "cell_type": "markdown",
   "id": "77bee85b-d60e-4ab2-8025-3f7f8c0f9287",
   "metadata": {},
   "source": [
    "# get the index of element"
   ]
  },
  {
   "cell_type": "code",
   "execution_count": 35,
   "id": "7e8dda9f-86e8-4d05-95ff-6a132a04d4e4",
   "metadata": {},
   "outputs": [
    {
     "name": "stdout",
     "output_type": "stream",
     "text": [
      "3\n"
     ]
    }
   ],
   "source": [
    "print(l2.index(8))"
   ]
  },
  {
   "cell_type": "code",
   "execution_count": null,
   "id": "545efd76-c953-467c-af4b-c7584ce2458b",
   "metadata": {},
   "outputs": [],
   "source": []
  },
  {
   "cell_type": "code",
   "execution_count": 37,
   "id": "355e7f15-3fe7-4ec1-85c7-059d1fc2d7f3",
   "metadata": {},
   "outputs": [
    {
     "name": "stdout",
     "output_type": "stream",
     "text": [
      "[8, 8, 100, 4, 6, 8, 8, 10, 8, 12, 14, 16, 18]\n",
      "5\n"
     ]
    }
   ],
   "source": [
    "l1.insert(5,8)\n",
    "l1.insert(0,8)\n",
    "\n",
    "print(l1)\n",
    "print(l1.count(8))"
   ]
  },
  {
   "cell_type": "code",
   "execution_count": null,
   "id": "6d6f1cb6-b0c0-46c8-a84f-48242449cfff",
   "metadata": {},
   "outputs": [],
   "source": []
  },
  {
   "cell_type": "code",
   "execution_count": 46,
   "id": "228f5b11-c672-44d0-b942-9215b8484667",
   "metadata": {},
   "outputs": [
    {
     "name": "stdout",
     "output_type": "stream",
     "text": [
      "0->2\n",
      "1->4\n",
      "2->6\n",
      "3->8\n",
      "4->10\n",
      "5->12\n",
      "6->14\n",
      "7->16\n",
      "8->18\n",
      "9->20\n"
     ]
    }
   ],
   "source": [
    "for idx,item in enumerate(l2):\n",
    "    print(f'{idx}->{item}')"
   ]
  },
  {
   "cell_type": "code",
   "execution_count": null,
   "id": "79551b55-b407-42d8-aa1f-3c825f2817d1",
   "metadata": {},
   "outputs": [],
   "source": []
  },
  {
   "cell_type": "markdown",
   "id": "ee23c056-dfcc-4b2e-a0bb-0e28d64270b5",
   "metadata": {},
   "source": [
    "# List comprehision"
   ]
  },
  {
   "cell_type": "code",
   "execution_count": 47,
   "id": "db2cd698-a284-412c-b316-d8e0a8888616",
   "metadata": {},
   "outputs": [
    {
     "name": "stdout",
     "output_type": "stream",
     "text": [
      "[4, 16, 36, 64, 100, 144, 196, 256, 324, 400]\n"
     ]
    }
   ],
   "source": [
    "even_squares = [ item**2 for item in l2 ]\n",
    "\n",
    "print(even_squares)"
   ]
  },
  {
   "cell_type": "code",
   "execution_count": null,
   "id": "d8c69095-3faf-4de0-9e95-234c98670a8a",
   "metadata": {},
   "outputs": [],
   "source": []
  },
  {
   "cell_type": "code",
   "execution_count": null,
   "id": "e971b328-58b7-4158-919f-b0c4340b4be4",
   "metadata": {},
   "outputs": [],
   "source": []
  }
 ],
 "metadata": {
  "kernelspec": {
   "display_name": "Python 3 (ipykernel)",
   "language": "python",
   "name": "python3"
  },
  "language_info": {
   "codemirror_mode": {
    "name": "ipython",
    "version": 3
   },
   "file_extension": ".py",
   "mimetype": "text/x-python",
   "name": "python",
   "nbconvert_exporter": "python",
   "pygments_lexer": "ipython3",
   "version": "3.12.4"
  }
 },
 "nbformat": 4,
 "nbformat_minor": 5
}
