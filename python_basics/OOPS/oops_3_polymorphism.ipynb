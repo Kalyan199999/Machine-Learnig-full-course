{
 "cells": [
  {
   "cell_type": "markdown",
   "id": "70e4a961-1a41-45d8-ad2b-9b207c5677b5",
   "metadata": {},
   "source": [
    "### It provide the way to perform the single action in a different forms\n",
    "### It is achieved through the overridig and interfaces"
   ]
  },
  {
   "cell_type": "code",
   "execution_count": null,
   "id": "a64c2334-9c16-4286-a934-8e8ddf9babcc",
   "metadata": {},
   "outputs": [],
   "source": []
  },
  {
   "cell_type": "code",
   "execution_count": 1,
   "id": "d644447a-e0ff-4fa2-a73a-43f3f9336b76",
   "metadata": {},
   "outputs": [],
   "source": [
    "class Shape:\n",
    "    def area():\n",
    "        print(\"This is a area of the figure!\")"
   ]
  },
  {
   "cell_type": "code",
   "execution_count": 8,
   "id": "b1483813-b3cb-4e4c-89e9-6719131d4fe6",
   "metadata": {},
   "outputs": [],
   "source": [
    "class Rectangle(Shape):\n",
    "    def __init__(self , length , width):\n",
    "        self.length = length\n",
    "        self.width = width\n",
    "        \n",
    "    def area(self):\n",
    "        print(f\"The area of the reactangle is {self.length*self.width}\")"
   ]
  },
  {
   "cell_type": "code",
   "execution_count": 9,
   "id": "3ce45f5b-0e2a-41f1-bf55-39579fe69517",
   "metadata": {},
   "outputs": [],
   "source": [
    "class Circle(Shape):\n",
    "    def __init__(self , radius):\n",
    "        self.radius = radius\n",
    "        \n",
    "    def area(self):\n",
    "        print(f\"The area of the Circle is {3.14*self.radius**2}\")"
   ]
  },
  {
   "cell_type": "code",
   "execution_count": 4,
   "id": "10bce11e-65f1-41ff-86b6-f7f3a1a05bae",
   "metadata": {},
   "outputs": [],
   "source": [
    "def print_area(obj):\n",
    "    obj.area()"
   ]
  },
  {
   "cell_type": "code",
   "execution_count": 10,
   "id": "71f4ae93-8d41-4eeb-8a31-2d953c63a053",
   "metadata": {},
   "outputs": [],
   "source": [
    "rect = Rectangle(10,5)\n",
    "cir = Circle(2)"
   ]
  },
  {
   "cell_type": "code",
   "execution_count": 11,
   "id": "5c1af1ba-0c76-430c-8875-d7d0647c7e45",
   "metadata": {},
   "outputs": [
    {
     "name": "stdout",
     "output_type": "stream",
     "text": [
      "The area of the reactangle is 50\n"
     ]
    }
   ],
   "source": [
    "print_area(rect)"
   ]
  },
  {
   "cell_type": "code",
   "execution_count": 12,
   "id": "ed6e065f-fb2b-4ee2-8fd4-413db8dcb7d6",
   "metadata": {},
   "outputs": [
    {
     "name": "stdout",
     "output_type": "stream",
     "text": [
      "The area of the Circle is 12.56\n"
     ]
    }
   ],
   "source": [
    "print_area(cir)"
   ]
  },
  {
   "cell_type": "code",
   "execution_count": null,
   "id": "2432d30a-a6d3-4723-903a-e3a51647e29b",
   "metadata": {},
   "outputs": [],
   "source": []
  },
  {
   "cell_type": "code",
   "execution_count": null,
   "id": "c15a2af5-71da-41ef-8237-3419d74ffd60",
   "metadata": {},
   "outputs": [],
   "source": []
  }
 ],
 "metadata": {
  "kernelspec": {
   "display_name": "Python 3 (ipykernel)",
   "language": "python",
   "name": "python3"
  },
  "language_info": {
   "codemirror_mode": {
    "name": "ipython",
    "version": 3
   },
   "file_extension": ".py",
   "mimetype": "text/x-python",
   "name": "python",
   "nbconvert_exporter": "python",
   "pygments_lexer": "ipython3",
   "version": "3.12.4"
  }
 },
 "nbformat": 4,
 "nbformat_minor": 5
}
