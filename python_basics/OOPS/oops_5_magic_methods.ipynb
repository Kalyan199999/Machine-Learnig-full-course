{
 "cells": [
  {
   "cell_type": "markdown",
   "id": "7faf8909-9a47-4e2c-8ac6-1af4eeed7f1b",
   "metadata": {},
   "source": [
    "### Magic Methods"
   ]
  },
  {
   "cell_type": "code",
   "execution_count": null,
   "id": "196f45df-9d0b-4f73-b01f-5c5bfd2a3f76",
   "metadata": {},
   "outputs": [],
   "source": []
  },
  {
   "cell_type": "code",
   "execution_count": 1,
   "id": "c0320f81-71a6-4306-a2d8-86ed3c901eb6",
   "metadata": {},
   "outputs": [],
   "source": [
    "class Person:\n",
    "    def __init__(self,name,age):\n",
    "        self.name = name\n",
    "        self.age = age\n",
    "    def __str__(self):\n",
    "        return f'The Person is {self.name} and his/her age is {self.age}'\n",
    "    def __repr__(self):\n",
    "        return f'Person(name={self.name},age={self.age})'"
   ]
  },
  {
   "cell_type": "code",
   "execution_count": null,
   "id": "7534e7ff-1c6e-4a1f-9dd4-7e58459eab78",
   "metadata": {},
   "outputs": [],
   "source": []
  },
  {
   "cell_type": "code",
   "execution_count": 2,
   "id": "f26f74c9-f5f4-4757-9803-a81fc009157e",
   "metadata": {},
   "outputs": [],
   "source": [
    "person = Person('Kalyan',20)"
   ]
  },
  {
   "cell_type": "code",
   "execution_count": 3,
   "id": "4855a31e-6869-42a9-8e40-b6d5e0ce1047",
   "metadata": {},
   "outputs": [
    {
     "name": "stdout",
     "output_type": "stream",
     "text": [
      "The Person is Kalyan and his/her age is 20\n"
     ]
    }
   ],
   "source": [
    "print(person)"
   ]
  },
  {
   "cell_type": "code",
   "execution_count": 4,
   "id": "34201aed-6d76-4414-bee6-4fb281cf48d1",
   "metadata": {},
   "outputs": [
    {
     "data": {
      "text/plain": [
       "'Person(name=Kalyan,age=20)'"
      ]
     },
     "execution_count": 4,
     "metadata": {},
     "output_type": "execute_result"
    }
   ],
   "source": [
    "repr(person)"
   ]
  },
  {
   "cell_type": "code",
   "execution_count": null,
   "id": "1602f095-56a4-491c-8a95-3cc23e94dddb",
   "metadata": {},
   "outputs": [],
   "source": []
  },
  {
   "cell_type": "code",
   "execution_count": null,
   "id": "0fa546e7-501a-47f0-9723-2c1338dec167",
   "metadata": {},
   "outputs": [],
   "source": []
  },
  {
   "cell_type": "code",
   "execution_count": 5,
   "id": "7516db90-192f-4fd1-a1fe-888fb7a813d4",
   "metadata": {},
   "outputs": [
    {
     "data": {
      "text/plain": [
       "['__class__',\n",
       " '__delattr__',\n",
       " '__dict__',\n",
       " '__dir__',\n",
       " '__doc__',\n",
       " '__eq__',\n",
       " '__format__',\n",
       " '__ge__',\n",
       " '__getattribute__',\n",
       " '__getstate__',\n",
       " '__gt__',\n",
       " '__hash__',\n",
       " '__init__',\n",
       " '__init_subclass__',\n",
       " '__le__',\n",
       " '__lt__',\n",
       " '__module__',\n",
       " '__ne__',\n",
       " '__new__',\n",
       " '__reduce__',\n",
       " '__reduce_ex__',\n",
       " '__repr__',\n",
       " '__setattr__',\n",
       " '__sizeof__',\n",
       " '__str__',\n",
       " '__subclasshook__',\n",
       " '__weakref__',\n",
       " 'age',\n",
       " 'name']"
      ]
     },
     "execution_count": 5,
     "metadata": {},
     "output_type": "execute_result"
    }
   ],
   "source": [
    "# lsit of magic methods\n",
    "dir(person)"
   ]
  },
  {
   "cell_type": "code",
   "execution_count": null,
   "id": "03912040-40a9-4486-8148-7a1c26e468d0",
   "metadata": {},
   "outputs": [],
   "source": []
  },
  {
   "cell_type": "code",
   "execution_count": null,
   "id": "18175d5c-ea57-4bf4-a0d7-1433c29af63b",
   "metadata": {},
   "outputs": [],
   "source": []
  },
  {
   "cell_type": "markdown",
   "id": "92a5a4d1-531b-4054-a7cd-e02d123f037d",
   "metadata": {},
   "source": [
    "### Operator overloading"
   ]
  },
  {
   "cell_type": "code",
   "execution_count": null,
   "id": "277a6e26-ca2e-4761-8811-47c1e94aa2e3",
   "metadata": {},
   "outputs": [],
   "source": []
  },
  {
   "cell_type": "code",
   "execution_count": 16,
   "id": "36b29751-662a-4343-b0f2-28c04f117785",
   "metadata": {},
   "outputs": [],
   "source": [
    "class Vector:\n",
    "    def __init__(self,x,y):\n",
    "        self.x = x\n",
    "        self.y = y\n",
    "        \n",
    "    def __add__(self,other):\n",
    "        return Vector( self.x+other.x ,self.y+other.y )\n",
    "        \n",
    "    def __mul__(self,other):\n",
    "        return Vector( self.x*other.x ,self.y*other.y )\n",
    "        \n",
    "    def __sub__(self,other):\n",
    "        return Vector( self.x-other.x ,self.y-other.y )\n",
    "        \n",
    "    def __eq__(self,other):\n",
    "        return  self.x == other.x and self.y == other.y \n",
    "        \n",
    "    def __repr__(self):\n",
    "        return f'Vector(x={self.x},y={self.y})'"
   ]
  },
  {
   "cell_type": "code",
   "execution_count": 17,
   "id": "2c466cc3-0ee4-4ac1-916b-599e04173980",
   "metadata": {},
   "outputs": [],
   "source": [
    "v1 = Vector(5,10)\n",
    "\n",
    "v2 = Vector(10,20)"
   ]
  },
  {
   "cell_type": "code",
   "execution_count": 8,
   "id": "3fcdf26f-f2bc-4fb0-aacc-0158a36eb488",
   "metadata": {},
   "outputs": [
    {
     "name": "stdout",
     "output_type": "stream",
     "text": [
      "Vector(x=5,y=10)\n"
     ]
    }
   ],
   "source": [
    "print(v1)"
   ]
  },
  {
   "cell_type": "code",
   "execution_count": 9,
   "id": "c284c5a0-e45a-4819-b5c9-c68cfd793e98",
   "metadata": {},
   "outputs": [
    {
     "name": "stdout",
     "output_type": "stream",
     "text": [
      "Vector(x=15,y=30)\n"
     ]
    }
   ],
   "source": [
    "print(v1+v2)"
   ]
  },
  {
   "cell_type": "code",
   "execution_count": 14,
   "id": "ff928830-12ed-4bc0-bafe-b62cc3fab1b2",
   "metadata": {},
   "outputs": [
    {
     "name": "stdout",
     "output_type": "stream",
     "text": [
      "Vector(x=-5,y=-10)\n"
     ]
    }
   ],
   "source": [
    "print(v1-v2)"
   ]
  },
  {
   "cell_type": "code",
   "execution_count": 15,
   "id": "54e9db1f-bea5-4c84-bd3c-6647d661843f",
   "metadata": {},
   "outputs": [
    {
     "name": "stdout",
     "output_type": "stream",
     "text": [
      "Vector(x=50,y=200)\n"
     ]
    }
   ],
   "source": [
    "print(v1*v2)"
   ]
  },
  {
   "cell_type": "code",
   "execution_count": 19,
   "id": "61d7bf3b-c94c-44fe-8d04-adfbf013a773",
   "metadata": {},
   "outputs": [
    {
     "name": "stdout",
     "output_type": "stream",
     "text": [
      "False\n"
     ]
    }
   ],
   "source": [
    "print(v1 == v2)"
   ]
  },
  {
   "cell_type": "code",
   "execution_count": null,
   "id": "f302af3b-40c9-4f71-ba28-deb5dccb82aa",
   "metadata": {},
   "outputs": [],
   "source": []
  },
  {
   "cell_type": "code",
   "execution_count": null,
   "id": "0cd57ddf-0f3f-408c-8d08-5c688be33583",
   "metadata": {},
   "outputs": [],
   "source": []
  },
  {
   "cell_type": "code",
   "execution_count": null,
   "id": "9052423c-245a-44f6-90a9-3053ad564482",
   "metadata": {},
   "outputs": [],
   "source": []
  }
 ],
 "metadata": {
  "kernelspec": {
   "display_name": "Python 3 (ipykernel)",
   "language": "python",
   "name": "python3"
  },
  "language_info": {
   "codemirror_mode": {
    "name": "ipython",
    "version": 3
   },
   "file_extension": ".py",
   "mimetype": "text/x-python",
   "name": "python",
   "nbconvert_exporter": "python",
   "pygments_lexer": "ipython3",
   "version": "3.12.4"
  }
 },
 "nbformat": 4,
 "nbformat_minor": 5
}
