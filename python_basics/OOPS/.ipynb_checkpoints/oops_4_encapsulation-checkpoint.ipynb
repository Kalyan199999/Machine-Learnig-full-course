{
 "cells": [
  {
   "cell_type": "markdown",
   "id": "cb67a42b-c008-4d8c-bc8f-f1cd28ac482b",
   "metadata": {},
   "source": [
    "# Encapsulation "
   ]
  },
  {
   "cell_type": "code",
   "execution_count": null,
   "id": "79ce6519-4354-4f5a-a517-7b17bd69a24a",
   "metadata": {},
   "outputs": [],
   "source": []
  },
  {
   "cell_type": "markdown",
   "id": "b11697c7-95a8-471f-90c5-01f86586ee63",
   "metadata": {},
   "source": [
    "### It refers to bundling data (attributes) and methods (functions) that operate on that data within a single unit (a class) — and restricting direct access to some of the object's internal components."
   ]
  },
  {
   "cell_type": "code",
   "execution_count": null,
   "id": "b4b8b6a4-843d-4ecc-866c-9d007e17242f",
   "metadata": {},
   "outputs": [],
   "source": []
  },
  {
   "cell_type": "markdown",
   "id": "ec0a5c4a-266d-4820-9e4f-f3bb9b7e82bb",
   "metadata": {},
   "source": [
    "### Encapsulation hides the internal state of an object from outside interference and only allows access through well-defined interfaces (methods)."
   ]
  },
  {
   "cell_type": "code",
   "execution_count": null,
   "id": "5bb31c37-05b2-4b79-a36c-13ed116ab22a",
   "metadata": {},
   "outputs": [],
   "source": []
  },
  {
   "cell_type": "markdown",
   "id": "2995e144-877c-4a77-92ed-aed5a9491226",
   "metadata": {},
   "source": [
    "### Modifier\t  Convention\t  Accessibility\n",
    "### Public\t       self.name\t    Accessible from anywhere\n",
    "### Protected\t    _name\t        Should not be accessed directly\n",
    "### Private\t       __name\t        Name mangled, restricted access"
   ]
  },
  {
   "cell_type": "code",
   "execution_count": null,
   "id": "57cd3444-c998-4d7f-ba42-d08e4bb33701",
   "metadata": {},
   "outputs": [],
   "source": []
  },
  {
   "cell_type": "code",
   "execution_count": 1,
   "id": "aad6d2b7-7eec-4eec-848c-d3b4d9310b2a",
   "metadata": {},
   "outputs": [],
   "source": [
    "class Student:\n",
    "    def __init__(self, name, age):\n",
    "        self.name = name        # public attribute\n",
    "        self._age = age         # protected attribute\n",
    "        self.__marks = 90       # private attribute\n",
    "\n",
    "    def display(self):\n",
    "        print(f\"Name: {self.name}, Age: {self._age}, Marks: {self.__marks}\")\n"
   ]
  },
  {
   "cell_type": "code",
   "execution_count": null,
   "id": "06d96aa2-abb5-4e01-b396-a47be248a502",
   "metadata": {},
   "outputs": [],
   "source": []
  },
  {
   "cell_type": "code",
   "execution_count": 2,
   "id": "f25b3a25-0ce3-4d3f-b63c-c357908e56b5",
   "metadata": {},
   "outputs": [],
   "source": [
    "stu = Student(\"Kalyan\",25)"
   ]
  },
  {
   "cell_type": "code",
   "execution_count": 3,
   "id": "189cf2af-d2e1-480e-b1f4-ea4dc3771be2",
   "metadata": {},
   "outputs": [
    {
     "name": "stdout",
     "output_type": "stream",
     "text": [
      "Name: Kalyan, Age: 25, Marks: 90\n"
     ]
    }
   ],
   "source": [
    "stu.display()"
   ]
  },
  {
   "cell_type": "code",
   "execution_count": null,
   "id": "1146bcbe-229d-4190-a3a1-a622b2565cab",
   "metadata": {},
   "outputs": [],
   "source": []
  },
  {
   "cell_type": "code",
   "execution_count": 4,
   "id": "e0de8320-d869-440b-b9b6-9fec6eba7083",
   "metadata": {},
   "outputs": [
    {
     "data": {
      "text/plain": [
       "['_Student__marks',\n",
       " '__class__',\n",
       " '__delattr__',\n",
       " '__dict__',\n",
       " '__dir__',\n",
       " '__doc__',\n",
       " '__eq__',\n",
       " '__format__',\n",
       " '__ge__',\n",
       " '__getattribute__',\n",
       " '__getstate__',\n",
       " '__gt__',\n",
       " '__hash__',\n",
       " '__init__',\n",
       " '__init_subclass__',\n",
       " '__le__',\n",
       " '__lt__',\n",
       " '__module__',\n",
       " '__ne__',\n",
       " '__new__',\n",
       " '__reduce__',\n",
       " '__reduce_ex__',\n",
       " '__repr__',\n",
       " '__setattr__',\n",
       " '__sizeof__',\n",
       " '__str__',\n",
       " '__subclasshook__',\n",
       " '__weakref__',\n",
       " '_age',\n",
       " 'display',\n",
       " 'name']"
      ]
     },
     "execution_count": 4,
     "metadata": {},
     "output_type": "execute_result"
    }
   ],
   "source": [
    "dir(stu)"
   ]
  },
  {
   "cell_type": "code",
   "execution_count": null,
   "id": "c4c8d669-ec68-4c88-ac5d-020bf73eb431",
   "metadata": {},
   "outputs": [],
   "source": []
  },
  {
   "cell_type": "code",
   "execution_count": 5,
   "id": "be8d7d3e-ff7c-41fa-8faf-ca5b10eaf9d6",
   "metadata": {},
   "outputs": [],
   "source": [
    "class BankAccount:\n",
    "    def __init__(self):\n",
    "        self.__balance = 0\n",
    "\n",
    "    def deposit(self, amount):\n",
    "        if amount > 0:\n",
    "            self.__balance += amount\n",
    "\n",
    "    def get_balance(self):\n",
    "        return self.__balance\n"
   ]
  },
  {
   "cell_type": "code",
   "execution_count": 6,
   "id": "5eb4fdac-f710-4a7d-a2c1-42268df18cd9",
   "metadata": {},
   "outputs": [
    {
     "name": "stdout",
     "output_type": "stream",
     "text": [
      "100\n"
     ]
    }
   ],
   "source": [
    "acc = BankAccount()\n",
    "acc.deposit(100)\n",
    "print(acc.get_balance())  "
   ]
  },
  {
   "cell_type": "code",
   "execution_count": null,
   "id": "0031b6a6-5a0b-421a-8580-88400f4b0c96",
   "metadata": {},
   "outputs": [],
   "source": []
  },
  {
   "cell_type": "code",
   "execution_count": null,
   "id": "a94e83ee-dae2-4fcc-af70-b1b4441bc340",
   "metadata": {},
   "outputs": [],
   "source": []
  },
  {
   "cell_type": "markdown",
   "id": "6ce34e2b-cc69-47f1-b45d-30c66b645b19",
   "metadata": {},
   "source": [
    "# Abstraction "
   ]
  },
  {
   "cell_type": "code",
   "execution_count": null,
   "id": "e11777c3-130f-4eb7-b162-f91a4ba1d2fa",
   "metadata": {},
   "outputs": [],
   "source": []
  },
  {
   "cell_type": "markdown",
   "id": "3571f074-691b-4190-bf29-9524ac616d35",
   "metadata": {},
   "source": [
    "### Abstraction means hiding complex implementation details and showing only the essential features of an object.\n",
    "\n",
    "### It allows you to focus on what an object does, instead of how it does it."
   ]
  },
  {
   "cell_type": "code",
   "execution_count": null,
   "id": "acef66f3-84e1-4a97-9e3e-0e9cbfc8cc0d",
   "metadata": {},
   "outputs": [],
   "source": []
  },
  {
   "cell_type": "code",
   "execution_count": 7,
   "id": "9b50b384-54ff-4498-8d78-ef8b81a9e47a",
   "metadata": {},
   "outputs": [],
   "source": [
    "from abc import ABC, abstractmethod\n",
    "\n",
    "# Abstract class\n",
    "class Vehicle(ABC):\n",
    "\n",
    "    @abstractmethod\n",
    "    def start_engine(self):\n",
    "        pass\n",
    "\n",
    "    @abstractmethod\n",
    "    def stop_engine(self):\n",
    "        pass\n"
   ]
  },
  {
   "cell_type": "markdown",
   "id": "4ddd05c0-5aed-44a1-ad54-c8ac37f571e1",
   "metadata": {},
   "source": [
    "### Vehicle is an abstract class.\n",
    "\n",
    "### It cannot be instantiated directly.\n",
    "\n",
    "### Any subclass must implement the abstract methods."
   ]
  },
  {
   "cell_type": "code",
   "execution_count": null,
   "id": "a5f57bec-bce7-4977-936f-3d07926f8639",
   "metadata": {},
   "outputs": [],
   "source": []
  },
  {
   "cell_type": "code",
   "execution_count": 8,
   "id": "77f44931-f8b9-44e8-ab8c-868d5daa5023",
   "metadata": {},
   "outputs": [
    {
     "name": "stdout",
     "output_type": "stream",
     "text": [
      "Car engine started\n"
     ]
    }
   ],
   "source": [
    "class Car(Vehicle):\n",
    "    def start_engine(self):\n",
    "        print(\"Car engine started\")\n",
    "\n",
    "    def stop_engine(self):\n",
    "        print(\"Car engine stopped\")\n",
    "\n",
    "# Instantiate subclass\n",
    "c = Car()\n",
    "c.start_engine()\n"
   ]
  },
  {
   "cell_type": "code",
   "execution_count": null,
   "id": "b1c2a604-05bf-46e2-8dcf-6d8634f1b948",
   "metadata": {},
   "outputs": [],
   "source": []
  },
  {
   "cell_type": "code",
   "execution_count": null,
   "id": "8df8cbe2-798e-4738-af3a-fcb4a353c78f",
   "metadata": {},
   "outputs": [],
   "source": []
  }
 ],
 "metadata": {
  "kernelspec": {
   "display_name": "Python 3 (ipykernel)",
   "language": "python",
   "name": "python3"
  },
  "language_info": {
   "codemirror_mode": {
    "name": "ipython",
    "version": 3
   },
   "file_extension": ".py",
   "mimetype": "text/x-python",
   "name": "python",
   "nbconvert_exporter": "python",
   "pygments_lexer": "ipython3",
   "version": "3.12.4"
  }
 },
 "nbformat": 4,
 "nbformat_minor": 5
}
