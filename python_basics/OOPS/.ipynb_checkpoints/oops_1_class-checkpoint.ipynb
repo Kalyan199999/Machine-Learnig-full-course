{
 "cells": [
  {
   "cell_type": "markdown",
   "id": "da772d27-e4be-4eed-89d9-da30e38241fc",
   "metadata": {},
   "source": [
    "### Object-Oriented Programming (OOP) is a programming paradigm based on the concept of \"objects\", which can contain data (called attributes) and code (called methods)."
   ]
  },
  {
   "cell_type": "code",
   "execution_count": null,
   "id": "55841b76-6fe5-40b8-bf05-7020199910ea",
   "metadata": {},
   "outputs": [],
   "source": []
  },
  {
   "cell_type": "markdown",
   "id": "f52f00ba-dd65-4af5-85c8-c986896cf04d",
   "metadata": {},
   "source": [
    "### Key Features of OOP:\n",
    "### Class – Blueprint for creating objects.\n",
    "\n",
    "### Object – Instance of a class with real values.\n",
    "\n",
    "### Encapsulation – Hiding internal data using methods.\n",
    "\n",
    "### Inheritance – One class inherits properties from another.\n",
    "\n",
    "### Polymorphism – Same interface, different behavior.\n",
    "\n",
    "### Abstraction – Hiding unnecessary details and showing only the essential features."
   ]
  },
  {
   "cell_type": "code",
   "execution_count": null,
   "id": "6ca460f8-5831-447e-83ce-550aec556365",
   "metadata": {},
   "outputs": [],
   "source": []
  },
  {
   "cell_type": "code",
   "execution_count": null,
   "id": "43c7697b-d5a4-4fc5-89f4-77aad4f22456",
   "metadata": {},
   "outputs": [],
   "source": []
  },
  {
   "cell_type": "markdown",
   "id": "3721234d-835a-4fed-bfb4-0a9ae7680d5d",
   "metadata": {},
   "source": [
    "### class is a blue-print conatins attributes and methods"
   ]
  },
  {
   "cell_type": "code",
   "execution_count": 1,
   "id": "ceb92c27-db2d-4598-ac93-d4247c1183bc",
   "metadata": {},
   "outputs": [],
   "source": [
    "class Car:\n",
    "    tyres = 4\n",
    "    def speed():\n",
    "        print(\"It can run upto 200km/hr\")"
   ]
  },
  {
   "cell_type": "code",
   "execution_count": 2,
   "id": "6fbadeb5-a46e-4a4d-b56c-3258e6610cfa",
   "metadata": {},
   "outputs": [
    {
     "name": "stdout",
     "output_type": "stream",
     "text": [
      "<class 'type'>\n"
     ]
    }
   ],
   "source": [
    "print( type(Car) )"
   ]
  },
  {
   "cell_type": "code",
   "execution_count": 6,
   "id": "b09a7c37-20d1-4f38-aa03-d485b8b936fb",
   "metadata": {},
   "outputs": [],
   "source": [
    "audi = Car()\n",
    "bmw = Car()"
   ]
  },
  {
   "cell_type": "code",
   "execution_count": 7,
   "id": "11113ca1-53c9-401a-b2fc-03b6c7da8712",
   "metadata": {},
   "outputs": [
    {
     "name": "stdout",
     "output_type": "stream",
     "text": [
      "<__main__.Car object at 0x000002223F2113A0>\n",
      "<__main__.Car object at 0x000002223F212660>\n"
     ]
    }
   ],
   "source": [
    "print( audi )\n",
    "print( bmw )"
   ]
  },
  {
   "cell_type": "code",
   "execution_count": 8,
   "id": "a7fca277-297b-4bff-b71e-690d63f69801",
   "metadata": {},
   "outputs": [
    {
     "name": "stdout",
     "output_type": "stream",
     "text": [
      "<class '__main__.Car'>\n"
     ]
    }
   ],
   "source": [
    "print( type(audi) )"
   ]
  },
  {
   "cell_type": "code",
   "execution_count": null,
   "id": "905883b1-c34f-4186-a31c-b5320fedecf4",
   "metadata": {},
   "outputs": [],
   "source": []
  },
  {
   "cell_type": "code",
   "execution_count": 10,
   "id": "3de20f96-3762-45af-ad9e-574f5d9e895a",
   "metadata": {},
   "outputs": [],
   "source": [
    "class Dog:\n",
    "    # constructor\n",
    "    def __init__(self,name,age):\n",
    "        self.name = name\n",
    "        self.age = age\n"
   ]
  },
  {
   "cell_type": "code",
   "execution_count": 12,
   "id": "27586b4d-9fa9-4760-8777-50318d1ea17a",
   "metadata": {},
   "outputs": [],
   "source": [
    "dog_1 = Dog('bargi',3)"
   ]
  },
  {
   "cell_type": "code",
   "execution_count": 13,
   "id": "10617c98-4750-476c-a746-05d20a1ce83a",
   "metadata": {},
   "outputs": [
    {
     "name": "stdout",
     "output_type": "stream",
     "text": [
      "<__main__.Dog object at 0x000002223FFB2AE0>\n"
     ]
    }
   ],
   "source": [
    "print(dog_1)"
   ]
  },
  {
   "cell_type": "code",
   "execution_count": 15,
   "id": "93dadc73-27f4-4502-b44c-fb83eaa4671c",
   "metadata": {},
   "outputs": [
    {
     "name": "stdout",
     "output_type": "stream",
     "text": [
      "bargi\n",
      "3\n"
     ]
    }
   ],
   "source": [
    "print(dog_1.name)\n",
    "print(dog_1.age)"
   ]
  },
  {
   "cell_type": "code",
   "execution_count": null,
   "id": "b3d1a8af-4fbf-492f-bb18-d303f88fd535",
   "metadata": {},
   "outputs": [],
   "source": []
  },
  {
   "cell_type": "markdown",
   "id": "1695ee0c-4294-4d11-b0e0-c7d9847aa93f",
   "metadata": {},
   "source": [
    "### attributes of an object."
   ]
  },
  {
   "cell_type": "code",
   "execution_count": 14,
   "id": "99449b1d-4b6a-47fa-9366-c034e4936d49",
   "metadata": {},
   "outputs": [
    {
     "data": {
      "text/plain": [
       "['__class__',\n",
       " '__delattr__',\n",
       " '__dict__',\n",
       " '__dir__',\n",
       " '__doc__',\n",
       " '__eq__',\n",
       " '__format__',\n",
       " '__ge__',\n",
       " '__getattribute__',\n",
       " '__getstate__',\n",
       " '__gt__',\n",
       " '__hash__',\n",
       " '__init__',\n",
       " '__init_subclass__',\n",
       " '__le__',\n",
       " '__lt__',\n",
       " '__module__',\n",
       " '__ne__',\n",
       " '__new__',\n",
       " '__reduce__',\n",
       " '__reduce_ex__',\n",
       " '__repr__',\n",
       " '__setattr__',\n",
       " '__sizeof__',\n",
       " '__str__',\n",
       " '__subclasshook__',\n",
       " '__weakref__',\n",
       " 'age',\n",
       " 'name']"
      ]
     },
     "execution_count": 14,
     "metadata": {},
     "output_type": "execute_result"
    }
   ],
   "source": [
    "dir(dog_1)"
   ]
  },
  {
   "cell_type": "code",
   "execution_count": null,
   "id": "2f21457c-8dec-4b5c-8d05-9b27fb1abc41",
   "metadata": {},
   "outputs": [],
   "source": []
  },
  {
   "cell_type": "markdown",
   "id": "320cdb32-e7ab-4647-8e99-900e7887d470",
   "metadata": {},
   "source": [
    "### define the class with instance methods"
   ]
  },
  {
   "cell_type": "code",
   "execution_count": 17,
   "id": "939518aa-d307-4853-874d-336d8815f4ab",
   "metadata": {},
   "outputs": [],
   "source": [
    "class Dog:\n",
    "    # constructor\n",
    "    def __init__(self,name,age):\n",
    "        self.name = name\n",
    "        self.age = age\n",
    "\n",
    "    # instance method\n",
    "    def bark(self):\n",
    "        print(f'{self.name} is barking by making sound woffff')\n"
   ]
  },
  {
   "cell_type": "code",
   "execution_count": 18,
   "id": "35e6a292-6c65-434b-bbf1-25bfa5682ddb",
   "metadata": {},
   "outputs": [],
   "source": [
    "dog_1 = Dog('lucy',5)"
   ]
  },
  {
   "cell_type": "code",
   "execution_count": 19,
   "id": "e41ff4f2-d9db-440c-a122-699113ba2401",
   "metadata": {},
   "outputs": [
    {
     "name": "stdout",
     "output_type": "stream",
     "text": [
      "lucy is barking by making sound woffff\n"
     ]
    }
   ],
   "source": [
    "dog_1.bark()"
   ]
  },
  {
   "cell_type": "code",
   "execution_count": null,
   "id": "726dd3ec-47c3-48a8-aaf7-8f2c2b80cf73",
   "metadata": {},
   "outputs": [],
   "source": []
  },
  {
   "cell_type": "code",
   "execution_count": 20,
   "id": "6c24d271-ddbf-4bc9-add4-35f319635aaa",
   "metadata": {},
   "outputs": [],
   "source": [
    "class BankAccount:\n",
    "    def __init__(self,name,balance=0):\n",
    "        self.name = name\n",
    "        self.balance = balance\n",
    "        \n",
    "    def deposit(self , amount=0):\n",
    "        self.balance += amount \n",
    "        print(f'Amount deposited successfully.Total = {self.balance}')\n",
    "        \n",
    "    def withdraw(self,amount = 0):\n",
    "        self.balance -= amount \n",
    "        print(f'Amount withdrwn successfully.Total = {self.balance}')\n",
    "        "
   ]
  },
  {
   "cell_type": "code",
   "execution_count": 21,
   "id": "0a94e140-79fc-46d3-a43e-66c234ca820a",
   "metadata": {},
   "outputs": [],
   "source": [
    "ba = BankAccount('kalyan',1000)"
   ]
  },
  {
   "cell_type": "code",
   "execution_count": 22,
   "id": "37b7cfb0-a407-46f8-affb-4d3ab0ca0b4c",
   "metadata": {},
   "outputs": [
    {
     "name": "stdout",
     "output_type": "stream",
     "text": [
      "Amount deposited successfully.Total = 1500\n"
     ]
    }
   ],
   "source": [
    "ba.deposit(500)"
   ]
  },
  {
   "cell_type": "code",
   "execution_count": 23,
   "id": "11bb28e8-6541-4564-9926-d5f291686179",
   "metadata": {},
   "outputs": [
    {
     "name": "stdout",
     "output_type": "stream",
     "text": [
      "Amount withdrwn successfully.Total = -2000\n"
     ]
    }
   ],
   "source": [
    "ba.withdraw(3500)"
   ]
  },
  {
   "cell_type": "code",
   "execution_count": null,
   "id": "37e96461-0d53-46bd-a62e-856d1d33c481",
   "metadata": {},
   "outputs": [],
   "source": []
  },
  {
   "cell_type": "code",
   "execution_count": null,
   "id": "d5d761be-ffef-4799-b813-8acd100edd84",
   "metadata": {},
   "outputs": [],
   "source": []
  },
  {
   "cell_type": "code",
   "execution_count": null,
   "id": "8b5a777e-61de-4800-a412-78f56c9f3e83",
   "metadata": {},
   "outputs": [],
   "source": []
  },
  {
   "cell_type": "code",
   "execution_count": null,
   "id": "549caef5-e1b4-4984-a529-a4abaadc4c27",
   "metadata": {},
   "outputs": [],
   "source": []
  }
 ],
 "metadata": {
  "kernelspec": {
   "display_name": "Python 3 (ipykernel)",
   "language": "python",
   "name": "python3"
  },
  "language_info": {
   "codemirror_mode": {
    "name": "ipython",
    "version": 3
   },
   "file_extension": ".py",
   "mimetype": "text/x-python",
   "name": "python",
   "nbconvert_exporter": "python",
   "pygments_lexer": "ipython3",
   "version": "3.12.4"
  }
 },
 "nbformat": 4,
 "nbformat_minor": 5
}
