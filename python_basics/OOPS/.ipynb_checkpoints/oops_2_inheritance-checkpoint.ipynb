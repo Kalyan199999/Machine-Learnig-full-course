{
 "cells": [
  {
   "cell_type": "markdown",
   "id": "086aad7f-150a-4f98-97d5-183cadfec107",
   "metadata": {},
   "source": [
    "### Inheritance allows the class to inherit the attributes and methodsw from the another class"
   ]
  },
  {
   "cell_type": "code",
   "execution_count": null,
   "id": "186be268-8c45-4de1-b927-54de117d5b88",
   "metadata": {},
   "outputs": [],
   "source": []
  },
  {
   "cell_type": "markdown",
   "id": "4ca0fd79-2dab-4ec1-a7f0-edc5ffebeb3f",
   "metadata": {},
   "source": [
    "### single heritance-->the class inherit the members from the single base class"
   ]
  },
  {
   "cell_type": "code",
   "execution_count": 1,
   "id": "8f746c9a-20c8-42b5-b87b-0353815d3ad6",
   "metadata": {},
   "outputs": [],
   "source": [
    "class Car:\n",
    "    \n",
    "    def __init__(self,windows,doors,engineType='petrol'):\n",
    "        self.windows = windows\n",
    "        self.doors = doors\n",
    "        self.engineType = engineType\n",
    "        print('This is a car protoctype')\n",
    "        \n",
    "    def drive(self):\n",
    "        print(f'The person is driving the {self.engineType} car')"
   ]
  },
  {
   "cell_type": "code",
   "execution_count": 2,
   "id": "f2dd8660-0e1b-4b02-961a-dbf72530b0f6",
   "metadata": {},
   "outputs": [
    {
     "name": "stdout",
     "output_type": "stream",
     "text": [
      "This is a car protoctype\n",
      "The person is driving the petrol car\n"
     ]
    }
   ],
   "source": [
    "c1 = Car(4,2)\n",
    "\n",
    "c1.drive()"
   ]
  },
  {
   "cell_type": "code",
   "execution_count": null,
   "id": "69b60c29-a6f1-40c6-aa73-6f0d4193c53c",
   "metadata": {},
   "outputs": [],
   "source": []
  },
  {
   "cell_type": "markdown",
   "id": "920a2992-68b2-4dfb-bbf6-be7a14ab45b1",
   "metadata": {},
   "source": [
    "### inheriting"
   ]
  },
  {
   "cell_type": "code",
   "execution_count": 3,
   "id": "d6071e73-c3fc-49a3-9b43-1ac5a1d642f8",
   "metadata": {},
   "outputs": [],
   "source": [
    "class Tesla(Car):\n",
    "   def __init__(self,windows,doors,engineType='petrol',is_self_driving=True):\n",
    "       # calling the base class construtor\n",
    "       super().__init__(windows,doors,engineType)\n",
    "       self.is_self_driving = is_self_driving\n",
    "       print('This is a Tesla car')\n",
    "   \n",
    "   def selfdriving(self):\n",
    "        print(f'Tesla support self driving cars:{self.is_self_driving}')"
   ]
  },
  {
   "cell_type": "code",
   "execution_count": 4,
   "id": "7e9586af-d84d-4990-ae95-4aaf56f85af1",
   "metadata": {},
   "outputs": [
    {
     "name": "stdout",
     "output_type": "stream",
     "text": [
      "This is a car protoctype\n",
      "This is a Tesla car\n"
     ]
    }
   ],
   "source": [
    "tesla = Tesla(4,4,'Electrical',True)"
   ]
  },
  {
   "cell_type": "code",
   "execution_count": 5,
   "id": "8c01e6b5-3663-4087-b196-bc13de629008",
   "metadata": {},
   "outputs": [
    {
     "name": "stdout",
     "output_type": "stream",
     "text": [
      "The person is driving the Electrical car\n"
     ]
    }
   ],
   "source": [
    "tesla.drive()"
   ]
  },
  {
   "cell_type": "code",
   "execution_count": 6,
   "id": "f2a73ecc-da92-49d4-8f36-b0f6b75d45f3",
   "metadata": {},
   "outputs": [
    {
     "name": "stdout",
     "output_type": "stream",
     "text": [
      "Tesla support self driving cars:True\n"
     ]
    }
   ],
   "source": [
    "tesla.selfdriving()"
   ]
  },
  {
   "cell_type": "code",
   "execution_count": null,
   "id": "910d52fb-3767-4099-ae6f-0138a1abd95c",
   "metadata": {},
   "outputs": [],
   "source": []
  },
  {
   "cell_type": "markdown",
   "id": "a8315948-563b-418c-ad05-90281269d4ec",
   "metadata": {},
   "source": [
    "# Multiple Inheritance"
   ]
  },
  {
   "cell_type": "markdown",
   "id": "66143aac-5148-4b54-aa7e-397d170c4f7d",
   "metadata": {},
   "source": [
    "### It inherit from more than a single class"
   ]
  },
  {
   "cell_type": "code",
   "execution_count": 7,
   "id": "05809db0-6a96-4214-8b58-1523bea6f038",
   "metadata": {},
   "outputs": [],
   "source": [
    "class Animal:\n",
    "    def __init__(self,name):\n",
    "        print('This is a Animal Class')\n",
    "        self.name = name\n",
    "    def speack(self):\n",
    "        print(f\"I'm Speacking from the Animal class and my name is {self.name}\")"
   ]
  },
  {
   "cell_type": "code",
   "execution_count": 8,
   "id": "7e1cc35c-de7f-4743-8c32-dfc3d8a0e2c5",
   "metadata": {},
   "outputs": [],
   "source": [
    "class Pet:\n",
    "    def __init__(self , owner):\n",
    "        print('This is a pet class')\n",
    "        self.owner = owner\n",
    "    def talk(self):\n",
    "        print(f\"I'm talking from the Pet class and owner name is {self.owner}\")"
   ]
  },
  {
   "cell_type": "code",
   "execution_count": 9,
   "id": "be672b0d-608d-4e65-a3af-c61d5f44c291",
   "metadata": {},
   "outputs": [],
   "source": [
    "class Dog(Animal,Pet):\n",
    "    def __init__(self,name,owner):\n",
    "        Animal.__init__(self,name)\n",
    "        Pet.__init__(self,owner)\n",
    "        print('This is a Dog class')\n",
    "    def speack(self):\n",
    "        print(\"The dog is screaming like wooof\")"
   ]
  },
  {
   "cell_type": "code",
   "execution_count": null,
   "id": "86f03370-2012-4d5f-91f9-ebc5d3e68799",
   "metadata": {},
   "outputs": [],
   "source": []
  },
  {
   "cell_type": "code",
   "execution_count": 10,
   "id": "854b0a8d-08c8-46c6-90ad-f2f10fc47fa6",
   "metadata": {},
   "outputs": [
    {
     "name": "stdout",
     "output_type": "stream",
     "text": [
      "This is a Animal Class\n",
      "This is a pet class\n",
      "This is a Dog class\n"
     ]
    }
   ],
   "source": [
    "dog = Dog('Kalyan','Pavan')"
   ]
  },
  {
   "cell_type": "code",
   "execution_count": 11,
   "id": "b4cf7f0e-9e98-42c8-b2b3-d766ca8ee262",
   "metadata": {},
   "outputs": [
    {
     "name": "stdout",
     "output_type": "stream",
     "text": [
      "The dog is screaming like wooof\n"
     ]
    }
   ],
   "source": [
    "dog.speack()"
   ]
  },
  {
   "cell_type": "code",
   "execution_count": null,
   "id": "c25012d4-b065-4b75-9581-78a4fa458a7d",
   "metadata": {},
   "outputs": [],
   "source": []
  }
 ],
 "metadata": {
  "kernelspec": {
   "display_name": "Python 3 (ipykernel)",
   "language": "python",
   "name": "python3"
  },
  "language_info": {
   "codemirror_mode": {
    "name": "ipython",
    "version": 3
   },
   "file_extension": ".py",
   "mimetype": "text/x-python",
   "name": "python",
   "nbconvert_exporter": "python",
   "pygments_lexer": "ipython3",
   "version": "3.12.4"
  }
 },
 "nbformat": 4,
 "nbformat_minor": 5
}
