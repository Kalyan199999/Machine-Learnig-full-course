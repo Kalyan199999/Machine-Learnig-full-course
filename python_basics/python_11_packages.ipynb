{
 "cells": [
  {
   "cell_type": "markdown",
   "id": "b0faa90c-7ec4-4c6b-a767-013fdbb0668e",
   "metadata": {},
   "source": [
    "# Modules and packages"
   ]
  },
  {
   "cell_type": "code",
   "execution_count": null,
   "id": "90126699-7ef4-4d6c-a6a6-ee4484242b79",
   "metadata": {},
   "outputs": [],
   "source": []
  },
  {
   "cell_type": "markdown",
   "id": "b73c9abf-e95e-41d1-8881-f92c55ec132a",
   "metadata": {},
   "source": [
    "### import the package math"
   ]
  },
  {
   "cell_type": "code",
   "execution_count": 1,
   "id": "de074e63-a3af-4601-bfae-93f4f8bba6f1",
   "metadata": {},
   "outputs": [],
   "source": [
    "import math"
   ]
  },
  {
   "cell_type": "code",
   "execution_count": 2,
   "id": "eb999d64-788b-4907-ad94-b1f5241ac96c",
   "metadata": {},
   "outputs": [
    {
     "name": "stdout",
     "output_type": "stream",
     "text": [
      "4.0\n"
     ]
    }
   ],
   "source": [
    "print( math.sqrt(16) )"
   ]
  },
  {
   "cell_type": "code",
   "execution_count": 3,
   "id": "3e7b5c17-0a99-4215-bbde-29600bd8fbbe",
   "metadata": {},
   "outputs": [
    {
     "name": "stdout",
     "output_type": "stream",
     "text": [
      "7.0\n"
     ]
    }
   ],
   "source": [
    "print( math.sqrt(49) )"
   ]
  },
  {
   "cell_type": "code",
   "execution_count": null,
   "id": "c0797fea-f4bd-419e-b37d-946c91b17bf3",
   "metadata": {},
   "outputs": [],
   "source": []
  },
  {
   "cell_type": "markdown",
   "id": "f702b212-2fdb-49a6-a06b-c586be391440",
   "metadata": {},
   "source": [
    "### import only some of features from the package"
   ]
  },
  {
   "cell_type": "code",
   "execution_count": 4,
   "id": "7759af70-d8ec-4611-a4db-aae4513aa1bc",
   "metadata": {},
   "outputs": [],
   "source": [
    "from math import sqrt , pi "
   ]
  },
  {
   "cell_type": "code",
   "execution_count": 6,
   "id": "eb23dd82-f83f-447b-9dac-a5d7b9e60f54",
   "metadata": {},
   "outputs": [
    {
     "name": "stdout",
     "output_type": "stream",
     "text": [
      "10.0\n"
     ]
    }
   ],
   "source": [
    "print( sqrt(100) )"
   ]
  },
  {
   "cell_type": "code",
   "execution_count": 7,
   "id": "56764222-6aa7-43fa-a9e6-d97ee20c9320",
   "metadata": {},
   "outputs": [
    {
     "name": "stdout",
     "output_type": "stream",
     "text": [
      "3.141592653589793\n"
     ]
    }
   ],
   "source": [
    "print( pi )"
   ]
  },
  {
   "cell_type": "code",
   "execution_count": null,
   "id": "05ba822c-b640-404d-92dc-32fe216452a6",
   "metadata": {},
   "outputs": [],
   "source": []
  },
  {
   "cell_type": "markdown",
   "id": "528e2787-c497-41d0-be1e-8f7c4956cfb5",
   "metadata": {},
   "source": [
    "### import all the features from the packges"
   ]
  },
  {
   "cell_type": "code",
   "execution_count": 8,
   "id": "bef8cab1-873a-4eab-8768-629650b6938f",
   "metadata": {},
   "outputs": [],
   "source": [
    "from math import *"
   ]
  },
  {
   "cell_type": "code",
   "execution_count": 12,
   "id": "731c7b00-a44c-42f9-b277-e50261e5417a",
   "metadata": {},
   "outputs": [
    {
     "name": "stdout",
     "output_type": "stream",
     "text": [
      "5.0\n"
     ]
    }
   ],
   "source": [
    "print( sqrt(25) )"
   ]
  },
  {
   "cell_type": "code",
   "execution_count": 13,
   "id": "e2891865-1095-4ab4-9fb5-78be48ddd6fe",
   "metadata": {},
   "outputs": [
    {
     "name": "stdout",
     "output_type": "stream",
     "text": [
      "3.141592653589793\n"
     ]
    }
   ],
   "source": [
    "print(pi)"
   ]
  },
  {
   "cell_type": "code",
   "execution_count": 14,
   "id": "779b8590-afe4-4a1e-9823-71514deb3232",
   "metadata": {},
   "outputs": [
    {
     "name": "stdout",
     "output_type": "stream",
     "text": [
      "7.38905609893065\n"
     ]
    }
   ],
   "source": [
    "print( exp(2) )"
   ]
  },
  {
   "cell_type": "code",
   "execution_count": 17,
   "id": "2e06d668-68bb-4f7e-a01f-bb6ca43e0026",
   "metadata": {},
   "outputs": [
    {
     "name": "stdout",
     "output_type": "stream",
     "text": [
      "0.8509035245341184\n"
     ]
    }
   ],
   "source": [
    "print( sin(45) )"
   ]
  },
  {
   "cell_type": "code",
   "execution_count": null,
   "id": "c9d09d92-5bdc-4c5b-a99e-29f4278f55c8",
   "metadata": {},
   "outputs": [],
   "source": []
  },
  {
   "cell_type": "code",
   "execution_count": 24,
   "id": "34ea7a1c-5a6d-44c2-ab2f-06dad4a39162",
   "metadata": {},
   "outputs": [],
   "source": [
    "# from packages.maths import addition"
   ]
  },
  {
   "cell_type": "code",
   "execution_count": null,
   "id": "4ee85f95-7059-494d-8858-0c9c64607a71",
   "metadata": {},
   "outputs": [],
   "source": []
  },
  {
   "cell_type": "code",
   "execution_count": null,
   "id": "0422477e-ad5c-49a8-9830-806686a2b7b6",
   "metadata": {},
   "outputs": [],
   "source": []
  },
  {
   "cell_type": "code",
   "execution_count": null,
   "id": "f6309a24-3e7a-4b5a-ad1e-f7dcb4246717",
   "metadata": {},
   "outputs": [],
   "source": []
  }
 ],
 "metadata": {
  "kernelspec": {
   "display_name": "Python 3 (ipykernel)",
   "language": "python",
   "name": "python3"
  },
  "language_info": {
   "codemirror_mode": {
    "name": "ipython",
    "version": 3
   },
   "file_extension": ".py",
   "mimetype": "text/x-python",
   "name": "python",
   "nbconvert_exporter": "python",
   "pygments_lexer": "ipython3",
   "version": "3.12.4"
  }
 },
 "nbformat": 4,
 "nbformat_minor": 5
}
