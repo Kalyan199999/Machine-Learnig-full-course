{
 "cells": [
  {
   "cell_type": "markdown",
   "id": "16b1554a-9ac1-4a31-aa37-854acdd99899",
   "metadata": {},
   "source": [
    "# Exception Handling"
   ]
  },
  {
   "cell_type": "markdown",
   "id": "918936d7-030a-4f7a-a16f-d29cc2520224",
   "metadata": {},
   "source": [
    "### exceptions are errors that occur during the execution of a program. Instead of crashing the program, you can handle these exceptions gracefully using try, except, else, and finally blocks."
   ]
  },
  {
   "cell_type": "code",
   "execution_count": null,
   "id": "353a17ab-b2e8-4df0-bf9f-7f48a6707286",
   "metadata": {},
   "outputs": [],
   "source": []
  },
  {
   "cell_type": "markdown",
   "id": "2a1c893e-a119-4eaa-84ad-be64c05c59fd",
   "metadata": {},
   "source": [
    "### Exception :\tDescription\n",
    "### ZeroDivisionError :\tDivision by zero\n",
    "### ValueError :\tWrong value type (e.g., int(\"abc\"))\n",
    "### TypeError :\tIncompatible types (e.g., \"a\" + 1)\n",
    "### IndexError :\tInvalid list index\n",
    "### KeyError :\tMissing key in dictionary\n",
    "### FileNotFoundError :\tFile doesn't exist\n",
    "### AttributeError :\tMissing object attribute\n",
    "### ImportError :\tModule not found"
   ]
  },
  {
   "cell_type": "code",
   "execution_count": null,
   "id": "d7ad31bb-27fa-4e31-a9d7-0b225cecdc19",
   "metadata": {},
   "outputs": [],
   "source": []
  },
  {
   "cell_type": "code",
   "execution_count": 1,
   "id": "19e5f3ff-6b70-48ff-969a-75660bd72ccc",
   "metadata": {},
   "outputs": [],
   "source": [
    "a = 10"
   ]
  },
  {
   "cell_type": "markdown",
   "id": "2321c931-5ddb-4191-baa9-dd77c12f4441",
   "metadata": {},
   "source": [
    "### Name Error"
   ]
  },
  {
   "cell_type": "code",
   "execution_count": 2,
   "id": "0ed81c61-2a3d-46ee-a8ec-7e82ca168d55",
   "metadata": {},
   "outputs": [
    {
     "name": "stdout",
     "output_type": "stream",
     "text": [
      "Varible not defined!\n"
     ]
    }
   ],
   "source": [
    "try:\n",
    "    a=b\n",
    "except:\n",
    "    print('Varible not defined!')"
   ]
  },
  {
   "cell_type": "code",
   "execution_count": 3,
   "id": "2722abce-2435-45e3-b19e-babf4ae70619",
   "metadata": {},
   "outputs": [
    {
     "name": "stdout",
     "output_type": "stream",
     "text": [
      "name 'b' is not defined\n"
     ]
    }
   ],
   "source": [
    "try:\n",
    "    a = b\n",
    "except NameError as err:\n",
    "    print(err)"
   ]
  },
  {
   "cell_type": "code",
   "execution_count": null,
   "id": "ee23cc5b-9b0c-4151-98f0-3ed7afe7b68a",
   "metadata": {},
   "outputs": [],
   "source": []
  },
  {
   "cell_type": "markdown",
   "id": "f5f52d78-70b5-41b6-b6da-eccb1426da5b",
   "metadata": {},
   "source": [
    "### zero divide by error"
   ]
  },
  {
   "cell_type": "code",
   "execution_count": 4,
   "id": "7cc16610-8055-42ee-9caf-2fac5ae1ec42",
   "metadata": {},
   "outputs": [
    {
     "ename": "NameError",
     "evalue": "name 'b' is not defined",
     "output_type": "error",
     "traceback": [
      "\u001b[1;31m---------------------------------------------------------------------------\u001b[0m",
      "\u001b[1;31mNameError\u001b[0m                                 Traceback (most recent call last)",
      "Cell \u001b[1;32mIn[4], line 2\u001b[0m\n\u001b[0;32m      1\u001b[0m \u001b[38;5;28;01mtry\u001b[39;00m:\n\u001b[1;32m----> 2\u001b[0m     \u001b[38;5;28mprint\u001b[39m( a \u001b[38;5;241m=\u001b[39mb )\n\u001b[0;32m      3\u001b[0m \u001b[38;5;28;01mexcept\u001b[39;00m \u001b[38;5;167;01mZeroDivisionError\u001b[39;00m \u001b[38;5;28;01mas\u001b[39;00m err:\n\u001b[0;32m      4\u001b[0m     \u001b[38;5;28mprint\u001b[39m(err)\n",
      "\u001b[1;31mNameError\u001b[0m: name 'b' is not defined"
     ]
    }
   ],
   "source": [
    "try:\n",
    "    print( a =b )\n",
    "except ZeroDivisionError as err:\n",
    "    print(err)"
   ]
  },
  {
   "cell_type": "code",
   "execution_count": null,
   "id": "71fde31e-ad06-4e1a-aa17-933faef7d503",
   "metadata": {},
   "outputs": [],
   "source": []
  },
  {
   "cell_type": "markdown",
   "id": "de64a6d7-b5bc-42ee-8bc2-f3114d5fcbb5",
   "metadata": {},
   "source": [
    "### Value error"
   ]
  },
  {
   "cell_type": "code",
   "execution_count": null,
   "id": "ae52ef4b-cd95-4087-b027-6b31f4229f75",
   "metadata": {},
   "outputs": [],
   "source": [
    "try:\n",
    "    a = int(\"kali\")\n",
    "except ValueError as err:\n",
    "    print(err)"
   ]
  },
  {
   "cell_type": "code",
   "execution_count": null,
   "id": "30e1eb77-16cc-42b4-91fd-99e555b41d48",
   "metadata": {},
   "outputs": [],
   "source": []
  },
  {
   "cell_type": "code",
   "execution_count": null,
   "id": "70a8b2b7-df42-4a48-8d8b-53419f6f6753",
   "metadata": {},
   "outputs": [],
   "source": []
  },
  {
   "cell_type": "markdown",
   "id": "2dbe9952-8835-40ee-acb3-40337e1b62d0",
   "metadata": {},
   "source": [
    "### multiple errors"
   ]
  },
  {
   "cell_type": "code",
   "execution_count": null,
   "id": "f9759bf8-c241-4a4b-9f87-86516ddaabc1",
   "metadata": {},
   "outputs": [],
   "source": [
    "# else only executes only if there is no exception\n",
    "\n",
    "try:\n",
    "    a = 10\n",
    "    b = int(input(\"Enter number\"))\n",
    "except NameError as err:\n",
    "    print(err)\n",
    "except ValueError as err:\n",
    "    print(err)\n",
    "except ZeroDivisionError as err:\n",
    "    print(err)\n",
    "else:\n",
    "    print(f'The result is {a/b}')"
   ]
  },
  {
   "cell_type": "code",
   "execution_count": null,
   "id": "e286e894-e780-470b-9279-880ce416b52d",
   "metadata": {},
   "outputs": [],
   "source": []
  },
  {
   "cell_type": "markdown",
   "id": "f1cf1feb-5b4b-4d5a-8c56-ba73a8e8705d",
   "metadata": {},
   "source": [
    "### Handle any exception"
   ]
  },
  {
   "cell_type": "code",
   "execution_count": null,
   "id": "087c8b4f-625b-46e7-b0d2-84b863be4450",
   "metadata": {},
   "outputs": [],
   "source": [
    "try:\n",
    "    a = 10\n",
    "    b = int(input(\"Enter number\"))\n",
    "except Exception as err:\n",
    "    print(err)\n",
    "else:\n",
    "     print(f'The result is {a/b}')"
   ]
  },
  {
   "cell_type": "code",
   "execution_count": null,
   "id": "e4953282-761e-403a-b398-f1a9b1a07731",
   "metadata": {},
   "outputs": [],
   "source": []
  },
  {
   "cell_type": "markdown",
   "id": "0e1d55e5-b8c9-47d2-a0b4-09b27b98d129",
   "metadata": {},
   "source": [
    "### try except else and finally"
   ]
  },
  {
   "cell_type": "code",
   "execution_count": null,
   "id": "9d7ac33c-93c3-49ed-940c-cc8a6048343c",
   "metadata": {},
   "outputs": [],
   "source": [
    "# finally executes every time\n",
    "\n",
    "try:\n",
    "    a = 10\n",
    "    b = int(input(\"Enter number\"))\n",
    "except NameError as err:\n",
    "    print(err)\n",
    "except ValueError as err:\n",
    "    print(err)\n",
    "except ZeroDivisionError as err:\n",
    "    print(err)\n",
    "else:\n",
    "    print(f'The result is {a/b}')\n",
    "finally:\n",
    "    print('Execution completed!')"
   ]
  },
  {
   "cell_type": "code",
   "execution_count": null,
   "id": "ea900bc8-50fe-4664-82bf-4e71413146d0",
   "metadata": {},
   "outputs": [],
   "source": []
  }
 ],
 "metadata": {
  "kernelspec": {
   "display_name": "Python 3 (ipykernel)",
   "language": "python",
   "name": "python3"
  },
  "language_info": {
   "codemirror_mode": {
    "name": "ipython",
    "version": 3
   },
   "file_extension": ".py",
   "mimetype": "text/x-python",
   "name": "python",
   "nbconvert_exporter": "python",
   "pygments_lexer": "ipython3",
   "version": "3.12.4"
  }
 },
 "nbformat": 4,
 "nbformat_minor": 5
}
