{
 "cells": [
  {
   "cell_type": "markdown",
   "id": "b609c721-85e3-4087-8f82-7ece33afd05e",
   "metadata": {},
   "source": [
    "# Sets"
   ]
  },
  {
   "cell_type": "code",
   "execution_count": null,
   "id": "ad4795c7-ff0a-452e-9f23-b4da29ac2b48",
   "metadata": {},
   "outputs": [],
   "source": []
  },
  {
   "cell_type": "markdown",
   "id": "e8076489-f4c8-4c40-83b1-f273912f6387",
   "metadata": {},
   "source": [
    "### sets are used to the unique items(do not store the duplicate elements) and they are unordered"
   ]
  },
  {
   "cell_type": "code",
   "execution_count": null,
   "id": "311909ab-62cb-4b1d-a690-6df0aeb887ca",
   "metadata": {},
   "outputs": [],
   "source": []
  },
  {
   "cell_type": "markdown",
   "id": "2fa65cd6-8491-4d5b-bdc5-ba99ff91b56e",
   "metadata": {},
   "source": [
    "# Create Set"
   ]
  },
  {
   "cell_type": "code",
   "execution_count": 1,
   "id": "1e65a979-8196-4932-8c7c-7986e72508da",
   "metadata": {},
   "outputs": [
    {
     "name": "stdout",
     "output_type": "stream",
     "text": [
      "{1, 2, 3, 4, 5, 6}\n"
     ]
    }
   ],
   "source": [
    "s1 = {\n",
    "    1,2,3,4,5,2,6,1,2\n",
    "}\n",
    "\n",
    "print(s1)"
   ]
  },
  {
   "cell_type": "code",
   "execution_count": 2,
   "id": "0122d516-68d8-46bb-ac33-0277fc72cc51",
   "metadata": {},
   "outputs": [
    {
     "name": "stdout",
     "output_type": "stream",
     "text": [
      "{1, 2, 3, 4, 5}\n"
     ]
    }
   ],
   "source": [
    "s2 = set( [1,2,3,4,5] )\n",
    "\n",
    "print(s2)"
   ]
  },
  {
   "cell_type": "code",
   "execution_count": null,
   "id": "d629cec0-be4e-4fb0-95a4-491eec072b7f",
   "metadata": {},
   "outputs": [],
   "source": []
  },
  {
   "cell_type": "markdown",
   "id": "797ed877-40d3-4111-a000-871f0b6945ca",
   "metadata": {},
   "source": [
    "### Set Methods"
   ]
  },
  {
   "cell_type": "code",
   "execution_count": null,
   "id": "db7265a5-6b12-478b-a166-e08ca8dbc9da",
   "metadata": {},
   "outputs": [],
   "source": []
  },
  {
   "cell_type": "code",
   "execution_count": 3,
   "id": "2478f83a-3d91-44d8-a1f7-fe262563e3ff",
   "metadata": {},
   "outputs": [
    {
     "name": "stdout",
     "output_type": "stream",
     "text": [
      "{1, 2, 3, 4, 5, 6, 7, 8, 9}\n"
     ]
    }
   ],
   "source": [
    "s3 = set()\n",
    "\n",
    "# Add item\n",
    "\n",
    "for i in range(1,10):\n",
    "    s3.add(i)\n",
    "\n",
    "print(s3)"
   ]
  },
  {
   "cell_type": "code",
   "execution_count": 4,
   "id": "45613c7c-ec51-4993-a041-89df36ad205c",
   "metadata": {},
   "outputs": [
    {
     "name": "stdout",
     "output_type": "stream",
     "text": [
      "{2, 3, 4, 5, 6, 7, 8, 9}\n"
     ]
    }
   ],
   "source": [
    "# Remove Item if it is present\n",
    "\n",
    "s3.remove(1)\n",
    "print(s3)"
   ]
  },
  {
   "cell_type": "code",
   "execution_count": null,
   "id": "e7144368-05c1-4f0a-a063-3cbfc50c855b",
   "metadata": {},
   "outputs": [],
   "source": []
  },
  {
   "cell_type": "code",
   "execution_count": 5,
   "id": "ab216336-1d18-4c52-8dea-e5bf7971e026",
   "metadata": {},
   "outputs": [
    {
     "name": "stdout",
     "output_type": "stream",
     "text": [
      "{2, 3, 4, 5, 6, 7, 8, 9}\n"
     ]
    }
   ],
   "source": [
    "# Remove Item if it is present \n",
    "\n",
    "s3.discard( 10 )\n",
    "\n",
    "print(s3)"
   ]
  },
  {
   "cell_type": "code",
   "execution_count": null,
   "id": "408b66fa-cca4-42bb-9569-d311ca99150f",
   "metadata": {},
   "outputs": [],
   "source": []
  },
  {
   "cell_type": "code",
   "execution_count": 6,
   "id": "fc2a734b-f3cd-4681-bfe1-81a79dbbe291",
   "metadata": {},
   "outputs": [
    {
     "name": "stdout",
     "output_type": "stream",
     "text": [
      "2\n",
      "{3, 4, 5, 6, 7, 8, 9}\n"
     ]
    }
   ],
   "source": [
    "# Remove the first element\n",
    "\n",
    "poped_ele = s3.pop()\n",
    "\n",
    "print(poped_ele)\n",
    "\n",
    "print(s3)"
   ]
  },
  {
   "cell_type": "code",
   "execution_count": 7,
   "id": "194296d1-0449-46c9-99a7-628d92653114",
   "metadata": {},
   "outputs": [
    {
     "name": "stdout",
     "output_type": "stream",
     "text": [
      "set()\n"
     ]
    }
   ],
   "source": [
    "# Clear the Set\n",
    "s3.clear()\n",
    "\n",
    "print(s3)"
   ]
  },
  {
   "cell_type": "code",
   "execution_count": null,
   "id": "a701e829-908c-43da-955d-f3fdb970b8fc",
   "metadata": {},
   "outputs": [],
   "source": [
    " "
   ]
  },
  {
   "cell_type": "code",
   "execution_count": 8,
   "id": "ffb81cb1-cf10-4c23-a4d8-0b4312d8b751",
   "metadata": {},
   "outputs": [
    {
     "name": "stdout",
     "output_type": "stream",
     "text": [
      "True\n",
      "False\n"
     ]
    }
   ],
   "source": [
    "# Item is present in set or not\n",
    "\n",
    "print( 3 in s2 )\n",
    "\n",
    "print( 19 in s2 )"
   ]
  },
  {
   "cell_type": "code",
   "execution_count": null,
   "id": "dfe09382-8c01-465f-b91a-f30601046b3b",
   "metadata": {},
   "outputs": [],
   "source": []
  },
  {
   "cell_type": "markdown",
   "id": "92418fb2-3008-4d1a-8249-abdbd7c41ebb",
   "metadata": {},
   "source": [
    "### Mathematical operations"
   ]
  },
  {
   "cell_type": "code",
   "execution_count": 9,
   "id": "5cc2e963-5675-4ad7-a885-7a7d34e2af6e",
   "metadata": {},
   "outputs": [],
   "source": [
    "s1 = {1,2,3,4,5,6}\n",
    "\n",
    "s2 = {3,4,5,6,7,8}\n",
    "\n",
    "union = s1.union(s2)\n",
    "\n",
    "intersection = s1.intersection(s2)\n",
    "\n",
    "difference = s1.difference(s2)"
   ]
  },
  {
   "cell_type": "code",
   "execution_count": 10,
   "id": "cbe362b8-b638-44a1-9f26-cb801f4e8c36",
   "metadata": {},
   "outputs": [
    {
     "name": "stdout",
     "output_type": "stream",
     "text": [
      "{1, 2, 3, 4, 5, 6}\n",
      "{3, 4, 5, 6, 7, 8}\n"
     ]
    }
   ],
   "source": [
    "print(s1)\n",
    "print(s2)"
   ]
  },
  {
   "cell_type": "code",
   "execution_count": 11,
   "id": "70afce41-4629-4049-974a-758aee67e72f",
   "metadata": {},
   "outputs": [
    {
     "name": "stdout",
     "output_type": "stream",
     "text": [
      "{1, 2, 3, 4, 5, 6, 7, 8}\n",
      "{3, 4, 5, 6}\n",
      "{1, 2}\n"
     ]
    }
   ],
   "source": [
    "print(union)\n",
    "print(intersection)\n",
    "print(difference)"
   ]
  },
  {
   "cell_type": "code",
   "execution_count": null,
   "id": "14f3deaa-6559-4140-840c-5cf426b3406a",
   "metadata": {},
   "outputs": [],
   "source": []
  },
  {
   "cell_type": "code",
   "execution_count": null,
   "id": "892f9e32-0264-4c50-85a0-394d5c24c22b",
   "metadata": {},
   "outputs": [],
   "source": []
  },
  {
   "cell_type": "code",
   "execution_count": 12,
   "id": "e4b6662d-48bf-4593-b6eb-a343ae747a5a",
   "metadata": {},
   "outputs": [
    {
     "name": "stdout",
     "output_type": "stream",
     "text": [
      "{3, 4, 5, 6}\n"
     ]
    }
   ],
   "source": [
    "s1.intersection_update(s2)\n",
    "\n",
    "print(s1)"
   ]
  },
  {
   "cell_type": "code",
   "execution_count": null,
   "id": "9d6a75d9-c22f-48ec-8d81-6bd1edf0d607",
   "metadata": {},
   "outputs": [],
   "source": []
  },
  {
   "cell_type": "code",
   "execution_count": 13,
   "id": "0a690bb7-7c3a-44c7-93c5-56926388520a",
   "metadata": {},
   "outputs": [
    {
     "name": "stdout",
     "output_type": "stream",
     "text": [
      "True\n",
      "False\n"
     ]
    }
   ],
   "source": [
    "s1 = {1,2,3,4,5,6}\n",
    "\n",
    "s2 = {3,4,5,6}\n",
    "\n",
    "print(s1.issuperset(s2))\n",
    "\n",
    "print(s2.issuperset(s1))"
   ]
  },
  {
   "cell_type": "code",
   "execution_count": 14,
   "id": "cac0a826-4d89-40cd-ae40-e5d9a982d812",
   "metadata": {},
   "outputs": [
    {
     "name": "stdout",
     "output_type": "stream",
     "text": [
      "True\n"
     ]
    }
   ],
   "source": [
    "\n",
    "print(s2.issubset(s1))"
   ]
  },
  {
   "cell_type": "code",
   "execution_count": 15,
   "id": "d2417b7d-639e-481f-ae23-0efb3432928d",
   "metadata": {},
   "outputs": [
    {
     "name": "stdout",
     "output_type": "stream",
     "text": [
      "0 1\n",
      "1 2\n",
      "2 3\n",
      "3 4\n",
      "4 5\n",
      "5 6\n"
     ]
    }
   ],
   "source": [
    "for idx ,ele in enumerate(s1):\n",
    "    print(idx , ele)"
   ]
  },
  {
   "cell_type": "code",
   "execution_count": null,
   "id": "e1ce435a-0c46-49eb-8ca1-71d6988c348d",
   "metadata": {},
   "outputs": [],
   "source": []
  },
  {
   "cell_type": "code",
   "execution_count": 16,
   "id": "b3ff7a89-e72d-4ccc-a677-ad04e0ee0476",
   "metadata": {},
   "outputs": [
    {
     "name": "stdout",
     "output_type": "stream",
     "text": [
      "hey this is pavan kalyan\n",
      "['hey', 'this', 'is', 'pavan', 'kalyan']\n",
      "{'is', 'kalyan', 'hey', 'pavan', 'this'}\n"
     ]
    }
   ],
   "source": [
    "name = \"hey this is pavan kalyan\"\n",
    "print(name)\n",
    "\n",
    "words = name.split()\n",
    "print(words)\n",
    "\n",
    "unique_words = set(words)\n",
    "print(unique_words)"
   ]
  },
  {
   "cell_type": "code",
   "execution_count": null,
   "id": "e8f9d126-c3a5-44a3-a7f5-bb9e5f34d92e",
   "metadata": {},
   "outputs": [],
   "source": []
  }
 ],
 "metadata": {
  "kernelspec": {
   "display_name": "Python 3 (ipykernel)",
   "language": "python",
   "name": "python3"
  },
  "language_info": {
   "codemirror_mode": {
    "name": "ipython",
    "version": 3
   },
   "file_extension": ".py",
   "mimetype": "text/x-python",
   "name": "python",
   "nbconvert_exporter": "python",
   "pygments_lexer": "ipython3",
   "version": "3.12.4"
  }
 },
 "nbformat": 4,
 "nbformat_minor": 5
}
