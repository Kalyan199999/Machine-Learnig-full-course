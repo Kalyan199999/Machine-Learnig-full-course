{
 "cells": [
  {
   "cell_type": "code",
   "execution_count": null,
   "id": "3729f7aa-86b3-45ab-a46a-f23d7e185d06",
   "metadata": {},
   "outputs": [],
   "source": []
  },
  {
   "cell_type": "markdown",
   "id": "dda4d1dc-881c-4fb5-83a3-05f2cce2bf6a",
   "metadata": {},
   "source": [
    "### import numpy"
   ]
  },
  {
   "cell_type": "code",
   "execution_count": 1,
   "id": "ba9cb4b3-c6d7-49cd-b825-c5e625f20df1",
   "metadata": {},
   "outputs": [],
   "source": [
    "import numpy as np"
   ]
  },
  {
   "cell_type": "code",
   "execution_count": 2,
   "id": "2423cdaf-9f48-467d-921a-326ee2507d39",
   "metadata": {},
   "outputs": [],
   "source": [
    "l = [ 1,2,3 , 4,5,6 , 8,9,10 ]"
   ]
  },
  {
   "cell_type": "markdown",
   "id": "d86be76f-d2ca-46e0-a5ca-0ad07b01ccc5",
   "metadata": {},
   "source": [
    "### create the 1-D array"
   ]
  },
  {
   "cell_type": "code",
   "execution_count": 3,
   "id": "e332a9f0-54d3-43b2-8a98-3aba2e46ed3c",
   "metadata": {},
   "outputs": [],
   "source": [
    "array_1 = np.array(l)"
   ]
  },
  {
   "cell_type": "code",
   "execution_count": 4,
   "id": "0fca115d-49b0-481c-bc55-a68a72435283",
   "metadata": {},
   "outputs": [
    {
     "data": {
      "text/plain": [
       "array([ 1,  2,  3,  4,  5,  6,  8,  9, 10])"
      ]
     },
     "execution_count": 4,
     "metadata": {},
     "output_type": "execute_result"
    }
   ],
   "source": [
    "array_1"
   ]
  },
  {
   "cell_type": "markdown",
   "id": "6b661bb2-2f76-4170-82ac-0d93ff5d6d76",
   "metadata": {},
   "source": [
    "### check the dimension"
   ]
  },
  {
   "cell_type": "code",
   "execution_count": 5,
   "id": "bb098a89-d88c-4cd7-80d1-db5eb97031b2",
   "metadata": {},
   "outputs": [
    {
     "data": {
      "text/plain": [
       "1"
      ]
     },
     "execution_count": 5,
     "metadata": {},
     "output_type": "execute_result"
    }
   ],
   "source": [
    "array_1.ndim"
   ]
  },
  {
   "cell_type": "code",
   "execution_count": 6,
   "id": "64c039fa-51f3-4803-ad71-5576f40c3925",
   "metadata": {},
   "outputs": [
    {
     "data": {
      "text/plain": [
       "(9,)"
      ]
     },
     "execution_count": 6,
     "metadata": {},
     "output_type": "execute_result"
    }
   ],
   "source": [
    "array_1.shape"
   ]
  },
  {
   "cell_type": "markdown",
   "id": "7a2fa79c-8635-40bd-92a6-b398937230e5",
   "metadata": {},
   "source": [
    "### accessing the elements using the indexing"
   ]
  },
  {
   "cell_type": "code",
   "execution_count": 7,
   "id": "105c4b1b-8a7a-4ca6-8631-b692c602de0a",
   "metadata": {
    "scrolled": true
   },
   "outputs": [
    {
     "name": "stdout",
     "output_type": "stream",
     "text": [
      "1\n",
      "2\n",
      "3\n",
      "4\n",
      "5\n",
      "6\n",
      "8\n",
      "9\n",
      "10\n"
     ]
    }
   ],
   "source": [
    "for i in range(len(array_1)):\n",
    "    print(array_1[i])"
   ]
  },
  {
   "cell_type": "markdown",
   "id": "c927c097-b0ce-4c2d-a4b8-cc0b4a9c6175",
   "metadata": {},
   "source": [
    "### modify the array"
   ]
  },
  {
   "cell_type": "code",
   "execution_count": 8,
   "id": "a4bf11f8-587c-49b4-98d0-87e7d56db90c",
   "metadata": {},
   "outputs": [],
   "source": [
    "array_1[5]=100"
   ]
  },
  {
   "cell_type": "code",
   "execution_count": 9,
   "id": "31cccbf8-02f7-4b57-bd40-365b2eecb308",
   "metadata": {},
   "outputs": [
    {
     "data": {
      "text/plain": [
       "array([  1,   2,   3,   4,   5, 100,   8,   9,  10])"
      ]
     },
     "execution_count": 9,
     "metadata": {},
     "output_type": "execute_result"
    }
   ],
   "source": [
    "array_1"
   ]
  },
  {
   "cell_type": "code",
   "execution_count": 10,
   "id": "78e44b1a-6410-4f63-b6ec-84a32222bfce",
   "metadata": {},
   "outputs": [
    {
     "name": "stdout",
     "output_type": "stream",
     "text": [
      "[  4   5 100   8]\n"
     ]
    }
   ],
   "source": [
    "print(array_1[3:7])"
   ]
  },
  {
   "cell_type": "code",
   "execution_count": null,
   "id": "1b700b82-547d-4069-b3eb-37a1e0486262",
   "metadata": {},
   "outputs": [],
   "source": []
  },
  {
   "cell_type": "markdown",
   "id": "21d710d6-bd35-46f7-b3ef-4c86d5156ecc",
   "metadata": {},
   "source": [
    "### create the 2-D array"
   ]
  },
  {
   "cell_type": "code",
   "execution_count": 11,
   "id": "33d42d5f-3c3d-4d0c-83b2-c832b82bd0c5",
   "metadata": {},
   "outputs": [],
   "source": [
    "l = [\n",
    "    [1,2,3],\n",
    "    [4,5,6],\n",
    "    [7,8,9]\n",
    "]"
   ]
  },
  {
   "cell_type": "code",
   "execution_count": 12,
   "id": "50ae02d8-37f2-4f6d-92db-4755c9ab3e5a",
   "metadata": {},
   "outputs": [
    {
     "name": "stdout",
     "output_type": "stream",
     "text": [
      "[[1 2 3]\n",
      " [4 5 6]\n",
      " [7 8 9]]\n"
     ]
    }
   ],
   "source": [
    "array_2 = np.array(l)\n",
    "print(array_2)"
   ]
  },
  {
   "cell_type": "markdown",
   "id": "774d2b4a-71b1-468d-abbb-4c7d997ae3a1",
   "metadata": {},
   "source": [
    "### accessing the elements using the indexing"
   ]
  },
  {
   "cell_type": "code",
   "execution_count": 31,
   "id": "47df2d4d-7adb-4aa2-a3ac-a869d3ce8244",
   "metadata": {},
   "outputs": [
    {
     "data": {
      "text/plain": [
       "array([1, 2, 3])"
      ]
     },
     "execution_count": 31,
     "metadata": {},
     "output_type": "execute_result"
    }
   ],
   "source": [
    "array_2[0]"
   ]
  },
  {
   "cell_type": "code",
   "execution_count": 14,
   "id": "e2318f3c-4d79-4d32-bf7e-5b8819f1d956",
   "metadata": {},
   "outputs": [
    {
     "name": "stdout",
     "output_type": "stream",
     "text": [
      "1\n",
      "2\n",
      "3\n",
      "4\n",
      "5\n",
      "6\n",
      "7\n",
      "8\n",
      "9\n"
     ]
    }
   ],
   "source": [
    "for i in range( 0,len(array_2) ):\n",
    "    \n",
    "    for j in range(0,len(array_2[i])):\n",
    "        \n",
    "        print(array_2[i,j])\n",
    "        "
   ]
  },
  {
   "cell_type": "code",
   "execution_count": null,
   "id": "8a282e3e-1641-4919-a896-6041c99eb422",
   "metadata": {},
   "outputs": [],
   "source": []
  },
  {
   "cell_type": "markdown",
   "id": "d3e0309b-46fa-41d4-9423-1f386fb8b1eb",
   "metadata": {},
   "source": [
    "### Array attributes"
   ]
  },
  {
   "cell_type": "code",
   "execution_count": 15,
   "id": "3c1263d0-5932-4229-adef-e1da889a62ff",
   "metadata": {},
   "outputs": [
    {
     "name": "stdout",
     "output_type": "stream",
     "text": [
      "2\n"
     ]
    }
   ],
   "source": [
    "print(array_2.ndim)"
   ]
  },
  {
   "cell_type": "code",
   "execution_count": 16,
   "id": "f0dc9cec-d2b5-40ed-853b-8a29a2672ef7",
   "metadata": {},
   "outputs": [
    {
     "name": "stdout",
     "output_type": "stream",
     "text": [
      "(3, 3)\n"
     ]
    }
   ],
   "source": [
    "print(array_2.shape)"
   ]
  },
  {
   "cell_type": "code",
   "execution_count": 17,
   "id": "dc6a6f73-b155-4cf1-ade0-e8b64ff408f4",
   "metadata": {},
   "outputs": [
    {
     "name": "stdout",
     "output_type": "stream",
     "text": [
      "9\n"
     ]
    }
   ],
   "source": [
    "print(array_2.size)"
   ]
  },
  {
   "cell_type": "code",
   "execution_count": 18,
   "id": "e00d1407-8428-4850-aef5-803696dab359",
   "metadata": {},
   "outputs": [
    {
     "name": "stdout",
     "output_type": "stream",
     "text": [
      "int32\n"
     ]
    }
   ],
   "source": [
    "print(array_2.dtype)"
   ]
  },
  {
   "cell_type": "code",
   "execution_count": null,
   "id": "36a03a3e-c433-4ab6-a803-9dacf8011909",
   "metadata": {},
   "outputs": [],
   "source": []
  },
  {
   "cell_type": "markdown",
   "id": "9e890513-27db-4eda-9e95-f32200f3bbf2",
   "metadata": {},
   "source": [
    "# How to create a basic array"
   ]
  },
  {
   "cell_type": "code",
   "execution_count": null,
   "id": "e9e79116-f60c-4c41-b28b-f747728ca612",
   "metadata": {},
   "outputs": [],
   "source": []
  },
  {
   "cell_type": "markdown",
   "id": "0ddf6650-cf2c-437f-8eb6-7626f5e2ceca",
   "metadata": {},
   "source": [
    "### zero array"
   ]
  },
  {
   "cell_type": "code",
   "execution_count": 19,
   "id": "060ee720-40f0-452a-a3e0-10cc1d1938f6",
   "metadata": {},
   "outputs": [
    {
     "name": "stdout",
     "output_type": "stream",
     "text": [
      "[0. 0. 0. 0. 0.]\n",
      "**************\n",
      "[[0. 0. 0.]\n",
      " [0. 0. 0.]\n",
      " [0. 0. 0.]\n",
      " [0. 0. 0.]]\n"
     ]
    }
   ],
   "source": [
    "zeros_1_d = np.zeros(5)\n",
    "print(zeros_1_d)\n",
    "\n",
    "print(\"**************\")\n",
    "\n",
    "zeros_2_d = np.zeros( (4,3) )\n",
    "print(zeros_2_d)"
   ]
  },
  {
   "cell_type": "code",
   "execution_count": null,
   "id": "b791ecf1-ea4c-4951-91b3-586a643d07f1",
   "metadata": {},
   "outputs": [],
   "source": []
  },
  {
   "cell_type": "markdown",
   "id": "31f3e23b-a0f6-4e9a-b0f5-75a6684988d2",
   "metadata": {},
   "source": [
    "### ones array"
   ]
  },
  {
   "cell_type": "code",
   "execution_count": 20,
   "id": "c2a99719-337b-4f3e-95ac-6598a7898d3b",
   "metadata": {},
   "outputs": [
    {
     "name": "stdout",
     "output_type": "stream",
     "text": [
      "[1. 1. 1. 1. 1.]\n",
      "**************\n",
      "[[1. 1. 1.]\n",
      " [1. 1. 1.]\n",
      " [1. 1. 1.]\n",
      " [1. 1. 1.]]\n"
     ]
    }
   ],
   "source": [
    "ones_1_d = np.ones(5)\n",
    "print(ones_1_d)\n",
    "\n",
    "print(\"**************\")\n",
    "\n",
    "ones_2_d = np.ones( (4,3) )\n",
    "print(ones_2_d)"
   ]
  },
  {
   "cell_type": "code",
   "execution_count": null,
   "id": "fbe67bf4-6583-4a1b-8eb1-f298349fb649",
   "metadata": {},
   "outputs": [],
   "source": []
  },
  {
   "cell_type": "markdown",
   "id": "2dbcff3d-f048-4b28-aca7-73263ab51c6b",
   "metadata": {},
   "source": [
    "### Create an empty array "
   ]
  },
  {
   "cell_type": "code",
   "execution_count": 21,
   "id": "1ba4c17d-e650-4460-8e01-0161c3f8166c",
   "metadata": {},
   "outputs": [
    {
     "name": "stdout",
     "output_type": "stream",
     "text": [
      "[3.00671108e-197 5.02609341e-114]\n"
     ]
    }
   ],
   "source": [
    "empty = np.empty(2) \n",
    "print(empty)"
   ]
  },
  {
   "cell_type": "code",
   "execution_count": null,
   "id": "c3314ce1-7f86-4923-bea7-59403d129549",
   "metadata": {},
   "outputs": [],
   "source": []
  },
  {
   "cell_type": "markdown",
   "id": "5f0a10a1-c54d-490c-b4c6-20e798cb25a2",
   "metadata": {},
   "source": [
    "### create the array with the range of elements"
   ]
  },
  {
   "cell_type": "code",
   "execution_count": 22,
   "id": "2c6c245a-f076-4335-acdd-1dc98b492973",
   "metadata": {},
   "outputs": [
    {
     "name": "stdout",
     "output_type": "stream",
     "text": [
      "[0 1 2 3 4]\n"
     ]
    }
   ],
   "source": [
    "array = np.arange(5)\n",
    "print(array)"
   ]
  },
  {
   "cell_type": "code",
   "execution_count": 23,
   "id": "0b1b3aec-6ee6-46a0-a8f5-bfaedf6c5506",
   "metadata": {},
   "outputs": [
    {
     "name": "stdout",
     "output_type": "stream",
     "text": [
      "[10 11 12 13 14 15 16 17 18 19 20]\n"
     ]
    }
   ],
   "source": [
    "array = np.arange( 10,21 )\n",
    "print(array)"
   ]
  },
  {
   "cell_type": "code",
   "execution_count": 24,
   "id": "90a1dbbb-40d0-4c2b-82b1-f65e2c137713",
   "metadata": {},
   "outputs": [
    {
     "name": "stdout",
     "output_type": "stream",
     "text": [
      "[10. 15. 20. 25. 30. 35. 40. 45. 50.]\n"
     ]
    }
   ],
   "source": [
    "array = np.arange( 10.00 ,51,5)\n",
    "print(array)"
   ]
  },
  {
   "cell_type": "code",
   "execution_count": null,
   "id": "8c5ddcff-e319-46bc-a796-e52845950db7",
   "metadata": {},
   "outputs": [],
   "source": []
  },
  {
   "cell_type": "markdown",
   "id": "64ac0e39-0eda-4ce3-9c80-cb5a459e8b0f",
   "metadata": {},
   "source": [
    "### creating the array with linespace"
   ]
  },
  {
   "cell_type": "code",
   "execution_count": 25,
   "id": "00e017aa-fb94-439a-a502-b1ffe7966422",
   "metadata": {},
   "outputs": [
    {
     "data": {
      "text/plain": [
       "array([ 0. ,  2.5,  5. ,  7.5, 10. ])"
      ]
     },
     "execution_count": 25,
     "metadata": {},
     "output_type": "execute_result"
    }
   ],
   "source": [
    "np.linspace(0, 10, num=5)"
   ]
  },
  {
   "cell_type": "code",
   "execution_count": null,
   "id": "ee2c24ab-544c-4f46-a7e1-51414223d203",
   "metadata": {},
   "outputs": [],
   "source": []
  },
  {
   "cell_type": "code",
   "execution_count": 26,
   "id": "9a058904-06cd-442f-bd1d-7cfdfaf2ea32",
   "metadata": {},
   "outputs": [
    {
     "data": {
      "text/plain": [
       "array([20., 21., 22., 23., 24., 25., 26., 27., 28., 29., 30.])"
      ]
     },
     "execution_count": 26,
     "metadata": {},
     "output_type": "execute_result"
    }
   ],
   "source": [
    "np.arange(20,31,dtype=np.float64)"
   ]
  },
  {
   "cell_type": "code",
   "execution_count": null,
   "id": "bade287b-abaf-49fa-b006-f5919a3bd51c",
   "metadata": {},
   "outputs": [],
   "source": []
  }
 ],
 "metadata": {
  "kernelspec": {
   "display_name": "Python 3 (ipykernel)",
   "language": "python",
   "name": "python3"
  },
  "language_info": {
   "codemirror_mode": {
    "name": "ipython",
    "version": 3
   },
   "file_extension": ".py",
   "mimetype": "text/x-python",
   "name": "python",
   "nbconvert_exporter": "python",
   "pygments_lexer": "ipython3",
   "version": "3.12.4"
  }
 },
 "nbformat": 4,
 "nbformat_minor": 5
}
