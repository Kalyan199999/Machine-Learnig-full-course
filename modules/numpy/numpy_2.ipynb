{
 "cells": [
  {
   "cell_type": "code",
   "execution_count": 1,
   "id": "6af16a60-844a-4cc4-86bb-d7236872f309",
   "metadata": {},
   "outputs": [],
   "source": [
    "import numpy as np"
   ]
  },
  {
   "cell_type": "code",
   "execution_count": null,
   "id": "7a7284eb-283a-4202-9ecb-2e32a0c8b46f",
   "metadata": {},
   "outputs": [],
   "source": []
  },
  {
   "cell_type": "markdown",
   "id": "fc7c36b2-5d29-4451-a074-858a58639f8f",
   "metadata": {},
   "source": [
    "### Adding, removing, and sorting elements"
   ]
  },
  {
   "cell_type": "code",
   "execution_count": 2,
   "id": "d94726c7-f514-4581-97dd-5236e6143976",
   "metadata": {},
   "outputs": [
    {
     "name": "stdout",
     "output_type": "stream",
     "text": [
      "[2 1 5 3 7 4 6 8]\n"
     ]
    }
   ],
   "source": [
    "arr = np.array([2, 1, 5, 3, 7, 4, 6, 8])\n",
    "\n",
    "print(arr)"
   ]
  },
  {
   "cell_type": "code",
   "execution_count": 3,
   "id": "d5ee22d7-10b7-4160-85e2-a38088ba8fb8",
   "metadata": {},
   "outputs": [
    {
     "name": "stdout",
     "output_type": "stream",
     "text": [
      "[1 2 3 4 5 6 7 8]\n"
     ]
    }
   ],
   "source": [
    "sorted_arr = np.sort(arr)\n",
    "print(sorted_arr)"
   ]
  },
  {
   "cell_type": "code",
   "execution_count": null,
   "id": "ba7e725d-a35e-4d83-a3f6-a451a3f8782a",
   "metadata": {},
   "outputs": [],
   "source": []
  },
  {
   "cell_type": "code",
   "execution_count": 4,
   "id": "bcd0e229-2884-4289-938e-89bc6bf4fbd8",
   "metadata": {},
   "outputs": [],
   "source": [
    "arr = np.array(\n",
    "    [\n",
    "        [5,8,1,4,9],\n",
    "        [2,7,6,3,0]\n",
    "    ]\n",
    ")"
   ]
  },
  {
   "cell_type": "markdown",
   "id": "3da70502-1bd5-4a90-8ea6-20df25f917b2",
   "metadata": {},
   "source": [
    "### sort along the columns"
   ]
  },
  {
   "cell_type": "code",
   "execution_count": 5,
   "id": "eca91d5b-a7b8-4389-955a-f9ba179d6fd6",
   "metadata": {},
   "outputs": [
    {
     "name": "stdout",
     "output_type": "stream",
     "text": [
      "[[2 7 1 3 0]\n",
      " [5 8 6 4 9]]\n"
     ]
    }
   ],
   "source": [
    "print(np.sort(arr,axis=0))"
   ]
  },
  {
   "cell_type": "markdown",
   "id": "38939beb-589c-4d4d-9e72-77c1aafe5556",
   "metadata": {},
   "source": [
    "### sort along the row"
   ]
  },
  {
   "cell_type": "code",
   "execution_count": 6,
   "id": "e4b3210f-5a4a-4898-bbed-ed7ca2912ac4",
   "metadata": {},
   "outputs": [
    {
     "data": {
      "text/plain": [
       "array([[1, 4, 5, 8, 9],\n",
       "       [0, 2, 3, 6, 7]])"
      ]
     },
     "execution_count": 6,
     "metadata": {},
     "output_type": "execute_result"
    }
   ],
   "source": [
    "np.sort(arr,axis=1)"
   ]
  },
  {
   "cell_type": "code",
   "execution_count": null,
   "id": "5ef6dc52-a361-400e-ade2-d5b8ae162e97",
   "metadata": {},
   "outputs": [],
   "source": []
  },
  {
   "cell_type": "markdown",
   "id": "6e745d60-f4ec-41d6-9d01-dd9246d08fe2",
   "metadata": {},
   "source": [
    "# concatination of arrays"
   ]
  },
  {
   "cell_type": "code",
   "execution_count": 7,
   "id": "bfdf158b-8a90-428c-ad3b-30d05812ce1f",
   "metadata": {},
   "outputs": [],
   "source": [
    "a = np.arange(3,9)\n",
    "b = np.arange(13,19)\n",
    "c = np.arange(23,29)"
   ]
  },
  {
   "cell_type": "code",
   "execution_count": 8,
   "id": "21e6de16-7974-46a8-8cf7-a583f71d0ba7",
   "metadata": {},
   "outputs": [
    {
     "name": "stdout",
     "output_type": "stream",
     "text": [
      "[ 3  4  5  6  7  8 13 14 15 16 17 18 23 24 25 26 27 28]\n"
     ]
    }
   ],
   "source": [
    "combined_arr = np.concatenate( (a,b,c) )\n",
    "print(combined_arr)"
   ]
  },
  {
   "cell_type": "code",
   "execution_count": null,
   "id": "a620fa2e-4d31-4fa9-8653-b92d722ee3a0",
   "metadata": {},
   "outputs": [],
   "source": []
  },
  {
   "cell_type": "code",
   "execution_count": 9,
   "id": "67638d70-0e5d-4a62-922d-0c13dbb0e833",
   "metadata": {},
   "outputs": [
    {
     "name": "stdout",
     "output_type": "stream",
     "text": [
      "[[ 3  4  5  6  7  8]\n",
      " [33 34 35 36 37 38]\n",
      " [43 44 45 46 47 48]]\n",
      "[[13 14 15 16 17 18]]\n",
      "[[23 24 25 26 27 28]]\n"
     ]
    }
   ],
   "source": [
    "a = np.array(\n",
    "    [\n",
    "        np.arange(3,9),\n",
    "        np.arange(33,39),\n",
    "        np.arange(43,49)\n",
    "    ]\n",
    ")\n",
    "\n",
    "b = b.reshape(1,6)\n",
    "\n",
    "c = np.array([c]) \n",
    "\n",
    "print(a)\n",
    "print(b)\n",
    "print(c)"
   ]
  },
  {
   "cell_type": "code",
   "execution_count": 10,
   "id": "1a9c7a99-8dd8-4c71-99da-e3a5ae4ea946",
   "metadata": {},
   "outputs": [
    {
     "name": "stdout",
     "output_type": "stream",
     "text": [
      "[[ 3  4  5  6  7  8]\n",
      " [33 34 35 36 37 38]\n",
      " [43 44 45 46 47 48]\n",
      " [13 14 15 16 17 18]\n",
      " [23 24 25 26 27 28]]\n"
     ]
    }
   ],
   "source": [
    "combined_arr = np.concatenate( (a,b,c)  ,axis=0)\n",
    "print(combined_arr)"
   ]
  },
  {
   "cell_type": "code",
   "execution_count": null,
   "id": "c8ff0e60-9e4d-4198-a4e1-40de3d97e676",
   "metadata": {},
   "outputs": [],
   "source": []
  },
  {
   "cell_type": "code",
   "execution_count": null,
   "id": "c3abfff6-b37e-404f-9940-19e2928ebda0",
   "metadata": {},
   "outputs": [],
   "source": []
  },
  {
   "cell_type": "markdown",
   "id": "cc6639fc-f65d-4a6b-b83c-8e224c31cb01",
   "metadata": {},
   "source": [
    "### 3-D array"
   ]
  },
  {
   "cell_type": "code",
   "execution_count": 11,
   "id": "b5bc37d4-7471-4e2d-97ca-2135cab65d1a",
   "metadata": {},
   "outputs": [],
   "source": [
    "array_example = np.array([[[0, 1, 2, 3],\n",
    "                           [4, 5, 6, 7]],\n",
    "                          \n",
    "                          [[0, 1, 2, 3],\n",
    "                           [4, 5, 6, 7]],\n",
    "                          \n",
    "                          [[0 ,1 ,2, 3],\n",
    "                           [4, 5, 6, 7]]]\n",
    "                        )"
   ]
  },
  {
   "cell_type": "code",
   "execution_count": 12,
   "id": "a01b2a8c-0782-4f03-8cb9-e82b3f9da6f0",
   "metadata": {},
   "outputs": [
    {
     "name": "stdout",
     "output_type": "stream",
     "text": [
      "3\n",
      "(3, 2, 4)\n",
      "24\n"
     ]
    }
   ],
   "source": [
    "print(array_example.ndim)\n",
    "print(array_example.shape)\n",
    "print(array_example.size)"
   ]
  },
  {
   "cell_type": "code",
   "execution_count": null,
   "id": "fb0b3b4f-e396-48c7-9caa-475424cbf976",
   "metadata": {},
   "outputs": [],
   "source": []
  },
  {
   "cell_type": "code",
   "execution_count": null,
   "id": "4e2972a2-11d0-4fde-9cfa-d5eea2ca798e",
   "metadata": {},
   "outputs": [],
   "source": []
  },
  {
   "cell_type": "markdown",
   "id": "ec47137c-e249-422b-9950-a011fdbb627a",
   "metadata": {},
   "source": [
    "### reshape the array"
   ]
  },
  {
   "cell_type": "code",
   "execution_count": 13,
   "id": "b63e1003-863c-45ea-acf7-1d5363adf5f8",
   "metadata": {},
   "outputs": [
    {
     "name": "stdout",
     "output_type": "stream",
     "text": [
      "[0 1 2 3 4 5 6 7 8]\n"
     ]
    }
   ],
   "source": [
    "a = np.arange(9)\n",
    "print(a)"
   ]
  },
  {
   "cell_type": "code",
   "execution_count": 14,
   "id": "ce744449-be0f-4f19-8393-11286dae1f62",
   "metadata": {},
   "outputs": [
    {
     "name": "stdout",
     "output_type": "stream",
     "text": [
      "[[0 1 2]\n",
      " [3 4 5]\n",
      " [6 7 8]]\n"
     ]
    }
   ],
   "source": [
    "b = a.reshape(3, 3)\n",
    "print(b)"
   ]
  },
  {
   "cell_type": "code",
   "execution_count": null,
   "id": "ee53ad3d-4ed8-4cc2-85cf-b51801122b62",
   "metadata": {},
   "outputs": [],
   "source": []
  },
  {
   "cell_type": "markdown",
   "id": "170e5e4c-5344-44b3-86e9-8d13606bdde2",
   "metadata": {},
   "source": [
    "### Indexing and slicing"
   ]
  },
  {
   "cell_type": "code",
   "execution_count": 15,
   "id": "14451f79-f5b5-489f-b732-120b8b142e5d",
   "metadata": {},
   "outputs": [
    {
     "name": "stdout",
     "output_type": "stream",
     "text": [
      "[ 1  2  3  4  5  6  7  8  9 10 11 12 13 14 15]\n"
     ]
    }
   ],
   "source": [
    "data = np.arange(1,16)\n",
    "\n",
    "print(data)"
   ]
  },
  {
   "cell_type": "code",
   "execution_count": 16,
   "id": "5cce942d-2af0-41cc-9e10-5683f34f770e",
   "metadata": {},
   "outputs": [
    {
     "name": "stdout",
     "output_type": "stream",
     "text": [
      "[ 6  7  8  9 10 11 12 13 14 15]\n"
     ]
    }
   ],
   "source": [
    "print(data[5:])"
   ]
  },
  {
   "cell_type": "code",
   "execution_count": 17,
   "id": "359d4f22-09af-4dc5-9779-a4122f4f21f1",
   "metadata": {},
   "outputs": [
    {
     "name": "stdout",
     "output_type": "stream",
     "text": [
      "[ 6  7  8  9 10]\n"
     ]
    }
   ],
   "source": [
    "print(data[5:10])"
   ]
  },
  {
   "cell_type": "code",
   "execution_count": 18,
   "id": "f6ddfa62-c65e-4b1b-8746-3ee3e8b15fa9",
   "metadata": {},
   "outputs": [
    {
     "name": "stdout",
     "output_type": "stream",
     "text": [
      "[ 1  2  3  4  5  6  7  8  9 10 11 12 13 14]\n"
     ]
    }
   ],
   "source": [
    "print(data[:-1])"
   ]
  },
  {
   "cell_type": "code",
   "execution_count": 19,
   "id": "d3648ae8-4f82-4e99-be17-fca3860b1ca0",
   "metadata": {},
   "outputs": [
    {
     "name": "stdout",
     "output_type": "stream",
     "text": [
      "[ 6  7  8  9 10 11 12 13 14 15]\n"
     ]
    }
   ],
   "source": [
    "print(data[-10:])"
   ]
  },
  {
   "cell_type": "code",
   "execution_count": null,
   "id": "f39ea8f2-b8c7-443a-a791-3c92cd8fa161",
   "metadata": {},
   "outputs": [],
   "source": []
  },
  {
   "cell_type": "markdown",
   "id": "bd49a66c-098d-443f-ac91-11aeed04b0f7",
   "metadata": {},
   "source": [
    "### Applying the conditions"
   ]
  },
  {
   "cell_type": "code",
   "execution_count": 20,
   "id": "71268565-a6c5-4d8a-8667-8d720970b8b8",
   "metadata": {},
   "outputs": [
    {
     "data": {
      "text/plain": [
       "array([1, 2, 3, 4, 5, 6, 7, 8, 9])"
      ]
     },
     "execution_count": 20,
     "metadata": {},
     "output_type": "execute_result"
    }
   ],
   "source": [
    "data[ data<10 ]"
   ]
  },
  {
   "cell_type": "code",
   "execution_count": null,
   "id": "4a6a324f-cabb-42a4-a7a5-0b762625a4a5",
   "metadata": {},
   "outputs": [],
   "source": []
  },
  {
   "cell_type": "code",
   "execution_count": 21,
   "id": "48502e2c-b020-4f8f-a0b8-62dccf92b08c",
   "metadata": {},
   "outputs": [],
   "source": [
    "a = np.array([[1, 2, 3, 4], [5, 6, 7, 8], [9, 10, 11, 12]])"
   ]
  },
  {
   "cell_type": "code",
   "execution_count": 22,
   "id": "ba14b845-1bd8-44dd-9f95-5ffaba0b18f8",
   "metadata": {},
   "outputs": [
    {
     "name": "stdout",
     "output_type": "stream",
     "text": [
      "[[ 1  2  3  4]\n",
      " [ 5  6  7  8]\n",
      " [ 9 10 11 12]]\n"
     ]
    }
   ],
   "source": [
    "print(a)"
   ]
  },
  {
   "cell_type": "code",
   "execution_count": 23,
   "id": "ed7c2cfd-7e6a-4646-a35b-300d5e3bd448",
   "metadata": {},
   "outputs": [
    {
     "name": "stdout",
     "output_type": "stream",
     "text": [
      "[1 2 3 4]\n"
     ]
    }
   ],
   "source": [
    "print( a[a<5] ) "
   ]
  },
  {
   "cell_type": "code",
   "execution_count": 24,
   "id": "e7582e1c-6ce6-41c0-9003-555f812b6757",
   "metadata": {},
   "outputs": [
    {
     "name": "stdout",
     "output_type": "stream",
     "text": [
      "[ 6  7  8  9 10 11 12]\n"
     ]
    }
   ],
   "source": [
    "greatertahn_5 = (a>5)\n",
    "\n",
    "print(a[greatertahn_5])"
   ]
  },
  {
   "cell_type": "code",
   "execution_count": null,
   "id": "9dbfbd2d-402f-43e5-bd16-4bc2a3df9a35",
   "metadata": {},
   "outputs": [],
   "source": []
  },
  {
   "cell_type": "code",
   "execution_count": 25,
   "id": "5b4bac43-0ebb-4f37-b8f7-896a3ea96461",
   "metadata": {},
   "outputs": [
    {
     "name": "stdout",
     "output_type": "stream",
     "text": [
      "[ 2  4  6  8 10 12]\n"
     ]
    }
   ],
   "source": [
    "divisible_by_2 = a[ a%2 == 0 ]\n",
    "\n",
    "print(divisible_by_2)"
   ]
  },
  {
   "cell_type": "code",
   "execution_count": null,
   "id": "eeaff886-b528-450c-9b48-2b01981f2f62",
   "metadata": {},
   "outputs": [],
   "source": []
  },
  {
   "cell_type": "code",
   "execution_count": 26,
   "id": "57a30ba3-4383-4ba6-9cca-9d7231f4ad62",
   "metadata": {},
   "outputs": [
    {
     "name": "stdout",
     "output_type": "stream",
     "text": [
      "[ 3  4  5  6  7  8  9 10]\n"
     ]
    }
   ],
   "source": [
    "c = a[ (a > 2) & (a < 11) ]\n",
    "print(c)"
   ]
  },
  {
   "cell_type": "code",
   "execution_count": 27,
   "id": "de681984-b9d3-44f8-ae12-9244f3ceff81",
   "metadata": {},
   "outputs": [
    {
     "name": "stdout",
     "output_type": "stream",
     "text": [
      "[[False False False False]\n",
      " [ True  True  True  True]\n",
      " [ True  True  True  True]]\n"
     ]
    }
   ],
   "source": [
    "five_up = (a > 5) | (a == 5)\n",
    "print(five_up)"
   ]
  },
  {
   "cell_type": "code",
   "execution_count": null,
   "id": "379cfbe7-c087-4532-8d5f-2f90e585c6f9",
   "metadata": {},
   "outputs": [],
   "source": []
  },
  {
   "cell_type": "code",
   "execution_count": null,
   "id": "82b72111-d061-4279-984e-da35767759c6",
   "metadata": {},
   "outputs": [],
   "source": []
  },
  {
   "cell_type": "code",
   "execution_count": null,
   "id": "a3537a6a-bb3d-4f98-a6b0-b0c1bfd4547e",
   "metadata": {},
   "outputs": [],
   "source": []
  }
 ],
 "metadata": {
  "kernelspec": {
   "display_name": "Python 3 (ipykernel)",
   "language": "python",
   "name": "python3"
  },
  "language_info": {
   "codemirror_mode": {
    "name": "ipython",
    "version": 3
   },
   "file_extension": ".py",
   "mimetype": "text/x-python",
   "name": "python",
   "nbconvert_exporter": "python",
   "pygments_lexer": "ipython3",
   "version": "3.12.4"
  }
 },
 "nbformat": 4,
 "nbformat_minor": 5
}
