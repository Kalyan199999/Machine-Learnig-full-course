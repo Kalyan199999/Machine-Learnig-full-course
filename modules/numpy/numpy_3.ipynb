{
 "cells": [
  {
   "cell_type": "markdown",
   "id": "159ed676-ded4-4ca2-88f4-837b6ebe9c22",
   "metadata": {},
   "source": [
    "### Numpy operations"
   ]
  },
  {
   "cell_type": "code",
   "execution_count": 1,
   "id": "92e13d82-1aaf-4b5f-8555-b2c50119e0ed",
   "metadata": {},
   "outputs": [],
   "source": [
    "import numpy as np"
   ]
  },
  {
   "cell_type": "code",
   "execution_count": 2,
   "id": "acaec35a-b785-4110-81ec-55a71c8d0a06",
   "metadata": {},
   "outputs": [],
   "source": [
    "a = np.arange(5,15)\n",
    "b = np.arange(25,35)"
   ]
  },
  {
   "cell_type": "code",
   "execution_count": 3,
   "id": "b56bab61-e788-4fc3-8503-4fb0023d25ea",
   "metadata": {},
   "outputs": [
    {
     "name": "stdout",
     "output_type": "stream",
     "text": [
      "[ 5  6  7  8  9 10 11 12 13 14]\n",
      "[25 26 27 28 29 30 31 32 33 34]\n"
     ]
    }
   ],
   "source": [
    "print(a)\n",
    "print(b)"
   ]
  },
  {
   "cell_type": "code",
   "execution_count": 4,
   "id": "70b07cec-b7ee-4981-83d8-e77c169b40ca",
   "metadata": {},
   "outputs": [
    {
     "name": "stdout",
     "output_type": "stream",
     "text": [
      "[30 32 34 36 38 40 42 44 46 48]\n"
     ]
    }
   ],
   "source": [
    "sum = a+b\n",
    "print(sum)"
   ]
  },
  {
   "cell_type": "code",
   "execution_count": 5,
   "id": "c8fec5ee-4028-44f1-9801-5ffc86b00c58",
   "metadata": {},
   "outputs": [
    {
     "name": "stdout",
     "output_type": "stream",
     "text": [
      "[-20 -20 -20 -20 -20 -20 -20 -20 -20 -20]\n"
     ]
    }
   ],
   "source": [
    "sub = a-b\n",
    "print(sub)"
   ]
  },
  {
   "cell_type": "code",
   "execution_count": 6,
   "id": "c752159d-7292-40a7-9c79-4a411ffc7b18",
   "metadata": {},
   "outputs": [
    {
     "name": "stdout",
     "output_type": "stream",
     "text": [
      "[125 156 189 224 261 300 341 384 429 476]\n"
     ]
    }
   ],
   "source": [
    "mul = a*b\n",
    "print(mul)"
   ]
  },
  {
   "cell_type": "code",
   "execution_count": 7,
   "id": "f33f1e6a-ab1c-4eca-aaae-06ee8ebcfc59",
   "metadata": {},
   "outputs": [
    {
     "name": "stdout",
     "output_type": "stream",
     "text": [
      "[0.2        0.23076923 0.25925926 0.28571429 0.31034483 0.33333333\n",
      " 0.35483871 0.375      0.39393939 0.41176471]\n"
     ]
    }
   ],
   "source": [
    "div = a/b\n",
    "print(div)"
   ]
  },
  {
   "cell_type": "code",
   "execution_count": 8,
   "id": "6b188004-0f3b-4b79-822c-4c626a5215b2",
   "metadata": {},
   "outputs": [
    {
     "name": "stdout",
     "output_type": "stream",
     "text": [
      "95\n"
     ]
    }
   ],
   "source": [
    "print(a.sum(axis=0))"
   ]
  },
  {
   "cell_type": "code",
   "execution_count": null,
   "id": "bc954b53-8b0c-4c77-a488-5a92f23862ab",
   "metadata": {},
   "outputs": [],
   "source": []
  },
  {
   "cell_type": "code",
   "execution_count": 9,
   "id": "4a7f70e2-1d6f-4b44-8921-67a006640291",
   "metadata": {},
   "outputs": [],
   "source": [
    "c = np.array([a,b])"
   ]
  },
  {
   "cell_type": "code",
   "execution_count": 10,
   "id": "f56fdae5-6ee5-4e63-9bf5-77b731356df9",
   "metadata": {},
   "outputs": [
    {
     "name": "stdout",
     "output_type": "stream",
     "text": [
      "[30 32 34 36 38 40 42 44 46 48]\n"
     ]
    }
   ],
   "source": [
    "print( c.sum(axis=0) )"
   ]
  },
  {
   "cell_type": "code",
   "execution_count": 11,
   "id": "1f24300e-f40c-49d7-a52a-95d8272ed7dc",
   "metadata": {},
   "outputs": [
    {
     "name": "stdout",
     "output_type": "stream",
     "text": [
      "[ 95 295]\n"
     ]
    }
   ],
   "source": [
    "print(c.sum(axis=1))"
   ]
  },
  {
   "cell_type": "code",
   "execution_count": 12,
   "id": "493a5fdf-39ba-4359-9903-ef6d3610f6b5",
   "metadata": {},
   "outputs": [
    {
     "name": "stdout",
     "output_type": "stream",
     "text": [
      "[[10 12 14 16 18 20 22 24 26 28]\n",
      " [50 52 54 56 58 60 62 64 66 68]]\n"
     ]
    }
   ],
   "source": [
    "print( c*2 )"
   ]
  },
  {
   "cell_type": "code",
   "execution_count": null,
   "id": "f3933d2f-bb92-4267-8c68-2c2fbf112ad2",
   "metadata": {},
   "outputs": [],
   "source": []
  },
  {
   "cell_type": "code",
   "execution_count": 13,
   "id": "4e247d0e-2c04-420f-9e57-c8079f54234f",
   "metadata": {},
   "outputs": [
    {
     "name": "stdout",
     "output_type": "stream",
     "text": [
      "5\n"
     ]
    }
   ],
   "source": [
    "print(c.min())"
   ]
  },
  {
   "cell_type": "code",
   "execution_count": 14,
   "id": "3d0ec062-03f3-4fb6-bdf3-1a21426d7812",
   "metadata": {},
   "outputs": [
    {
     "name": "stdout",
     "output_type": "stream",
     "text": [
      "[ 5  6  7  8  9 10 11 12 13 14]\n"
     ]
    }
   ],
   "source": [
    "print(c.min(axis=0))"
   ]
  },
  {
   "cell_type": "code",
   "execution_count": 15,
   "id": "52e5aef2-2bfa-4754-b6b4-83c5419778bd",
   "metadata": {},
   "outputs": [
    {
     "name": "stdout",
     "output_type": "stream",
     "text": [
      "[ 5 25]\n"
     ]
    }
   ],
   "source": [
    "print(c.min(axis=1))"
   ]
  },
  {
   "cell_type": "code",
   "execution_count": 16,
   "id": "34a7bd5a-6fbd-4772-b38c-af2a4b3182f7",
   "metadata": {},
   "outputs": [
    {
     "name": "stdout",
     "output_type": "stream",
     "text": [
      "19.5\n"
     ]
    }
   ],
   "source": [
    "print(c.mean())"
   ]
  },
  {
   "cell_type": "code",
   "execution_count": 17,
   "id": "36971b63-ad63-427e-888f-afe9e7aaab60",
   "metadata": {},
   "outputs": [
    {
     "name": "stdout",
     "output_type": "stream",
     "text": [
      "[ 9.5 29.5]\n"
     ]
    }
   ],
   "source": [
    "print(c.mean(axis=1))"
   ]
  },
  {
   "cell_type": "code",
   "execution_count": 18,
   "id": "fe94c951-f381-4dba-a056-acd1b903cca6",
   "metadata": {},
   "outputs": [
    {
     "name": "stdout",
     "output_type": "stream",
     "text": [
      "[125 156 189 224 261 300 341 384 429 476]\n"
     ]
    }
   ],
   "source": [
    "print(c.prod(axis=0))"
   ]
  },
  {
   "cell_type": "code",
   "execution_count": 19,
   "id": "040aa39f-f422-434f-aea7-84b5140309c3",
   "metadata": {},
   "outputs": [
    {
     "name": "stdout",
     "output_type": "stream",
     "text": [
      "[2.87228132 2.87228132]\n"
     ]
    }
   ],
   "source": [
    "print(c.std(axis=1))"
   ]
  },
  {
   "cell_type": "code",
   "execution_count": null,
   "id": "c90f7047-f6fb-43cd-b1d5-b94969a0f261",
   "metadata": {},
   "outputs": [],
   "source": []
  },
  {
   "cell_type": "code",
   "execution_count": 20,
   "id": "eb97fe64-7677-45af-88a2-339c29ebd93e",
   "metadata": {},
   "outputs": [
    {
     "name": "stdout",
     "output_type": "stream",
     "text": [
      "6\n"
     ]
    }
   ],
   "source": [
    "print(c[0, 1])"
   ]
  },
  {
   "cell_type": "code",
   "execution_count": 21,
   "id": "54ab230a-a8f1-42fc-8489-7cbe1d855418",
   "metadata": {},
   "outputs": [
    {
     "name": "stdout",
     "output_type": "stream",
     "text": [
      "[[25 26 27 28 29 30 31 32 33 34]]\n"
     ]
    }
   ],
   "source": [
    "print(c[1:2])"
   ]
  },
  {
   "cell_type": "code",
   "execution_count": 22,
   "id": "7ce63c31-75ab-46a3-9e2b-f2fb91897cfc",
   "metadata": {},
   "outputs": [
    {
     "name": "stdout",
     "output_type": "stream",
     "text": [
      "[[ 5  6  7  8  9]\n",
      " [25 26 27 28 29]]\n"
     ]
    }
   ],
   "source": [
    "print(c[0:2, 0:5])"
   ]
  },
  {
   "cell_type": "code",
   "execution_count": null,
   "id": "9c3c7df6-6f15-4d03-bd99-a70bf731d311",
   "metadata": {},
   "outputs": [],
   "source": []
  },
  {
   "cell_type": "code",
   "execution_count": 33,
   "id": "d7f4b8f3-cdf3-418c-8ce3-b86ff91e13d0",
   "metadata": {},
   "outputs": [
    {
     "name": "stdout",
     "output_type": "stream",
     "text": [
      "[[ 1  2  3  4  5  6  7  8  9 10]\n",
      " [11 12 13 14 15 16 17 18 19 20]\n",
      " [21 22 23 24 25 26 27 28 29 30]\n",
      " [31 32 33 34 35 36 37 38 39 40]]\n"
     ]
    }
   ],
   "source": [
    "arr = np.array(\n",
    "    [np.arange(1,11),np.arange(11,21),np.arange(21,31),np.arange(31,41)]\n",
    ")\n",
    "\n",
    "print(arr)"
   ]
  },
  {
   "cell_type": "markdown",
   "id": "14090e53-b6b3-4629-8b04-025b9c34bea0",
   "metadata": {},
   "source": [
    "### Reverse the array"
   ]
  },
  {
   "cell_type": "code",
   "execution_count": 34,
   "id": "eb2d1067-8b68-48fd-a6c9-1d0bde11302e",
   "metadata": {},
   "outputs": [
    {
     "name": "stdout",
     "output_type": "stream",
     "text": [
      "[[40 39 38 37 36 35 34 33 32 31]\n",
      " [30 29 28 27 26 25 24 23 22 21]\n",
      " [20 19 18 17 16 15 14 13 12 11]\n",
      " [10  9  8  7  6  5  4  3  2  1]]\n"
     ]
    }
   ],
   "source": [
    "print(np.flip(arr))"
   ]
  },
  {
   "cell_type": "markdown",
   "id": "b8e425cc-c1ee-4a22-bc81-f4b90c86e7f7",
   "metadata": {},
   "source": [
    "### transpose the array"
   ]
  },
  {
   "cell_type": "code",
   "execution_count": 28,
   "id": "a20b3eea-f057-49f8-a9be-b832067436a4",
   "metadata": {},
   "outputs": [
    {
     "name": "stdout",
     "output_type": "stream",
     "text": [
      "[[ 1 11 21 31]\n",
      " [ 2 12 22 32]\n",
      " [ 3 13 23 33]\n",
      " [ 4 14 24 34]\n",
      " [ 5 15 25 35]\n",
      " [ 6 16 26 36]\n",
      " [ 7 17 27 37]\n",
      " [ 8 18 28 38]\n",
      " [ 9 19 29 39]\n",
      " [10 20 30 40]]\n"
     ]
    }
   ],
   "source": [
    "print(np.transpose(arr))"
   ]
  },
  {
   "cell_type": "code",
   "execution_count": null,
   "id": "25f040b3-9376-43f0-ab65-7a3709faa750",
   "metadata": {},
   "outputs": [],
   "source": []
  },
  {
   "cell_type": "code",
   "execution_count": 32,
   "id": "b00a29f2-4a22-44b3-bd42-a35128940330",
   "metadata": {},
   "outputs": [
    {
     "name": "stdout",
     "output_type": "stream",
     "text": [
      "[[ 1  2  3  4  5]\n",
      " [ 6  7  8  9 10]\n",
      " [11 12 13 14 15]\n",
      " [16 17 18 19 20]\n",
      " [21 22 23 24 25]\n",
      " [26 27 28 29 30]\n",
      " [31 32 33 34 35]\n",
      " [36 37 38 39 40]]\n"
     ]
    }
   ],
   "source": [
    "print(arr.reshape((8,5)))"
   ]
  },
  {
   "cell_type": "code",
   "execution_count": null,
   "id": "4ac209fc-cb2f-43c6-9fca-39fc53c43817",
   "metadata": {},
   "outputs": [],
   "source": []
  },
  {
   "cell_type": "markdown",
   "id": "99deff51-e864-48d2-a88a-c5bc621e2ff8",
   "metadata": {},
   "source": [
    "### flattening multidimensional arrays"
   ]
  },
  {
   "cell_type": "code",
   "execution_count": 41,
   "id": "e97ba36a-990d-4e33-9afe-64e31611cea2",
   "metadata": {},
   "outputs": [],
   "source": [
    "x = np.array([[1, 2, 3, 4], [5, 6, 7, 8], [9, 10, 11, 12]])"
   ]
  },
  {
   "cell_type": "code",
   "execution_count": 36,
   "id": "9403759c-1a94-466e-bb6e-97d24c4e268c",
   "metadata": {},
   "outputs": [
    {
     "data": {
      "text/plain": [
       "array([[ 1,  2,  3,  4],\n",
       "       [ 5,  6,  7,  8],\n",
       "       [ 9, 10, 11, 12]])"
      ]
     },
     "execution_count": 36,
     "metadata": {},
     "output_type": "execute_result"
    }
   ],
   "source": [
    "x"
   ]
  },
  {
   "cell_type": "code",
   "execution_count": 37,
   "id": "eb229ba1-cdfa-49ef-9c80-2854aafe1781",
   "metadata": {},
   "outputs": [
    {
     "data": {
      "text/plain": [
       "array([ 1,  2,  3,  4,  5,  6,  7,  8,  9, 10, 11, 12])"
      ]
     },
     "execution_count": 37,
     "metadata": {},
     "output_type": "execute_result"
    }
   ],
   "source": [
    "x.flatten()"
   ]
  },
  {
   "cell_type": "code",
   "execution_count": null,
   "id": "0bd27598-0035-4236-9b90-a111550a5b9e",
   "metadata": {},
   "outputs": [],
   "source": []
  },
  {
   "cell_type": "code",
   "execution_count": 38,
   "id": "3467184e-04cb-4949-8e25-96eb290f1024",
   "metadata": {},
   "outputs": [
    {
     "name": "stdout",
     "output_type": "stream",
     "text": [
      "[[ 1  2  3  4]\n",
      " [ 5  6  7  8]\n",
      " [ 9 10 11 12]]\n",
      "[99  2  3  4  5  6  7  8  9 10 11 12]\n"
     ]
    }
   ],
   "source": [
    "a1 = x.flatten()\n",
    "a1[0] = 99\n",
    "print(x)  # Original array\n",
    "print(a1)  # New array"
   ]
  },
  {
   "cell_type": "code",
   "execution_count": null,
   "id": "71f86945-dc18-4ab6-a6f7-3128e8ad844e",
   "metadata": {},
   "outputs": [],
   "source": []
  },
  {
   "cell_type": "code",
   "execution_count": 42,
   "id": "1c72214b-f513-4396-b7ad-4f53241db509",
   "metadata": {},
   "outputs": [
    {
     "name": "stdout",
     "output_type": "stream",
     "text": [
      "[[ 1  2  3 98]\n",
      " [ 5  6  7  8]\n",
      " [ 9 10 11 12]]\n",
      "[ 1  2  3 98  5  6  7  8  9 10 11 12]\n"
     ]
    }
   ],
   "source": [
    "a2 = x.ravel()\n",
    "a2[3] = 98\n",
    "print(x)  # Original array\n",
    "print(a2)  # New array"
   ]
  },
  {
   "cell_type": "code",
   "execution_count": null,
   "id": "8937f8eb-5600-431c-8b6f-ee9dab5d699f",
   "metadata": {},
   "outputs": [],
   "source": []
  },
  {
   "cell_type": "code",
   "execution_count": null,
   "id": "c56b379d-7cb9-46db-afce-f3a1e235f612",
   "metadata": {},
   "outputs": [],
   "source": []
  }
 ],
 "metadata": {
  "kernelspec": {
   "display_name": "Python 3 (ipykernel)",
   "language": "python",
   "name": "python3"
  },
  "language_info": {
   "codemirror_mode": {
    "name": "ipython",
    "version": 3
   },
   "file_extension": ".py",
   "mimetype": "text/x-python",
   "name": "python",
   "nbconvert_exporter": "python",
   "pygments_lexer": "ipython3",
   "version": "3.12.4"
  }
 },
 "nbformat": 4,
 "nbformat_minor": 5
}
