{
 "cells": [
  {
   "cell_type": "markdown",
   "id": "7d8bfd90-6472-49b4-8b8d-9d4752751bda",
   "metadata": {},
   "source": [
    "### SQLite is a lightweight, built-in database in Python used for small to medium-sized applications. \n",
    "### It stores data in a single .db file and doesn’t need a separate server."
   ]
  },
  {
   "cell_type": "code",
   "execution_count": null,
   "id": "1246f50e-c994-459c-8cb1-5747d25aa314",
   "metadata": {},
   "outputs": [],
   "source": []
  },
  {
   "cell_type": "code",
   "execution_count": 1,
   "id": "c92db8c6-7af8-44d0-b80a-d5a0ad1983bd",
   "metadata": {},
   "outputs": [],
   "source": [
    "import sqlite3"
   ]
  },
  {
   "cell_type": "markdown",
   "id": "e58da877-e2fc-4768-ace2-ae6bee12789d",
   "metadata": {},
   "source": [
    "### 1. Connect to the database (creates if not exists)"
   ]
  },
  {
   "cell_type": "code",
   "execution_count": 2,
   "id": "9cf40acd-d2c0-4f8d-8f73-ee667021b063",
   "metadata": {},
   "outputs": [],
   "source": [
    "conn = sqlite3.connect('mydata.db')"
   ]
  },
  {
   "cell_type": "code",
   "execution_count": 3,
   "id": "fe634fc7-aef8-40a6-bbe9-d0a4eedd6f80",
   "metadata": {},
   "outputs": [
    {
     "data": {
      "text/plain": [
       "<sqlite3.Connection at 0x24f03cfcb80>"
      ]
     },
     "execution_count": 3,
     "metadata": {},
     "output_type": "execute_result"
    }
   ],
   "source": [
    "conn"
   ]
  },
  {
   "cell_type": "code",
   "execution_count": null,
   "id": "99faed96-1bf4-46fa-a6c5-a0d4cc03f927",
   "metadata": {},
   "outputs": [],
   "source": []
  },
  {
   "cell_type": "markdown",
   "id": "fae2a06a-b77a-41d7-b9c7-0812795eae19",
   "metadata": {},
   "source": [
    "### 2. Create a cursor object"
   ]
  },
  {
   "cell_type": "code",
   "execution_count": 4,
   "id": "60c66a73-1231-4b81-b4f0-db1c141cbf78",
   "metadata": {},
   "outputs": [],
   "source": [
    "cursor = conn.cursor()"
   ]
  },
  {
   "cell_type": "code",
   "execution_count": 5,
   "id": "ade5e230-18aa-4d17-93f3-3b69e4d0a5de",
   "metadata": {},
   "outputs": [
    {
     "data": {
      "text/plain": [
       "<sqlite3.Cursor at 0x24f03cf15c0>"
      ]
     },
     "execution_count": 5,
     "metadata": {},
     "output_type": "execute_result"
    }
   ],
   "source": [
    "cursor"
   ]
  },
  {
   "cell_type": "code",
   "execution_count": null,
   "id": "b388cc19-f38f-46d1-92de-c1763bb219ca",
   "metadata": {},
   "outputs": [],
   "source": []
  },
  {
   "cell_type": "markdown",
   "id": "21febbbf-06d9-4bd9-b496-ce74d8bdcb61",
   "metadata": {},
   "source": [
    "### 3. Execute SQL queries"
   ]
  },
  {
   "cell_type": "code",
   "execution_count": 6,
   "id": "4ecdcc29-806e-4a6f-a92f-0aaf21a50921",
   "metadata": {},
   "outputs": [
    {
     "data": {
      "text/plain": [
       "<sqlite3.Cursor at 0x24f03cf15c0>"
      ]
     },
     "execution_count": 6,
     "metadata": {},
     "output_type": "execute_result"
    }
   ],
   "source": [
    "cursor.execute('''\n",
    "    CREATE TABLE IF NOT EXISTS users (\n",
    "        id INTEGER PRIMARY KEY,\n",
    "        name TEXT,\n",
    "        age INTEGER\n",
    "    )\n",
    "''')"
   ]
  },
  {
   "cell_type": "code",
   "execution_count": null,
   "id": "59d62a26-d91e-40e2-9b7b-669ee4634d4a",
   "metadata": {},
   "outputs": [],
   "source": []
  },
  {
   "cell_type": "markdown",
   "id": "b933670a-f4b6-4dc4-bb8b-a8681e508474",
   "metadata": {},
   "source": [
    "### 4. Insert data"
   ]
  },
  {
   "cell_type": "code",
   "execution_count": 7,
   "id": "8d43caca-898d-452b-8b1a-91b22b0f8875",
   "metadata": {},
   "outputs": [
    {
     "data": {
      "text/plain": [
       "<sqlite3.Cursor at 0x24f03cf15c0>"
      ]
     },
     "execution_count": 7,
     "metadata": {},
     "output_type": "execute_result"
    }
   ],
   "source": [
    "cursor.execute(\"INSERT INTO users (id,name, age) VALUES (1,'Alice', 25)\")"
   ]
  },
  {
   "cell_type": "code",
   "execution_count": 8,
   "id": "4d357f1e-2c41-4770-bc45-a4f70ee333e7",
   "metadata": {},
   "outputs": [
    {
     "data": {
      "text/plain": [
       "<sqlite3.Cursor at 0x24f03cf15c0>"
      ]
     },
     "execution_count": 8,
     "metadata": {},
     "output_type": "execute_result"
    }
   ],
   "source": [
    "cursor.execute(\"INSERT INTO users (id,name, age) VALUES (2,'Bob', 35)\")"
   ]
  },
  {
   "cell_type": "code",
   "execution_count": 9,
   "id": "4eb2b297-7d73-4847-88d2-6ad8c7e3a8bb",
   "metadata": {},
   "outputs": [
    {
     "data": {
      "text/plain": [
       "<sqlite3.Cursor at 0x24f03cf15c0>"
      ]
     },
     "execution_count": 9,
     "metadata": {},
     "output_type": "execute_result"
    }
   ],
   "source": [
    "cursor.execute(\"INSERT INTO users (id,name, age) VALUES (3,'Carry', 15)\")"
   ]
  },
  {
   "cell_type": "code",
   "execution_count": null,
   "id": "a9c626e0-c0ee-4899-b935-b6ca4de6a836",
   "metadata": {},
   "outputs": [],
   "source": []
  },
  {
   "cell_type": "code",
   "execution_count": null,
   "id": "de2c9319-2091-4820-afc0-ee39832fb134",
   "metadata": {},
   "outputs": [],
   "source": []
  },
  {
   "cell_type": "markdown",
   "id": "9208c15b-9f53-4df6-a703-46a743c61a8b",
   "metadata": {},
   "source": [
    "### 5. Commit changes"
   ]
  },
  {
   "cell_type": "code",
   "execution_count": 10,
   "id": "5cebbe39-4b7f-438d-96ae-ff7ed716162a",
   "metadata": {},
   "outputs": [],
   "source": [
    "conn.commit()"
   ]
  },
  {
   "cell_type": "code",
   "execution_count": null,
   "id": "ccac5d49-4642-41db-bbdc-903031b1bda3",
   "metadata": {},
   "outputs": [],
   "source": []
  },
  {
   "cell_type": "markdown",
   "id": "e46d2e5f-90a6-40d4-b963-647dd86be287",
   "metadata": {},
   "source": [
    "### 6. Fetch data"
   ]
  },
  {
   "cell_type": "code",
   "execution_count": null,
   "id": "2a6dba39-b41c-48a0-8552-6c0c903e3413",
   "metadata": {},
   "outputs": [],
   "source": []
  },
  {
   "cell_type": "code",
   "execution_count": 11,
   "id": "951a1f15-a16e-47ee-8f5f-f93dbe77e727",
   "metadata": {},
   "outputs": [],
   "source": [
    "cursor.execute(\"SELECT * FROM users\")\n",
    "rows = cursor.fetchall()"
   ]
  },
  {
   "cell_type": "code",
   "execution_count": 12,
   "id": "2f110d01-50b9-4cef-88ca-db33083bca0d",
   "metadata": {},
   "outputs": [
    {
     "name": "stdout",
     "output_type": "stream",
     "text": [
      "(1, 'Alice', 25)\n",
      "(2, 'Bob', 35)\n",
      "(3, 'Carry', 15)\n"
     ]
    }
   ],
   "source": [
    "for row in rows:\n",
    "    print(row)"
   ]
  },
  {
   "cell_type": "code",
   "execution_count": null,
   "id": "ef6817ba-f4de-4725-9860-2b45f0b225f7",
   "metadata": {},
   "outputs": [],
   "source": []
  },
  {
   "cell_type": "markdown",
   "id": "f4227d0e-6908-4227-8282-368c10d2c099",
   "metadata": {},
   "source": [
    "### 7.update"
   ]
  },
  {
   "cell_type": "code",
   "execution_count": 13,
   "id": "d68c81c0-467a-4ce7-aa79-ecaa7699b5e4",
   "metadata": {},
   "outputs": [],
   "source": [
    "cursor.execute('''\n",
    "\n",
    "update users set age = 45\n",
    "    where name = 'Carry'\n",
    "\n",
    "''')\n",
    "\n",
    "cursor.execute(\"SELECT * FROM users\")\n",
    "rows = cursor.fetchall()"
   ]
  },
  {
   "cell_type": "code",
   "execution_count": 14,
   "id": "899ce3de-ec2f-4c5e-ac15-96fff277a64f",
   "metadata": {},
   "outputs": [
    {
     "name": "stdout",
     "output_type": "stream",
     "text": [
      "(1, 'Alice', 25)\n",
      "(2, 'Bob', 35)\n",
      "(3, 'Carry', 45)\n"
     ]
    }
   ],
   "source": [
    "for row in rows:\n",
    "    print(row)"
   ]
  },
  {
   "cell_type": "code",
   "execution_count": null,
   "id": "c94d7b5e-4dc0-4358-9749-59a28c4c45be",
   "metadata": {},
   "outputs": [],
   "source": []
  },
  {
   "cell_type": "markdown",
   "id": "8cea1e4c-df93-4674-9285-9648e48043f4",
   "metadata": {},
   "source": [
    "### 8.delete "
   ]
  },
  {
   "cell_type": "code",
   "execution_count": 15,
   "id": "a59c782b-0c74-4b44-b7de-edb42347aa72",
   "metadata": {},
   "outputs": [
    {
     "data": {
      "text/plain": [
       "<sqlite3.Cursor at 0x24f03cf15c0>"
      ]
     },
     "execution_count": 15,
     "metadata": {},
     "output_type": "execute_result"
    }
   ],
   "source": [
    "cursor.execute(\"DELETE FROM users WHERE name = 'Bob'\")"
   ]
  },
  {
   "cell_type": "code",
   "execution_count": 16,
   "id": "7a68359d-6128-4894-a64f-c71576a30cff",
   "metadata": {},
   "outputs": [],
   "source": [
    "cursor.execute(\"SELECT * FROM users\")\n",
    "rows = cursor.fetchall()"
   ]
  },
  {
   "cell_type": "code",
   "execution_count": 17,
   "id": "98dea570-eb04-44d5-931f-6b906cebc537",
   "metadata": {},
   "outputs": [
    {
     "name": "stdout",
     "output_type": "stream",
     "text": [
      "(1, 'Alice', 25)\n",
      "(3, 'Carry', 45)\n"
     ]
    }
   ],
   "source": [
    "for row in rows:\n",
    "    print(row)"
   ]
  },
  {
   "cell_type": "code",
   "execution_count": 18,
   "id": "b2a5aa9c-4864-48d5-8e31-6c0eef646b66",
   "metadata": {},
   "outputs": [],
   "source": [
    "for row in rows:\n",
    "    cursor.execute(\"DELETE FROM users WHERE id = ?\", (row[0],))\n"
   ]
  },
  {
   "cell_type": "code",
   "execution_count": 19,
   "id": "76d46808-26e6-4fa1-8812-81d5bed5a255",
   "metadata": {},
   "outputs": [],
   "source": [
    "cursor.execute(\"SELECT * FROM users\")\n",
    "rows = cursor.fetchall()"
   ]
  },
  {
   "cell_type": "code",
   "execution_count": 20,
   "id": "2cc6b308-c38d-407c-86e8-3bb467712508",
   "metadata": {},
   "outputs": [],
   "source": [
    "for row in rows:\n",
    "    print(row)"
   ]
  },
  {
   "cell_type": "code",
   "execution_count": 21,
   "id": "72ad54cf-a934-492d-bd7f-83e74974a1e9",
   "metadata": {},
   "outputs": [],
   "source": [
    "conn.commit()"
   ]
  },
  {
   "cell_type": "code",
   "execution_count": null,
   "id": "aeb679ae-b08f-4c90-9fd5-0dd588d8edc0",
   "metadata": {},
   "outputs": [],
   "source": []
  },
  {
   "cell_type": "code",
   "execution_count": 22,
   "id": "54753445-382b-42d0-9476-fd2d8fc3ea32",
   "metadata": {},
   "outputs": [],
   "source": [
    "conn.close()"
   ]
  },
  {
   "cell_type": "code",
   "execution_count": null,
   "id": "7493b2cc-9834-4b31-b4b9-63c1dc9c38b5",
   "metadata": {},
   "outputs": [],
   "source": []
  },
  {
   "cell_type": "code",
   "execution_count": null,
   "id": "74c04e54-2947-4c9b-af9d-2112aeeca37e",
   "metadata": {},
   "outputs": [],
   "source": []
  },
  {
   "cell_type": "markdown",
   "id": "70dbef0b-f320-4dcb-a9eb-8e6e27ce06dc",
   "metadata": {},
   "source": [
    "# second DB"
   ]
  },
  {
   "cell_type": "code",
   "execution_count": null,
   "id": "1246d832-6c16-4bcb-a682-a30182393908",
   "metadata": {},
   "outputs": [],
   "source": []
  },
  {
   "cell_type": "code",
   "execution_count": 23,
   "id": "a01e0cbc-266c-4a2a-a889-df5723a38160",
   "metadata": {},
   "outputs": [],
   "source": [
    "connection = sqlite3.connect('mysales.db')\n",
    "\n",
    "cursor = connection.cursor()"
   ]
  },
  {
   "cell_type": "code",
   "execution_count": 24,
   "id": "ef4c9977-c35f-4103-8d8d-bfcab2e94aa7",
   "metadata": {},
   "outputs": [
    {
     "data": {
      "text/plain": [
       "<sqlite3.Cursor at 0x24f03cf3440>"
      ]
     },
     "execution_count": 24,
     "metadata": {},
     "output_type": "execute_result"
    }
   ],
   "source": [
    "cursor.execute('''\n",
    " create table if not exists sales (\n",
    " id integer primary key,\n",
    " date text,\n",
    " product text,\n",
    " sales integer,\n",
    " region text\n",
    " )\n",
    "''')"
   ]
  },
  {
   "cell_type": "code",
   "execution_count": 25,
   "id": "557e482e-563d-4441-9adf-3a9b0158a8cd",
   "metadata": {},
   "outputs": [],
   "source": [
    "sales_data = [\n",
    "    ('2023-09-15','product-1',500,'North'),\n",
    "    ('2023-08-25','product-1',200,'South'),\n",
    "    ('2023-05-22','product-1',560,'East'),\n",
    "    ('2023-01-15','product-1',300,'West'),\n",
    "    ('2023-12-10','product-1',750,'North'),\n",
    "    ('2023-01-18','product-1',100,'West')\n",
    "]"
   ]
  },
  {
   "cell_type": "code",
   "execution_count": 26,
   "id": "ce92168f-ad64-4076-856d-ab1de27a78e8",
   "metadata": {},
   "outputs": [
    {
     "data": {
      "text/plain": [
       "<sqlite3.Cursor at 0x24f03cf3440>"
      ]
     },
     "execution_count": 26,
     "metadata": {},
     "output_type": "execute_result"
    }
   ],
   "source": [
    "cursor.executemany('''\n",
    " insert into sales (date,product,sales,region) \n",
    " values (?,?,?,?)\n",
    "''' , sales_data)"
   ]
  },
  {
   "cell_type": "code",
   "execution_count": 27,
   "id": "114fc357-57e8-4cfa-9df5-63a40c3264b9",
   "metadata": {},
   "outputs": [],
   "source": [
    "connection.commit();"
   ]
  },
  {
   "cell_type": "code",
   "execution_count": null,
   "id": "a298ff21-3028-4a83-80eb-38f117449fcf",
   "metadata": {},
   "outputs": [],
   "source": []
  },
  {
   "cell_type": "code",
   "execution_count": 28,
   "id": "955115f1-2dae-4d4f-8565-884d0c2080d9",
   "metadata": {},
   "outputs": [],
   "source": [
    "cursor.execute(\"SELECT * FROM sales\")\n",
    "rows = cursor.fetchall()"
   ]
  },
  {
   "cell_type": "code",
   "execution_count": 29,
   "id": "2af24c82-6d8e-422a-a506-c6963d8a24c8",
   "metadata": {},
   "outputs": [
    {
     "name": "stdout",
     "output_type": "stream",
     "text": [
      "(1, '2023-09-15', 'product-1', 500, 'North')\n",
      "(2, '2023-08-25', 'product-1', 200, 'South')\n",
      "(3, '2023-05-22', 'product-1', 560, 'East')\n",
      "(4, '2023-01-15', 'product-1', 300, 'West')\n",
      "(5, '2023-12-10', 'product-1', 750, 'North')\n",
      "(6, '2023-01-18', 'product-1', 100, 'West')\n",
      "(7, '2023-09-15', 'product-1', 500, 'North')\n",
      "(8, '2023-08-25', 'product-1', 200, 'South')\n",
      "(9, '2023-05-22', 'product-1', 560, 'East')\n",
      "(10, '2023-01-15', 'product-1', 300, 'West')\n",
      "(11, '2023-12-10', 'product-1', 750, 'North')\n",
      "(12, '2023-01-18', 'product-1', 100, 'West')\n",
      "(13, '2023-09-15', 'product-1', 500, 'North')\n",
      "(14, '2023-08-25', 'product-1', 200, 'South')\n",
      "(15, '2023-05-22', 'product-1', 560, 'East')\n",
      "(16, '2023-01-15', 'product-1', 300, 'West')\n",
      "(17, '2023-12-10', 'product-1', 750, 'North')\n",
      "(18, '2023-01-18', 'product-1', 100, 'West')\n"
     ]
    }
   ],
   "source": [
    "for row in rows:\n",
    "    print(row)"
   ]
  },
  {
   "cell_type": "code",
   "execution_count": 30,
   "id": "3100248a-aeeb-4e37-937a-481cb616c7c0",
   "metadata": {},
   "outputs": [],
   "source": [
    "for row in rows:\n",
    "    cursor.execute(\"DELETE FROM sales WHERE id = ?\", (row[0],))\n"
   ]
  },
  {
   "cell_type": "code",
   "execution_count": 31,
   "id": "9a3f68d0-2f84-44e3-8775-bdf87ae12d60",
   "metadata": {},
   "outputs": [],
   "source": [
    "connection.close()"
   ]
  }
 ],
 "metadata": {
  "kernelspec": {
   "display_name": "Python 3 (ipykernel)",
   "language": "python",
   "name": "python3"
  },
  "language_info": {
   "codemirror_mode": {
    "name": "ipython",
    "version": 3
   },
   "file_extension": ".py",
   "mimetype": "text/x-python",
   "name": "python",
   "nbconvert_exporter": "python",
   "pygments_lexer": "ipython3",
   "version": "3.12.4"
  }
 },
 "nbformat": 4,
 "nbformat_minor": 5
}
