{
 "cells": [
  {
   "cell_type": "markdown",
   "id": "f9ad5bd2-41e8-4de7-b35a-470778ed1a14",
   "metadata": {},
   "source": [
    "# Dictionaries Assignment"
   ]
  },
  {
   "cell_type": "code",
   "execution_count": null,
   "id": "eb9eceed-b594-4a4a-a9c6-1917d6d998e7",
   "metadata": {},
   "outputs": [],
   "source": []
  },
  {
   "cell_type": "markdown",
   "id": "d8174e27-06ac-47ca-ac99-da14b6982583",
   "metadata": {},
   "source": [
    "## Create a dictionary with the first 10 positive integers as keys and their squares as values. Print the dictionary."
   ]
  },
  {
   "cell_type": "code",
   "execution_count": 4,
   "id": "96aaade3-71d3-419b-884a-b8026a0e9a1c",
   "metadata": {},
   "outputs": [
    {
     "name": "stdout",
     "output_type": "stream",
     "text": [
      "{1: 1, 2: 4, 3: 9, 4: 16, 5: 25, 6: 36, 7: 49, 8: 64, 9: 81, 10: 100}\n"
     ]
    }
   ],
   "source": [
    "d = {\n",
    "    x:x** 2\n",
    "    for x in range(1,11)\n",
    "}\n",
    "\n",
    "print(d)"
   ]
  },
  {
   "cell_type": "code",
   "execution_count": null,
   "id": "c9f012b9-f01e-4fbc-8192-8e1e57cc9a52",
   "metadata": {},
   "outputs": [],
   "source": []
  },
  {
   "cell_type": "markdown",
   "id": "e7726b04-7813-4f7d-89fa-8cb7bf4831bb",
   "metadata": {},
   "source": [
    "## Print the value of the key 5 and the keys of the dictionary created in Assignment 1."
   ]
  },
  {
   "cell_type": "code",
   "execution_count": 7,
   "id": "0a774138-7ee8-41b7-b3f9-87bd2f781b75",
   "metadata": {},
   "outputs": [
    {
     "name": "stdout",
     "output_type": "stream",
     "text": [
      "Value of key 5: 25\n",
      "Keys: [1, 2, 3, 4, 5, 6, 7, 8, 9, 10]\n"
     ]
    }
   ],
   "source": [
    "print(f\"Value of key 5: {d[5]}\")\n",
    "\n",
    "keys = list(d.keys())\n",
    "\n",
    "print(f\"Keys: {keys}\")"
   ]
  },
  {
   "cell_type": "code",
   "execution_count": null,
   "id": "69f638c5-bb86-4443-baee-4421236748c5",
   "metadata": {},
   "outputs": [],
   "source": []
  },
  {
   "cell_type": "markdown",
   "id": "86c4edf0-72bd-4093-a15e-7ebd4b63299e",
   "metadata": {},
   "source": [
    "## Add a new key-value pair (11, 121) to the dictionary created in Assignment 1 and then remove the key-value pair with key 1. Print the modified dictionary."
   ]
  },
  {
   "cell_type": "code",
   "execution_count": 8,
   "id": "30daed05-5473-4321-8b9b-c7796a9a6156",
   "metadata": {},
   "outputs": [
    {
     "name": "stdout",
     "output_type": "stream",
     "text": [
      "{2: 4, 3: 9, 4: 16, 5: 25, 6: 36, 7: 49, 8: 64, 9: 81, 10: 100, 11: 121}\n"
     ]
    }
   ],
   "source": [
    "d[11] = 121\n",
    "\n",
    "d.pop(1)\n",
    "print(d)"
   ]
  },
  {
   "cell_type": "code",
   "execution_count": null,
   "id": "aab25280-f8d9-4b81-a945-9db4b621fdab",
   "metadata": {},
   "outputs": [],
   "source": []
  },
  {
   "cell_type": "markdown",
   "id": "3af0d80e-319f-490a-8740-0cfbc1c6a481",
   "metadata": {},
   "source": [
    "## Iterate over the dictionary created in Assignment 1 and print each key-value pair."
   ]
  },
  {
   "cell_type": "code",
   "execution_count": 10,
   "id": "9f86a0ca-2299-4758-82de-8ca1de66c631",
   "metadata": {},
   "outputs": [
    {
     "name": "stdout",
     "output_type": "stream",
     "text": [
      "2 -> 4\n",
      "3 -> 9\n",
      "4 -> 16\n",
      "5 -> 25\n",
      "6 -> 36\n",
      "7 -> 49\n",
      "8 -> 64\n",
      "9 -> 81\n",
      "10 -> 100\n",
      "11 -> 121\n"
     ]
    }
   ],
   "source": [
    "for key,val in d.items():\n",
    "    print(f'{key} -> {val}')"
   ]
  },
  {
   "cell_type": "code",
   "execution_count": null,
   "id": "7122cd7e-59ad-45a8-b44d-e83c9f8f8b71",
   "metadata": {},
   "outputs": [],
   "source": []
  },
  {
   "cell_type": "markdown",
   "id": "78f644ff-f769-4848-b90f-cf37c3ed5961",
   "metadata": {},
   "source": [
    "### Create a new dictionary containing the cubes of the first 10 positive integers using a dictionary comprehension. Print the new dictionary."
   ]
  },
  {
   "cell_type": "code",
   "execution_count": 12,
   "id": "72558679-9c73-419c-82f4-bd0f4fe93ebe",
   "metadata": {},
   "outputs": [
    {
     "name": "stdout",
     "output_type": "stream",
     "text": [
      "{1: 1, 2: 8, 3: 27, 4: 64, 5: 125, 6: 216, 7: 343, 8: 512, 9: 729, 10: 1000}\n"
     ]
    }
   ],
   "source": [
    "cubes = {\n",
    "    x:x**3\n",
    "    for x in range(1,11)\n",
    "}\n",
    "\n",
    "print(cubes)"
   ]
  },
  {
   "cell_type": "code",
   "execution_count": null,
   "id": "c3e43660-f7c3-4530-91f9-13a979e2a41d",
   "metadata": {},
   "outputs": [],
   "source": []
  },
  {
   "cell_type": "markdown",
   "id": "b7a285de-b153-457d-bc4d-9d4fe8be4568",
   "metadata": {},
   "source": [
    "### Create two dictionaries: one with keys as the first 5 positive integers and values as their squares, and another with keys as the next 5 positive integers and values as their squares. Merge these dictionaries into a single dictionary and print it."
   ]
  },
  {
   "cell_type": "code",
   "execution_count": 13,
   "id": "a0465dda-cc92-49e0-9de6-f935cf954e26",
   "metadata": {},
   "outputs": [
    {
     "name": "stdout",
     "output_type": "stream",
     "text": [
      "{1: 1, 2: 4, 3: 9, 4: 16, 5: 25, 6: 36, 7: 49, 8: 64, 9: 81, 10: 100}\n"
     ]
    }
   ],
   "source": [
    "d1 = {\n",
    "    x:x**2\n",
    "    for x in range(1,6)\n",
    "}\n",
    "\n",
    "d2 = {\n",
    "    x:x**2\n",
    "    for x in range(6,11)\n",
    "}\n",
    "\n",
    "d1.update(d2)\n",
    "\n",
    "print(d1)"
   ]
  },
  {
   "cell_type": "code",
   "execution_count": null,
   "id": "15b0f8f8-0257-4f1e-8ece-ce4e0364c82e",
   "metadata": {},
   "outputs": [],
   "source": []
  },
  {
   "cell_type": "markdown",
   "id": "3a07a321-e9b2-4892-b4c5-1e2d5189fed9",
   "metadata": {},
   "source": [
    "### Create a nested dictionary representing a student with keys 'name', 'age', 'grades', where 'grades' is another dictionary with keys 'math', 'science', and 'english'. Print the nested dictionary."
   ]
  },
  {
   "cell_type": "code",
   "execution_count": 14,
   "id": "531db58e-677a-4549-8af4-f3504c142e1e",
   "metadata": {},
   "outputs": [
    {
     "name": "stdout",
     "output_type": "stream",
     "text": [
      "{'name': 'John Doe', 'age': 16, 'grades': {'math': 90, 'science': 85, 'english': 88}}\n"
     ]
    }
   ],
   "source": [
    "student = {\n",
    "    'name': 'John Doe',\n",
    "    'age': 16,\n",
    "    'grades': {\n",
    "        'math': 90,\n",
    "        'science': 85,\n",
    "        'english': 88\n",
    "    }\n",
    "}\n",
    "print(student)"
   ]
  },
  {
   "cell_type": "code",
   "execution_count": null,
   "id": "94bef4cb-3deb-4974-8049-7461cd0a993f",
   "metadata": {},
   "outputs": [],
   "source": []
  },
  {
   "cell_type": "markdown",
   "id": "732db0b6-c59c-49a1-9747-b80c402d2bbe",
   "metadata": {},
   "source": [
    "### Create a dictionary where the keys are the first 5 positive integers and the values are lists containing the first 5 multiples of the key. Print the dictionary."
   ]
  },
  {
   "cell_type": "code",
   "execution_count": 15,
   "id": "365490df-398a-47cb-9950-ffcfe2329361",
   "metadata": {},
   "outputs": [
    {
     "name": "stdout",
     "output_type": "stream",
     "text": [
      "{1: [1, 2, 3, 4, 5], 2: [2, 4, 6, 8, 10], 3: [3, 6, 9, 12, 15], 4: [4, 8, 12, 16, 20], 5: [5, 10, 15, 20, 25]}\n"
     ]
    }
   ],
   "source": [
    "multiples = {\n",
    "    i: [i * j for j in range(1, 6)] \n",
    "    for i in range(1, 6)\n",
    "}\n",
    "\n",
    "print(multiples)"
   ]
  },
  {
   "cell_type": "code",
   "execution_count": null,
   "id": "004b14c5-459c-4c14-8f57-1f79189ce4ac",
   "metadata": {},
   "outputs": [],
   "source": []
  },
  {
   "cell_type": "markdown",
   "id": "b9fdecd3-c4dd-4b2b-bb47-952b278742cb",
   "metadata": {},
   "source": [
    "### Create a dictionary where the keys are the first 5 positive integers and the values are tuples containing the key and its square. Print the dictionary."
   ]
  },
  {
   "cell_type": "code",
   "execution_count": 17,
   "id": "6dadfc63-7dd9-46fb-a58a-68c75d928cad",
   "metadata": {},
   "outputs": [
    {
     "name": "stdout",
     "output_type": "stream",
     "text": [
      "{1: (1, 1), 2: (2, 4), 3: (3, 9), 4: (4, 16), 5: (5, 25)}\n"
     ]
    }
   ],
   "source": [
    "tuple_dict = {\n",
    "    i: (i, i**2) \n",
    "    for i in range(1, 6)\n",
    "}\n",
    "\n",
    "print(tuple_dict)"
   ]
  },
  {
   "cell_type": "code",
   "execution_count": null,
   "id": "fb19ba0b-2fe0-43b4-8fb8-1857033af8d0",
   "metadata": {},
   "outputs": [],
   "source": []
  },
  {
   "cell_type": "markdown",
   "id": "f86fe569-bb70-4ca0-abd9-ef039a1767bc",
   "metadata": {},
   "source": [
    "### Create a dictionary with the first 5 positive integers as keys and their squares as values. Convert the dictionary to a list of tuples and print it."
   ]
  },
  {
   "cell_type": "code",
   "execution_count": 18,
   "id": "cdae3266-078f-4ed8-ad6d-b321a27b15e2",
   "metadata": {},
   "outputs": [
    {
     "name": "stdout",
     "output_type": "stream",
     "text": [
      "[(1, 1), (2, 4), (3, 9), (4, 16), (5, 25)]\n"
     ]
    }
   ],
   "source": [
    "d = {\n",
    "    i: i**2 \n",
    "    for i in range(1, 6)\n",
    "}\n",
    "\n",
    "list_of_tuples = list(d.items())\n",
    "\n",
    "print(list_of_tuples)"
   ]
  },
  {
   "cell_type": "code",
   "execution_count": null,
   "id": "cdcb21cb-44cb-47c4-89cf-5401ba4a4c80",
   "metadata": {},
   "outputs": [],
   "source": []
  },
  {
   "cell_type": "markdown",
   "id": "ae324866-d75c-44e9-9d6d-18e53f907b8e",
   "metadata": {},
   "source": [
    "### Create a dictionary with the first 10 positive integers as keys and their squares as values. Create a new dictionary containing only the key-value pairs where the key is even. Print the new dictionary."
   ]
  },
  {
   "cell_type": "code",
   "execution_count": 19,
   "id": "8927e50e-e5ce-4e98-b7de-dc351604df00",
   "metadata": {},
   "outputs": [
    {
     "name": "stdout",
     "output_type": "stream",
     "text": [
      "{2: 4, 4: 16, 6: 36, 8: 64, 10: 100}\n"
     ]
    }
   ],
   "source": [
    "d = {\n",
    "    i: i**2 \n",
    "    for i in range(1, 11)\n",
    "}\n",
    "\n",
    "even_dict = {k: v \n",
    "             for k, v in d.items() \n",
    "             if k % 2 == 0\n",
    "            }\n",
    "\n",
    "print(even_dict)"
   ]
  },
  {
   "cell_type": "code",
   "execution_count": null,
   "id": "3c5d0561-6806-47aa-a056-ded36517a879",
   "metadata": {},
   "outputs": [],
   "source": []
  },
  {
   "cell_type": "markdown",
   "id": "d4b44529-8611-4929-a914-7affafae01b6",
   "metadata": {},
   "source": [
    "### Create a dictionary with the first 5 positive integers as keys and their squares as values. Create a new dictionary with keys and values swapped. Print the new dictionary."
   ]
  },
  {
   "cell_type": "code",
   "execution_count": 20,
   "id": "82c1bc92-c3f1-4e10-8f4d-00e1a61c4f23",
   "metadata": {},
   "outputs": [
    {
     "name": "stdout",
     "output_type": "stream",
     "text": [
      "{1: 1, 4: 2, 9: 3, 16: 4, 25: 5}\n"
     ]
    }
   ],
   "source": [
    "d = {i: i**2 for i in range(1, 6)}\n",
    "swapped_dict = {v: k for k, v in d.items()}\n",
    "print(swapped_dict)"
   ]
  },
  {
   "cell_type": "code",
   "execution_count": null,
   "id": "9419507c-aded-4bb2-a8db-f4162b488292",
   "metadata": {},
   "outputs": [],
   "source": []
  },
  {
   "cell_type": "markdown",
   "id": "ea190a32-cc5b-427a-b737-fdcb46afd1e3",
   "metadata": {},
   "source": [
    "### Create a default dictionary where each key has a default value of an empty list. Add some elements to the lists and print the dictionary."
   ]
  },
  {
   "cell_type": "code",
   "execution_count": 21,
   "id": "2d53fa8d-f3e5-4796-b3b4-b45642222b8d",
   "metadata": {},
   "outputs": [
    {
     "name": "stdout",
     "output_type": "stream",
     "text": [
      "defaultdict(<class 'list'>, {'a': [1, 2], 'b': [3]})\n"
     ]
    }
   ],
   "source": [
    "from collections import defaultdict\n",
    "\n",
    "default_dict = defaultdict(list)\n",
    "default_dict['a'].append(1)\n",
    "default_dict['a'].append(2)\n",
    "default_dict['b'].append(3)\n",
    "print(default_dict)"
   ]
  },
  {
   "cell_type": "code",
   "execution_count": null,
   "id": "12b5314d-8319-42dc-838e-71c4f6a261f0",
   "metadata": {},
   "outputs": [],
   "source": []
  },
  {
   "cell_type": "markdown",
   "id": "712811fc-2fdd-4a98-aacb-18ff7e96afbd",
   "metadata": {},
   "source": [
    "### Write a function that takes a string and returns a dictionary with the count of each character in the string. Print the dictionary."
   ]
  },
  {
   "cell_type": "code",
   "execution_count": 22,
   "id": "503ec0ce-a90e-4f60-bf08-51558cbcf8ba",
   "metadata": {},
   "outputs": [
    {
     "name": "stdout",
     "output_type": "stream",
     "text": [
      "{'h': 1, 'e': 1, 'l': 3, 'o': 2, ' ': 1, 'w': 1, 'r': 1, 'd': 1}\n"
     ]
    }
   ],
   "source": [
    "def count_chars(s):\n",
    "    count_dict = {}\n",
    "    for char in s:\n",
    "        count_dict[char] = count_dict.get(char, 0) + 1\n",
    "    return count_dict\n",
    "\n",
    "string = \"hello world\"\n",
    "print(count_chars(string))"
   ]
  },
  {
   "cell_type": "code",
   "execution_count": null,
   "id": "5da6c224-ecc1-47ab-a6c9-f79d1b9968f1",
   "metadata": {},
   "outputs": [],
   "source": []
  },
  {
   "cell_type": "markdown",
   "id": "ce904d26-1c36-4e1e-a4c9-10532041bd57",
   "metadata": {},
   "source": [
    "### Create a dictionary representing a book with keys 'title', 'author', 'year', and 'genre'. Convert the dictionary to a JSON string and print it."
   ]
  },
  {
   "cell_type": "code",
   "execution_count": 23,
   "id": "fe12029b-446f-4d7d-93ef-6703c8c4ee44",
   "metadata": {},
   "outputs": [
    {
     "name": "stdout",
     "output_type": "stream",
     "text": [
      "{\"title\": \"To Kill a Mockingbird\", \"author\": \"Harper Lee\", \"year\": 1960, \"genre\": \"Fiction\"}\n"
     ]
    }
   ],
   "source": [
    "import json\n",
    "\n",
    "book = {\n",
    "    'title': 'To Kill a Mockingbird',\n",
    "    'author': 'Harper Lee',\n",
    "    'year': 1960,\n",
    "    'genre': 'Fiction'\n",
    "}\n",
    "book_json = json.dumps(book)\n",
    "print(book_json)"
   ]
  },
  {
   "cell_type": "code",
   "execution_count": null,
   "id": "f5c04bc9-8aac-4f67-b7f6-21d7b610ef88",
   "metadata": {},
   "outputs": [],
   "source": []
  }
 ],
 "metadata": {
  "kernelspec": {
   "display_name": "Python 3 (ipykernel)",
   "language": "python",
   "name": "python3"
  },
  "language_info": {
   "codemirror_mode": {
    "name": "ipython",
    "version": 3
   },
   "file_extension": ".py",
   "mimetype": "text/x-python",
   "name": "python",
   "nbconvert_exporter": "python",
   "pygments_lexer": "ipython3",
   "version": "3.12.4"
  }
 },
 "nbformat": 4,
 "nbformat_minor": 5
}
