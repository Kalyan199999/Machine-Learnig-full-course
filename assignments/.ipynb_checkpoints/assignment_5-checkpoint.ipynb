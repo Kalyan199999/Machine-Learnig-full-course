{
 "cells": [
  {
   "cell_type": "markdown",
   "id": "fd3fabf9-2082-4ed0-b1c6-fe5799ef7e7d",
   "metadata": {},
   "source": [
    "# Set Assignment"
   ]
  },
  {
   "cell_type": "code",
   "execution_count": null,
   "id": "b0e52d6d-b5e6-4d88-8056-bbac3d019e85",
   "metadata": {},
   "outputs": [],
   "source": []
  },
  {
   "cell_type": "markdown",
   "id": "88178e36-45fe-4bde-912b-4ba935b61524",
   "metadata": {},
   "source": [
    "### Create a set with the first 10 positive integers. Print the set."
   ]
  },
  {
   "cell_type": "code",
   "execution_count": 1,
   "id": "574491b9-8562-4fa8-b474-d1e50a29c232",
   "metadata": {},
   "outputs": [
    {
     "name": "stdout",
     "output_type": "stream",
     "text": [
      "{1, 2, 3, 4, 5, 6, 7, 8, 9, 10}\n"
     ]
    }
   ],
   "source": [
    "s1 = { 1,2,3,4,5,6,7,8,9,10 }\n",
    "\n",
    "print(s1)"
   ]
  },
  {
   "cell_type": "code",
   "execution_count": null,
   "id": "d65df32c-f9f0-4367-89ac-992917caf3ec",
   "metadata": {},
   "outputs": [],
   "source": []
  },
  {
   "cell_type": "markdown",
   "id": "11c7b151-c96e-4e79-8b1e-510aafc4107f",
   "metadata": {},
   "source": [
    "### Add the number 11 to the set created in Assignment 1. Then remove the number 1 from the set. Print the modified set."
   ]
  },
  {
   "cell_type": "code",
   "execution_count": 2,
   "id": "07dc67e4-2d2b-4ad6-94e6-f544908f94da",
   "metadata": {},
   "outputs": [
    {
     "name": "stdout",
     "output_type": "stream",
     "text": [
      "{1, 2, 3, 4, 5, 6, 7, 8, 9, 10, 11}\n",
      "{2, 3, 4, 5, 6, 7, 8, 9, 10, 11}\n"
     ]
    }
   ],
   "source": [
    "s1.add(11)\n",
    "print(s1)\n",
    "\n",
    "s1.remove(1)\n",
    "print(s1)"
   ]
  },
  {
   "cell_type": "code",
   "execution_count": null,
   "id": "2888f033-9cfd-4430-92bc-080f6e376147",
   "metadata": {},
   "outputs": [],
   "source": []
  },
  {
   "cell_type": "markdown",
   "id": "36e4dacd-d72a-4a1d-a45d-fc5297f2384a",
   "metadata": {},
   "source": [
    "### Create two sets: one with the first 5 positive integers and another with the first 5 even integers. Perform and print the results of union, intersection, difference, and symmetric difference operations on these sets."
   ]
  },
  {
   "cell_type": "code",
   "execution_count": 3,
   "id": "74d74d76-a4d9-4f92-bcc8-c93fb86f86ae",
   "metadata": {},
   "outputs": [
    {
     "name": "stdout",
     "output_type": "stream",
     "text": [
      "Union {1, 2, 3, 4, 5, 6, 8, 10}\n",
      "Intersection {2, 4}\n",
      "Difference {1, 3, 5}\n",
      "Symmetric Difference {1, 3, 5, 6, 8, 10}\n"
     ]
    }
   ],
   "source": [
    "s1 = {1,2,3,4,5}\n",
    "s2 = {2,4,6,8,10}\n",
    "\n",
    "print(f'Union {s1.union(s2)}')\n",
    "print(f'Intersection {s1.intersection(s2)}')\n",
    "print(f'Difference {s1.difference(s2)}')\n",
    "print(f'Symmetric Difference {s1.symmetric_difference(s2)}')"
   ]
  },
  {
   "cell_type": "code",
   "execution_count": null,
   "id": "f16b5a34-b8f1-42bd-99c0-70098e6e2bf2",
   "metadata": {},
   "outputs": [],
   "source": []
  },
  {
   "cell_type": "markdown",
   "id": "a1d5a9b7-d404-4fbf-a46b-8834d21fd5a1",
   "metadata": {},
   "source": [
    "### Create a new set containing the squares of the first 10 positive integers using a set comprehension. Print the new set."
   ]
  },
  {
   "cell_type": "code",
   "execution_count": 4,
   "id": "eabaa446-5574-4344-9b28-d390f5e17972",
   "metadata": {},
   "outputs": [
    {
     "name": "stdout",
     "output_type": "stream",
     "text": [
      "{64, 1, 4, 36, 100, 9, 16, 49, 81, 25}\n"
     ]
    }
   ],
   "source": [
    "s = { x**2 for x in range(1,11) }\n",
    "\n",
    "print(s)"
   ]
  },
  {
   "cell_type": "code",
   "execution_count": null,
   "id": "9661620e-ede4-461d-aba2-0c4b23c09a00",
   "metadata": {},
   "outputs": [],
   "source": []
  },
  {
   "cell_type": "markdown",
   "id": "9ff557fd-be30-4f4e-85d5-4b1a8e51932e",
   "metadata": {},
   "source": [
    "### Create a new set containing only the even numbers from the set created in Assignment 1 using a set comprehension. Print the new set.\n"
   ]
  },
  {
   "cell_type": "code",
   "execution_count": 5,
   "id": "74252ee7-9572-472a-8f7c-08dcb8f5a7a2",
   "metadata": {},
   "outputs": [
    {
     "name": "stdout",
     "output_type": "stream",
     "text": [
      "{2, 4}\n"
     ]
    }
   ],
   "source": [
    "even = { x for x in s1 if x%2 == 0 }\n",
    "\n",
    "print(even)"
   ]
  },
  {
   "cell_type": "code",
   "execution_count": null,
   "id": "4f1dd231-9901-4d63-bf38-1b1c6114875f",
   "metadata": {},
   "outputs": [],
   "source": []
  },
  {
   "cell_type": "markdown",
   "id": "b2b77c47-a166-4941-91fd-7afab6a61e2a",
   "metadata": {},
   "source": [
    "### Create a set with duplicate elements and remove the duplicates using set methods. Print the modified set."
   ]
  },
  {
   "cell_type": "code",
   "execution_count": 6,
   "id": "2d794fb6-31e6-4399-8bff-41420ebdfae9",
   "metadata": {},
   "outputs": [
    {
     "name": "stdout",
     "output_type": "stream",
     "text": [
      "{1, 2, 3, 4, 5}\n",
      "{1, 2, 3, 4, 5}\n"
     ]
    }
   ],
   "source": [
    "s = {1, 2, 2, 3, 4, 4, 5}\n",
    "print(s)\n",
    "unique = set(s)\n",
    "print(unique)"
   ]
  },
  {
   "cell_type": "code",
   "execution_count": null,
   "id": "94171d57-767e-4566-859e-f693a90c2115",
   "metadata": {},
   "outputs": [],
   "source": []
  },
  {
   "cell_type": "markdown",
   "id": "d2c8252c-8388-4d4e-b5ac-d625e4a39b65",
   "metadata": {},
   "source": [
    "### Create two sets: one with the first 5 positive integers and another with the first 3 positive integers. Check if the second set is a subset of the first set and if the first set is a superset of the second set. Print the results."
   ]
  },
  {
   "cell_type": "code",
   "execution_count": 7,
   "id": "e87f0d0f-7770-42a5-a3f7-a24756d27655",
   "metadata": {},
   "outputs": [
    {
     "name": "stdout",
     "output_type": "stream",
     "text": [
      "Is s2 is subset of s1: True\n",
      "Is s1 is superset of s2: True\n"
     ]
    }
   ],
   "source": [
    "s1 = {1,2,3,4,5}\n",
    "s2 = {1,2,3}\n",
    "\n",
    "print(f'Is s2 is subset of s1: {s2.issubset(s1)}')\n",
    "print(f'Is s1 is superset of s2: {s1.issuperset(s2)}')"
   ]
  },
  {
   "cell_type": "code",
   "execution_count": null,
   "id": "76580b50-db47-4d8c-ba9a-99c6c2ff98e6",
   "metadata": {},
   "outputs": [],
   "source": []
  },
  {
   "cell_type": "markdown",
   "id": "6e6c6de9-75ea-4ec6-8dac-09032e00f029",
   "metadata": {},
   "source": [
    "### Create a frozenset with the first 5 positive integers. Print the frozenset."
   ]
  },
  {
   "cell_type": "code",
   "execution_count": 8,
   "id": "17606597-5ddc-41aa-ae62-f9fc2eaffa43",
   "metadata": {},
   "outputs": [
    {
     "name": "stdout",
     "output_type": "stream",
     "text": [
      "frozenset({1, 2, 3, 4, 5})\n"
     ]
    }
   ],
   "source": [
    "fs = frozenset(range(1, 6))\n",
    "print(fs)"
   ]
  },
  {
   "cell_type": "code",
   "execution_count": null,
   "id": "0a7c292c-b36e-48f0-83cc-c5daf4cfa488",
   "metadata": {},
   "outputs": [],
   "source": []
  },
  {
   "cell_type": "markdown",
   "id": "e5a3eb7a-3d18-4c8b-8706-a687e1f46f7a",
   "metadata": {},
   "source": [
    "### Create a set with the first 5 positive integers. Convert it to a list, append the number 6, and convert it back to a set. Print the resulting set."
   ]
  },
  {
   "cell_type": "code",
   "execution_count": 9,
   "id": "ffa5fbc6-1878-4461-aed9-19623e0f365e",
   "metadata": {},
   "outputs": [
    {
     "name": "stdout",
     "output_type": "stream",
     "text": [
      "{1, 2, 3, 4, 5, 6}\n"
     ]
    }
   ],
   "source": [
    "s1 = {1,2,3,4,5}\n",
    "l = list(s1)\n",
    "l.append(6)\n",
    "\n",
    "s1 = set(l)\n",
    "\n",
    "print(s1)"
   ]
  },
  {
   "cell_type": "code",
   "execution_count": null,
   "id": "5e1cc52a-8909-4151-8a41-ffcbfa28ac2d",
   "metadata": {},
   "outputs": [],
   "source": []
  },
  {
   "cell_type": "markdown",
   "id": "49f9cd44-58c3-4c9d-b628-117d1d803234",
   "metadata": {},
   "source": [
    "### Create a dictionary with set keys and integer values. Print the dictionary."
   ]
  },
  {
   "cell_type": "code",
   "execution_count": 10,
   "id": "46a13a1c-12b2-4d2a-8c23-d46dce73e4b0",
   "metadata": {},
   "outputs": [
    {
     "name": "stdout",
     "output_type": "stream",
     "text": [
      "{frozenset({1, 2}): 3, frozenset({3, 4}): 7, frozenset({5, 6}): 11}\n"
     ]
    }
   ],
   "source": [
    "d = {\n",
    "    frozenset({1, 2}): 3,\n",
    "    frozenset({3, 4}): 7,\n",
    "    frozenset({5, 6}): 11\n",
    "}\n",
    "print(d)"
   ]
  },
  {
   "cell_type": "code",
   "execution_count": null,
   "id": "c0974c07-5cf3-48e4-a20c-b93bb33aa9c2",
   "metadata": {},
   "outputs": [],
   "source": []
  },
  {
   "cell_type": "markdown",
   "id": "8769ac79-5039-4a4d-a609-7cacab5587c4",
   "metadata": {},
   "source": [
    "### Create a set and iterate over the elements, printing each element."
   ]
  },
  {
   "cell_type": "code",
   "execution_count": 11,
   "id": "43e69788-0d48-4cfd-91a1-0faf4e8e9388",
   "metadata": {},
   "outputs": [
    {
     "name": "stdout",
     "output_type": "stream",
     "text": [
      "1\n",
      "2\n",
      "3\n",
      "4\n",
      "5\n"
     ]
    }
   ],
   "source": [
    "s = set(range(1, 6))\n",
    "for elem in s:\n",
    "    print(elem)"
   ]
  },
  {
   "cell_type": "code",
   "execution_count": null,
   "id": "bb23b925-b2fa-4418-bd37-d9fc4dcaf911",
   "metadata": {},
   "outputs": [],
   "source": []
  },
  {
   "cell_type": "markdown",
   "id": "1d79f6d4-4cd7-4d84-9e94-1ae35409f420",
   "metadata": {},
   "source": [
    "### Create a set and remove elements from it until it is empty. Print the set after each removal."
   ]
  },
  {
   "cell_type": "code",
   "execution_count": 12,
   "id": "d493f81d-9ecb-4700-a050-3a31c59a4b96",
   "metadata": {},
   "outputs": [
    {
     "name": "stdout",
     "output_type": "stream",
     "text": [
      "{2, 3, 4, 5}\n",
      "{3, 4, 5}\n",
      "{4, 5}\n",
      "{5}\n",
      "set()\n"
     ]
    }
   ],
   "source": [
    "s = set(range(1, 6))\n",
    "while s:\n",
    "    s.pop()\n",
    "    print(s)"
   ]
  },
  {
   "cell_type": "code",
   "execution_count": null,
   "id": "44f6a93c-82e8-43d6-a50b-4de3965903e2",
   "metadata": {},
   "outputs": [],
   "source": []
  },
  {
   "cell_type": "markdown",
   "id": "c0f82361-6b84-4c5e-bea2-6ef9cebde785",
   "metadata": {},
   "source": [
    "### Create two sets and update the first set with the symmetric difference of the two sets. Print the modified first set."
   ]
  },
  {
   "cell_type": "code",
   "execution_count": 13,
   "id": "89d82f9d-c091-4306-9c64-82772e59a695",
   "metadata": {},
   "outputs": [
    {
     "name": "stdout",
     "output_type": "stream",
     "text": [
      "{1, 2, 4, 5}\n"
     ]
    }
   ],
   "source": [
    "set1 = {1, 2, 3}\n",
    "set2 = {3, 4, 5}\n",
    "set1.symmetric_difference_update(set2)\n",
    "print(set1)"
   ]
  },
  {
   "cell_type": "code",
   "execution_count": null,
   "id": "7088c55b-acae-4c90-95a1-be6ec9fd7c9e",
   "metadata": {},
   "outputs": [],
   "source": []
  },
  {
   "cell_type": "markdown",
   "id": "77cefda1-45c6-44a7-bfcf-a04b883b07d3",
   "metadata": {},
   "source": [
    "### Create a set and test if certain elements are present in the set. Print the results."
   ]
  },
  {
   "cell_type": "code",
   "execution_count": 14,
   "id": "648e60cc-3803-43f8-bf08-a9dd2d4b932b",
   "metadata": {},
   "outputs": [
    {
     "name": "stdout",
     "output_type": "stream",
     "text": [
      "True\n",
      "False\n"
     ]
    }
   ],
   "source": [
    "s = set(range(1, 6))\n",
    "print(3 in s)\n",
    "print(6 in s)"
   ]
  },
  {
   "cell_type": "code",
   "execution_count": null,
   "id": "4bb3e9ec-e9af-4fb9-91cc-a4faeb72da1a",
   "metadata": {},
   "outputs": [],
   "source": []
  },
  {
   "cell_type": "markdown",
   "id": "14bb6830-dccc-4689-93b4-6b1ef26a9933",
   "metadata": {},
   "source": [
    "### Create a set containing tuples, where each tuple contains two elements. Print the set."
   ]
  },
  {
   "cell_type": "code",
   "execution_count": 15,
   "id": "fcfabffb-110e-4c71-8c9b-80354555fbbb",
   "metadata": {},
   "outputs": [
    {
     "name": "stdout",
     "output_type": "stream",
     "text": [
      "{(1, 2), (3, 4), (5, 6)}\n"
     ]
    }
   ],
   "source": [
    "s = { (1, 2), (3, 4), (5, 6) }\n",
    "print(s)"
   ]
  },
  {
   "cell_type": "code",
   "execution_count": null,
   "id": "6b607d65-295e-4195-8807-1017530f89c1",
   "metadata": {},
   "outputs": [],
   "source": []
  }
 ],
 "metadata": {
  "kernelspec": {
   "display_name": "Python 3 (ipykernel)",
   "language": "python",
   "name": "python3"
  },
  "language_info": {
   "codemirror_mode": {
    "name": "ipython",
    "version": 3
   },
   "file_extension": ".py",
   "mimetype": "text/x-python",
   "name": "python",
   "nbconvert_exporter": "python",
   "pygments_lexer": "ipython3",
   "version": "3.12.4"
  }
 },
 "nbformat": 4,
 "nbformat_minor": 5
}
