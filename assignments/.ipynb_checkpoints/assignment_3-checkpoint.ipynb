{
 "cells": [
  {
   "cell_type": "markdown",
   "id": "b647e400-3149-4e66-8c96-64bf38dc7a65",
   "metadata": {},
   "source": [
    "# Lists"
   ]
  },
  {
   "cell_type": "code",
   "execution_count": null,
   "id": "10926a1c-4bd0-4a91-80a8-a81b59e1cd62",
   "metadata": {},
   "outputs": [],
   "source": []
  },
  {
   "cell_type": "markdown",
   "id": "738aa3ce-c25f-4ec2-9df7-bb9fd62847c1",
   "metadata": {},
   "source": [
    "### Create a list of the first 20 positive integers. Print the list."
   ]
  },
  {
   "cell_type": "code",
   "execution_count": 1,
   "id": "0cce66b7-5003-4cd0-b562-4a8dd4b74a88",
   "metadata": {},
   "outputs": [
    {
     "name": "stdout",
     "output_type": "stream",
     "text": [
      "[1, 2, 3, 4, 5, 6, 7, 8, 9, 10, 11, 12, 13, 14, 15, 16, 17, 18, 19, 20]\n"
     ]
    }
   ],
   "source": [
    "numbers = [ num for num in range(1,21) ]\n",
    "print(numbers)"
   ]
  },
  {
   "cell_type": "code",
   "execution_count": null,
   "id": "a3812140-ab01-4992-a520-fdbfb04c2621",
   "metadata": {},
   "outputs": [],
   "source": []
  },
  {
   "cell_type": "markdown",
   "id": "4e8fb659-ebbb-42b9-8e40-9f0318d16314",
   "metadata": {},
   "source": [
    "### Print the first, middle, and last elements of the list created in Assignment 1."
   ]
  },
  {
   "cell_type": "code",
   "execution_count": 2,
   "id": "9c2892e1-4d72-4d4b-96e1-f67228133a0a",
   "metadata": {},
   "outputs": [
    {
     "name": "stdout",
     "output_type": "stream",
     "text": [
      "1\n",
      "11\n",
      "20\n"
     ]
    }
   ],
   "source": [
    "print(numbers[0])\n",
    "print(numbers[ int(len(numbers) /2) ])\n",
    "print(numbers[len(numbers)-1])\n",
    "\n"
   ]
  },
  {
   "cell_type": "code",
   "execution_count": null,
   "id": "def92a33-1a36-4897-9519-c347ec29bceb",
   "metadata": {},
   "outputs": [],
   "source": []
  },
  {
   "cell_type": "markdown",
   "id": "307bf716-80a2-44b4-9c20-15af42cd827c",
   "metadata": {},
   "source": [
    "### Print the first five elements, the last five elements, and the elements from index 5 to 15 of the list created in Assignment 1."
   ]
  },
  {
   "cell_type": "code",
   "execution_count": 3,
   "id": "22104a33-0765-4b00-844c-6cf7a72dadb5",
   "metadata": {},
   "outputs": [
    {
     "name": "stdout",
     "output_type": "stream",
     "text": [
      "[1, 2, 3, 4, 5]\n",
      "[16, 17, 18, 19, 20]\n",
      "[6, 7, 8, 9, 10, 11, 12, 13, 14, 15]\n"
     ]
    }
   ],
   "source": [
    "print( numbers[:5] )\n",
    "\n",
    "print( numbers[ -5: ] )\n",
    "\n",
    "print( numbers[ 5: 15] )"
   ]
  },
  {
   "cell_type": "code",
   "execution_count": null,
   "id": "4486d87a-bb8f-466c-8315-5cf81f3a37a9",
   "metadata": {},
   "outputs": [],
   "source": []
  },
  {
   "cell_type": "markdown",
   "id": "080a8b8f-d6a8-4027-8e17-74927fb4cd0c",
   "metadata": {},
   "source": [
    "### Create a new list containing the squares of the first 10 positive integers using a list comprehension. Print the new list."
   ]
  },
  {
   "cell_type": "code",
   "execution_count": 4,
   "id": "664a363f-1a4a-4877-9b76-99f2320a99e7",
   "metadata": {},
   "outputs": [
    {
     "name": "stdout",
     "output_type": "stream",
     "text": [
      "[1, 4, 9, 16, 25, 36, 49, 64, 81, 100]\n"
     ]
    }
   ],
   "source": [
    "squares = [ numbers[i]**2 for i in range(0,10)  ]\n",
    "\n",
    "print(squares)"
   ]
  },
  {
   "cell_type": "code",
   "execution_count": null,
   "id": "1f1f21ea-635e-4f09-9d4a-4de7ff06f8e0",
   "metadata": {},
   "outputs": [],
   "source": []
  },
  {
   "cell_type": "markdown",
   "id": "5ecffa55-5a70-4fdb-a7af-7a48de86a6d6",
   "metadata": {},
   "source": [
    "### Create a new list containing only the even numbers from the list created in Assignment 1 using a list comprehension. Print the new list."
   ]
  },
  {
   "cell_type": "code",
   "execution_count": 5,
   "id": "88bc2c06-f65e-4bfa-9b80-abdc7cd3e0ab",
   "metadata": {},
   "outputs": [
    {
     "data": {
      "text/plain": [
       "[2, 4, 6, 8, 10, 12, 14, 16, 18, 20]"
      ]
     },
     "execution_count": 5,
     "metadata": {},
     "output_type": "execute_result"
    }
   ],
   "source": [
    "even_numbers = [ num for num in numbers if (num&1)==0 ] \n",
    "even_numbers"
   ]
  },
  {
   "cell_type": "code",
   "execution_count": null,
   "id": "5346b1a3-ff81-49f3-9946-9b77521343c5",
   "metadata": {},
   "outputs": [],
   "source": []
  },
  {
   "cell_type": "markdown",
   "id": "5058e128-d1ce-4037-935e-00906b476ba7",
   "metadata": {},
   "source": [
    "### Create a list of random numbers and sort it in ascending and descending order. Remove the duplicates from the list and print the modified list."
   ]
  },
  {
   "cell_type": "code",
   "execution_count": 6,
   "id": "8c19edc4-2a28-4d93-ae69-9332db0e4623",
   "metadata": {},
   "outputs": [],
   "source": [
    "import random"
   ]
  },
  {
   "cell_type": "code",
   "execution_count": 7,
   "id": "e1f33ef7-5f06-4388-8ea3-2b00b71136fb",
   "metadata": {},
   "outputs": [],
   "source": [
    "random_number = [ random.randint(1,20) for _ in range(0,20) ]"
   ]
  },
  {
   "cell_type": "code",
   "execution_count": 8,
   "id": "8b9191d4-f91e-41c1-b293-a3e7308272a9",
   "metadata": {},
   "outputs": [
    {
     "data": {
      "text/plain": [
       "[5, 1, 5, 20, 11, 14, 12, 3, 16, 7, 12, 19, 5, 15, 18, 5, 18, 6, 2, 10]"
      ]
     },
     "execution_count": 8,
     "metadata": {},
     "output_type": "execute_result"
    }
   ],
   "source": [
    "random_number"
   ]
  },
  {
   "cell_type": "code",
   "execution_count": 9,
   "id": "ac568d2c-1ee3-4517-9e3f-c94bed35b3c5",
   "metadata": {},
   "outputs": [
    {
     "data": {
      "text/plain": [
       "[20, 19, 18, 18, 16, 15, 14, 12, 12, 11, 10, 7, 6, 5, 5, 5, 5, 3, 2, 1]"
      ]
     },
     "execution_count": 9,
     "metadata": {},
     "output_type": "execute_result"
    }
   ],
   "source": [
    "# descending\n",
    "\n",
    "random_number.sort(reverse=True)\n",
    "random_number"
   ]
  },
  {
   "cell_type": "code",
   "execution_count": 10,
   "id": "2ed4e5bf-b184-4fb2-99e4-0032beb2b843",
   "metadata": {},
   "outputs": [
    {
     "data": {
      "text/plain": [
       "[1, 2, 3, 5, 5, 5, 5, 6, 7, 10, 11, 12, 12, 14, 15, 16, 18, 18, 19, 20]"
      ]
     },
     "execution_count": 10,
     "metadata": {},
     "output_type": "execute_result"
    }
   ],
   "source": [
    "# ascending\n",
    "\n",
    "random_number.sort()\n",
    "random_number"
   ]
  },
  {
   "cell_type": "code",
   "execution_count": null,
   "id": "232801d3-4c6c-449f-beb4-223b6cc33df1",
   "metadata": {},
   "outputs": [],
   "source": []
  },
  {
   "cell_type": "code",
   "execution_count": 11,
   "id": "ef3aa62e-fadd-4850-9c43-da34ffc7ee15",
   "metadata": {},
   "outputs": [
    {
     "data": {
      "text/plain": [
       "[1, 2, 3, 5, 6, 7, 10, 11, 12, 14, 15, 16, 18, 19, 20]"
      ]
     },
     "execution_count": 11,
     "metadata": {},
     "output_type": "execute_result"
    }
   ],
   "source": [
    "unique_list = [ random_number[i] \n",
    "               for i in range(0,len(random_number)) \n",
    "               if( (i==0) or  (i>0 and random_number[i] != random_number[i-1]) ) \n",
    "              ]\n",
    "\n",
    "unique_list"
   ]
  },
  {
   "cell_type": "code",
   "execution_count": null,
   "id": "021f2bab-1402-46f4-ab93-79f5757d3865",
   "metadata": {},
   "outputs": [],
   "source": []
  },
  {
   "cell_type": "markdown",
   "id": "49757ebf-48c2-438e-a3a3-ae5120454a6e",
   "metadata": {},
   "source": [
    "\n",
    "### Create a nested list representing a 3x3 matrix and print the matrix. Access and print the element at the second row and third column."
   ]
  },
  {
   "cell_type": "code",
   "execution_count": 12,
   "id": "0b962e54-7e78-4745-8f72-3cfdb2c11d65",
   "metadata": {},
   "outputs": [
    {
     "name": "stdout",
     "output_type": "stream",
     "text": [
      "[[1, 2, 3], [4, 5, 6], [7, 8, 9]]\n",
      "6\n"
     ]
    }
   ],
   "source": [
    "matrix = [\n",
    "    [1,2,3],\n",
    "    [4,5,6],\n",
    "    [7,8,9]\n",
    "]\n",
    "\n",
    "print(matrix)\n",
    "\n",
    "print(matrix[1][2])"
   ]
  },
  {
   "cell_type": "code",
   "execution_count": null,
   "id": "5a303ca7-b67c-4ba5-a155-a296302d39bd",
   "metadata": {},
   "outputs": [],
   "source": []
  },
  {
   "cell_type": "markdown",
   "id": "2e3c538a-6932-4c57-8f6d-996fa5fb7226",
   "metadata": {},
   "source": [
    "### Create a list of dictionaries where each dictionary represents a student with keys 'name' and 'score'. Sort the list of dictionaries by the 'score' in descending order and print the sorted list."
   ]
  },
  {
   "cell_type": "code",
   "execution_count": 13,
   "id": "76f74b33-3177-46a1-b49e-dfee2c0d1c3f",
   "metadata": {},
   "outputs": [
    {
     "name": "stdout",
     "output_type": "stream",
     "text": [
      "Sorted students by score in descending order:\n",
      "{'name': 'Charlie', 'score': 95}\n",
      "{'name': 'Alice', 'score': 88}\n",
      "{'name': 'Eve', 'score': 78}\n",
      "{'name': 'Bob', 'score': 72}\n",
      "{'name': 'David', 'score': 65}\n"
     ]
    }
   ],
   "source": [
    "students = [\n",
    "    {'name': 'Alice', 'score': 88},\n",
    "    {'name': 'Bob', 'score': 72},\n",
    "    {'name': 'Charlie', 'score': 95},\n",
    "    {'name': 'David', 'score': 65},\n",
    "    {'name': 'Eve', 'score': 78}\n",
    "]\n",
    "\n",
    "sorted_students = sorted(students, key=lambda x: x['score'], reverse=True)\n",
    "\n",
    "print(\"Sorted students by score in descending order:\")\n",
    "\n",
    "for student in sorted_students:\n",
    "    print(student)"
   ]
  },
  {
   "cell_type": "code",
   "execution_count": null,
   "id": "3ae4ee12-c3c9-4402-a27e-30b91450ed76",
   "metadata": {},
   "outputs": [],
   "source": []
  },
  {
   "cell_type": "markdown",
   "id": "92f58212-e60e-4a91-a65f-45675f8e88aa",
   "metadata": {},
   "source": [
    "\n",
    "### Write a function that takes a 3x3 matrix (nested list) as input and returns its transpose. Print the original and transposed matrices.\n"
   ]
  },
  {
   "cell_type": "code",
   "execution_count": 14,
   "id": "972f66b1-461e-4b79-95fb-3a3b9e983cd4",
   "metadata": {},
   "outputs": [
    {
     "name": "stdout",
     "output_type": "stream",
     "text": [
      "Original matrix:\n",
      "[1, 2, 3]\n",
      "[4, 5, 6]\n",
      "[7, 8, 9]\n",
      "Transposed matrix:\n",
      "[1, 4, 7]\n",
      "[2, 5, 8]\n",
      "[3, 6, 9]\n"
     ]
    }
   ],
   "source": [
    "def transpose_matrix(matrix):\n",
    "    transposed = [[matrix[j][i] for j in range(len(matrix))] for i in range(len(matrix[0]))]\n",
    "    return transposed\n",
    "\n",
    "matrix = [\n",
    "    [1, 2, 3],\n",
    "    [4, 5, 6],\n",
    "    [7, 8, 9]\n",
    "]\n",
    "transposed = transpose_matrix(matrix)\n",
    "print(\"Original matrix:\")\n",
    "for row in matrix:\n",
    "    print(row)\n",
    "print(\"Transposed matrix:\")\n",
    "for row in transposed:\n",
    "    print(row)"
   ]
  },
  {
   "cell_type": "code",
   "execution_count": null,
   "id": "b425eb0e-62fb-4670-a704-991edfc56fe2",
   "metadata": {},
   "outputs": [],
   "source": []
  },
  {
   "cell_type": "markdown",
   "id": "2c6a4bf9-1235-4a36-87ba-5a09157f2c96",
   "metadata": {},
   "source": [
    "\n",
    "### Write a function that takes a nested list and flattens it into a single list. Print the original and flattened lists.\n"
   ]
  },
  {
   "cell_type": "code",
   "execution_count": 15,
   "id": "41992d88-116a-49c1-892d-542869c58bdd",
   "metadata": {},
   "outputs": [
    {
     "name": "stdout",
     "output_type": "stream",
     "text": [
      "Original nested list:\n",
      "[[1, 2, 3], [4, 5, 6], [7, 8, 9]]\n",
      "Flattened list:\n",
      "[1, 2, 3, 4, 5, 6, 7, 8, 9]\n"
     ]
    }
   ],
   "source": [
    "def flatten_list(nested_list):\n",
    "    flat_list = [item for sublist in nested_list for item in sublist]\n",
    "    return flat_list\n",
    "\n",
    "nested_list = [\n",
    "    [1, 2, 3],\n",
    "    [4, 5, 6],\n",
    "    [7, 8, 9]\n",
    "]\n",
    "flattened = flatten_list(nested_list)\n",
    "print(\"Original nested list:\")\n",
    "print(nested_list)\n",
    "print(\"Flattened list:\")\n",
    "print(flattened)"
   ]
  },
  {
   "cell_type": "code",
   "execution_count": null,
   "id": "b3dfa9c3-0321-4288-9d83-1486fc27fe0a",
   "metadata": {},
   "outputs": [],
   "source": []
  },
  {
   "cell_type": "markdown",
   "id": "7b0be787-d88b-4bd7-812d-bb6442b6fa9f",
   "metadata": {},
   "source": [
    "### Create a list of the first 10 positive integers. Remove the elements at indices 2, 4, and 6, and insert the element '99' at index 5. Print the modified list."
   ]
  },
  {
   "cell_type": "code",
   "execution_count": 16,
   "id": "16e75787-83eb-41a5-9bae-db08318afd3b",
   "metadata": {},
   "outputs": [
    {
     "name": "stdout",
     "output_type": "stream",
     "text": [
      "Original list: [1, 2, 3, 4, 5, 6, 7, 8, 9, 10]\n",
      "Modified list: [1, 2, 4, 6, 8, 99, 9, 10]\n"
     ]
    }
   ],
   "source": [
    "lst = list(range(1, 11))\n",
    "print(f\"Original list: {lst}\")\n",
    "del lst[6]\n",
    "del lst[4]\n",
    "del lst[2]\n",
    "lst.insert(5, 99)\n",
    "print(f\"Modified list: {lst}\")"
   ]
  },
  {
   "cell_type": "code",
   "execution_count": null,
   "id": "db65ade3-656e-4fe4-abcf-c9bcfb70eb38",
   "metadata": {},
   "outputs": [],
   "source": []
  },
  {
   "cell_type": "markdown",
   "id": "b2a0e0ae-d373-426d-99de-8566184cf123",
   "metadata": {},
   "source": [
    "#### Create two lists of the same length. Use the `zip` function to combine these lists into a list of tuples and print the result.\n"
   ]
  },
  {
   "cell_type": "code",
   "execution_count": 17,
   "id": "18807ea4-22cd-4f87-a991-51befcf11267",
   "metadata": {},
   "outputs": [
    {
     "name": "stdout",
     "output_type": "stream",
     "text": [
      "[(1, 'a'), (2, 'b'), (3, 'c'), (4, 'd'), (5, 'e')]\n"
     ]
    }
   ],
   "source": [
    "list1 = [1, 2, 3, 4, 5]\n",
    "list2 = ['a', 'b', 'c', 'd', 'e']\n",
    "zipped = list(zip(list1, list2))\n",
    "print(zipped)"
   ]
  },
  {
   "cell_type": "code",
   "execution_count": null,
   "id": "523952d4-38b4-4b3e-9417-103eb660b147",
   "metadata": {},
   "outputs": [],
   "source": []
  },
  {
   "cell_type": "markdown",
   "id": "006fbe4d-705e-43e9-8454-7ffa6d9dca0e",
   "metadata": {},
   "source": [
    "### Write a function that takes a list and returns a new list with the elements in reverse order. Print the original and reversed lists."
   ]
  },
  {
   "cell_type": "code",
   "execution_count": 18,
   "id": "c3c380e5-94fb-4f6a-9913-67b843fe289d",
   "metadata": {},
   "outputs": [
    {
     "name": "stdout",
     "output_type": "stream",
     "text": [
      "Original list: [1, 2, 3, 4, 5]\n",
      "Reversed list: [5, 4, 3, 2, 1]\n"
     ]
    }
   ],
   "source": [
    "def reverse_list(lst):\n",
    "    return lst[::-1]\n",
    "\n",
    "original_list = [1, 2, 3, 4, 5]\n",
    "reversed_list = reverse_list(original_list)\n",
    "print(f\"Original list: {original_list}\")\n",
    "print(f\"Reversed list: {reversed_list}\")"
   ]
  },
  {
   "cell_type": "code",
   "execution_count": null,
   "id": "3d676df2-3b6e-4d1d-9da6-d9733e8439e1",
   "metadata": {},
   "outputs": [],
   "source": []
  },
  {
   "cell_type": "markdown",
   "id": "be898256-5d0d-47b3-a79f-7dac914ee2aa",
   "metadata": {},
   "source": [
    "\n",
    "### Write a function that rotates a list by n positions. Print the original and rotated lists."
   ]
  },
  {
   "cell_type": "code",
   "execution_count": 19,
   "id": "b66f301f-fcf9-4d58-a544-db1eebe5fb0d",
   "metadata": {},
   "outputs": [
    {
     "name": "stdout",
     "output_type": "stream",
     "text": [
      "Original list: [1, 2, 3, 4, 5]\n",
      "Rotated list: [3, 4, 5, 1, 2]\n"
     ]
    }
   ],
   "source": [
    "def rotate_list(lst, n):\n",
    "    return lst[n:] + lst[:n]\n",
    "\n",
    "original_list = [1, 2, 3, 4, 5]\n",
    "rotated_list = rotate_list(original_list, 2)\n",
    "print(f\"Original list: {original_list}\")\n",
    "print(f\"Rotated list: {rotated_list}\")"
   ]
  },
  {
   "cell_type": "code",
   "execution_count": null,
   "id": "426c8d26-583e-4ac7-956c-a2c8b83b5ac0",
   "metadata": {},
   "outputs": [],
   "source": []
  },
  {
   "cell_type": "markdown",
   "id": "aae59fdd-13bf-4f82-ba30-3c2c2d5b3b3d",
   "metadata": {},
   "source": [
    "### Write a function that takes two lists and returns a new list containing only the elements that are present in both lists. Print the intersected list."
   ]
  },
  {
   "cell_type": "code",
   "execution_count": 20,
   "id": "104161be-1092-4885-aefb-cf9196ee05cb",
   "metadata": {},
   "outputs": [
    {
     "name": "stdout",
     "output_type": "stream",
     "text": [
      "List 1: [1, 2, 3, 4, 5]\n",
      "List 2: [3, 4, 5, 6, 7]\n",
      "Intersection: [3, 4, 5]\n"
     ]
    }
   ],
   "source": [
    "def list_intersection(lst1, lst2):\n",
    "    return [x for x in lst1 if x in lst2]\n",
    "\n",
    "list1 = [1, 2, 3, 4, 5]\n",
    "list2 = [3, 4, 5, 6, 7]\n",
    "intersection = list_intersection(list1, list2)\n",
    "print(f\"List 1: {list1}\")\n",
    "print(f\"List 2: {list2}\")\n",
    "print(f\"Intersection: {intersection}\")"
   ]
  },
  {
   "cell_type": "code",
   "execution_count": null,
   "id": "7dcd9820-1725-4594-b160-510d5b0ec0c7",
   "metadata": {},
   "outputs": [],
   "source": []
  }
 ],
 "metadata": {
  "kernelspec": {
   "display_name": "Python 3 (ipykernel)",
   "language": "python",
   "name": "python3"
  },
  "language_info": {
   "codemirror_mode": {
    "name": "ipython",
    "version": 3
   },
   "file_extension": ".py",
   "mimetype": "text/x-python",
   "name": "python",
   "nbconvert_exporter": "python",
   "pygments_lexer": "ipython3",
   "version": "3.12.4"
  }
 },
 "nbformat": 4,
 "nbformat_minor": 5
}
