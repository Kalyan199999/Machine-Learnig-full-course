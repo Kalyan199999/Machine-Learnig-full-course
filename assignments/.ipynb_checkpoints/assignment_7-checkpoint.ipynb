{
 "cells": [
  {
   "cell_type": "markdown",
   "id": "958581ae-8532-49b3-9060-16f924896883",
   "metadata": {},
   "source": [
    "## Advanced Functions Assignments"
   ]
  },
  {
   "cell_type": "code",
   "execution_count": null,
   "id": "a175650a-2d19-404a-9503-0a5ad00e1e0f",
   "metadata": {},
   "outputs": [],
   "source": []
  },
  {
   "cell_type": "markdown",
   "id": "559548ff-0a84-4834-96ed-f5866d4e29fa",
   "metadata": {},
   "source": [
    "### Define a recursive function to calculate the nth Fibonacci number using memoization. Test the function with different inputs."
   ]
  },
  {
   "cell_type": "code",
   "execution_count": 1,
   "id": "bebdecc6-df58-41ef-9f4e-c04fbe9494bc",
   "metadata": {},
   "outputs": [
    {
     "name": "stdout",
     "output_type": "stream",
     "text": [
      "55\n",
      "610\n"
     ]
    }
   ],
   "source": [
    "def fibonacci(n, memo={}):\n",
    "    if n in memo:\n",
    "        return memo[n]\n",
    "    if n <= 1:\n",
    "        return n\n",
    "    memo[n] = fibonacci(n - 1, memo) + fibonacci(n - 2, memo)\n",
    "    return memo[n]\n",
    "\n",
    "\n",
    "print(fibonacci(10))  \n",
    "print(fibonacci(15))  "
   ]
  },
  {
   "cell_type": "markdown",
   "id": "9f1ca3eb-e182-410c-802e-5303fbe9c8bd",
   "metadata": {},
   "source": [
    "### Define a function that takes two arguments, a and b, where b is a dictionary with a default value of an empty dictionary. The function should add a new key-value pair to the dictionary and return it. Test the function with different inputs."
   ]
  },
  {
   "cell_type": "code",
   "execution_count": 2,
   "id": "c10ee949-e0b2-4d33-adf8-6ecf2e36cda6",
   "metadata": {},
   "outputs": [
    {
     "name": "stdout",
     "output_type": "stream",
     "text": [
      "{2: 4}\n",
      "{1: 1, 3: 9}\n"
     ]
    }
   ],
   "source": [
    "def add_to_dict(a, b=None):\n",
    "    if b is None:\n",
    "        b = {}\n",
    "    b[a] = a**2\n",
    "    return b\n",
    "\n",
    "\n",
    "print(add_to_dict(2)) \n",
    "print(add_to_dict(3, {1: 1}))  "
   ]
  },
  {
   "cell_type": "code",
   "execution_count": null,
   "id": "b51d1b03-ef0c-4166-8ac8-112d7434b1f0",
   "metadata": {},
   "outputs": [],
   "source": []
  },
  {
   "cell_type": "markdown",
   "id": "3898d20d-a25f-4b26-8efb-f91fe86bc688",
   "metadata": {},
   "source": [
    "### Define a function that takes a variable number of keyword arguments and returns a dictionary containing only those key-value pairs where the value is an integer. Test the function with different inputs."
   ]
  },
  {
   "cell_type": "code",
   "execution_count": 4,
   "id": "3470f06a-6821-41ac-be94-55ae3d1f526f",
   "metadata": {},
   "outputs": [
    {
     "name": "stdout",
     "output_type": "stream",
     "text": [
      "{'a': 1, 'c': 3}\n",
      "{'x': 10, 'z': 20}\n"
     ]
    }
   ],
   "source": [
    "def filter_integers(**kwargs):\n",
    "    return {k: v for k, v in kwargs.items() if isinstance(v, int)}\n",
    "\n",
    "\n",
    "print(filter_integers(a=1, b='two', c=3, d=4.5))  \n",
    "print(filter_integers(x=10, y='yes', z=20))  "
   ]
  },
  {
   "cell_type": "code",
   "execution_count": null,
   "id": "b95c4271-a047-46a0-874f-7d9a455efa14",
   "metadata": {},
   "outputs": [],
   "source": []
  },
  {
   "cell_type": "markdown",
   "id": "d299c91c-61a9-4628-93be-2a95d4e3cce0",
   "metadata": {},
   "source": [
    "### Define a function that takes another function as a callback and a list of integers. The function should apply the callback to each integer in the list and return a new list with the results. Test with different callback functions."
   ]
  },
  {
   "cell_type": "code",
   "execution_count": 5,
   "id": "b0529e98-9532-4bf8-83a6-666a81d1e425",
   "metadata": {},
   "outputs": [
    {
     "name": "stdout",
     "output_type": "stream",
     "text": [
      "[1, 4, 9, 16]\n",
      "[2, 3, 4, 5]\n"
     ]
    }
   ],
   "source": [
    "def apply_callback(callback, lst):\n",
    "    return [callback(x) for x in lst]\n",
    "\n",
    "\n",
    "print(apply_callback(lambda x: x**2, [1, 2, 3, 4]))  \n",
    "print(apply_callback(lambda x: x+1, [1, 2, 3, 4]))  "
   ]
  },
  {
   "cell_type": "code",
   "execution_count": null,
   "id": "900a1d7d-5094-4c11-97c8-66781a4e8a15",
   "metadata": {},
   "outputs": [],
   "source": []
  },
  {
   "cell_type": "markdown",
   "id": "ef56d19c-527c-4006-93dd-a667a0665532",
   "metadata": {},
   "source": [
    "### Define a function that returns another function. The returned function should take an integer and return its square. Test the returned function with different inputs."
   ]
  },
  {
   "cell_type": "code",
   "execution_count": 6,
   "id": "a84c2818-9101-4295-844f-b53a47bf82b6",
   "metadata": {},
   "outputs": [
    {
     "name": "stdout",
     "output_type": "stream",
     "text": [
      "4\n",
      "25\n"
     ]
    }
   ],
   "source": [
    "def outer_function():\n",
    "    def inner_function(x):\n",
    "        return x ** 2\n",
    "    return inner_function\n",
    "\n",
    "\n",
    "square = outer_function()\n",
    "print(square(2))  \n",
    "print(square(5)) "
   ]
  },
  {
   "cell_type": "code",
   "execution_count": null,
   "id": "192d3235-3fe5-44cb-b010-9cb0f26a75c6",
   "metadata": {},
   "outputs": [],
   "source": []
  },
  {
   "cell_type": "markdown",
   "id": "d16cae57-98c9-4c4b-973e-b0489f1efce7",
   "metadata": {},
   "source": [
    "### Define a function that calculates the time taken to execute another function. Apply this decorator to a function that performs a complex calculation. Test the decorated function with different inputs."
   ]
  },
  {
   "cell_type": "code",
   "execution_count": 7,
   "id": "c0b18df3-344d-4c9b-a279-39dbfb8d22f7",
   "metadata": {},
   "outputs": [
    {
     "name": "stdout",
     "output_type": "stream",
     "text": [
      "Function complex_calculation took 0.003000020980834961 seconds to execute.\n",
      "333283335000\n"
     ]
    }
   ],
   "source": [
    "import time\n",
    "\n",
    "def timer_decorator(func):\n",
    "    def wrapper(*args, **kwargs):\n",
    "        start_time = time.time()\n",
    "        result = func(*args, **kwargs)\n",
    "        end_time = time.time()\n",
    "        print(f\"Function {func.__name__} took {end_time - start_time} seconds to execute.\")\n",
    "        return result\n",
    "    return wrapper\n",
    "\n",
    "@timer_decorator\n",
    "def complex_calculation(n):\n",
    "    return sum(x**2 for x in range(n))\n",
    "\n",
    "\n",
    "print(complex_calculation(10000))"
   ]
  },
  {
   "cell_type": "code",
   "execution_count": null,
   "id": "27e293b3-a75a-48f9-a199-70eb9f20ac5c",
   "metadata": {},
   "outputs": [],
   "source": []
  },
  {
   "cell_type": "markdown",
   "id": "6b62e747-59d2-4cce-9a64-e72e4ee00c13",
   "metadata": {},
   "source": [
    "### Define a higher-order function that takes two functions, a filter function and a map function, along with a list of integers. The higher-order function should first filter the integers using the filter function and then apply the map function to the filtered integers. Test with different filter and map functions."
   ]
  },
  {
   "cell_type": "code",
   "execution_count": 8,
   "id": "bc7819dc-f2b9-470e-917f-073268e6a966",
   "metadata": {},
   "outputs": [
    {
     "name": "stdout",
     "output_type": "stream",
     "text": [
      "[4, 16]\n",
      "[4, 5, 6]\n"
     ]
    }
   ],
   "source": [
    "def filter_and_map(filter_func, map_func, lst):\n",
    "    return [map_func(x) for x in lst if filter_func(x)]\n",
    "\n",
    "\n",
    "print(filter_and_map(lambda x: x % 2 == 0, lambda x: x ** 2, [1, 2, 3, 4, 5]))  \n",
    "print(filter_and_map(lambda x: x > 2, lambda x: x + 1, [1, 2, 3, 4, 5]))  "
   ]
  },
  {
   "cell_type": "code",
   "execution_count": null,
   "id": "77d18c9f-ab5c-4775-a942-5dd99a30eeb5",
   "metadata": {},
   "outputs": [],
   "source": []
  },
  {
   "cell_type": "markdown",
   "id": "7c6b8c86-c4c0-4f3a-9891-364a47300241",
   "metadata": {},
   "source": [
    "### Define a function that composes two functions, f and g, such that the result is f(g(x)). Test with different functions f and g."
   ]
  },
  {
   "cell_type": "code",
   "execution_count": null,
   "id": "ed9a00ae-c5b0-4438-9157-edde7c246654",
   "metadata": {},
   "outputs": [],
   "source": [
    "def compose(f, g):\n",
    "    return lambda x: f(g(x))\n",
    "\n",
    "\n",
    "f = lambda x: x + 1\n",
    "g = lambda x: x * 2\n",
    "h = compose(f, g)\n",
    "print(h(3))  \n",
    "print(h(5))  "
   ]
  },
  {
   "cell_type": "code",
   "execution_count": null,
   "id": "9dd2c525-2c88-4a5a-8794-2a044920f421",
   "metadata": {},
   "outputs": [],
   "source": []
  },
  {
   "cell_type": "markdown",
   "id": "9f90e4e3-d84a-4216-8278-73fd3b571b33",
   "metadata": {},
   "source": [
    "### Use the functools.partial function to create a new function that multiplies its input by 2. Test the new function with different inputs."
   ]
  },
  {
   "cell_type": "code",
   "execution_count": 10,
   "id": "82c4a10b-0190-4903-b1c8-0ffdfcde789f",
   "metadata": {},
   "outputs": [
    {
     "name": "stdout",
     "output_type": "stream",
     "text": [
      "6\n",
      "10\n"
     ]
    }
   ],
   "source": [
    "from functools import partial\n",
    "\n",
    "multiply_by_2 = partial(lambda x, y: x * y, 2)\n",
    "\n",
    "\n",
    "print(multiply_by_2(3))  \n",
    "print(multiply_by_2(5)) "
   ]
  },
  {
   "cell_type": "code",
   "execution_count": null,
   "id": "dcc5f987-4aa4-4b45-b7b3-ffcfe0ac3e63",
   "metadata": {},
   "outputs": [],
   "source": []
  },
  {
   "cell_type": "markdown",
   "id": "5e73ba1d-3d84-4d56-8792-92260b06ac10",
   "metadata": {},
   "source": [
    "### Define a function that takes a list of integers and returns their average. The function should handle any errors that occur (e.g., empty list) and return None in such cases. Test with different inputs."
   ]
  },
  {
   "cell_type": "code",
   "execution_count": 11,
   "id": "cb72cdc3-1c1a-4cca-a4dd-fdc71aa0811d",
   "metadata": {},
   "outputs": [
    {
     "name": "stdout",
     "output_type": "stream",
     "text": [
      "3.0\n",
      "None\n"
     ]
    }
   ],
   "source": [
    "def average(lst):\n",
    "    try:\n",
    "        return sum(lst) / len(lst)\n",
    "    except ZeroDivisionError:\n",
    "        return None\n",
    "\n",
    "\n",
    "print(average([1, 2, 3, 4, 5]))  \n",
    "print(average([]))  "
   ]
  },
  {
   "cell_type": "code",
   "execution_count": null,
   "id": "d520b7a0-4cb6-4323-8042-d3d732cbb439",
   "metadata": {},
   "outputs": [],
   "source": []
  },
  {
   "cell_type": "markdown",
   "id": "16e2b9a4-003b-4d53-8f59-d2789a8a7323",
   "metadata": {},
   "source": [
    "### Define a function that generates an infinite sequence of Fibonacci numbers. Test by printing the first 10 numbers in the sequence."
   ]
  },
  {
   "cell_type": "code",
   "execution_count": 12,
   "id": "b41a6ffd-9b48-4ca1-916a-b61f045486a3",
   "metadata": {},
   "outputs": [
    {
     "name": "stdout",
     "output_type": "stream",
     "text": [
      "0\n",
      "1\n",
      "1\n",
      "2\n",
      "3\n",
      "5\n",
      "8\n",
      "13\n",
      "21\n",
      "34\n"
     ]
    }
   ],
   "source": [
    "def fibonacci_generator():\n",
    "    a, b = 0, 1\n",
    "    while True:\n",
    "        yield a\n",
    "        a, b = b, a + b\n",
    "\n",
    "\n",
    "fib_gen = fibonacci_generator()\n",
    "for _ in range(10):\n",
    "    print(next(fib_gen))"
   ]
  },
  {
   "cell_type": "code",
   "execution_count": null,
   "id": "693f5bfd-0169-4a25-80d6-e5eb2cd72afe",
   "metadata": {},
   "outputs": [],
   "source": []
  },
  {
   "cell_type": "markdown",
   "id": "abc1e56f-7122-44aa-bdc3-f3d55040447c",
   "metadata": {},
   "source": [
    "### Define a curried function that takes three arguments, one at a time, and returns their product. Test the function by providing arguments one at a time."
   ]
  },
  {
   "cell_type": "code",
   "execution_count": 13,
   "id": "c680cbd4-ba0b-455f-97fc-88f839a95c73",
   "metadata": {},
   "outputs": [
    {
     "name": "stdout",
     "output_type": "stream",
     "text": [
      "24\n",
      "30\n"
     ]
    }
   ],
   "source": [
    "def curry_product(x):\n",
    "    def inner1(y):\n",
    "        def inner2(z):\n",
    "            return x * y * z\n",
    "        return inner2\n",
    "    return inner1\n",
    "\n",
    "print(curry_product(2)(3)(4)) \n",
    "print(curry_product(1)(5)(6)) "
   ]
  },
  {
   "cell_type": "code",
   "execution_count": null,
   "id": "7ae0cf9b-4167-4d83-80b9-64484ada2294",
   "metadata": {},
   "outputs": [],
   "source": []
  },
  {
   "cell_type": "markdown",
   "id": "39879ddd-cd1a-48a1-b188-93a7025e244a",
   "metadata": {},
   "source": [
    "### Define a function that uses a context manager to write a list of integers to a file. The function should handle any errors that occur during file operations. Test with different lists."
   ]
  },
  {
   "cell_type": "code",
   "execution_count": 14,
   "id": "9ee75111-8b18-421f-a123-2752e3bcdc6e",
   "metadata": {},
   "outputs": [],
   "source": [
    "def write_to_file(lst, filename):\n",
    "    try:\n",
    "        with open(filename, 'w') as f:\n",
    "            for num in lst:\n",
    "                f.write(f\"{num}\\n\")\n",
    "    except IOError as e:\n",
    "        print(f\"An error occurred: {e}\")\n",
    "\n",
    "write_to_file([1, 2, 3, 4, 5], 'output.txt')"
   ]
  },
  {
   "cell_type": "code",
   "execution_count": null,
   "id": "04193776-bad6-46d9-93da-45f4dd0779a1",
   "metadata": {},
   "outputs": [],
   "source": []
  },
  {
   "cell_type": "markdown",
   "id": "a2a32581-8cf5-4ced-9bbd-25ac363ff31e",
   "metadata": {},
   "source": [
    "### Define a function that takes a list of mixed data types (integers, strings, and floats) and returns three lists: one containing all the integers, one containing all the strings, and one containing all the floats. Test with different inputs."
   ]
  },
  {
   "cell_type": "code",
   "execution_count": 15,
   "id": "4e187d6f-7188-419f-a17b-6248b754e415",
   "metadata": {},
   "outputs": [
    {
     "name": "stdout",
     "output_type": "stream",
     "text": [
      "([1, 3], ['a', 'b', 'c'], [2.5, 4.0])\n"
     ]
    }
   ],
   "source": [
    "def separate_types(lst):\n",
    "    ints, strs, floats = [], [], []\n",
    "    for item in lst:\n",
    "        if isinstance(item, int):\n",
    "            ints.append(item)\n",
    "        elif isinstance(item, str):\n",
    "            strs.append(item)\n",
    "        elif isinstance(item, float):\n",
    "            floats.append(item)\n",
    "    return ints, strs, floats\n",
    "\n",
    "# Test\n",
    "print(separate_types([1, 'a', 2.5, 3, 'b', 4.0, 'c']))  "
   ]
  },
  {
   "cell_type": "code",
   "execution_count": null,
   "id": "e3564aca-d83b-41f3-b354-ccc05ebb25f9",
   "metadata": {},
   "outputs": [],
   "source": []
  },
  {
   "cell_type": "markdown",
   "id": "ab1cef63-58d7-4d8e-87a8-bafdd1716e8e",
   "metadata": {},
   "source": [
    "### Define a function that maintains state between calls using a mutable default argument. The function should keep track of how many times it has been called. Test by calling the function multiple times."
   ]
  },
  {
   "cell_type": "code",
   "execution_count": 16,
   "id": "9eedae94-69a7-4a2f-846f-d8d59757bc32",
   "metadata": {},
   "outputs": [
    {
     "name": "stdout",
     "output_type": "stream",
     "text": [
      "1\n",
      "2\n",
      "3\n"
     ]
    }
   ],
   "source": [
    "def call_counter(counter={'count': 0}):\n",
    "    counter['count'] += 1\n",
    "    return counter['count']\n",
    "\n",
    "# Test\n",
    "print(call_counter())  \n",
    "print(call_counter())  \n",
    "print(call_counter())  "
   ]
  },
  {
   "cell_type": "code",
   "execution_count": null,
   "id": "5f750f94-2e5f-4856-b121-59375eda1dbb",
   "metadata": {},
   "outputs": [],
   "source": []
  }
 ],
 "metadata": {
  "kernelspec": {
   "display_name": "Python 3 (ipykernel)",
   "language": "python",
   "name": "python3"
  },
  "language_info": {
   "codemirror_mode": {
    "name": "ipython",
    "version": 3
   },
   "file_extension": ".py",
   "mimetype": "text/x-python",
   "name": "python",
   "nbconvert_exporter": "python",
   "pygments_lexer": "ipython3",
   "version": "3.12.4"
  }
 },
 "nbformat": 4,
 "nbformat_minor": 5
}
