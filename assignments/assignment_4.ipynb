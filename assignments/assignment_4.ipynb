{
 "cells": [
  {
   "cell_type": "markdown",
   "id": "36fdb3ae-dfb5-4d8d-aa7b-b8e936c5ddd4",
   "metadata": {},
   "source": [
    "# Tuple Assignment"
   ]
  },
  {
   "cell_type": "code",
   "execution_count": null,
   "id": "4d56c91e-b749-4f9d-a52a-5d71d8893fe3",
   "metadata": {},
   "outputs": [],
   "source": []
  },
  {
   "cell_type": "markdown",
   "id": "3c93341d-aec4-4ff3-a3a8-5e3c8541913d",
   "metadata": {},
   "source": [
    "### Create a tuple with the first 10 positive integers. Print the tuple."
   ]
  },
  {
   "cell_type": "code",
   "execution_count": 1,
   "id": "3e2e0d17-26d3-44c7-9a39-f856bfa9db45",
   "metadata": {},
   "outputs": [
    {
     "name": "stdout",
     "output_type": "stream",
     "text": [
      "(1, 2, 3, 4, 5, 6, 7, 8, 9, 10)\n"
     ]
    }
   ],
   "source": [
    "l1 = [ x for x in range(1,11) ]\n",
    "\n",
    "t1 = tuple(l1)\n",
    "\n",
    "print(t1)"
   ]
  },
  {
   "cell_type": "code",
   "execution_count": null,
   "id": "92071b44-ec8f-4755-a33e-fa81167087a8",
   "metadata": {},
   "outputs": [],
   "source": []
  },
  {
   "cell_type": "markdown",
   "id": "7d04d842-99c0-4dfc-93ba-a1ae64baef8f",
   "metadata": {},
   "source": [
    "### Print the first, middle, and last elements of the tuple created in Assignment 1."
   ]
  },
  {
   "cell_type": "code",
   "execution_count": 8,
   "id": "553ff5c3-f343-4da1-b5ff-6f8f64835cea",
   "metadata": {},
   "outputs": [
    {
     "name": "stdout",
     "output_type": "stream",
     "text": [
      "1\n",
      "6\n",
      "10\n"
     ]
    }
   ],
   "source": [
    "print( t1[0] )\n",
    "print( t1[ len(t1)//2 ] )\n",
    "print( t1[-1] )"
   ]
  },
  {
   "cell_type": "code",
   "execution_count": null,
   "id": "aa396c7f-7368-4120-a02d-d79551e50f86",
   "metadata": {},
   "outputs": [],
   "source": []
  },
  {
   "cell_type": "markdown",
   "id": "e372be55-ad5b-4ec3-8f30-b4e59c886876",
   "metadata": {},
   "source": [
    "### Print the first three elements, the last three elements, and the elements from index 2 to 5 of the tuple created in Assignment 1."
   ]
  },
  {
   "cell_type": "code",
   "execution_count": 11,
   "id": "0ce6affa-271e-4a47-9395-5bab8b0dc3fc",
   "metadata": {},
   "outputs": [
    {
     "name": "stdout",
     "output_type": "stream",
     "text": [
      "(1, 2, 3)\n",
      "(3, 4, 5)\n",
      "(8, 9, 10)\n"
     ]
    }
   ],
   "source": [
    "print( t1[0:3] )\n",
    "print( t1[2:5] )\n",
    "print( t1[-3:] )"
   ]
  },
  {
   "cell_type": "code",
   "execution_count": null,
   "id": "527a7823-6554-45d5-a79a-ccb17d79904e",
   "metadata": {},
   "outputs": [],
   "source": []
  },
  {
   "cell_type": "markdown",
   "id": "6c7e7430-8427-459a-94bc-57b338afeb95",
   "metadata": {},
   "source": [
    "### Create a nested tuple representing a 3x3 matrix and print the matrix. Access and print the element at the second row and third column."
   ]
  },
  {
   "cell_type": "code",
   "execution_count": 12,
   "id": "c892a8fe-014c-4612-9643-987503510e2d",
   "metadata": {},
   "outputs": [
    {
     "name": "stdout",
     "output_type": "stream",
     "text": [
      "((1, 2, 3), (4, 5, 6), (7, 8, 9))\n"
     ]
    }
   ],
   "source": [
    "nested_tuple = (\n",
    "    (1,2,3),\n",
    "    (4,5,6),\n",
    "    (7,8,9)\n",
    ")\n",
    "\n",
    "print(nested_tuple)"
   ]
  },
  {
   "cell_type": "code",
   "execution_count": null,
   "id": "bac24cd0-16f1-4ff6-b217-d61e0f1e3225",
   "metadata": {},
   "outputs": [],
   "source": []
  },
  {
   "cell_type": "markdown",
   "id": "a90c17a9-095d-48ab-bebb-85a9f4078d0f",
   "metadata": {},
   "source": [
    "### Concatenate two tuples: (1, 2, 3) and (4, 5, 6). Print the resulting tuple."
   ]
  },
  {
   "cell_type": "code",
   "execution_count": 13,
   "id": "a1e9fda0-0203-467d-a54f-1c666f05dc64",
   "metadata": {},
   "outputs": [
    {
     "name": "stdout",
     "output_type": "stream",
     "text": [
      "(1, 2, 3, 4, 5, 6)\n"
     ]
    }
   ],
   "source": [
    "t1 = (1,2,3)\n",
    "t2 = (4,5,6)\n",
    "\n",
    "t = t1+t2\n",
    "\n",
    "print(t)"
   ]
  },
  {
   "cell_type": "code",
   "execution_count": null,
   "id": "62667fbf-d752-422d-b3aa-53672ca88c28",
   "metadata": {},
   "outputs": [],
   "source": []
  },
  {
   "cell_type": "markdown",
   "id": "844db258-6c64-45ca-8689-4a6f59208c15",
   "metadata": {},
   "source": [
    "### Create a tuple with duplicate elements and count the occurrences of an element. Find the index of the first occurrence of an element in the tuple.\n"
   ]
  },
  {
   "cell_type": "code",
   "execution_count": 17,
   "id": "65b9401a-2a5c-411d-a110-61c8a2b956a1",
   "metadata": {},
   "outputs": [
    {
     "name": "stdout",
     "output_type": "stream",
     "text": [
      "3\n",
      "0\n"
     ]
    }
   ],
   "source": [
    "t = (1,2,3,1,5,3,1,2,4,5,2,3)\n",
    "\n",
    "print(t.count(1))\n",
    "print(t.index(1))"
   ]
  },
  {
   "cell_type": "code",
   "execution_count": null,
   "id": "c15ff4ac-a20c-4e36-9bdf-05cc3e1530d3",
   "metadata": {},
   "outputs": [],
   "source": []
  },
  {
   "cell_type": "markdown",
   "id": "f2b84b52-ad4e-4839-97ae-ded30f2bb199",
   "metadata": {},
   "source": [
    "### Create a tuple with 5 elements and unpack it into 5 variables. Print the variables."
   ]
  },
  {
   "cell_type": "code",
   "execution_count": 18,
   "id": "b0b1dc02-b8c4-4ac1-838f-a63c1539ce26",
   "metadata": {},
   "outputs": [
    {
     "name": "stdout",
     "output_type": "stream",
     "text": [
      "1 2 3 4 5\n"
     ]
    }
   ],
   "source": [
    "t = (1,2,3,4,5)\n",
    "\n",
    "a,b,c,d,e = t\n",
    "\n",
    "print(a,b,c,d,e )"
   ]
  },
  {
   "cell_type": "code",
   "execution_count": null,
   "id": "ff3ed700-8279-43a7-9664-d8ceee722e53",
   "metadata": {},
   "outputs": [],
   "source": []
  },
  {
   "cell_type": "markdown",
   "id": "28f83e58-057f-4dc4-93cc-5f49490423f3",
   "metadata": {},
   "source": [
    "### Convert a list of the first 5 positive integers to a tuple. Print the tuple."
   ]
  },
  {
   "cell_type": "code",
   "execution_count": 19,
   "id": "9c5e55d5-5a61-4517-b407-7d77419d128e",
   "metadata": {},
   "outputs": [
    {
     "name": "stdout",
     "output_type": "stream",
     "text": [
      "(1, 2, 3, 4, 5, 6, 7, 8, 9, 10)\n"
     ]
    }
   ],
   "source": [
    "l1 = [ x for x in range(1,11) ]\n",
    "\n",
    "t1 = tuple(l1)\n",
    "\n",
    "print(t1)"
   ]
  },
  {
   "cell_type": "code",
   "execution_count": null,
   "id": "6e0504c0-4672-4296-af4c-7442c40bd596",
   "metadata": {},
   "outputs": [],
   "source": []
  },
  {
   "cell_type": "markdown",
   "id": "0c8703ed-72e3-495f-85be-67fd36901a70",
   "metadata": {},
   "source": [
    "\n",
    "### Create a tuple containing 3 tuples, each with 3 elements. Print the tuple of tuples."
   ]
  },
  {
   "cell_type": "code",
   "execution_count": 20,
   "id": "cb3ee5c3-982e-48a8-9e58-3c73fc7a7fb8",
   "metadata": {},
   "outputs": [
    {
     "name": "stdout",
     "output_type": "stream",
     "text": [
      "((1, 2, 3), (4, 5, 6), (7, 8, 9))\n"
     ]
    }
   ],
   "source": [
    "tpl_of_tpls = (\n",
    "    (1, 2, 3),\n",
    "    (4, 5, 6),\n",
    "    (7, 8, 9)\n",
    ")\n",
    "print(tpl_of_tpls)"
   ]
  },
  {
   "cell_type": "code",
   "execution_count": null,
   "id": "9de55137-366c-4361-a6a0-96bb4fe9a5fd",
   "metadata": {},
   "outputs": [],
   "source": []
  },
  {
   "cell_type": "markdown",
   "id": "44eb7104-6ff4-4f7c-b72c-ab2671bd2b00",
   "metadata": {},
   "source": [
    "### Create a tuple with the first 5 positive integers. Convert it to a list, append the number 6, and convert it back to a tuple. Print the resulting tuple.\n"
   ]
  },
  {
   "cell_type": "code",
   "execution_count": 23,
   "id": "c147b03f-96c6-4cbf-bbde-225d98f6cc27",
   "metadata": {},
   "outputs": [
    {
     "name": "stdout",
     "output_type": "stream",
     "text": [
      "(1, 2, 3, 4, 5, 6)\n"
     ]
    }
   ],
   "source": [
    "t = (1,2,3,4,5)\n",
    "\n",
    "l = list(t)\n",
    "l.append(6)\n",
    "\n",
    "t = tuple(l)\n",
    "\n",
    "print(t)"
   ]
  },
  {
   "cell_type": "code",
   "execution_count": null,
   "id": "5d48ed00-6212-41c2-bb3b-b7876bf99444",
   "metadata": {},
   "outputs": [],
   "source": []
  },
  {
   "cell_type": "markdown",
   "id": "d8ea81c3-a062-4963-8a60-c6a08e29cf56",
   "metadata": {},
   "source": [
    "### Create a tuple with the characters of a string. Join the tuple elements into a single string. Print the string."
   ]
  },
  {
   "cell_type": "code",
   "execution_count": 26,
   "id": "e8d55659-e223-4021-ae1c-3d0a2cb1cfb3",
   "metadata": {},
   "outputs": [
    {
     "name": "stdout",
     "output_type": "stream",
     "text": [
      "('p', 'a', 'v', 'a', 'n', ' ', 'k', 'a', 'l', 'y', 'a', 'n')\n",
      "pavan kalyan\n"
     ]
    }
   ],
   "source": [
    "s = \"pavan kalyan\"\n",
    "tpl = tuple(s)\n",
    "print(tpl)\n",
    "joined_string = ''.join(tpl)\n",
    "print(joined_string)"
   ]
  },
  {
   "cell_type": "code",
   "execution_count": null,
   "id": "b4bfe4b7-f8c3-41db-b6cc-a562f49bc6b7",
   "metadata": {},
   "outputs": [],
   "source": []
  },
  {
   "cell_type": "markdown",
   "id": "fb8276ac-d9fd-4f5f-a5c6-a7696b5ea2e9",
   "metadata": {},
   "source": [
    "### Create a dictionary with tuple keys and integer values. Print the dictionary."
   ]
  },
  {
   "cell_type": "code",
   "execution_count": 27,
   "id": "ec205868-8ffe-41a2-b775-805ab0ceceeb",
   "metadata": {},
   "outputs": [
    {
     "name": "stdout",
     "output_type": "stream",
     "text": [
      "{(1, 2): 3, (4, 5): 6, (7, 8): 9}\n"
     ]
    }
   ],
   "source": [
    "tpl_dict = {\n",
    "    (1, 2): 3,\n",
    "    (4, 5): 6,\n",
    "    (7, 8): 9\n",
    "}\n",
    "print(tpl_dict)"
   ]
  },
  {
   "cell_type": "code",
   "execution_count": null,
   "id": "d41bed90-bd9e-4e7f-a46a-2564a5ea1bf7",
   "metadata": {},
   "outputs": [],
   "source": []
  },
  {
   "cell_type": "markdown",
   "id": "4b0fcef4-8431-4f08-8d60-bcb92cffc605",
   "metadata": {},
   "source": [
    "### Create a nested tuple and iterate over the elements, printing each element."
   ]
  },
  {
   "cell_type": "code",
   "execution_count": 29,
   "id": "467700e8-b64c-4136-9733-ab19ef974b68",
   "metadata": {},
   "outputs": [
    {
     "name": "stdout",
     "output_type": "stream",
     "text": [
      "1\n",
      "2\n",
      "3\n",
      "4\n",
      "5\n",
      "6\n",
      "7\n",
      "8\n",
      "9\n"
     ]
    }
   ],
   "source": [
    "for row in nested_tuple:\n",
    "    for ele in row:\n",
    "        print(ele)"
   ]
  },
  {
   "cell_type": "code",
   "execution_count": null,
   "id": "afba3546-6978-49c7-b5dc-796d1870b53e",
   "metadata": {},
   "outputs": [],
   "source": []
  },
  {
   "cell_type": "markdown",
   "id": "161deede-a7dd-4717-bd9a-52687d818664",
   "metadata": {},
   "source": [
    "### Create a tuple with duplicate elements. Convert it to a set to remove duplicates and print the resulting set."
   ]
  },
  {
   "cell_type": "code",
   "execution_count": 30,
   "id": "081902ec-0b2d-4009-a85b-216fc598751a",
   "metadata": {},
   "outputs": [
    {
     "name": "stdout",
     "output_type": "stream",
     "text": [
      "{1, 2, 3, 4, 5}\n"
     ]
    }
   ],
   "source": [
    "tpl = (1, 2, 2, 3, 4, 4, 4, 5)\n",
    "unique_set = set(tpl)\n",
    "print(unique_set)"
   ]
  },
  {
   "cell_type": "code",
   "execution_count": null,
   "id": "487395d9-388b-43ef-83db-d23d1906e0ad",
   "metadata": {},
   "outputs": [],
   "source": []
  },
  {
   "cell_type": "markdown",
   "id": "e7acf5d6-c8bc-4182-9dcb-118c4874b4bc",
   "metadata": {},
   "source": [
    "### Write functions that take a tuple and return the minimum, maximum, and sum of the elements. Print the results for a sample tuple."
   ]
  },
  {
   "cell_type": "code",
   "execution_count": 32,
   "id": "9646d507-e56f-4bc3-8827-e2191d7e7eb4",
   "metadata": {},
   "outputs": [
    {
     "name": "stdout",
     "output_type": "stream",
     "text": [
      "(1, 2, 3, 4, 5)\n",
      "Minimum: 1\n",
      "Maximum: 5\n",
      "Sum: 15\n"
     ]
    }
   ],
   "source": [
    "def min_in_tuple(tpl):\n",
    "    return min(tpl)\n",
    "\n",
    "def max_in_tuple(tpl):\n",
    "    return max(tpl)\n",
    "\n",
    "def sum_of_tuple(tpl):\n",
    "    return sum(tpl)\n",
    "\n",
    "sample_tpl = (1, 2, 3, 4, 5)\n",
    "print(sample_tpl)\n",
    "print(f\"Minimum: {min_in_tuple(sample_tpl)}\")\n",
    "print(f\"Maximum: {max_in_tuple(sample_tpl)}\")\n",
    "print(f\"Sum: {sum_of_tuple(sample_tpl)}\")"
   ]
  },
  {
   "cell_type": "code",
   "execution_count": null,
   "id": "febbf9b9-ca6d-4f58-b822-250154bb3616",
   "metadata": {},
   "outputs": [],
   "source": []
  }
 ],
 "metadata": {
  "kernelspec": {
   "display_name": "Python 3 (ipykernel)",
   "language": "python",
   "name": "python3"
  },
  "language_info": {
   "codemirror_mode": {
    "name": "ipython",
    "version": 3
   },
   "file_extension": ".py",
   "mimetype": "text/x-python",
   "name": "python",
   "nbconvert_exporter": "python",
   "pygments_lexer": "ipython3",
   "version": "3.12.4"
  }
 },
 "nbformat": 4,
 "nbformat_minor": 5
}
