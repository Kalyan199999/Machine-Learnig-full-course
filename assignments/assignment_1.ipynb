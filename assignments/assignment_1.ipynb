{
 "cells": [
  {
   "cell_type": "markdown",
   "id": "3cc0e039-83e1-4fdd-882d-cbb54bce32ba",
   "metadata": {},
   "source": [
    "# Question 1: Write a Python program to print \"Hello, World!\"."
   ]
  },
  {
   "cell_type": "code",
   "execution_count": 5,
   "id": "9004a78d-8f69-4f64-b80b-fb5ed53651ac",
   "metadata": {},
   "outputs": [
    {
     "name": "stdout",
     "output_type": "stream",
     "text": [
      "Hello, World!\n"
     ]
    }
   ],
   "source": [
    "print(\"Hello, World!\")"
   ]
  },
  {
   "cell_type": "code",
   "execution_count": null,
   "id": "7edc48eb-0410-4c2b-a969-a8e2eb9b5864",
   "metadata": {},
   "outputs": [],
   "source": []
  },
  {
   "cell_type": "markdown",
   "id": "d6bce3df-cd59-4ec0-ab75-4dc49c921506",
   "metadata": {},
   "source": [
    "\n",
    "# Question 2: Write a Python program that takes a user input and prints it."
   ]
  },
  {
   "cell_type": "code",
   "execution_count": 6,
   "id": "47de0b5c-3b09-42bf-828d-d7c2fda5ac96",
   "metadata": {},
   "outputs": [
    {
     "name": "stdin",
     "output_type": "stream",
     "text": [
      "Enter your name kalyna\n"
     ]
    },
    {
     "name": "stdout",
     "output_type": "stream",
     "text": [
      "kalyna\n"
     ]
    }
   ],
   "source": [
    "name = input(\"Enter your name\")\n",
    "print(name)"
   ]
  },
  {
   "cell_type": "markdown",
   "id": "7149bbbb-0f79-4c32-8d06-5be295929c91",
   "metadata": {},
   "source": [
    "# Question 3: Write a Python program to check if a number is positive, negative, or zero.\n"
   ]
  },
  {
   "cell_type": "code",
   "execution_count": 9,
   "id": "f6771d5f-6f41-4663-899a-07657bcbedf8",
   "metadata": {},
   "outputs": [
    {
     "name": "stdin",
     "output_type": "stream",
     "text": [
      "Enter any number: 6\n"
     ]
    },
    {
     "name": "stdout",
     "output_type": "stream",
     "text": [
      "6 is positive\n"
     ]
    }
   ],
   "source": [
    "number = int(input(\"Enter any number:\"))\n",
    "\n",
    "if number >=0 :\n",
    "    print(f\"{number} is positive\")\n",
    "else :\n",
    "    print(f\"{number} is negative\")"
   ]
  },
  {
   "cell_type": "code",
   "execution_count": null,
   "id": "03be7d4a-b4ea-4b47-b79c-9d8de12b8acc",
   "metadata": {},
   "outputs": [],
   "source": []
  },
  {
   "cell_type": "markdown",
   "id": "c5e385f6-ba66-4615-8e68-abf87fe58b00",
   "metadata": {},
   "source": [
    "\n",
    "# Question 4: Write a Python program to find the largest of three numbers."
   ]
  },
  {
   "cell_type": "code",
   "execution_count": 10,
   "id": "2d9f9a45-817c-4ec7-9f93-8840ca3da55c",
   "metadata": {},
   "outputs": [
    {
     "name": "stdout",
     "output_type": "stream",
     "text": [
      "15 is largest\n"
     ]
    }
   ],
   "source": [
    "a = 10\n",
    "b = 7\n",
    "c = 15\n",
    "\n",
    "if(a>b and a>c):\n",
    "    print(f'{a} is largest')\n",
    "elif (b>a and b>c):\n",
    "    print(f'{b} is largest')\n",
    "elif (c>a and c>b):\n",
    "    print(f'{c} is largest')\n",
    "else:\n",
    "    print(f'{a,b,c} are equal')"
   ]
  },
  {
   "cell_type": "code",
   "execution_count": null,
   "id": "07d33148-6cda-4977-9e17-2c45741f15c2",
   "metadata": {},
   "outputs": [],
   "source": []
  },
  {
   "cell_type": "markdown",
   "id": "2732b415-8d9d-4e72-8dba-c64da7e0e129",
   "metadata": {},
   "source": [
    "# Question 5:** Write a Python program to calculate the factorial of a number."
   ]
  },
  {
   "cell_type": "code",
   "execution_count": 14,
   "id": "86467b4b-629d-4702-9321-d0a5294766d4",
   "metadata": {},
   "outputs": [
    {
     "name": "stdout",
     "output_type": "stream",
     "text": [
      "720\n"
     ]
    }
   ],
   "source": [
    "number = 6\n",
    "res = 1\n",
    "for i in range(1,number+1):\n",
    "    res *= i\n",
    "print(res)"
   ]
  },
  {
   "cell_type": "code",
   "execution_count": null,
   "id": "cb834760-7d3f-4ce7-b7f9-2d3f8af62fdf",
   "metadata": {},
   "outputs": [],
   "source": []
  },
  {
   "cell_type": "markdown",
   "id": "0ecf0552-5f24-4722-b857-b22acc4ef194",
   "metadata": {},
   "source": [
    "# Question 6: Create variables of different data types: integer, float, string, and boolean. Print their values and types."
   ]
  },
  {
   "cell_type": "code",
   "execution_count": 15,
   "id": "324ab0cb-c453-41d0-ac71-54203d0d7415",
   "metadata": {},
   "outputs": [
    {
     "name": "stdout",
     "output_type": "stream",
     "text": [
      "5\n",
      "6.78\n",
      "kalyan\n",
      "True\n"
     ]
    }
   ],
   "source": [
    "a = 5\n",
    "b = 6.78\n",
    "c = \"kalyan\"\n",
    "d = True\n",
    "\n",
    "print(a)\n",
    "print(b)\n",
    "print(c)\n",
    "print(d)"
   ]
  },
  {
   "cell_type": "code",
   "execution_count": null,
   "id": "687b50d2-cd25-43a8-b570-055cb87e2223",
   "metadata": {},
   "outputs": [],
   "source": []
  },
  {
   "cell_type": "markdown",
   "id": "fe33edb3-4152-43c6-8d85-7084b3c3a67d",
   "metadata": {},
   "source": [
    "# Question 7: Write a Python program to swap the values of two variables."
   ]
  },
  {
   "cell_type": "code",
   "execution_count": 17,
   "id": "4f72e650-e261-40a5-b2a9-3126bc00d2c1",
   "metadata": {},
   "outputs": [
    {
     "name": "stdout",
     "output_type": "stream",
     "text": [
      "10 5\n",
      "5 10\n"
     ]
    }
   ],
   "source": [
    "a = 10\n",
    "b = 5\n",
    "\n",
    "print(a,b)\n",
    "\n",
    "temp = a\n",
    "a = b\n",
    "b = temp\n",
    "\n",
    "print(a,b)"
   ]
  },
  {
   "cell_type": "code",
   "execution_count": null,
   "id": "8909ef0b-60e8-4252-9578-b81f848711ea",
   "metadata": {},
   "outputs": [],
   "source": []
  },
  {
   "cell_type": "markdown",
   "id": "e315982a-ffa5-4449-8502-42cc4587fd65",
   "metadata": {},
   "source": [
    "# Question 8: Write a Python program to convert Celsius to Fahrenheit."
   ]
  },
  {
   "cell_type": "code",
   "execution_count": 22,
   "id": "891f72ab-c805-481a-8543-8e4d1e10c037",
   "metadata": {},
   "outputs": [
    {
     "name": "stdin",
     "output_type": "stream",
     "text": [
      "Enter temperature in Celsius:  45\n"
     ]
    },
    {
     "name": "stdout",
     "output_type": "stream",
     "text": [
      "45.0°C is equal to 113.0°F\n"
     ]
    }
   ],
   "source": [
    "celsius = float(input(\"Enter temperature in Celsius: \"))\n",
    "fahrenheit = (celsius * 9/5) + 32\n",
    "print(f\"{celsius}°C is equal to {fahrenheit}°F\")"
   ]
  },
  {
   "cell_type": "code",
   "execution_count": null,
   "id": "f8a53841-4579-45a4-baab-46d4aaf281c3",
   "metadata": {},
   "outputs": [],
   "source": []
  },
  {
   "cell_type": "markdown",
   "id": "c02aed7b-f5c6-4026-9aad-b3ed2b22ceed",
   "metadata": {},
   "source": [
    "# Question 9: Write a Python program to concatenate two strings."
   ]
  },
  {
   "cell_type": "code",
   "execution_count": 18,
   "id": "286dccee-dfab-4ddf-8f84-e3bd06e4a960",
   "metadata": {},
   "outputs": [
    {
     "name": "stdout",
     "output_type": "stream",
     "text": [
      "pavan kalyan\n"
     ]
    }
   ],
   "source": [
    "firstname = \"pavan\"\n",
    "lastname = \"kalyan\"\n",
    "\n",
    "fullname = firstname +\" \" + lastname\n",
    "print(fullname)"
   ]
  },
  {
   "cell_type": "code",
   "execution_count": null,
   "id": "52838da8-7558-4c61-999c-22144984576e",
   "metadata": {},
   "outputs": [],
   "source": []
  },
  {
   "cell_type": "markdown",
   "id": "d0f51d6f-618a-4bc2-be76-23148d5dffa8",
   "metadata": {},
   "source": [
    "# Question 10: Write a Python program to check if a variable is of a specific data type."
   ]
  },
  {
   "cell_type": "code",
   "execution_count": 23,
   "id": "b1e6deea-7935-43bd-bbf3-bb7819b74fb6",
   "metadata": {},
   "outputs": [
    {
     "name": "stdout",
     "output_type": "stream",
     "text": [
      "10 is integer\n"
     ]
    }
   ],
   "source": [
    "a = 10\n",
    "\n",
    "if isinstance(a,int):\n",
    "    print(f'{a} is integer')\n",
    "else:\n",
    "    print(f'{a} is not a integer')"
   ]
  },
  {
   "cell_type": "code",
   "execution_count": null,
   "id": "74820c78-1c65-4f23-9d70-c2fa6cec1788",
   "metadata": {},
   "outputs": [],
   "source": []
  },
  {
   "cell_type": "markdown",
   "id": "e2ee6efb-9d85-4825-9120-371062f62553",
   "metadata": {},
   "source": [
    "# Question 11:Write a Python program to perform arithmetic operations: addition, subtraction, multiplication, and division."
   ]
  },
  {
   "cell_type": "code",
   "execution_count": 26,
   "id": "4bb03b50-94db-45d3-8b4b-61ccf9cef6a6",
   "metadata": {},
   "outputs": [
    {
     "name": "stdout",
     "output_type": "stream",
     "text": [
      "Addition: 15\n",
      "subtraction: 5\n",
      "Product: 50\n",
      "Division: 2.0\n"
     ]
    }
   ],
   "source": [
    "a = 10\n",
    "b = 5\n",
    "\n",
    "print('Addition:',(a+b))\n",
    "print('subtraction:',(a-b))\n",
    "print('Product:',(a*b))\n",
    "print('Division:',(a/b))"
   ]
  },
  {
   "cell_type": "code",
   "execution_count": null,
   "id": "2c8b48cf-f405-4a78-b69c-ff585590aad5",
   "metadata": {},
   "outputs": [],
   "source": []
  },
  {
   "cell_type": "markdown",
   "id": "1536d95d-0fe9-4567-b361-d4c6d0a66ba3",
   "metadata": {},
   "source": [
    "# Question 12:Write a Python program to demonstrate comparison operators: equal to, not equal to, greater than, less than."
   ]
  },
  {
   "cell_type": "code",
   "execution_count": 27,
   "id": "517c99a2-7472-44d6-922d-3bf2bac67499",
   "metadata": {},
   "outputs": [
    {
     "name": "stdout",
     "output_type": "stream",
     "text": [
      "10 == 3: False\n",
      "10 != 3: True\n",
      "10 > 3: True\n",
      "10 < 3: False\n"
     ]
    }
   ],
   "source": [
    "b = 3\n",
    "print(f\"{a} == {b}: {a == b}\")\n",
    "print(f\"{a} != {b}: {a != b}\")\n",
    "print(f\"{a} > {b}: {a > b}\")\n",
    "print(f\"{a} < {b}: {a < b}\")"
   ]
  },
  {
   "cell_type": "code",
   "execution_count": null,
   "id": "f5b84553-1ff5-41be-b565-6ee784caa28a",
   "metadata": {},
   "outputs": [],
   "source": []
  },
  {
   "cell_type": "markdown",
   "id": "e0836bfe-2d15-4c96-ab7b-48061431a111",
   "metadata": {},
   "source": [
    "# Question 13:Write a Python program to demonstrate logical operators: and, or, not."
   ]
  },
  {
   "cell_type": "code",
   "execution_count": 29,
   "id": "2e38048a-fe22-4812-8dbb-48247bc5ba3c",
   "metadata": {},
   "outputs": [
    {
     "name": "stdout",
     "output_type": "stream",
     "text": [
      "True and False: False\n",
      "True or False: True\n",
      "not True: False\n"
     ]
    }
   ],
   "source": [
    "# Solution\n",
    "a = True\n",
    "b = False\n",
    "\n",
    "print(f\"True and False: {a and b}\")\n",
    "print(f\"True or False: {a or b}\")\n",
    "print(f\"not True: {not a}\")"
   ]
  },
  {
   "cell_type": "code",
   "execution_count": null,
   "id": "a0c6c871-075e-4cef-9b20-96d45ab469bd",
   "metadata": {},
   "outputs": [],
   "source": []
  },
  {
   "cell_type": "markdown",
   "id": "ac54e00b-a173-48d6-a4a8-35e895cbed53",
   "metadata": {},
   "source": [
    "# Question 14:Write a Python program to calculate the square of a number."
   ]
  },
  {
   "cell_type": "code",
   "execution_count": 30,
   "id": "7b91969b-a9f8-42c0-9b63-08045797a61e",
   "metadata": {},
   "outputs": [
    {
     "name": "stdin",
     "output_type": "stream",
     "text": [
      "Enter a number:  4\n"
     ]
    },
    {
     "name": "stdout",
     "output_type": "stream",
     "text": [
      "The square of 4.0 is 16.0\n"
     ]
    }
   ],
   "source": [
    "num = float(input(\"Enter a number: \"))\n",
    "square = num ** 2\n",
    "print(f\"The square of {num} is {square}\")"
   ]
  },
  {
   "cell_type": "code",
   "execution_count": null,
   "id": "290a4e33-af70-4a08-9431-d7eac4c969ae",
   "metadata": {},
   "outputs": [],
   "source": []
  },
  {
   "cell_type": "markdown",
   "id": "c37d0164-ad55-4840-81aa-b5064fb82e26",
   "metadata": {},
   "source": [
    "# Question 15: Write a Python program to check if a number is even or odd."
   ]
  },
  {
   "cell_type": "code",
   "execution_count": 31,
   "id": "c7594b10-4be1-4313-a2a0-917b576be837",
   "metadata": {},
   "outputs": [
    {
     "name": "stdin",
     "output_type": "stream",
     "text": [
      "Enter a number:  5\n"
     ]
    },
    {
     "name": "stdout",
     "output_type": "stream",
     "text": [
      "5 is odd.\n"
     ]
    }
   ],
   "source": [
    "num = int(input(\"Enter a number: \"))\n",
    "if num % 2 == 0:\n",
    "    print(f\"{num} is even.\")\n",
    "else:\n",
    "    print(f\"{num} is odd.\")"
   ]
  },
  {
   "cell_type": "code",
   "execution_count": null,
   "id": "0c057c1f-3124-4d3f-9a09-07d8236903a1",
   "metadata": {},
   "outputs": [],
   "source": []
  },
  {
   "cell_type": "markdown",
   "id": "703116a8-9c34-441e-b4b0-4063768e7b76",
   "metadata": {},
   "source": [
    "# Question 16: Write a Python program to find the sum of the first n natural numbers."
   ]
  },
  {
   "cell_type": "code",
   "execution_count": 32,
   "id": "f25b0254-8c58-42ca-9eaf-98fd829d2957",
   "metadata": {},
   "outputs": [
    {
     "name": "stdin",
     "output_type": "stream",
     "text": [
      "Enter a number:  5\n"
     ]
    },
    {
     "name": "stdout",
     "output_type": "stream",
     "text": [
      "The sum of the first 5 natural numbers is 15\n"
     ]
    }
   ],
   "source": [
    "n = int(input(\"Enter a number: \"))\n",
    "sum_n = (n * (n + 1)) // 2\n",
    "print(f\"The sum of the first {n} natural numbers is {sum_n}\")"
   ]
  },
  {
   "cell_type": "code",
   "execution_count": null,
   "id": "273ea015-b4ab-436d-bdbf-a4ab7fad2f57",
   "metadata": {},
   "outputs": [],
   "source": []
  },
  {
   "cell_type": "markdown",
   "id": "0c7a0412-0f66-41a8-bc32-5ec292e0880d",
   "metadata": {},
   "source": [
    "# Question 17: Write a Python program to check if a year is a leap year."
   ]
  },
  {
   "cell_type": "code",
   "execution_count": 33,
   "id": "b4769ad3-fe99-49fc-9e34-c5194aabceb4",
   "metadata": {},
   "outputs": [
    {
     "name": "stdin",
     "output_type": "stream",
     "text": [
      "Enter a year:  2040\n"
     ]
    },
    {
     "name": "stdout",
     "output_type": "stream",
     "text": [
      "2040 is a leap year.\n"
     ]
    }
   ],
   "source": [
    "year = int(input(\"Enter a year: \"))\n",
    "if (year % 4 == 0 and year % 100 != 0) or (year % 400 == 0):\n",
    "    print(f\"{year} is a leap year.\")\n",
    "else:\n",
    "    print(f\"{year} is not a leap year.\")"
   ]
  },
  {
   "cell_type": "code",
   "execution_count": null,
   "id": "7943c363-36fd-46fc-9b45-f80ab2eb80b9",
   "metadata": {},
   "outputs": [],
   "source": []
  },
  {
   "cell_type": "markdown",
   "id": "0638e632-f28b-4fa1-a437-8b3cd83f1282",
   "metadata": {},
   "source": [
    "# Question 18: Write a Python program to reverse a string."
   ]
  },
  {
   "cell_type": "code",
   "execution_count": 34,
   "id": "a95b6364-98ce-42a6-8315-118e7af8081d",
   "metadata": {},
   "outputs": [
    {
     "name": "stdin",
     "output_type": "stream",
     "text": [
      "Enter a string:  kalyan\n"
     ]
    },
    {
     "name": "stdout",
     "output_type": "stream",
     "text": [
      "The reversed string is: naylak\n"
     ]
    }
   ],
   "source": [
    "string = input(\"Enter a string: \")\n",
    "reversed_string = string[::-1]\n",
    "print(f\"The reversed string is: {reversed_string}\")"
   ]
  },
  {
   "cell_type": "code",
   "execution_count": null,
   "id": "77dc52e8-bfec-4804-99b8-c2edb36fdbe6",
   "metadata": {},
   "outputs": [],
   "source": []
  },
  {
   "cell_type": "markdown",
   "id": "ae1f682c-2570-4a03-8edb-c39d7f736bdc",
   "metadata": {},
   "source": [
    "# Question 19: Write a Python program to check if a string is a palindrome."
   ]
  },
  {
   "cell_type": "code",
   "execution_count": 35,
   "id": "b48a3af2-5593-4164-b86d-4f96c78cbad2",
   "metadata": {},
   "outputs": [
    {
     "name": "stdin",
     "output_type": "stream",
     "text": [
      "Enter a string:  madam\n"
     ]
    },
    {
     "name": "stdout",
     "output_type": "stream",
     "text": [
      "madam is a palindrome.\n"
     ]
    }
   ],
   "source": [
    "string = input(\"Enter a string: \")\n",
    "if string == string[::-1]:\n",
    "    print(f\"{string} is a palindrome.\")\n",
    "else:\n",
    "    print(f\"{string} is not a palindrome.\")"
   ]
  },
  {
   "cell_type": "code",
   "execution_count": null,
   "id": "ce1df3c7-4d2d-4e5c-adeb-ee737f36a62a",
   "metadata": {},
   "outputs": [],
   "source": []
  },
  {
   "cell_type": "markdown",
   "id": "093c67c5-8b3f-497d-8b91-2149b87aeaab",
   "metadata": {},
   "source": [
    "# Question 20: Write a Python program to sort a list of numbers in ascending order."
   ]
  },
  {
   "cell_type": "code",
   "execution_count": 37,
   "id": "6cbd7f7c-8b4f-4c71-9fd6-13c53580cd60",
   "metadata": {},
   "outputs": [
    {
     "name": "stdin",
     "output_type": "stream",
     "text": [
      "Enter numbers separated by space:  4 8 1 7 2 \n"
     ]
    },
    {
     "name": "stdout",
     "output_type": "stream",
     "text": [
      "Sorted list: [1, 2, 4, 7, 8]\n"
     ]
    }
   ],
   "source": [
    "numbers = [int(x) for x in input(\"Enter numbers separated by space: \").split()]\n",
    "numbers.sort()\n",
    "print(f\"Sorted list: {numbers}\")"
   ]
  }
 ],
 "metadata": {
  "kernelspec": {
   "display_name": "Python 3 (ipykernel)",
   "language": "python",
   "name": "python3"
  },
  "language_info": {
   "codemirror_mode": {
    "name": "ipython",
    "version": 3
   },
   "file_extension": ".py",
   "mimetype": "text/x-python",
   "name": "python",
   "nbconvert_exporter": "python",
   "pygments_lexer": "ipython3",
   "version": "3.12.4"
  }
 },
 "nbformat": 4,
 "nbformat_minor": 5
}
