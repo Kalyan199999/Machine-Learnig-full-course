{
 "cells": [
  {
   "cell_type": "markdown",
   "id": "0ec3e964-98f5-426c-82b8-87eddf9431e4",
   "metadata": {},
   "source": [
    "### install the required libraries"
   ]
  },
  {
   "cell_type": "code",
   "execution_count": null,
   "id": "a7cc88ce-e9bb-4539-aa65-6e8977756d71",
   "metadata": {},
   "outputs": [],
   "source": [
    "# pip install transformers datasets"
   ]
  },
  {
   "cell_type": "code",
   "execution_count": null,
   "id": "e115f907-ef03-4332-95e7-b8e04503328c",
   "metadata": {},
   "outputs": [],
   "source": []
  },
  {
   "cell_type": "code",
   "execution_count": 1,
   "id": "0d2187ac-9c41-47ca-b867-130ec6aa4743",
   "metadata": {},
   "outputs": [],
   "source": [
    "import os\n",
    "\n",
    "# Disable TensorFlow & Flax backend\n",
    "os.environ[\"TRANSFORMERS_NO_TF\"] = \"1\"\n",
    "os.environ[\"TRANSFORMERS_NO_FLAX\"] = \"1\""
   ]
  },
  {
   "cell_type": "code",
   "execution_count": 3,
   "id": "2578713c-3c45-456e-a4bc-823272082c12",
   "metadata": {},
   "outputs": [],
   "source": [
    "import warnings\n",
    "warnings.filterwarnings('ignore')"
   ]
  },
  {
   "cell_type": "code",
   "execution_count": null,
   "id": "3d083b52-1836-4718-857c-5c9096250ab5",
   "metadata": {},
   "outputs": [],
   "source": []
  },
  {
   "cell_type": "code",
   "execution_count": 4,
   "id": "8f474740-d576-4d6c-9ba7-8fbd08386077",
   "metadata": {},
   "outputs": [],
   "source": [
    "from transformers import pipeline"
   ]
  },
  {
   "cell_type": "markdown",
   "id": "2a679779-b821-4c0c-be8b-57bed3072312",
   "metadata": {},
   "source": [
    "### sentiment analysis"
   ]
  },
  {
   "cell_type": "code",
   "execution_count": 5,
   "id": "e7b5e5d6-96e9-4e9b-bb59-ec485534d52f",
   "metadata": {},
   "outputs": [],
   "source": [
    "# Force pipeline to use PyTorch (\"pt\")\n",
    "classifier = pipeline(\"sentiment-analysis\", framework=\"pt\")"
   ]
  },
  {
   "cell_type": "code",
   "execution_count": null,
   "id": "ce9eadee-969c-4601-b3e8-836f3aa79088",
   "metadata": {},
   "outputs": [],
   "source": []
  },
  {
   "cell_type": "code",
   "execution_count": 6,
   "id": "c9b0f0b9-cb2a-44a3-8068-18269aa6059a",
   "metadata": {},
   "outputs": [
    {
     "name": "stdout",
     "output_type": "stream",
     "text": [
      "[{'label': 'POSITIVE', 'score': 0.9998834133148193}]\n"
     ]
    }
   ],
   "source": [
    "# Test\n",
    "result = classifier(\"I really love this app, it's amazing!\")\n",
    "\n",
    "print(result)"
   ]
  },
  {
   "cell_type": "code",
   "execution_count": 10,
   "id": "93a7fec9-d302-4cc2-86b9-996956e83b54",
   "metadata": {},
   "outputs": [],
   "source": [
    "test = [ \"Hey I really love you\" , \n",
    "        \"Till now I have seen many worst but you even more!\",\n",
    "        \"You think you are best.Actually you are right but you are also wrong\",\n",
    "       \"I’m not saying I hate you, what I’m saying is that you are literally the Monday of my life.\"\n",
    "       ]"
   ]
  },
  {
   "cell_type": "code",
   "execution_count": null,
   "id": "2c62958f-1fb5-4094-ae24-505e1bce084b",
   "metadata": {},
   "outputs": [],
   "source": []
  },
  {
   "cell_type": "code",
   "execution_count": 11,
   "id": "5784acff-91c6-4609-8f70-4e28ab579921",
   "metadata": {},
   "outputs": [
    {
     "name": "stdout",
     "output_type": "stream",
     "text": [
      "[{'label': 'POSITIVE', 'score': 0.9998151659965515}]\n",
      "[{'label': 'NEGATIVE', 'score': 0.9551741480827332}]\n",
      "[{'label': 'NEGATIVE', 'score': 0.9951919317245483}]\n",
      "[{'label': 'POSITIVE', 'score': 0.9960795044898987}]\n"
     ]
    }
   ],
   "source": [
    "for idx in test:\n",
    "    result = classifier(idx)\n",
    "    print(result)"
   ]
  },
  {
   "cell_type": "code",
   "execution_count": null,
   "id": "83672caf-56f1-44e1-89b6-287ae66976a5",
   "metadata": {},
   "outputs": [],
   "source": []
  },
  {
   "cell_type": "markdown",
   "id": "f00c7b79-f7fe-46bf-af60-b814d77158c8",
   "metadata": {},
   "source": [
    "### summarization"
   ]
  },
  {
   "cell_type": "code",
   "execution_count": 13,
   "id": "41d2c593-6250-4e37-ae75-189b0d06b51d",
   "metadata": {},
   "outputs": [
    {
     "name": "stderr",
     "output_type": "stream",
     "text": [
      "No model was supplied, defaulted to sshleifer/distilbart-cnn-12-6 and revision a4f8f3e (https://huggingface.co/sshleifer/distilbart-cnn-12-6).\n",
      "Using a pipeline without specifying a model name and revision in production is not recommended.\n",
      "Xet Storage is enabled for this repo, but the 'hf_xet' package is not installed. Falling back to regular HTTP download. For better performance, install the package with: `pip install huggingface_hub[hf_xet]` or `pip install hf_xet`\n"
     ]
    },
    {
     "data": {
      "application/vnd.jupyter.widget-view+json": {
       "model_id": "454a317d484c47bd8e5ed57f03ee525b",
       "version_major": 2,
       "version_minor": 0
      },
      "text/plain": [
       "pytorch_model.bin:   0%|          | 0.00/1.22G [00:00<?, ?B/s]"
      ]
     },
     "metadata": {},
     "output_type": "display_data"
    },
    {
     "name": "stderr",
     "output_type": "stream",
     "text": [
      "Xet Storage is enabled for this repo, but the 'hf_xet' package is not installed. Falling back to regular HTTP download. For better performance, install the package with: `pip install huggingface_hub[hf_xet]` or `pip install hf_xet`\n"
     ]
    },
    {
     "data": {
      "application/vnd.jupyter.widget-view+json": {
       "model_id": "79721b1f9a5b4f718d438109600d1cf0",
       "version_major": 2,
       "version_minor": 0
      },
      "text/plain": [
       "model.safetensors:   0%|          | 0.00/1.22G [00:00<?, ?B/s]"
      ]
     },
     "metadata": {},
     "output_type": "display_data"
    },
    {
     "data": {
      "application/vnd.jupyter.widget-view+json": {
       "model_id": "4b018210a89944b0859c351f2ac40f68",
       "version_major": 2,
       "version_minor": 0
      },
      "text/plain": [
       "tokenizer_config.json:   0%|          | 0.00/26.0 [00:00<?, ?B/s]"
      ]
     },
     "metadata": {},
     "output_type": "display_data"
    },
    {
     "data": {
      "application/vnd.jupyter.widget-view+json": {
       "model_id": "6eee4dbca2174985af31e4ca7eca1c00",
       "version_major": 2,
       "version_minor": 0
      },
      "text/plain": [
       "vocab.json: 0.00B [00:00, ?B/s]"
      ]
     },
     "metadata": {},
     "output_type": "display_data"
    },
    {
     "data": {
      "application/vnd.jupyter.widget-view+json": {
       "model_id": "a21df4088052452ca0c663bba8ad7e63",
       "version_major": 2,
       "version_minor": 0
      },
      "text/plain": [
       "merges.txt: 0.00B [00:00, ?B/s]"
      ]
     },
     "metadata": {},
     "output_type": "display_data"
    },
    {
     "name": "stderr",
     "output_type": "stream",
     "text": [
      "Device set to use cpu\n"
     ]
    }
   ],
   "source": [
    "summarizer = pipeline(\"summarization\" , framework='pt')"
   ]
  },
  {
   "cell_type": "code",
   "execution_count": 14,
   "id": "2361bd23-c7f4-4894-a4eb-9a8608c03e44",
   "metadata": {},
   "outputs": [],
   "source": [
    "text = \"\"\"Hugging Face is an open-source platform \n",
    "that provides pre-trained models for NLP, CV, and speech tasks. \n",
    "It allows researchers and developers to share and use models easily.\"\"\"\n",
    "\n",
    "summary = summarizer(text, max_length=40, min_length=10, do_sample=False)"
   ]
  },
  {
   "cell_type": "code",
   "execution_count": null,
   "id": "a6b638b1-3cde-4d49-a73c-ab9b053d4ce5",
   "metadata": {},
   "outputs": [],
   "source": []
  },
  {
   "cell_type": "code",
   "execution_count": 15,
   "id": "ab17a86f-f22a-42e7-a48f-69ed6fe68df2",
   "metadata": {},
   "outputs": [
    {
     "name": "stdout",
     "output_type": "stream",
     "text": [
      "[{'summary_text': ' Hugging Face is an open-source platform that provides pre-trained models for NLP, CV, and speech tasks . It allows researchers and developers to share and use models easily .'}]\n"
     ]
    }
   ],
   "source": [
    "print(summary)"
   ]
  },
  {
   "cell_type": "code",
   "execution_count": null,
   "id": "83b8667e-fe07-4f3f-b76d-e2080a4376a2",
   "metadata": {},
   "outputs": [],
   "source": []
  },
  {
   "cell_type": "code",
   "execution_count": 16,
   "id": "1d14c1fc-d757-4552-89ac-47074bbf72bc",
   "metadata": {},
   "outputs": [
    {
     "name": "stdout",
     "output_type": "stream",
     "text": [
      " Hugging Face is an open-source platform that provides pre-trained models for NLP, CV, and speech tasks . It allows researchers and developers to share and use models easily .\n"
     ]
    }
   ],
   "source": [
    "print(summary[0]['summary_text'])"
   ]
  },
  {
   "cell_type": "code",
   "execution_count": 17,
   "id": "f753b706-fc7e-497e-861e-61080a21b45c",
   "metadata": {},
   "outputs": [],
   "source": [
    "text = \"\"\"\n",
    "Ghattamaneni Mahesh Babu (born 9 August 1975) is an Indian actor, producer and philanthropist who works in Telugu cinema. He is one of the highest-paid actors in Indian cinema and has featured in Forbes India's Celebrity 100 list since 2012.[1][2] He has appeared in over 25 films and is a recipient of several accolades including, nine Nandi Awards, five Filmfare Awards South and four SIIMA Awards.\n",
    "\n",
    "The younger son of veteran actor Krishna, Mahesh Babu made his debut as a child artist in a cameo role in a Telugu film called Needa (1979), at the age of four. He went on to act as a child artist in the films Sankharavam (1987), Bazaar Rowdy, Mugguru Kodukulu (both 1988) and Gudachari 117 (1989). He played a dual role in the film Koduku Diddina Kapuram (1989). Babu then appeared in Balachandrudu and Anna Thammudu (both 1990). He made his debut as a lead actor with Rajakumarudu (1999) which won him the Nandi Award for Best Male Debut\n",
    "\"\"\""
   ]
  },
  {
   "cell_type": "code",
   "execution_count": null,
   "id": "35a863a7-d8ef-4f91-88b3-95967d69a918",
   "metadata": {},
   "outputs": [],
   "source": [
    "summary = summarizer(text, max_length=70, min_length=10, do_sample=False)"
   ]
  }
 ],
 "metadata": {
  "kernelspec": {
   "display_name": "Python 3 (ipykernel)",
   "language": "python",
   "name": "python3"
  },
  "language_info": {
   "codemirror_mode": {
    "name": "ipython",
    "version": 3
   },
   "file_extension": ".py",
   "mimetype": "text/x-python",
   "name": "python",
   "nbconvert_exporter": "python",
   "pygments_lexer": "ipython3",
   "version": "3.12.4"
  }
 },
 "nbformat": 4,
 "nbformat_minor": 5
}
