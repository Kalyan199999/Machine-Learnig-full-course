{
 "cells": [
  {
   "cell_type": "code",
   "execution_count": 1,
   "id": "52514e06-4dc9-43ed-bace-b4a9a7b6d43e",
   "metadata": {},
   "outputs": [],
   "source": [
    "from datasets import load_dataset"
   ]
  },
  {
   "cell_type": "code",
   "execution_count": 16,
   "id": "750f3d1e-edc8-4aaf-98a0-8e79b3f9dbad",
   "metadata": {},
   "outputs": [],
   "source": [
    "import pandas as pd\n",
    "import numpy as np\n",
    "\n",
    "import warnings\n",
    "warnings.filterwarnings('ignore')"
   ]
  },
  {
   "cell_type": "code",
   "execution_count": null,
   "id": "891fca55-5ef0-4b36-a4e5-a6fa4e1f63aa",
   "metadata": {},
   "outputs": [],
   "source": []
  },
  {
   "cell_type": "code",
   "execution_count": 2,
   "id": "e41e7586-e6ad-4305-91e5-cbcc9f313d9a",
   "metadata": {},
   "outputs": [
    {
     "data": {
      "application/vnd.jupyter.widget-view+json": {
       "model_id": "6914c54cec2d4b72828eebac935cd30c",
       "version_major": 2,
       "version_minor": 0
      },
      "text/plain": [
       "README.md: 0.00B [00:00, ?B/s]"
      ]
     },
     "metadata": {},
     "output_type": "display_data"
    },
    {
     "name": "stderr",
     "output_type": "stream",
     "text": [
      "C:\\Users\\hp\\anaconda3\\Lib\\site-packages\\huggingface_hub\\file_download.py:143: UserWarning: `huggingface_hub` cache-system uses symlinks by default to efficiently store duplicated files but your machine does not support them in C:\\Users\\hp\\.cache\\huggingface\\hub\\datasets--imdb. Caching files will still work but in a degraded version that might require more space on your disk. This warning can be disabled by setting the `HF_HUB_DISABLE_SYMLINKS_WARNING` environment variable. For more details, see https://huggingface.co/docs/huggingface_hub/how-to-cache#limitations.\n",
      "To support symlinks on Windows, you either need to activate Developer Mode or to run Python as an administrator. In order to activate developer mode, see this article: https://docs.microsoft.com/en-us/windows/apps/get-started/enable-your-device-for-development\n",
      "  warnings.warn(message)\n",
      "Xet Storage is enabled for this repo, but the 'hf_xet' package is not installed. Falling back to regular HTTP download. For better performance, install the package with: `pip install huggingface_hub[hf_xet]` or `pip install hf_xet`\n"
     ]
    },
    {
     "data": {
      "application/vnd.jupyter.widget-view+json": {
       "model_id": "95e375b906d54e57be4dc4ed22704721",
       "version_major": 2,
       "version_minor": 0
      },
      "text/plain": [
       "train-00000-of-00001.parquet:   0%|          | 0.00/21.0M [00:00<?, ?B/s]"
      ]
     },
     "metadata": {},
     "output_type": "display_data"
    },
    {
     "name": "stderr",
     "output_type": "stream",
     "text": [
      "Xet Storage is enabled for this repo, but the 'hf_xet' package is not installed. Falling back to regular HTTP download. For better performance, install the package with: `pip install huggingface_hub[hf_xet]` or `pip install hf_xet`\n"
     ]
    },
    {
     "data": {
      "application/vnd.jupyter.widget-view+json": {
       "model_id": "d14cf691f6454ad09758973a0ac9ee05",
       "version_major": 2,
       "version_minor": 0
      },
      "text/plain": [
       "test-00000-of-00001.parquet:   0%|          | 0.00/20.5M [00:00<?, ?B/s]"
      ]
     },
     "metadata": {},
     "output_type": "display_data"
    },
    {
     "name": "stderr",
     "output_type": "stream",
     "text": [
      "Xet Storage is enabled for this repo, but the 'hf_xet' package is not installed. Falling back to regular HTTP download. For better performance, install the package with: `pip install huggingface_hub[hf_xet]` or `pip install hf_xet`\n"
     ]
    },
    {
     "data": {
      "application/vnd.jupyter.widget-view+json": {
       "model_id": "d2123809f6554694b492736f64696f72",
       "version_major": 2,
       "version_minor": 0
      },
      "text/plain": [
       "unsupervised-00000-of-00001.parquet:   0%|          | 0.00/42.0M [00:00<?, ?B/s]"
      ]
     },
     "metadata": {},
     "output_type": "display_data"
    },
    {
     "data": {
      "application/vnd.jupyter.widget-view+json": {
       "model_id": "0b5837f42de34833bbc5e9b1212b596a",
       "version_major": 2,
       "version_minor": 0
      },
      "text/plain": [
       "Generating train split:   0%|          | 0/25000 [00:00<?, ? examples/s]"
      ]
     },
     "metadata": {},
     "output_type": "display_data"
    },
    {
     "data": {
      "application/vnd.jupyter.widget-view+json": {
       "model_id": "d97d153128654d829656a3ba5f4ade81",
       "version_major": 2,
       "version_minor": 0
      },
      "text/plain": [
       "Generating test split:   0%|          | 0/25000 [00:00<?, ? examples/s]"
      ]
     },
     "metadata": {},
     "output_type": "display_data"
    },
    {
     "data": {
      "application/vnd.jupyter.widget-view+json": {
       "model_id": "714f7c11b0c74397b4409689c83bf944",
       "version_major": 2,
       "version_minor": 0
      },
      "text/plain": [
       "Generating unsupervised split:   0%|          | 0/50000 [00:00<?, ? examples/s]"
      ]
     },
     "metadata": {},
     "output_type": "display_data"
    }
   ],
   "source": [
    "dataset = load_dataset(\"imdb\")"
   ]
  },
  {
   "cell_type": "code",
   "execution_count": 4,
   "id": "7a6b9094-13de-467b-8112-b6f2dd58ae7a",
   "metadata": {},
   "outputs": [
    {
     "name": "stdout",
     "output_type": "stream",
     "text": [
      "DatasetDict({\n",
      "    train: Dataset({\n",
      "        features: ['text', 'label'],\n",
      "        num_rows: 25000\n",
      "    })\n",
      "    test: Dataset({\n",
      "        features: ['text', 'label'],\n",
      "        num_rows: 25000\n",
      "    })\n",
      "    unsupervised: Dataset({\n",
      "        features: ['text', 'label'],\n",
      "        num_rows: 50000\n",
      "    })\n",
      "})\n"
     ]
    }
   ],
   "source": [
    "print( dataset  )"
   ]
  },
  {
   "cell_type": "code",
   "execution_count": 24,
   "id": "09d450aa-22a0-4ebb-8515-5d74c3653e1e",
   "metadata": {},
   "outputs": [
    {
     "data": {
      "text/plain": [
       "DatasetDict({\n",
       "    train: Dataset({\n",
       "        features: ['text', 'label'],\n",
       "        num_rows: 25000\n",
       "    })\n",
       "    test: Dataset({\n",
       "        features: ['text', 'label'],\n",
       "        num_rows: 25000\n",
       "    })\n",
       "    unsupervised: Dataset({\n",
       "        features: ['text', 'label'],\n",
       "        num_rows: 50000\n",
       "    })\n",
       "})"
      ]
     },
     "execution_count": 24,
     "metadata": {},
     "output_type": "execute_result"
    }
   ],
   "source": [
    "dataset"
   ]
  },
  {
   "cell_type": "code",
   "execution_count": 5,
   "id": "524a2e5e-a09c-4acb-8fc1-83d176f619fa",
   "metadata": {},
   "outputs": [],
   "source": [
    "train_data = load_dataset(\"imdb\", split=\"train\")\n",
    "test_data = load_dataset(\"imdb\", split=\"test\")"
   ]
  },
  {
   "cell_type": "code",
   "execution_count": null,
   "id": "f70d4cd1-b5fa-42f4-93e6-03f6122c0195",
   "metadata": {},
   "outputs": [],
   "source": [
    "test_data = test_data.to_pandas()"
   ]
  },
  {
   "cell_type": "code",
   "execution_count": 31,
   "id": "21ccd2be-f7c7-448b-95eb-cba67b0e473b",
   "metadata": {},
   "outputs": [
    {
     "data": {
      "text/plain": [
       "Dataset({\n",
       "    features: ['text', 'label'],\n",
       "    num_rows: 25000\n",
       "})"
      ]
     },
     "execution_count": 31,
     "metadata": {},
     "output_type": "execute_result"
    }
   ],
   "source": [
    "train_data"
   ]
  },
  {
   "cell_type": "code",
   "execution_count": 27,
   "id": "996e5dc4-f12c-4da1-bb29-983cb846f4ad",
   "metadata": {},
   "outputs": [
    {
     "data": {
      "text/html": [
       "<div>\n",
       "<style scoped>\n",
       "    .dataframe tbody tr th:only-of-type {\n",
       "        vertical-align: middle;\n",
       "    }\n",
       "\n",
       "    .dataframe tbody tr th {\n",
       "        vertical-align: top;\n",
       "    }\n",
       "\n",
       "    .dataframe thead th {\n",
       "        text-align: right;\n",
       "    }\n",
       "</style>\n",
       "<table border=\"1\" class=\"dataframe\">\n",
       "  <thead>\n",
       "    <tr style=\"text-align: right;\">\n",
       "      <th></th>\n",
       "      <th>text</th>\n",
       "      <th>label</th>\n",
       "    </tr>\n",
       "  </thead>\n",
       "  <tbody>\n",
       "    <tr>\n",
       "      <th>0</th>\n",
       "      <td>I rented I AM CURIOUS-YELLOW from my video sto...</td>\n",
       "      <td>0</td>\n",
       "    </tr>\n",
       "    <tr>\n",
       "      <th>1</th>\n",
       "      <td>\"I Am Curious: Yellow\" is a risible and preten...</td>\n",
       "      <td>0</td>\n",
       "    </tr>\n",
       "    <tr>\n",
       "      <th>2</th>\n",
       "      <td>If only to avoid making this type of film in t...</td>\n",
       "      <td>0</td>\n",
       "    </tr>\n",
       "    <tr>\n",
       "      <th>3</th>\n",
       "      <td>This film was probably inspired by Godard's Ma...</td>\n",
       "      <td>0</td>\n",
       "    </tr>\n",
       "    <tr>\n",
       "      <th>4</th>\n",
       "      <td>Oh, brother...after hearing about this ridicul...</td>\n",
       "      <td>0</td>\n",
       "    </tr>\n",
       "    <tr>\n",
       "      <th>...</th>\n",
       "      <td>...</td>\n",
       "      <td>...</td>\n",
       "    </tr>\n",
       "    <tr>\n",
       "      <th>24995</th>\n",
       "      <td>A hit at the time but now better categorised a...</td>\n",
       "      <td>1</td>\n",
       "    </tr>\n",
       "    <tr>\n",
       "      <th>24996</th>\n",
       "      <td>I love this movie like no other. Another time ...</td>\n",
       "      <td>1</td>\n",
       "    </tr>\n",
       "    <tr>\n",
       "      <th>24997</th>\n",
       "      <td>This film and it's sequel Barry Mckenzie holds...</td>\n",
       "      <td>1</td>\n",
       "    </tr>\n",
       "    <tr>\n",
       "      <th>24998</th>\n",
       "      <td>'The Adventures Of Barry McKenzie' started lif...</td>\n",
       "      <td>1</td>\n",
       "    </tr>\n",
       "    <tr>\n",
       "      <th>24999</th>\n",
       "      <td>The story centers around Barry McKenzie who mu...</td>\n",
       "      <td>1</td>\n",
       "    </tr>\n",
       "  </tbody>\n",
       "</table>\n",
       "<p>25000 rows × 2 columns</p>\n",
       "</div>"
      ],
      "text/plain": [
       "                                                    text  label\n",
       "0      I rented I AM CURIOUS-YELLOW from my video sto...      0\n",
       "1      \"I Am Curious: Yellow\" is a risible and preten...      0\n",
       "2      If only to avoid making this type of film in t...      0\n",
       "3      This film was probably inspired by Godard's Ma...      0\n",
       "4      Oh, brother...after hearing about this ridicul...      0\n",
       "...                                                  ...    ...\n",
       "24995  A hit at the time but now better categorised a...      1\n",
       "24996  I love this movie like no other. Another time ...      1\n",
       "24997  This film and it's sequel Barry Mckenzie holds...      1\n",
       "24998  'The Adventures Of Barry McKenzie' started lif...      1\n",
       "24999  The story centers around Barry McKenzie who mu...      1\n",
       "\n",
       "[25000 rows x 2 columns]"
      ]
     },
     "execution_count": 27,
     "metadata": {},
     "output_type": "execute_result"
    }
   ],
   "source": [
    "train_df = dataset['train'].to_pandas()\n",
    "\n",
    "train_df"
   ]
  },
  {
   "cell_type": "code",
   "execution_count": 36,
   "id": "d1979f8e-285b-4212-b2ac-1f0d81282f9f",
   "metadata": {},
   "outputs": [
    {
     "data": {
      "text/plain": [
       "'\"I Am Curious: Yellow\" is a risible and pretentious steaming pile. It doesn\\'t matter what one\\'s political views are because this film can hardly be taken seriously on any level. As for the claim that frontal male nudity is an automatic NC-17, that isn\\'t true. I\\'ve seen R-rated films with male nudity. Granted, they only offer some fleeting views, but where are the R-rated films with gaping vulvas and flapping labia? Nowhere, because they don\\'t exist. The same goes for those crappy cable shows: schlongs swinging in the breeze but not a clitoris in sight. And those pretentious indie movies like The Brown Bunny, in which we\\'re treated to the site of Vincent Gallo\\'s throbbing johnson, but not a trace of pink visible on Chloe Sevigny. Before crying (or implying) \"double-standard\" in matters of nudity, the mentally obtuse should take into account one unavoidably obvious anatomical difference between men and women: there are no genitals on display when actresses appears nude, and the same cannot be said for a man. In fact, you generally won\\'t see female genitals in an American film in anything short of porn or explicit erotica. This alleged double-standard is less a double standard than an admittedly depressing ability to come to terms culturally with the insides of women\\'s bodies.'"
      ]
     },
     "execution_count": 36,
     "metadata": {},
     "output_type": "execute_result"
    }
   ],
   "source": [
    "train_df[ 'text' ][1]"
   ]
  },
  {
   "cell_type": "code",
   "execution_count": 29,
   "id": "f8789f9a-6191-473e-ba43-09a90c0af45c",
   "metadata": {},
   "outputs": [],
   "source": []
  },
  {
   "cell_type": "code",
   "execution_count": null,
   "id": "810bf9fe-a044-463b-952b-5522e75ce6bd",
   "metadata": {},
   "outputs": [],
   "source": []
  },
  {
   "cell_type": "markdown",
   "id": "87733944-4970-42df-b168-b9ba677bf5e2",
   "metadata": {},
   "source": [
    "### text summarization"
   ]
  },
  {
   "cell_type": "code",
   "execution_count": 38,
   "id": "b5065364-6ad5-45b8-a4a1-abb2ab4b09ff",
   "metadata": {},
   "outputs": [
    {
     "name": "stderr",
     "output_type": "stream",
     "text": [
      "Xet Storage is enabled for this repo, but the 'hf_xet' package is not installed. Falling back to regular HTTP download. For better performance, install the package with: `pip install huggingface_hub[hf_xet]` or `pip install hf_xet`\n"
     ]
    },
    {
     "data": {
      "application/vnd.jupyter.widget-view+json": {
       "model_id": "4373596228524a299b36f9ea47d2bafd",
       "version_major": 2,
       "version_minor": 0
      },
      "text/plain": [
       "train_final.csv:   0%|          | 0.00/165M [00:00<?, ?B/s]"
      ]
     },
     "metadata": {},
     "output_type": "display_data"
    },
    {
     "name": "stderr",
     "output_type": "stream",
     "text": [
      "Xet Storage is enabled for this repo, but the 'hf_xet' package is not installed. Falling back to regular HTTP download. For better performance, install the package with: `pip install huggingface_hub[hf_xet]` or `pip install hf_xet`\n"
     ]
    },
    {
     "data": {
      "application/vnd.jupyter.widget-view+json": {
       "model_id": "1c1373e4da504cb29eec6d101754687d",
       "version_major": 2,
       "version_minor": 0
      },
      "text/plain": [
       "test_final.csv:   0%|          | 0.00/18.3M [00:00<?, ?B/s]"
      ]
     },
     "metadata": {},
     "output_type": "display_data"
    },
    {
     "data": {
      "application/vnd.jupyter.widget-view+json": {
       "model_id": "e8ec05d8ff1345ecae052b40dd094b78",
       "version_major": 2,
       "version_minor": 0
      },
      "text/plain": [
       "Generating train split:   0%|          | 0/65268 [00:00<?, ? examples/s]"
      ]
     },
     "metadata": {},
     "output_type": "display_data"
    },
    {
     "data": {
      "application/vnd.jupyter.widget-view+json": {
       "model_id": "525edfa7e36d4c1d90a0a3afec7a8946",
       "version_major": 2,
       "version_minor": 0
      },
      "text/plain": [
       "Generating test split:   0%|          | 0/7253 [00:00<?, ? examples/s]"
      ]
     },
     "metadata": {},
     "output_type": "display_data"
    }
   ],
   "source": [
    "data = load_dataset( 'readerbench/ro-text-summarization' )"
   ]
  },
  {
   "cell_type": "code",
   "execution_count": 39,
   "id": "0e5ea081-26d8-40b1-b228-5e220e43edd6",
   "metadata": {},
   "outputs": [
    {
     "data": {
      "text/plain": [
       "DatasetDict({\n",
       "    train: Dataset({\n",
       "        features: ['Category', 'Title', 'Content', 'Summary', 'href', 'Source'],\n",
       "        num_rows: 65268\n",
       "    })\n",
       "    test: Dataset({\n",
       "        features: ['Category', 'Title', 'Content', 'Summary', 'href', 'Source'],\n",
       "        num_rows: 7253\n",
       "    })\n",
       "})"
      ]
     },
     "execution_count": 39,
     "metadata": {},
     "output_type": "execute_result"
    }
   ],
   "source": [
    "data"
   ]
  },
  {
   "cell_type": "code",
   "execution_count": null,
   "id": "ddd951e9-851a-4756-a432-54d2fd8cd602",
   "metadata": {},
   "outputs": [],
   "source": [
    "# joelniklaus/plain_english_contracts_summarization"
   ]
  },
  {
   "cell_type": "code",
   "execution_count": 40,
   "id": "fd7035ce-8b0e-4b28-832a-9ea2ce73f3a0",
   "metadata": {},
   "outputs": [
    {
     "data": {
      "text/html": [
       "<div>\n",
       "<style scoped>\n",
       "    .dataframe tbody tr th:only-of-type {\n",
       "        vertical-align: middle;\n",
       "    }\n",
       "\n",
       "    .dataframe tbody tr th {\n",
       "        vertical-align: top;\n",
       "    }\n",
       "\n",
       "    .dataframe thead th {\n",
       "        text-align: right;\n",
       "    }\n",
       "</style>\n",
       "<table border=\"1\" class=\"dataframe\">\n",
       "  <thead>\n",
       "    <tr style=\"text-align: right;\">\n",
       "      <th></th>\n",
       "      <th>Category</th>\n",
       "      <th>Title</th>\n",
       "      <th>Content</th>\n",
       "      <th>Summary</th>\n",
       "      <th>href</th>\n",
       "      <th>Source</th>\n",
       "    </tr>\n",
       "  </thead>\n",
       "  <tbody>\n",
       "    <tr>\n",
       "      <th>0</th>\n",
       "      <td>sanatate</td>\n",
       "      <td>SANITAS: Dacă în aprilie situaţia din sănătate...</td>\n",
       "      <td>\"Oricum rămâne stabilit un miting uriaş în apr...</td>\n",
       "      <td>Sindicatele din sănătate vor declanşa greva ge...</td>\n",
       "      <td>https://www.digi24.ro/stiri/actualitate/sanata...</td>\n",
       "      <td>digi24</td>\n",
       "    </tr>\n",
       "    <tr>\n",
       "      <th>1</th>\n",
       "      <td>guvern</td>\n",
       "      <td>PIB-ul pe cap de locuitor al regiunilor mai pu...</td>\n",
       "      <td>Cel de-al optulea raport privind coeziunea pub...</td>\n",
       "      <td>Comisia Europeană preconizează că PIB-ul pe ca...</td>\n",
       "      <td>https://alephnews.ro/guvern/pib-ului-pe-cap-de...</td>\n",
       "      <td>alephnews</td>\n",
       "    </tr>\n",
       "    <tr>\n",
       "      <th>2</th>\n",
       "      <td>externe</td>\n",
       "      <td>Rusia spune că a testat cu succes racheta nucl...</td>\n",
       "      <td>După lansare, Putin a avertizat Occidentul spu...</td>\n",
       "      <td>Ministerul rus al Apărării a publicat miercuri...</td>\n",
       "      <td>https://www.digi24.ro/stiri/externe/rusia-spun...</td>\n",
       "      <td>digi24</td>\n",
       "    </tr>\n",
       "    <tr>\n",
       "      <th>3</th>\n",
       "      <td>social</td>\n",
       "      <td>STUDIU. 80% dintre români își invidiază colegi...</td>\n",
       "      <td>Aproape 80% dintre români îi invidiază pe cole...</td>\n",
       "      <td>Împlinirile altora nu ne inspiră şi nici nu ne...</td>\n",
       "      <td>https://www.digi24.ro/stiri/actualitate/social...</td>\n",
       "      <td>digi24</td>\n",
       "    </tr>\n",
       "    <tr>\n",
       "      <th>4</th>\n",
       "      <td>sanatate</td>\n",
       "      <td>Un ginecolog olandez, care a murit în 2009, es...</td>\n",
       "      <td>Un fost ginecolog olandez s-a dovedit a fi tat...</td>\n",
       "      <td>Femeile credeau că folosesc sperma unor donato...</td>\n",
       "      <td>https://alephnews.ro/sanatate/ginecolog-olande...</td>\n",
       "      <td>alephnews</td>\n",
       "    </tr>\n",
       "    <tr>\n",
       "      <th>...</th>\n",
       "      <td>...</td>\n",
       "      <td>...</td>\n",
       "      <td>...</td>\n",
       "      <td>...</td>\n",
       "      <td>...</td>\n",
       "      <td>...</td>\n",
       "    </tr>\n",
       "    <tr>\n",
       "      <th>65263</th>\n",
       "      <td>guvern</td>\n",
       "      <td>Plenul CSM cere Guvernului abrogarea Ordonanțe...</td>\n",
       "      <td>Decizia a fost luată cu 12 voturi \"pentru”, tr...</td>\n",
       "      <td>Plenul Consiliului Superior al Magistraturii a...</td>\n",
       "      <td>https://www.digi24.ro/stiri/actualitate/politi...</td>\n",
       "      <td>digi24</td>\n",
       "    </tr>\n",
       "    <tr>\n",
       "      <th>65264</th>\n",
       "      <td>tehnologie</td>\n",
       "      <td>Imaginea Soarelui a fost surprinsă la o clarit...</td>\n",
       "      <td>Sonda europeană Solar Orbiter a obţinut noi im...</td>\n",
       "      <td>Solar Orbiter a obţinut noi imagini ale Soarel...</td>\n",
       "      <td>https://alephnews.ro/tehnologie/imaginea-soare...</td>\n",
       "      <td>alephnews</td>\n",
       "    </tr>\n",
       "    <tr>\n",
       "      <th>65265</th>\n",
       "      <td>economic</td>\n",
       "      <td>UE caută alternative pentru gazele ruseşti. O ...</td>\n",
       "      <td>Baldwin a vorbit în Nigeria, unde a avut întâl...</td>\n",
       "      <td>Uniunea Europeană caută să obţină livrări supl...</td>\n",
       "      <td>https://www.mediafax.ro/externe/ue-cauta-alter...</td>\n",
       "      <td>mediafax</td>\n",
       "    </tr>\n",
       "    <tr>\n",
       "      <th>65266</th>\n",
       "      <td>entertainment</td>\n",
       "      <td>Ochii pe mine!, cu Vlad Craioveanu – invitați ...</td>\n",
       "      <td>“Ochii pe mine!”, cu Vlad Craioveanu – invitaț...</td>\n",
       "      <td>Vlad Craioveanu îi va avea invitați pe istoric...</td>\n",
       "      <td>https://alephnews.ro/entertainment/ochii-pe-mi...</td>\n",
       "      <td>alephnews</td>\n",
       "    </tr>\n",
       "    <tr>\n",
       "      <th>65267</th>\n",
       "      <td>sanatate</td>\n",
       "      <td>Unui pacient i-a fost amputat piciorul greșit ...</td>\n",
       "      <td>Angajații unui spital din Freistadt, Austria, ...</td>\n",
       "      <td>Angajații unui spital din Freistadt, Austria, ...</td>\n",
       "      <td>https://alephnews.ro/sanatate/unui-pacient-i-a...</td>\n",
       "      <td>alephnews</td>\n",
       "    </tr>\n",
       "  </tbody>\n",
       "</table>\n",
       "<p>65268 rows × 6 columns</p>\n",
       "</div>"
      ],
      "text/plain": [
       "            Category                                              Title  \\\n",
       "0           sanatate  SANITAS: Dacă în aprilie situaţia din sănătate...   \n",
       "1             guvern  PIB-ul pe cap de locuitor al regiunilor mai pu...   \n",
       "2            externe  Rusia spune că a testat cu succes racheta nucl...   \n",
       "3             social  STUDIU. 80% dintre români își invidiază colegi...   \n",
       "4           sanatate  Un ginecolog olandez, care a murit în 2009, es...   \n",
       "...              ...                                                ...   \n",
       "65263         guvern  Plenul CSM cere Guvernului abrogarea Ordonanțe...   \n",
       "65264     tehnologie  Imaginea Soarelui a fost surprinsă la o clarit...   \n",
       "65265       economic  UE caută alternative pentru gazele ruseşti. O ...   \n",
       "65266  entertainment  Ochii pe mine!, cu Vlad Craioveanu – invitați ...   \n",
       "65267       sanatate  Unui pacient i-a fost amputat piciorul greșit ...   \n",
       "\n",
       "                                                 Content  \\\n",
       "0      \"Oricum rămâne stabilit un miting uriaş în apr...   \n",
       "1      Cel de-al optulea raport privind coeziunea pub...   \n",
       "2      După lansare, Putin a avertizat Occidentul spu...   \n",
       "3      Aproape 80% dintre români îi invidiază pe cole...   \n",
       "4      Un fost ginecolog olandez s-a dovedit a fi tat...   \n",
       "...                                                  ...   \n",
       "65263  Decizia a fost luată cu 12 voturi \"pentru”, tr...   \n",
       "65264  Sonda europeană Solar Orbiter a obţinut noi im...   \n",
       "65265  Baldwin a vorbit în Nigeria, unde a avut întâl...   \n",
       "65266  “Ochii pe mine!”, cu Vlad Craioveanu – invitaț...   \n",
       "65267  Angajații unui spital din Freistadt, Austria, ...   \n",
       "\n",
       "                                                 Summary  \\\n",
       "0      Sindicatele din sănătate vor declanşa greva ge...   \n",
       "1      Comisia Europeană preconizează că PIB-ul pe ca...   \n",
       "2      Ministerul rus al Apărării a publicat miercuri...   \n",
       "3      Împlinirile altora nu ne inspiră şi nici nu ne...   \n",
       "4      Femeile credeau că folosesc sperma unor donato...   \n",
       "...                                                  ...   \n",
       "65263  Plenul Consiliului Superior al Magistraturii a...   \n",
       "65264  Solar Orbiter a obţinut noi imagini ale Soarel...   \n",
       "65265  Uniunea Europeană caută să obţină livrări supl...   \n",
       "65266  Vlad Craioveanu îi va avea invitați pe istoric...   \n",
       "65267  Angajații unui spital din Freistadt, Austria, ...   \n",
       "\n",
       "                                                    href     Source  \n",
       "0      https://www.digi24.ro/stiri/actualitate/sanata...     digi24  \n",
       "1      https://alephnews.ro/guvern/pib-ului-pe-cap-de...  alephnews  \n",
       "2      https://www.digi24.ro/stiri/externe/rusia-spun...     digi24  \n",
       "3      https://www.digi24.ro/stiri/actualitate/social...     digi24  \n",
       "4      https://alephnews.ro/sanatate/ginecolog-olande...  alephnews  \n",
       "...                                                  ...        ...  \n",
       "65263  https://www.digi24.ro/stiri/actualitate/politi...     digi24  \n",
       "65264  https://alephnews.ro/tehnologie/imaginea-soare...  alephnews  \n",
       "65265  https://www.mediafax.ro/externe/ue-cauta-alter...   mediafax  \n",
       "65266  https://alephnews.ro/entertainment/ochii-pe-mi...  alephnews  \n",
       "65267  https://alephnews.ro/sanatate/unui-pacient-i-a...  alephnews  \n",
       "\n",
       "[65268 rows x 6 columns]"
      ]
     },
     "execution_count": 40,
     "metadata": {},
     "output_type": "execute_result"
    }
   ],
   "source": [
    "summary_train_df = data['train'].to_pandas()\n",
    "\n",
    "summary_train_df"
   ]
  },
  {
   "cell_type": "code",
   "execution_count": null,
   "id": "f40cbdd4-271b-4ac3-a23c-d4f9b6515da9",
   "metadata": {},
   "outputs": [],
   "source": []
  }
 ],
 "metadata": {
  "kernelspec": {
   "display_name": "Python 3 (ipykernel)",
   "language": "python",
   "name": "python3"
  },
  "language_info": {
   "codemirror_mode": {
    "name": "ipython",
    "version": 3
   },
   "file_extension": ".py",
   "mimetype": "text/x-python",
   "name": "python",
   "nbconvert_exporter": "python",
   "pygments_lexer": "ipython3",
   "version": "3.12.4"
  }
 },
 "nbformat": 4,
 "nbformat_minor": 5
}
