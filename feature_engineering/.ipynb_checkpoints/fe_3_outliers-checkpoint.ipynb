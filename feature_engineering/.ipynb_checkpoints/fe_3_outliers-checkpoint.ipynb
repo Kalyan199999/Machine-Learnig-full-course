{
 "cells": [
  {
   "cell_type": "markdown",
   "id": "53b10b08-cbd8-4b92-b5dd-ee03824b27f1",
   "metadata": {},
   "source": [
    "### outliers"
   ]
  },
  {
   "cell_type": "code",
   "execution_count": 1,
   "id": "5791363b-7f43-4ba8-a974-48e5caab34c2",
   "metadata": {},
   "outputs": [],
   "source": [
    "import pandas as pd\n",
    "import numpy as np"
   ]
  },
  {
   "cell_type": "code",
   "execution_count": 2,
   "id": "c5f142a0-ff4e-4652-b8dd-265982043463",
   "metadata": {},
   "outputs": [],
   "source": [
    "mylist = [ 55,19,33,10,67,18,27,35,77,56,39,40,17,90,66,44,29,49,99 ]"
   ]
  },
  {
   "cell_type": "markdown",
   "id": "7654a522-291f-443d-bafd-3f551adb01b7",
   "metadata": {},
   "source": [
    "### statics of list"
   ]
  },
  {
   "cell_type": "code",
   "execution_count": null,
   "id": "7757fa3c-0e11-4ac9-a0c4-56264149ac4d",
   "metadata": {},
   "outputs": [],
   "source": []
  },
  {
   "cell_type": "code",
   "execution_count": 3,
   "id": "89bdea5b-3439-49ef-9194-eadd43a577c2",
   "metadata": {},
   "outputs": [],
   "source": [
    "minimum , Q1 , median , Q3 , maximum  = np.quantile( mylist, q=[0,0.25,0.5,0.75,1.0] )"
   ]
  },
  {
   "cell_type": "code",
   "execution_count": 4,
   "id": "99af9840-b3b9-4c58-9e32-cdb44136e5fd",
   "metadata": {},
   "outputs": [
    {
     "data": {
      "text/plain": [
       "(10.0, 28.0, 40.0, 61.0, 99.0)"
      ]
     },
     "execution_count": 4,
     "metadata": {},
     "output_type": "execute_result"
    }
   ],
   "source": [
    "minimum , Q1 , median , Q3 , maximum"
   ]
  },
  {
   "cell_type": "code",
   "execution_count": 5,
   "id": "aa887490-ed45-48c9-a98d-b7ad334835d5",
   "metadata": {},
   "outputs": [],
   "source": [
    "IQR = Q3 - Q1"
   ]
  },
  {
   "cell_type": "code",
   "execution_count": 6,
   "id": "67e999a1-75bf-4fb5-91d5-794ad614db35",
   "metadata": {},
   "outputs": [
    {
     "data": {
      "text/plain": [
       "33.0"
      ]
     },
     "execution_count": 6,
     "metadata": {},
     "output_type": "execute_result"
    }
   ],
   "source": [
    "IQR"
   ]
  },
  {
   "cell_type": "code",
   "execution_count": null,
   "id": "99b57df5-0ddb-4964-bc4d-5b8e6b093c94",
   "metadata": {},
   "outputs": [],
   "source": []
  },
  {
   "cell_type": "markdown",
   "id": "acab25f4-1e22-45cc-9f9a-6c2e69d6f4f1",
   "metadata": {},
   "source": [
    "### the data pointer is outlier if it is lower than lower_fence and higher than higher_fence"
   ]
  },
  {
   "cell_type": "code",
   "execution_count": 7,
   "id": "945c0582-2a2c-44ce-a7e3-7ae2baf9ee70",
   "metadata": {},
   "outputs": [],
   "source": [
    "lower_fence = Q1 - 1.5*(IQR)\n",
    "higher_fence = Q3 + 1.5*(IQR)"
   ]
  },
  {
   "cell_type": "code",
   "execution_count": 8,
   "id": "c1ee043d-cdcd-410a-a122-7df8668e1910",
   "metadata": {},
   "outputs": [
    {
     "data": {
      "text/plain": [
       "(-21.5, 110.5)"
      ]
     },
     "execution_count": 8,
     "metadata": {},
     "output_type": "execute_result"
    }
   ],
   "source": [
    "lower_fence ,higher_fence "
   ]
  },
  {
   "cell_type": "code",
   "execution_count": null,
   "id": "8f03e46d-3cf1-418d-a4b7-b36109ebb901",
   "metadata": {},
   "outputs": [],
   "source": []
  },
  {
   "cell_type": "code",
   "execution_count": 9,
   "id": "ecca2a6b-028a-4e37-ac72-6383071e9090",
   "metadata": {},
   "outputs": [],
   "source": [
    "import seaborn as sns"
   ]
  },
  {
   "cell_type": "code",
   "execution_count": 10,
   "id": "a0553ae7-fbcb-4565-9a03-004485127a3e",
   "metadata": {},
   "outputs": [
    {
     "data": {
      "text/plain": [
       "<Axes: >"
      ]
     },
     "execution_count": 10,
     "metadata": {},
     "output_type": "execute_result"
    },
    {
     "data": {
      "image/png": "[encoded data removed]",
      "text/plain": [
       "<Figure size 640x480 with 1 Axes>"
      ]
     },
     "metadata": {},
     "output_type": "display_data"
    }
   ],
   "source": [
    "sns.boxplot(mylist)"
   ]
  },
  {
   "cell_type": "code",
   "execution_count": null,
   "id": "5fe2f27e-588a-4f2b-9ed9-bcc82a1a1c1d",
   "metadata": {},
   "outputs": [],
   "source": []
  },
  {
   "cell_type": "code",
   "execution_count": 11,
   "id": "2c8d8f93-92df-4d24-a84c-a0af42907b0c",
   "metadata": {},
   "outputs": [],
   "source": [
    "mylist = [ -1000,-600,-40,-10,-50,-79  ,55,19,33,10,67,18,27,35,77,56,39,40,17,90,66,44,29,49,99 ,  550,400,900,120,690,100 ]"
   ]
  },
  {
   "cell_type": "code",
   "execution_count": 12,
   "id": "c8a51b56-846e-437e-a5fa-40bb62ff8502",
   "metadata": {},
   "outputs": [
    {
     "data": {
      "text/plain": [
       "<Axes: >"
      ]
     },
     "execution_count": 12,
     "metadata": {},
     "output_type": "execute_result"
    },
    {
     "data": {
      "image/png": "[encoded data removed]",
      "text/plain": [
       "<Figure size 640x480 with 1 Axes>"
      ]
     },
     "metadata": {},
     "output_type": "display_data"
    }
   ],
   "source": [
    "sns.boxplot(mylist)"
   ]
  },
  {
   "cell_type": "code",
   "execution_count": null,
   "id": "f1ecb974-529a-48fe-9a56-3cbea734662c",
   "metadata": {},
   "outputs": [],
   "source": []
  }
 ],
 "metadata": {
  "kernelspec": {
   "display_name": "Python 3 (ipykernel)",
   "language": "python",
   "name": "python3"
  },
  "language_info": {
   "codemirror_mode": {
    "name": "ipython",
    "version": 3
   },
   "file_extension": ".py",
   "mimetype": "text/x-python",
   "name": "python",
   "nbconvert_exporter": "python",
   "pygments_lexer": "ipython3",
   "version": "3.12.4"
  }
 },
 "nbformat": 4,
 "nbformat_minor": 5
}
